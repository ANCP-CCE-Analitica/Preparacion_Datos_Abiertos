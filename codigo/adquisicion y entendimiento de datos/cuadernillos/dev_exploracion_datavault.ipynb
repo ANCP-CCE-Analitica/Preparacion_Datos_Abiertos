{
 "cells": [
  {
   "cell_type": "markdown",
   "metadata": {},
   "source": [
    "<div style=\"\n",
    "  padding: 30px;\n",
    "  text-align: center;\" class='row'>\n",
    "<div style=\"float:left;width: 15%;\" class='column'><a href=\"https://www.colombiacompra.gov.co\"><img alt=\"Logo Colombia Compra Eficiente\" id=\"logocce\" src=\"https://www.colombiacompra.gov.co/sites/cce_public/files/Images/logocce.png\" style=\"height: 45px;\"></a></div>\n",
    "    <div style=\"float:left;width: 70%;\" class='column'>\n",
    "        <h1> Exploración DataVAULT\n",
    "        </h1> \n",
    "    </div>\n",
    "<div style=\"float:left;width: 15%;\" class='column'><a href=\"https://www.dnp.gov.co/\" target=\"_blank\"><img class=\"float-right\" id=\"logodnp\" src=\"https://www.dnp.gov.co/img/logoNuevo.jpg\" style=\"width: 200px;\"></a></div>\n",
    "</div>\n"
   ]
  },
  {
   "cell_type": "markdown",
   "metadata": {},
   "source": [
    "## 1. IDENTIFICACIÓN DEL INSUMO\n",
    "\n",
    "|||\n",
    "|:--|:--|\n",
    "|**Fecha**|Abril 2023|\n",
    "|**Ciudad**|Bogotá D.C.|\n",
    "|**Esquema de presentación del insumo**|Cuaderno Jupyter|\n",
    "|**Título del insumo**| **Consideraciones para la consulta en datos abiertos**|\n",
    "|**Descripción y alcance**|Script para la consulta de bases y exploración de bases en el DATAVAULT.|\n",
    "|**Periodicidad del insumo**|único|\n",
    "|**Solicitante**|No aplica|\n",
    "|**Versión del insumo**|Final|"
   ]
  },
  {
   "cell_type": "markdown",
   "metadata": {},
   "source": [
    "## 2. DESTINO Y AUTORES DEL INFORME / INSUMO\n",
    "\n",
    "|||\n",
    "|:--|:--|\n",
    "|**Destinatario**|<table align='left'><tr><td>*Nombre:*</td> <td>Equipo analítica EMAE</td></tr> <tr><td>*Cargo:*</td> <td>NA</td></tr>  <tr><td>*Área:*</td> <td>Subdirección de estudios de Mercado y Abastecimiento Estratégico – EMAE</td></tr></table>|\n",
    "|**Autores**|<table><tr><td>*Nombre:*</td> <td>Equipo de Datos -GAEC<td>*Área:*</td> <td>Subdirección de estudios de Mercado y Abastecimiento Estratégico – EMAE.</td></tr></table>|\n",
    "|**Aprobación**|<table><tr><td>*Nombre:*</td> <td>Ricardo Suarez</td></tr> <tr><td>*Cargo:*</td> <td>Subdirector Estudios de Mercado y Abastecimiento Estratégico</td></tr>  <tr><td>*Área:*</td> <td>Subdirección de estudios de Mercado y Abastecimiento Estratégico – EMAE.</td></tr></table>|"
   ]
  },
  {
   "attachments": {},
   "cell_type": "markdown",
   "metadata": {},
   "source": [
    "![image.png](../../../documentos/analisis%20y%20descubrimientos/exploracion_datavault.png)"
   ]
  },
  {
   "cell_type": "markdown",
   "metadata": {},
   "source": [
    "## Instalaciones previas\n",
    " \n",
    "Para poder utilizar SQL en Python es necesario instalar lo siguiente, escoja el driver de acuerdo al sistema operativo de su equipo: \n",
    " \n",
    " \n",
    "**Driver Microsoft ODBC para SQL SERVER en windows**\n",
    " \n",
    "Descargar e instalar el driver de la página [Microsoft ODBC](https://docs.microsoft.com/en-us/sql/connect/odbc/windows/system-requirements-installation-and-driver-files?view=sql-server-ver15#installing-microsoft-odbc-driver-for-sql-server) versión \n",
    " 17.\n",
    " \n",
    "**Driver Microsoft ODBC para SQL SERVER en Linux o MacOs**\n",
    " \n",
    "Descargar e instalar el driver de la página [Microsoft ODBC](https://docs.microsoft.com/en-us/sql/connect/odbc/linux-mac/system-requirements?view=sql-server-ver15) versión 17 deacuerdo a la versión de su sistema operativo.\n",
    "Recuerde estar conectado a la VPN para poder accerder. \n",
    "\n",
    "**Paquete pyobdc**\n",
    "\n",
    "Quite el comentario e inicie la instalación simple."
   ]
  },
  {
   "cell_type": "code",
   "execution_count": null,
   "metadata": {},
   "outputs": [],
   "source": [
    "import pyodbc \n",
    "from dotenv import load_dotenv\n",
    "import os\n",
    "load_dotenv()\n",
    "\n",
    "server = os.getenv(\"server\")\n",
    "username= os.getenv(\"username\")\n",
    "password= os.getenv(\"password\")\n",
    "\n",
    "cnxn = pyodbc.connect('DRIVER={ODBC Driver 17 for SQL Server};SERVER='+server+';UID='+username+';PWD='+ password)\n",
    "cursor = cnxn.cursor()\n",
    "\n",
    "ruta_DATA=\"../../../../DATA/\"\n",
    "ruta_MUESTRAS=\"../../../muestras de datos/sin procesar/MUESTRAS/ \""
   ]
  },
  {
   "cell_type": "code",
   "execution_count": null,
   "metadata": {},
   "outputs": [],
   "source": [
    "### Paquetes usados para la exploración de datos\n",
    "\n",
    "import pandas as pd\n",
    "import numpy as np\n",
    "import matplotlib.pyplot as plt\n",
    "import seaborn as sns\n",
    "import datetime as dt\n",
    "import warnings\n",
    "from Scripts import data_management as dm # Funciones definidas\n",
    "warnings.filterwarnings('ignore')"
   ]
  },
  {
   "cell_type": "markdown",
   "metadata": {},
   "source": [
    "## 3. DESCRIPCIÓN DEL INFORME / INSUMO\n",
    "\n",
    "### 3.1. Objetivo\n",
    "\n",
    "El objetivo de este cuaderno es mostrar las bases de datos disponibles en el DATAVAULT, como consultarlas y algunos usos simples de modelos de limpieza.\n",
    "\n",
    "En particular de aqui saldran las siguientes tablas para poner a disposición del público a traves del portal de datos abiertos, www.datos.gov.co:\n",
    "\n",
    "- **Tabla de procesos SECOP II**: Contiene la información de los procesos que se han llevado a cabo en el Sistema Electrónico de Contratación Pública SECOP II.\n",
    "\n",
    "- **Tabla de contratos SECOP II**: Contiene la información de los contratos que se han llevado a cabo en el Sistema Electrónico de Contratación Pública SECOP II.\n",
    "\n",
    "\n",
    "- **Tabla de procesos SECOP I**: Contiene la información de los procesos que se han llevado a cabo en el Sistema Electrónico de Contratación Pública SECOP I.\n",
    "\n",
    "-  **Tabla de plan anual de adquisiciones**: Contiene la información de las adquisiciones prioyectadas por entidad."
   ]
  },
  {
   "cell_type": "markdown",
   "metadata": {},
   "source": [
    "## 4. ADQUISICIÓN DE LOS DATOS\n",
    "\n",
    "### 4.1. Datos de procesos SECOP II\n",
    "\n",
    "Para consultar los datos de procesos SECOP II, se debe ejecutar la siguiente consulta:\n",
    "\n",
    "```sql\n",
    "SELECT * FROM [CCE_Sandbox].[datavault].[SAT_Example_Table]\n",
    "```\n"
   ]
  },
  {
   "cell_type": "code",
   "execution_count": null,
   "metadata": {},
   "outputs": [],
   "source": [
    "# Consulta sandbox datavault sat_company\n",
    "\n",
    "sat_company = pd.read_sql_query(\"SELECT * FROM [CCE_Sandbox].[datavault].[Sat_Company]\", cnxn)"
   ]
  },
  {
   "cell_type": "code",
   "execution_count": null,
   "metadata": {},
   "outputs": [],
   "source": [
    "# Se exporta la consulta a un parquet\n",
    "\n",
    "sat_company.to_parquet(ruta_DATA+\"sat_company.parquet\", engine='pyarrow')"
   ]
  },
  {
   "cell_type": "code",
   "execution_count": null,
   "metadata": {},
   "outputs": [],
   "source": [
    "# Consulta sandbox datavault sat_buyerDossier\n",
    "\n",
    "sat_buyer_dossier = pd.read_sql_query(\"SELECT * FROM [CCE_Sandbox].[datavault].[Sat_BuyerDossier]\", cnxn)"
   ]
  },
  {
   "cell_type": "code",
   "execution_count": null,
   "metadata": {},
   "outputs": [],
   "source": [
    "# Se exporta la consulta a un parquet\n",
    "\n",
    "sat_buyer_dossier.to_parquet(ruta_DATA+\"sat_buyer_dossier.parquet\",engine='pyarrow')"
   ]
  },
  {
   "cell_type": "code",
   "execution_count": null,
   "metadata": {},
   "outputs": [],
   "source": [
    "# Consulta sandbox datavault sat_categorization\n",
    "\n",
    "sat_categorization = pd.read_sql_query(\"SELECT * FROM [CCE_Sandbox].[datavault].[Sat_Categorization]\", cnxn)"
   ]
  },
  {
   "cell_type": "code",
   "execution_count": null,
   "metadata": {},
   "outputs": [],
   "source": [
    "# Se exporta la consulta a un parquet\n",
    "\n",
    "sat_categorization.to_parquet(ruta_DATA+\"sat_categorization.parquet\",engine='pyarrow')"
   ]
  },
  {
   "cell_type": "code",
   "execution_count": null,
   "metadata": {},
   "outputs": [],
   "source": [
    "## sat_procedure_request lo bajaremos en bloques de 1000000\n",
    "\n",
    "n=pd.read_sql_query(\"SELECT COUNT(*) FROM [CCE_Sandbox].[datavault].[Sat_ProcedureRequest]\", cnxn).values[0][0]\n",
    "list_sat_procedure_request=[]\n",
    "for i in range(0,n,500000):\n",
    "    print(\"Inicia la consulta en\", i)\n",
    "    sat_procedure_request_temp = pd.read_sql_query(\"SELECT * FROM [CCE_Sandbox].[datavault].[Sat_ProcedureRequest] ORDER BY [HubProcedureRequestHashKey] OFFSET \"+str(i)+\" ROWS FETCH NEXT 1000000 ROWS ONLY\", cnxn)\n",
    "    list_sat_procedure_request.append(sat_procedure_request_temp)"
   ]
  },
  {
   "cell_type": "code",
   "execution_count": null,
   "metadata": {},
   "outputs": [],
   "source": [
    "# Se concantena la lista de sat_procedure_request y se exporta a un parquet\n",
    "\n",
    "sat_procedure_request=pd.concat(list_sat_procedure_request)\n",
    "sat_procedure_request.to_parquet(ruta_DATA+\"sat_procedure_request.parquet\",engine='pyarrow')    "
   ]
  },
  {
   "cell_type": "code",
   "execution_count": null,
   "metadata": {},
   "outputs": [],
   "source": [
    "### cerramos la conexión\n",
    "cnxn.close()"
   ]
  },
  {
   "cell_type": "markdown",
   "metadata": {},
   "source": [
    "## Carga de datos usando Python desde la ruta DATA\n",
    "\n",
    "Cargamos la base desde la ruta DATA\n",
    "\n",
    "\n"
   ]
  },
  {
   "cell_type": "code",
   "execution_count": null,
   "metadata": {},
   "outputs": [],
   "source": [
    "import pandas as pd\n",
    "ruta_DATA=\"../../../../DATA/\""
   ]
  },
  {
   "cell_type": "code",
   "execution_count": null,
   "metadata": {
    "scrolled": true
   },
   "outputs": [],
   "source": [
    "# Se leen los parquet\n",
    "\n",
    "sat_company = pd.read_parquet(ruta_DATA+\"sat_company.parquet\",engine=\"pyarrow\")\n",
    "sat_buyer_dossier = pd.read_parquet(ruta_DATA+\"sat_buyer_dossier.parquet\",engine=\"pyarrow\")\n",
    "sat_categorization = pd.read_parquet(ruta_DATA+\"sat_categorization.parquet\",engine=\"pyarrow\")\n",
    "sat_procedure_request = pd.read_parquet(ruta_DATA+\"sat_procedure_request.parquet\",engine=\"pyarrow\")"
   ]
  },
  {
   "cell_type": "code",
   "execution_count": null,
   "metadata": {},
   "outputs": [],
   "source": [
    "### Para el repositorio generamos muestras de los dataframes y los guardamos en archivos csv\n",
    "\n",
    "sat_company.sample(100).to_csv(ruta_DATA+\"sat_company.csv\")\n",
    "sat_buyer_dossier.sample(100).to_csv(ruta_DATA+\"sat_buyer_dossier.csv\")\n",
    "sat_categorization.sample(100).to_csv(ruta_DATA+\"sat_categorization.csv\")\n",
    "sat_procedure_request.sample(100).to_csv(ruta_DATA+\"sat_procedure_request.csv\")"
   ]
  },
  {
   "cell_type": "code",
   "execution_count": null,
   "metadata": {},
   "outputs": [],
   "source": [
    "# Unir las tablas utilizando las claves\n",
    "\n",
    "procesos = pd.merge(sat_buyer_dossier, sat_procedure_request, on='BuyerDossierUniqueIdentifier', how='left')\n",
    "proc_comp_buyer = pd.merge(procesos, sat_categorization, on='HubProcedureRequestHashKey', how='left')\n",
    "proc_comp_buyer_cat = pd.merge(proc_comp_buyer, sat_categorization, on='HubProcedureRequestHashKey', how='left')\n",
    "\n",
    "\n",
    "result = proc_comp_buyer_cat[columns]"
   ]
  }
 ],
 "metadata": {
  "kernelspec": {
   "display_name": "Python 3 (ipykernel)",
   "language": "python",
   "name": "python3"
  },
  "language_info": {
   "codemirror_mode": {
    "name": "ipython",
    "version": 3
   },
   "file_extension": ".py",
   "mimetype": "text/x-python",
   "name": "python",
   "nbconvert_exporter": "python",
   "pygments_lexer": "ipython3",
   "version": "3.10.9"
  }
 },
 "nbformat": 4,
 "nbformat_minor": 2
}
