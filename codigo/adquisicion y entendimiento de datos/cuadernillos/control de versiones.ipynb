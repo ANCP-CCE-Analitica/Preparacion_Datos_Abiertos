{
 "cells": [
  {
   "attachments": {},
   "cell_type": "markdown",
   "metadata": {},
   "source": [
    "<div style=\"\n",
    "  padding: 30px;\n",
    "  text-align: center;\" class='row'>\n",
    "<div style=\"float:left;width: 15%;\" class='column'><a href=\"https://www.colombiacompra.gov.co\"><img alt=\"Logo Colombia Compra Eficiente\" id=\"logocce\" src=\"https://www.colombiacompra.gov.co/sites/cce_public/files/Images/logocce.png\" style=\"height: 45px;\"></a></div>\n",
    "    <div style=\"float:left;width: 70%;\" class='column'>\n",
    "        <h1> Reporte rutas y modificaciones\n",
    "        </h1> \n",
    "    </div>\n",
    "<div style=\"float:left;width: 15%;\" class='column'><a href=\"https://www.dnp.gov.co/\" target=\"_blank\"><img class=\"float-right\" id=\"logodnp\" src=\"https://www.dnp.gov.co/img/logoNuevo.jpg\" style=\"width: 200px;\"></a></div>\n",
    "</div>"
   ]
  },
  {
   "attachments": {},
   "cell_type": "markdown",
   "metadata": {},
   "source": [
    "El objetivo principal de este cuadernillo es proporcionar una guía paso a paso para obtener información relevante sobre las versiones del proyecto y almacenarla en un formato estructurado. En particular, se generará un archivo Excel que contendrá los siguientes detalles:\n",
    "\n",
    "* Ruta del archivo: Se registrarán las rutas de los archivos en el Data Lake, lo que permitirá identificar su ubicación exacta en el sistema.\n",
    "\n",
    "* Última modificación: Se obtendrá la fecha y hora de la última modificación realizada en cada archivo. Esto ayudará a tener un seguimiento actualizado de los cambios realizados en las versiones.\n",
    "\n",
    "* Tamaño del archivo: Se proporcionará el tamaño de cada archivo en diferentes unidades, como megabytes (MB), mebibytes (MiB), gigabytes (GB) y gibibytes (GiB). Esto facilitará el análisis de los recursos utilizados por cada versión."
   ]
  },
  {
   "attachments": {},
   "cell_type": "markdown",
   "metadata": {},
   "source": [
    "### Librerías"
   ]
  },
  {
   "cell_type": "code",
   "execution_count": 1,
   "metadata": {},
   "outputs": [],
   "source": [
    "# Personalizada de inicio de sesión\n",
    "from libreria import login\n",
    "\n",
    "# Herramientas\n",
    "import pandas as pd\n",
    "import datetime"
   ]
  },
  {
   "attachments": {},
   "cell_type": "markdown",
   "metadata": {},
   "source": [
    "## Obtención de información sobre archivos en el Data Lake\n",
    "\n",
    "En esta sección del cuadernillo, se realiza la obtención de información sobre los archivos almacenados en el Data Lake. El código se encarga de obtener la lista de blobs (archivos) en el contenedor especificado."
   ]
  },
  {
   "cell_type": "code",
   "execution_count": 2,
   "metadata": {},
   "outputs": [],
   "source": [
    "# Se establece la conexión al Data Lake\n",
    "blob_service_client, container_client = login.login_datalake()\n",
    "\n",
    "# Lista vacía que será utilizada para almacenar la información de los archivos.\n",
    "control_de_versiones = []\n",
    "\n",
    "blobs = container_client.list_blobs()\n",
    "for blob in blobs:\n",
    "    # se obtiene el nombre del archivo y su tamaño\n",
    "    file_name = blob.name\n",
    "    file_size = blob.size\n",
    "\n",
    "    # Obtener la información de la última modificación del archivo\n",
    "    blob_client = blob_service_client.get_blob_client(container=login.cliente_contenedor.datosemae, blob=file_name)\n",
    "    properties = blob_client.get_blob_properties()\n",
    "    last_modified = pd.Timestamp(properties.last_modified)\n",
    "    last_modified_by = properties.metadata.get('last_modified_by')\n",
    "\n",
    "    control_de_versiones.append({\n",
    "        'archivo': file_name, \n",
    "        'tamaño mb': str(round(float(file_size)*0.000001, 2)) + \" mb\", # Conversión a mb\n",
    "        'tamaño mib': str(round(float(file_size)*0.00000095367, 2)) + \" mib\", # Conversión a mib\n",
    "        'tamaño gb': str(round(float(file_size)*0.000000001, 2)) + \" gb\", # Conversión a gb\n",
    "        'tamaño gib': str(round(float(file_size)*0.00000000093132, 2)) + \" gib\", # Conversión a gib\n",
    "        'ultima modificacion': last_modified.tz_convert(None), \n",
    "        'modificado por': last_modified_by\n",
    "    })\n",
    "\n",
    "control_de_versiones = pd.DataFrame(control_de_versiones)"
   ]
  },
  {
   "attachments": {},
   "cell_type": "markdown",
   "metadata": {},
   "source": [
    "### Exportación de datos a Excel\n",
    "\n",
    "El código también incluye una función para exportar la lista control_de_versiones a un archivo de Excel. El archivo se guarda en la carpeta de reportes con un nombre que incluye la fecha actual."
   ]
  },
  {
   "cell_type": "code",
   "execution_count": 3,
   "metadata": {},
   "outputs": [],
   "source": [
    "control_de_versiones.to_excel(f'../reportes/versiones/version {datetime.datetime.now().date()}.xlsx')"
   ]
  },
  {
   "cell_type": "code",
   "execution_count": null,
   "metadata": {},
   "outputs": [],
   "source": []
  }
 ],
 "metadata": {
  "kernelspec": {
   "display_name": "Python 3",
   "language": "python",
   "name": "python3"
  },
  "language_info": {
   "codemirror_mode": {
    "name": "ipython",
    "version": 3
   },
   "file_extension": ".py",
   "mimetype": "text/x-python",
   "name": "python",
   "nbconvert_exporter": "python",
   "pygments_lexer": "ipython3",
   "version": "3.11.2"
  },
  "orig_nbformat": 4
 },
 "nbformat": 4,
 "nbformat_minor": 2
}
