{
 "cells": [
  {
   "cell_type": "markdown",
   "metadata": {},
   "source": [
    "<div style=\"\n",
    "  padding: 30px;\n",
    "  text-align: center;\" class='row'>\n",
    "<div style=\"float:left;width: 15%;\" class='column'><a href=\"https://www.colombiacompra.gov.co\"><img alt=\"Logo Colombia Compra Eficiente\" id=\"logocce\" src=\"https://www.colombiacompra.gov.co/sites/cce_public/files/files_2020/cce-color.png\" style=\"height: 45px;\"></a></div>\n",
    "    <div style=\"float:left;width: 70%;\" class='column'>\n",
    "        <h1> Validación de Datos de Bodega\n",
    "        </h1> \n",
    "    </div>\n",
    "<div style=\"float:left;width: 15%;\" class='column'><a href=\"https://www.dnp.gov.co/\" target=\"_blank\"><img class=\"float-right\" id=\"logodnp\" src=\"https://www.dnp.gov.co/img/logoNuevo.jpg\" style=\"width: 200px;\"></a></div>\n",
    "</div>"
   ]
  },
  {
   "cell_type": "markdown",
   "metadata": {},
   "source": [
    "## 1. IDENTIFICACIÓN DEL INSUMO\n",
    "\n",
    "|||\n",
    "|:--|:--|\n",
    "|**Fecha**|Septiembre 2023|\n",
    "|**Ciudad**|Bogotá D.C.|\n",
    "|**Esquema de presentación del insumo**|Cuaderno Jupyter|\n",
    "|**Título del insumo**| **Descarga de datos y unificación de fuentes**|\n",
    "|**Descripción y alcance**|Notebook para la descarga y unificación de los datos que alimentan a la base unificada.|\n",
    "|**Periodicidad del insumo**|único|\n",
    "|**Solicitante**|No aplica|\n",
    "|**Versión del insumo**|Final|"
   ]
  },
  {
   "cell_type": "markdown",
   "metadata": {},
   "source": [
    "## 2. DESTINO Y AUTORES DEL INFORME / INSUMO\n",
    "\n",
    "|||\n",
    "|:--|:--|\n",
    "|**Destinatario**|<table align='left'><tr><td>*Nombre:*</td> <td>Equipo analítica EMAE</td></tr> <tr><td>*Cargo:*</td> <td>NA</td></tr>  <tr><td>*Área:*</td> <td>Subdirección de estudios de Mercado y Abastecimiento Estratégico – EMAE</td></tr></table>|\n",
    "|**Autores**|<table><tr><td>*Nombre:*</td> <td>Equipo de Datos - GAEC</td></tr><tr><td>*Área:*</td> <td>Subdirección de estudios de Mercado y Abastecimiento Estratégico – EMAE.</td></tr></table>|\n",
    "|**Aprobación**|<table><tr><td>*Nombre:*</td> <td>Maria del Pilar Suarez Sebastian</td></tr> <tr><td>*Cargo:*</td> <td>Subdirectora Estudios de Mercado y Abastecimiento Estratégico</td></tr>  <tr><td>*Área:*</td> <td>Subdirección de estudios de Mercado y Abastecimiento Estratégico – EMAE.</td></tr></table>|"
   ]
  },
  {
   "cell_type": "code",
   "execution_count": 1,
   "metadata": {},
   "outputs": [],
   "source": [
    "### Paquetes usados para la validación de datos\n",
    "\n",
    "import re\n",
    "import pandas as pd\n",
    "import numpy as np\n",
    "import matplotlib.pyplot as plt\n",
    "import datetime as dt\n",
    "import unidecode\n",
    "import libreria.data_management as dm\n",
    "# from dataprep.clean import clean_duplication\n",
    "import warnings\n",
    "warnings.filterwarnings('ignore')\n",
    "pd.options.display.float_format = '{:.0f}'.format\n",
    "\n",
    "from libreria import login # Lógica para el inicio de sesión a las fuentes de datos\n",
    "\n",
    "# Cargue de las conexiones a las fuentes de datos\n",
    "cnxn_sandbox, cursor_sandbox = login.login_sql(login.tipo_bodega.SANDBOX)\n",
    "cnxn_reports, cursor_reports = login.login_sql(login.tipo_bodega.REPORTS)"
   ]
  },
  {
   "cell_type": "code",
   "execution_count": 2,
   "metadata": {},
   "outputs": [],
   "source": [
    "db_maestra_B = pd.read_csv('../../../muestras de datos/procesados/bronce/SECOP_ENERO23.csv', sep=';')\n",
    "db_maestra_S = pd.read_csv('../../../muestras de datos/procesados/silver/SECOP_ENERO23.csv', sep=';')"
   ]
  },
  {
   "cell_type": "code",
   "execution_count": 3,
   "metadata": {},
   "outputs": [],
   "source": [
    "year = '2023'\n",
    "months = '1' # 1: Enero, 2: Febrero, 3: Marzo, etc.\n",
    "\n",
    "\n",
    "SII_B = db_maestra_B[db_maestra_B['Fuente'] == 'SECOP II']\n",
    "SII_B['Fecha_firma'] = pd.to_datetime(SII_B['Fecha_firma'])\n",
    "filtered_b = SII_B[~SII_B['Estado'].isin(['Borrador', 'Cancelado', 'En aprobación', 'enviado Proveedor'])]\n",
    "\n",
    "SII_S = db_maestra_S[db_maestra_S['Fuente'] == 'SECOP II']\n",
    "SII_S['Fecha_firma'] = pd.to_datetime(SII_S['Fecha_firma'])\n",
    "filtered_s = SII_S[~SII_S['Estado'].isin(['Borrador', 'Cancelado', 'En aprobación', 'enviado Proveedor'])]"
   ]
  },
  {
   "cell_type": "markdown",
   "metadata": {},
   "source": [
    "## Test 1"
   ]
  },
  {
   "cell_type": "code",
   "execution_count": 4,
   "metadata": {},
   "outputs": [
    {
     "name": "stdout",
     "output_type": "stream",
     "text": [
      "Etapa de descarga:\n",
      "Contratos:  True\n",
      "Valor:  True\n",
      "---\n",
      "Etapa de limpieza:\n",
      "Contratos:  True\n",
      "Valor:  True\n"
     ]
    }
   ],
   "source": [
    "## CANTIDAD DE CONTRATOS Y VALOR POR MES DEL AÑO 2023 ----\n",
    "## El calculo se realiza para optener los contratos unicos tanto en valor como en cantidad.       \n",
    "## Los datos corresponden con la información reportada por las entidades estatales en el SECOP II \n",
    "# Datos extraidos desde la bodega\n",
    "test1 = pd.read_sql_query(f\"SELECT DISTINCT MONTH(VALOR.AprovalDate) AS 'MES', COUNT(DISTINCT VALOR.ContractReference) AS 'CONTRATOS', SUM(VALOR.VALOR) AS VALOR FROM (SELECT DISTINCT V.ContractReference, V.AprovalDate, MAX(V.ContractValue) AS VALOR FROM [CCE_Reports].SECOPII.V_HistoricoContratos_Depurado V WHERE YEAR(V.AprovalDate) = {year} AND MONTH(V.AprovalDate) IN ({months}) AND V.ContractState NOT IN ('Borrador','Cancelado','En aprobación','enviado Proveedor') GROUP BY ContractReference, V.AprovalDate) VALOR GROUP BY MONTH(VALOR.AprovalDate) ORDER BY MONTH(VALOR.AprovalDate) ASC\", cnxn_reports)\n",
    "\n",
    "# Traducción de la consulta (Base bronce)\n",
    "grouped_b = filtered_b.groupby(['ID_Contrato', 'Fecha_firma'])['Valor_contrato'].max().reset_index()\n",
    "grouped_b['MES'] = grouped_b['Fecha_firma'].dt.month\n",
    "result_b = grouped_b.groupby('MES').agg({'ID_Contrato': 'count', 'Valor_contrato': 'sum'}).reset_index()\n",
    "result_b.columns = ['MES(B)', 'CONTRATOS(B)', 'VALOR(B)']\n",
    "\n",
    "# Traducción de la consulta (Base silver)\n",
    "grouped_s = filtered_s.groupby(['ID_Contrato', 'Fecha_firma'])['Valor_contrato'].max().reset_index()\n",
    "grouped_s['MES'] = grouped_s['Fecha_firma'].dt.month\n",
    "result_s = grouped_s.groupby('MES').agg({'ID_Contrato': 'count', 'Valor_contrato': 'sum'}).reset_index()\n",
    "result_s.columns = ['MES(S)', 'CONTRATOS(S)', 'VALOR(S)']\n",
    "\n",
    "# Ordena el resultado por MES\n",
    "result_b = result_b.sort_values(by='MES(B)', ascending=True)\n",
    "result_s = result_s.sort_values(by='MES(S)', ascending=True)\n",
    "\n",
    "test1[['MES(B)', 'CONTRATOS(B)', 'VALOR(B)']] = result_b\n",
    "test1[['MES(S)', 'CONTRATOS(S)', 'VALOR(S)']] = result_s\n",
    "\n",
    "try:\n",
    "    RT1DC = int(test1['CONTRATOS']) == int(test1['CONTRATOS(B)'])\n",
    "    RT1DV = int(test1['VALOR'])        == int(test1['VALOR(B)'])\n",
    "except:\n",
    "    RT1DC = False\n",
    "    RT1DV = False\n",
    "    print('Error al validar el proceso de descarga')\n",
    "\n",
    "try:\n",
    "    RT1LC = int(test1['CONTRATOS(B)']) == int(test1['CONTRATOS(S)'])\n",
    "    RT1LV = int(test1['VALOR(B)'])     == int(test1['VALOR(S)'])\n",
    "except:\n",
    "    RT1LC = False\n",
    "    RT1LV = False\n",
    "    print('Error al validar el proceso de limpieza')\n",
    "    \n",
    "print('Etapa de descarga:')\n",
    "print('Contratos: ', RT1DC)\n",
    "print('Valor: ', RT1DV)\n",
    "print('---')\n",
    "print('Etapa de limpieza:')\n",
    "print('Contratos: ', RT1LC)\n",
    "print('Valor: ', RT1LV)"
   ]
  },
  {
   "cell_type": "markdown",
   "metadata": {},
   "source": [
    "## Test 2"
   ]
  },
  {
   "cell_type": "code",
   "execution_count": 5,
   "metadata": {},
   "outputs": [
    {
     "name": "stdout",
     "output_type": "stream",
     "text": [
      "Etapa de descarga:\n",
      "Contratos:  True\n",
      "Valor:  True\n",
      "---\n",
      "Etapa de limpieza:\n",
      "Contratos:  True\n",
      "Valor:  True\n"
     ]
    }
   ],
   "source": [
    "# Datos extraidos desde la bodega\n",
    "test2 = pd.read_sql_query(f\"SELECT COUNT(DISTINCT VALOR.ContractReference) AS 'CONTRATOS', SUM(VALOR.VALOR) AS VALOR FROM (SELECT DISTINCT V.ContractReference, V.AprovalDate, MAX(V.ContractValue) AS VALOR FROM [CCE_Reports].SECOPII.V_HistoricoContratos_Depurado V WHERE YEAR(V.AprovalDate) = {year} AND MONTH(V.AprovalDate) IN ({months}) AND V.ContractState NOT IN ('Borrador','Cancelado','En aprobación','enviado Proveedor') GROUP BY ContractReference, V.AprovalDate) VALOR GROUP BY MONTH(VALOR.AprovalDate) ORDER BY MONTH(VALOR.AprovalDate) ASC\", cnxn_reports)\n",
    "\n",
    "# Traducción de la consulta (Base bronce)\n",
    "grouped_b = filtered_b.groupby(['ID_Contrato', 'Fecha_firma']).agg({'Valor_contrato': 'max'}).reset_index()\n",
    "contratos_b = len(grouped_b['ID_Contrato'].unique())\n",
    "valor_b = grouped_b['Valor_contrato'].sum()\n",
    "\n",
    "# Traducción de la consulta (Base silver)\n",
    "grouped_s = filtered_s.groupby(['ID_Contrato', 'Fecha_firma']).agg({'Valor_contrato': 'max'}).reset_index()\n",
    "contratos_s= len(grouped_s['ID_Contrato'].unique())\n",
    "valor_s = grouped_s['Valor_contrato'].sum()\n",
    "\n",
    "test2[['CONTRATOS(B)', 'VALOR(B)', 'CONTRATOS(S)', 'VALOR(S)']] = contratos_b, valor_b, contratos_s, valor_s\n",
    "\n",
    "try:\n",
    "    RT2DC = int(test2['CONTRATOS'])    == int(test2['CONTRATOS(B)'])\n",
    "    RT2DV = int(test2['VALOR'])        == int(test2['VALOR(B)'])\n",
    "except:\n",
    "    RT2DC = False\n",
    "    RT2DV = False\n",
    "    print('Error al validar el proceso de descarga')\n",
    "\n",
    "try:\n",
    "    RT2LC = int(test2['CONTRATOS(B)']) == int(test2['CONTRATOS(S)'])\n",
    "    RT2LV = int(test2['VALOR(B)'])     == int(test2['VALOR(S)'])\n",
    "except:\n",
    "    RT2LC = False\n",
    "    RT2LV = False\n",
    "    print('Error al validar el proceso de limpieza')\n",
    "    \n",
    "print('Etapa de descarga:')\n",
    "print('Contratos: ', RT2DC)\n",
    "print('Valor: ',     RT2DV)\n",
    "print('---')\n",
    "print('Etapa de limpieza:')\n",
    "print('Contratos: ', RT2LC)\n",
    "print('Valor: ',     RT2LV)"
   ]
  },
  {
   "cell_type": "markdown",
   "metadata": {},
   "source": [
    "## Test 3"
   ]
  },
  {
   "cell_type": "code",
   "execution_count": 6,
   "metadata": {},
   "outputs": [
    {
     "name": "stdout",
     "output_type": "stream",
     "text": [
      "Etapa de descarga:\n",
      "Contratos:  True\n",
      "Valor:  True\n",
      "---\n",
      "Etapa de limpieza:\n",
      "Contratos:  False\n",
      "Valor:  False\n"
     ]
    }
   ],
   "source": [
    "# CANTIDAD DE CONTRATOS Y VALOR POR MODALIDAD DE LOS MESES DEL 1 AL 6 DEL AÑO 2023\n",
    "# Datos extraidos desde la bodega\n",
    "test3 = pd.read_sql_query(f\"SELECT DISTINCT VALOR.ProcedureProfileLabel AS 'MODALIDAD', COUNT(DISTINCT VALOR.ContractReference)\tAS 'CONTRATOS', SUM(VALOR.VALOR) AS 'VALOR' FROM (SELECT DISTINCT V.ContractReference, V.ProcedureProfileLabel, MAX(V.ContractValue) AS VALOR FROM [CCE_Reports].SECOPII.V_HistoricoContratos_Depurado V WHERE YEAR(V.AprovalDate) = {year} AND MONTH(V.AprovalDate) IN ({months}) AND V.ContractState NOT IN ('Borrador','Cancelado','En aprobación','enviado Proveedor') GROUP BY ContractReference, V.ProcedureProfileLabel) VALOR GROUP BY VALOR.ProcedureProfileLabel ORDER BY VALOR.ProcedureProfileLabel ASC\", cnxn_reports)\n",
    "\n",
    "# Traducción de la consulta (Base bronce)\n",
    "result_b = filtered_b.groupby(['Modalidad', 'ID_Contrato']).agg({'Valor_contrato': 'max'}).reset_index()\n",
    "result_b = result_b.groupby('Modalidad').agg({'ID_Contrato': 'count','Valor_contrato': 'sum'}).reset_index()\n",
    "result_b.columns = ['MODALIDAD', 'CONTRATOS', 'VALOR']\n",
    "result_b = result_b.sort_values(by='MODALIDAD', ascending=True)\n",
    "\n",
    "# Traducción de la consulta (Base silver)\n",
    "result_s = filtered_s.groupby(['Modalidad', 'ID_Contrato']).agg({'Valor_contrato': 'max'}).reset_index()\n",
    "result_s = result_s.groupby('Modalidad').agg({'ID_Contrato': 'count','Valor_contrato': 'sum'}).reset_index()\n",
    "result_s.columns = ['MODALIDAD', 'CONTRATOS', 'VALOR']\n",
    "result_s = result_s.sort_values(by='MODALIDAD', ascending=True)\n",
    "\n",
    "test3[['MODALIDAD(B)', 'CONTRATOS(B)', 'VALOR(B)']] = result_b\n",
    "test3[['MODALIDAD(S)', 'CONTRATOS(S)', 'VALOR(S)']] = result_s\n",
    "\n",
    "try:\n",
    "    test3['RT3DC'] = test3['CONTRATOS'] == test3['CONTRATOS(B)']\n",
    "    RT3DC = test3[~test3['CONTRATOS'] == 'None'][test3['RT3DC'] == False].shape[0] == 0\n",
    "    test3['RT3DV'] = test3['VALOR'] == test3['VALOR(B)']\n",
    "    RT3DV = test3[~test3['CONTRATOS'] == 'None'][test3['RT3DV'] == False].shape[0] == 0\n",
    "except:\n",
    "    RT3DC = False\n",
    "    RT3DV = False\n",
    "    print('Error al validar el proceso de descarga')\n",
    "\n",
    "try:\n",
    "    test3['RT3LC'] = test3['CONTRATOS(B)'] == test3['CONTRATOS(S)']\n",
    "    RT3LC = test3[~test3['CONTRATOS(B)'].isna()][test3['RT3LC'] == False].shape[0] == 0\n",
    "    test3['RT3LV'] = test3['VALOR(B)'] == test3['VALOR(S)']\n",
    "    RT3LV = test3[~test3['VALOR(B)'].isna()][test3['RT3LV'] == False].shape[0] == 0\n",
    "except:\n",
    "    RT3LC = False\n",
    "    RT3LV = False\n",
    "    print('Error al validar el proceso de limpieza')\n",
    "    \n",
    "print('Etapa de descarga:')\n",
    "print('Contratos: ', RT3DC)\n",
    "print('Valor: ',     RT3DV)\n",
    "print('---')\n",
    "print('Etapa de limpieza:')\n",
    "print('Contratos: ', RT3LC)\n",
    "print('Valor: ',     RT3LV)"
   ]
  },
  {
   "cell_type": "markdown",
   "metadata": {},
   "source": [
    "## Test 4"
   ]
  },
  {
   "cell_type": "code",
   "execution_count": 7,
   "metadata": {},
   "outputs": [
    {
     "name": "stdout",
     "output_type": "stream",
     "text": [
      "Etapa de descarga:\n",
      "Contratos:  True\n",
      "Valor:  False\n",
      "---\n",
      "Etapa de limpieza:\n",
      "Contratos:  True\n",
      "Valor:  True\n"
     ]
    }
   ],
   "source": [
    "## CANTIDAD DE CONTRATOS Y VALOR POR TIPO DE CONTRATO DE LOS MESES DEL 1 AL 6 DEL AÑO 2023\n",
    "# Datos extraidos desde la bodega\n",
    "test4 = pd.read_sql_query(f\"SELECT DISTINCT VALOR.TypeContract AS 'MODALIDAD', COUNT(DISTINCT VALOR.ContractReference) AS 'CONTRATOS', SUM(VALOR.VALOR) AS 'VALOR' FROM (SELECT DISTINCT V.ContractReference, V.TypeContract, MAX(V.ContractValue) AS VALOR FROM [CCE_Reports].SECOPII.V_HistoricoContratos_Depurado V WHERE\tYEAR(V.AprovalDate) = {year} AND MONTH(V.AprovalDate) IN ({months}) AND V.ContractState NOT IN ('Borrador','Cancelado','En aprobación','enviado Proveedor') GROUP BY ContractReference, V.TypeContract) VALOR GROUP BY VALOR.TypeContract ORDER BY VALOR.TypeContract ASC\", cnxn_reports)\n",
    "\n",
    "# Traducción de la consulta (Base bronce)\n",
    "grouped_b = filtered_b.groupby(['Tipo_de_contrato', 'ID_Contrato']).agg({'Valor_contrato': 'max'}).reset_index()\n",
    "result_b = grouped_b.groupby('Tipo_de_contrato').agg({'ID_Contrato': 'nunique','Valor_contrato': 'sum'}).reset_index()\n",
    "result_b.rename(columns={'Tipo_de_contrato': 'MODALIDAD', 'ID_Contrato': 'CONTRATOS', 'Valor_contrato': 'VALOR'}, inplace=True)\n",
    "result_b.sort_values(by='MODALIDAD', ascending=True, inplace=True)\n",
    "\n",
    "# Traducción de la consulta (Base silver)\n",
    "grouped_s = filtered_s.groupby(['Tipo_de_contrato', 'ID_Contrato']).agg({'Valor_contrato': 'max'}).reset_index()\n",
    "result_s = grouped_s.groupby('Tipo_de_contrato').agg({'ID_Contrato': 'nunique','Valor_contrato': 'sum'}).reset_index()\n",
    "result_s.rename(columns={'Tipo_de_contrato': 'MODALIDAD', 'ID_Contrato': 'CONTRATOS', 'Valor_contrato': 'VALOR'}, inplace=True)\n",
    "result_s.sort_values(by='MODALIDAD', ascending=True, inplace=True)\n",
    "\n",
    "test4[['MODALIDAD(B)', 'CONTRATOS(B)', 'VALOR(B)']] = result_b\n",
    "test4[['MODALIDAD(S)', 'CONTRATOS(S)', 'VALOR(S)']] = result_s\n",
    "\n",
    "try:\n",
    "    test4['RT4DC'] = test4['CONTRATOS'] == test4['CONTRATOS(B)']\n",
    "    RT4DC = test4[test4['RT4DC'] == False].shape[0] == 0\n",
    "    test4['RT4DV'] = test4['VALOR'] == test4['VALOR(B)']\n",
    "    RT4DV = test4[test4['RT4DV'] == False].shape[0] == 0\n",
    "except:\n",
    "    RT4DC = False\n",
    "    RT4DV = False\n",
    "    print('Error al validar el proceso de descarga')\n",
    "\n",
    "try:\n",
    "    test4['RT4LC'] = test4['CONTRATOS(B)'] == test4['CONTRATOS(S)']\n",
    "    RT4LC = test4[test4['RT4LC'] == False].shape[0] == 0\n",
    "    test4['RT4LV'] = test4['VALOR(B)'] == test4['VALOR(S)']\n",
    "    RT4LV = test4[test4['RT4LV'] == False].shape[0] == 0\n",
    "except:\n",
    "    RT4LC = False\n",
    "    RT4LV = False\n",
    "    print('Error al validar el proceso de limpieza')\n",
    "    \n",
    "print('Etapa de descarga:')\n",
    "print('Contratos: ', RT4DC)\n",
    "print('Valor: ',     RT4DV)\n",
    "print('---')\n",
    "print('Etapa de limpieza:')\n",
    "print('Contratos: ', RT4LC)\n",
    "print('Valor: ',     RT4LV)"
   ]
  },
  {
   "cell_type": "markdown",
   "metadata": {},
   "source": [
    "## Test 5"
   ]
  },
  {
   "cell_type": "code",
   "execution_count": 8,
   "metadata": {},
   "outputs": [
    {
     "name": "stdout",
     "output_type": "stream",
     "text": [
      "Etapa de descarga:\n",
      "Contratos:  True\n",
      "Valor:  True\n",
      "---\n",
      "Etapa de limpieza:\n",
      "Contratos:  True\n",
      "Valor:  True\n"
     ]
    }
   ],
   "source": [
    "## TOP 20 - CANTIDAD DE CONTRATOS Y VALOR POR ENTIDAD DE LOS MESES DEL 1 AL 6 DEL AÑO 2023\n",
    "# Datos extraidos desde la bodega\n",
    "test5 = pd.read_sql_query(f\"SELECT DISTINCT TOP 20 VALOR.[Nombre Entidad] AS 'ENTIDAD', COUNT(DISTINCT VALOR.ContractReference) AS 'CONTRATOS', SUM(VALOR.VALOR) AS 'VALOR' FROM (SELECT DISTINCT V.ContractReference, V.[Nombre Entidad], MAX(V.ContractValue) AS VALOR FROM [CCE_Reports].SECOPII.V_HistoricoContratos_Depurado V WHERE YEAR(V.AprovalDate) = {year} AND MONTH(V.AprovalDate) IN ({months}) AND V.ContractState NOT IN ('Borrador','Cancelado','En aprobación','enviado Proveedor') GROUP BY ContractReference, V.[Nombre Entidad]) VALOR GROUP BY VALOR.[Nombre Entidad] ORDER BY SUM(VALOR.VALOR) DESC\", cnxn_reports)\n",
    "\n",
    "# Traducción de la consulta (Base bronce)\n",
    "grouped_b = filtered_b.groupby(['ID_Contrato', 'Nombre_Entidad']).agg({'Valor_contrato': 'max'}).reset_index()\n",
    "result_b = grouped_b.groupby('Nombre_Entidad').agg({'ID_Contrato': 'count', 'Valor_contrato': 'sum'}).reset_index()\n",
    "result_b.columns = ['ENTIDAD', 'CONTRATOS', 'VALOR']\n",
    "result_b = result_b.sort_values(by='VALOR', ascending=False).head(20)\n",
    "result_b = result_b.reset_index()\n",
    "result_b = result_b.drop(columns=['index'])\n",
    "\n",
    "# Traducción de la consulta (Base silver)\n",
    "grouped_s = filtered_s.groupby(['ID_Contrato', 'Nombre_Entidad']).agg({'Valor_contrato': 'max'}).reset_index()\n",
    "result_s = grouped_s.groupby('Nombre_Entidad').agg({'ID_Contrato': 'count', 'Valor_contrato': 'sum'}).reset_index()\n",
    "result_s.columns = ['ENTIDAD', 'CONTRATOS', 'VALOR']\n",
    "result_s = result_s.sort_values(by='VALOR', ascending=False).head(20)\n",
    "result_s = result_s.reset_index()\n",
    "result_s = result_s.drop(columns=['index'])\n",
    "\n",
    "test5[['ENTIDAD(B)', 'CONTRATOS(B)', 'VALOR(B)']] = result_b\n",
    "test5[['ENTIDAD(S)', 'CONTRATOS(S)', 'VALOR(S)']] = result_s\n",
    "\n",
    "try:\n",
    "    test5['RT5DC'] = test5['CONTRATOS'] == test5['CONTRATOS(B)']\n",
    "    RT5DC = test5[test5['RT5DC'] == False].shape[0] == 0\n",
    "    test5['RT5DV'] = test5['VALOR'] == test5['VALOR(B)']\n",
    "    RT5DV = test5[test5['RT5DV'] == False].shape[0] == 0\n",
    "except:\n",
    "    RT5DC = False\n",
    "    RT5DV = False\n",
    "    print('Error al validar el proceso de descarga')\n",
    "\n",
    "try:\n",
    "    test5['RT5LC'] = test5['CONTRATOS(S)'] == test5['CONTRATOS(B)']\n",
    "    RT5LC = test5[test5['RT5LC'] == False].shape[0] == 0\n",
    "    test5['RT5LV'] = test5['VALOR(S)'] == test5['VALOR(B)']\n",
    "    RT5LV = test5[test5['RT5LV'] == False].shape[0] == 0\n",
    "except:\n",
    "    RT5LC = False\n",
    "    RT5LV = False\n",
    "    print('Error al validar el proceso de limpieza')\n",
    "    \n",
    "print('Etapa de descarga:')\n",
    "print('Contratos: ', RT5DC)\n",
    "print('Valor: ',     RT5DV)\n",
    "print('---')\n",
    "print('Etapa de limpieza:')\n",
    "print('Contratos: ', RT5LC)\n",
    "print('Valor: ',     RT5LV)"
   ]
  },
  {
   "cell_type": "markdown",
   "metadata": {},
   "source": [
    "## Test 6"
   ]
  },
  {
   "cell_type": "code",
   "execution_count": 9,
   "metadata": {},
   "outputs": [
    {
     "name": "stdout",
     "output_type": "stream",
     "text": [
      "Etapa de descarga:\n",
      "Contratos:  True\n",
      "Valor:  True\n",
      "---\n",
      "Etapa de limpieza:\n",
      "Contratos:  True\n",
      "Valor:  True\n"
     ]
    }
   ],
   "source": [
    "## DATOS DE LA ENTIDAD (Secretaría Distrital de Integración Social), CODIGO 702271321\n",
    "## CANTIDAD DE CONTRATOS Y VALOR POR MES DEL AÑO 2023\n",
    "# Datos extraidos desde la bodega\n",
    "test6 = pd.read_sql_query(f\"SELECT DISTINCT MONTH(VALOR.AprovalDate)\tAS 'MES', COUNT(DISTINCT VALOR.ContractReference) AS 'CONTRATOS', SUM(VALOR.VALOR) AS VALOR FROM (SELECT DISTINCT V.ContractReference, V.AprovalDate, MAX(V.ContractValue) AS VALOR FROM [CCE_Reports].SECOPII.V_HistoricoContratos_Depurado V WHERE YEAR(V.AprovalDate) = {year} AND MONTH(V.AprovalDate) IN ({months}) AND V.ContractState NOT IN ('Borrador','Cancelado','En aprobación','enviado Proveedor') AND [Código Entidad] = '702271321' GROUP BY ContractReference, V.AprovalDate) VALOR GROUP BY MONTH(VALOR.AprovalDate) ORDER BY MONTH(VALOR.AprovalDate) ASC\", cnxn_reports)\n",
    "\n",
    "filtered_b = filtered_b[filtered_b['ID_Entidad'] == 702271321]\n",
    "filtered_s = filtered_s[filtered_s['ID_Entidad'] == 702271321]\n",
    "\n",
    "# Traducción de la consulta (Base bronce)\n",
    "grouped_b = filtered_b.groupby(['ID_Contrato', 'Fecha_firma'])['Valor_contrato'].max().reset_index()\n",
    "result_b = filtered_b.groupby(filtered_b['Fecha_firma'].dt.month).agg({'ID_Contrato': 'nunique', 'Valor_contrato': 'sum'}).reset_index()\n",
    "result_b.rename(columns={'Fecha_firma': 'MES', 'ID_Contrato': 'CONTRATOS', 'Valor_contrato': 'VALOR'}, inplace=True)\n",
    "result_b.sort_values(by='MES', ascending=True, inplace=True)\n",
    "\n",
    "# Traducción de la consulta (Base silver)\n",
    "grouped_s = filtered_s.groupby(['ID_Contrato', 'Fecha_firma'])['Valor_contrato'].max().reset_index()\n",
    "result_s = filtered_s.groupby(filtered_b['Fecha_firma'].dt.month).agg({'ID_Contrato': 'nunique', 'Valor_contrato': 'sum'}).reset_index()\n",
    "result_s.rename(columns={'Fecha_firma': 'MES', 'ID_Contrato': 'CONTRATOS', 'Valor_contrato': 'VALOR'}, inplace=True)\n",
    "result_s.sort_values(by='MES', ascending=True, inplace=True)\n",
    "\n",
    "test6[['MES(B)', 'CONTRATOS(B)', 'VALOR(B)']] = result_b\n",
    "test6[['MES(S)', 'CONTRATOS(S)', 'VALOR(S)']] = result_s\n",
    "\n",
    "try:\n",
    "    RT6DC = int(test6['CONTRATOS'])    == int(test6['CONTRATOS(B)'])\n",
    "    RT6DV = int(test6['VALOR'])        == int(test6['VALOR(B)'])\n",
    "except:\n",
    "    RT6DC = False\n",
    "    RT6DV = False\n",
    "    print('Error al validar el proceso de descarga')\n",
    "\n",
    "try:\n",
    "    RT6LC = int(test6['CONTRATOS(B)']) == int(test6['CONTRATOS(S)'])\n",
    "    RT6LV = int(test6['VALOR(B)'])     == int(test6['VALOR(S)'])\n",
    "except:\n",
    "    RT6LC = False\n",
    "    RT6LV = False\n",
    "    print('Error al validar el proceso de limpieza')\n",
    "    \n",
    "print('Etapa de descarga:')\n",
    "print('Contratos: ', RT6DC)\n",
    "print('Valor: ',     RT6DV)\n",
    "print('---')\n",
    "print('Etapa de limpieza:')\n",
    "print('Contratos: ', RT6LC)\n",
    "print('Valor: ',     RT6LV)"
   ]
  },
  {
   "cell_type": "markdown",
   "metadata": {},
   "source": [
    "## Test 7"
   ]
  },
  {
   "cell_type": "code",
   "execution_count": 10,
   "metadata": {},
   "outputs": [
    {
     "name": "stdout",
     "output_type": "stream",
     "text": [
      "Etapa de descarga:\n",
      "Contratos:  False\n",
      "Valor:  False\n",
      "---\n",
      "Etapa de limpieza:\n",
      "Contratos:  True\n",
      "Valor:  True\n"
     ]
    }
   ],
   "source": [
    "## CANTIDAD DE CONTRATOS Y VALOR POR MODALIDAD DE LOS MESES DEL 1 AL 6 DEL AÑO 2023\n",
    "# Datos extraidos desde la bodega\n",
    "test7 = pd.read_sql_query(f\"SELECT DISTINCT VALOR.ProcedureProfileLabel AS 'MODALIDAD', COUNT(DISTINCT VALOR.ContractReference)\tAS 'CONTRATOS',\tSUM(VALOR.VALOR) AS 'VALOR' FROM (SELECT DISTINCT V.ContractReference, V.ProcedureProfileLabel, MAX(V.ContractValue) AS VALOR FROM [CCE_Reports].SECOPII.V_HistoricoContratos_Depurado V WHERE YEAR(V.AprovalDate) = {year} AND MONTH(V.AprovalDate) IN ({months}) AND V.ContractState NOT IN ('Borrador','Cancelado','En aprobación','enviado Proveedor')  AND [Código Entidad] = '702271321' GROUP BY ContractReference, V.ProcedureProfileLabel) VALOR GROUP BY VALOR.ProcedureProfileLabel ORDER BY VALOR.ProcedureProfileLabel ASC\", cnxn_reports)\n",
    "\n",
    "# Traducción de la consulta (Base bronce)\n",
    "grouped_b = filtered_b.groupby(['ID_Contrato', 'Modalidad']).agg({'Valor_contrato': 'max'}).reset_index()\n",
    "final_b = grouped_b.groupby('Modalidad').agg({'ID_Contrato': 'nunique', 'Valor_contrato': 'sum'}).reset_index()\n",
    "final_b.columns = ['MODALIDAD', 'CONTRATOS', 'VALOR']\n",
    "final_b.sort_values(by='MODALIDAD', ascending=True, inplace=True)\n",
    "\n",
    "# Traducción de la consulta (Base silver)\n",
    "grouped_s = filtered_s.groupby(['ID_Contrato', 'Modalidad']).agg({'Valor_contrato': 'max'}).reset_index()\n",
    "final_s = grouped_s.groupby('Modalidad').agg({'ID_Contrato': 'nunique', 'Valor_contrato': 'sum'}).reset_index()\n",
    "final_s.columns = ['MODALIDAD', 'CONTRATOS', 'VALOR']\n",
    "final_s.sort_values(by='MODALIDAD', ascending=True, inplace=True)\n",
    "\n",
    "test7[['MODALIDAD(B)', 'CONTRATOS(B)', 'VALOR(B)']] = final_b\n",
    "test7[['MODALIDAD(S)', 'CONTRATOS(S)', 'VALOR(S)']] = final_s\n",
    "\n",
    "try:\n",
    "    test7['RT7DC'] = test7['CONTRATOS'] == test7['CONTRATOS(B)']\n",
    "    RT7DC = test7[test7['RT7DC'] == False].shape[0] == 0\n",
    "    test7['RT7DV'] = test7['VALOR'] == test7['VALOR(B)']\n",
    "    RT7DV = test7[test7['RT7DV'] == False].shape[0] == 0\n",
    "except:\n",
    "    RT7DC = False\n",
    "    RT7DV = False\n",
    "    print('Error al validar el proceso de descarga')\n",
    "\n",
    "try:\n",
    "    test7['RT7LC'] = test7['CONTRATOS(S)'] == test7['CONTRATOS(B)']\n",
    "    RT7LC = test7[~test7['CONTRATOS(B)'].isna() & (test7['RT7LC'] == False)].shape[0] == 0\n",
    "    test7['RT7LV'] = test7['VALOR(S)'] == test7['VALOR(B)']\n",
    "    RT7LV = test7[~test7['VALOR(B)'].isna() & (test7['RT7LV'] == False)].shape[0] == 0\n",
    "except:\n",
    "    RT7LC = False\n",
    "    RT7LV = False\n",
    "    print('Error al validar el proceso de limpieza')\n",
    "    \n",
    "print('Etapa de descarga:')\n",
    "print('Contratos: ', RT7DC)\n",
    "print('Valor: ',     RT7DV)\n",
    "print('---')\n",
    "print('Etapa de limpieza:')\n",
    "print('Contratos: ', RT7LC)\n",
    "print('Valor: ',     RT7LV)"
   ]
  },
  {
   "cell_type": "markdown",
   "metadata": {},
   "source": [
    "## Test 8"
   ]
  },
  {
   "cell_type": "code",
   "execution_count": 11,
   "metadata": {},
   "outputs": [
    {
     "name": "stdout",
     "output_type": "stream",
     "text": [
      "Etapa de descarga:\n",
      "Contratos:  True\n",
      "Valor:  True\n",
      "---\n",
      "Etapa de limpieza:\n",
      "Contratos:  True\n",
      "Valor:  True\n"
     ]
    }
   ],
   "source": [
    "## CANTIDAD DE CONTRATOS Y VALOR POR TIPO DE CONTRATO DE LOS MESES DEL 1 AL 6 DEL AÑO 2023\n",
    "# Datos extraidos desde la bodega\n",
    "test8 = pd.read_sql_query(f\"SELECT DISTINCT VALOR.TypeContract AS 'MODALIDAD', COUNT(DISTINCT VALOR.ContractReference) AS 'CONTRATOS', SUM(VALOR.VALOR) AS 'VALOR' FROM (SELECT DISTINCT V.ContractReference, V.TypeContract, MAX(V.ContractValue) AS VALOR FROM [CCE_Reports].SECOPII.V_HistoricoContratos_Depurado V WHERE YEAR(V.AprovalDate) = {year} AND MONTH(V.AprovalDate) IN ({months}) AND V.ContractState NOT IN ('Borrador','Cancelado','En aprobación','enviado Proveedor')  AND [Código Entidad] = '702271321' GROUP BY ContractReference, V.TypeContract) VALOR GROUP BY VALOR.TypeContract ORDER BY VALOR.TypeContract ASC\", cnxn_reports)\n",
    "\n",
    "# Traducción de la consulta (Base bronce)\n",
    "grouped_b = filtered_b.groupby(['Tipo_de_contrato', 'ID_Contrato']).agg({'Valor_contrato': 'max'}).reset_index()\n",
    "agg_b = grouped_b.groupby('Tipo_de_contrato').agg({'ID_Contrato': 'count', 'Valor_contrato': 'sum'}).reset_index()\n",
    "agg_b = agg_b.rename(columns={'Tipo_de_contrato': 'MODALIDAD', 'ID_Contrato': 'CONTRATOS', 'Valor_contrato': 'VALOR'})\n",
    "agg_b = agg_b.sort_values(by='MODALIDAD', ascending=True)\n",
    "\n",
    "# Traducción de la consulta (Base silver)\n",
    "grouped_s = filtered_b.groupby(['Tipo_de_contrato', 'ID_Contrato']).agg({'Valor_contrato': 'max'}).reset_index()\n",
    "agg_s = grouped_s.groupby('Tipo_de_contrato').agg({'ID_Contrato': 'count', 'Valor_contrato': 'sum'}).reset_index()\n",
    "agg_s = agg_s.rename(columns={'Tipo_de_contrato': 'MODALIDAD', 'ID_Contrato': 'CONTRATOS', 'Valor_contrato': 'VALOR'})\n",
    "agg_s = agg_s.sort_values(by='MODALIDAD', ascending=True)\n",
    "\n",
    "test8[['MODADLIDAD(B)', 'CONTRATOS(B)', 'VALOR(B)']] = agg_b\n",
    "test8[['MODADLIDAD(S)', 'CONTRATOS(S)', 'VALOR(S)']] = agg_s\n",
    "\n",
    "try:\n",
    "    test8['RT8DC'] = test8['CONTRATOS'] == test8['CONTRATOS(B)']\n",
    "    RT8DC = test8[test8['RT8DC'] == False].shape[0] == 0\n",
    "    test8['RT8DV'] = test8['VALOR'] == test8['VALOR(B)']\n",
    "    RT8DV = test8[test8['RT8DV'] == False].shape[0] == 0\n",
    "except:\n",
    "    RT8DC = False\n",
    "    RT8DV = False\n",
    "    print('Error al validar el proceso de descarga')\n",
    "\n",
    "try:\n",
    "    test8['RT8LC'] = test8['CONTRATOS(S)'] == test8['CONTRATOS(B)']\n",
    "    RT8LC = test8[test8['RT8LC'] == False].shape[0] == 0\n",
    "    test8['RT8LV'] = test8['VALOR(S)'] == test8['VALOR(B)']\n",
    "    RT8LV = test8[test8['RT8LV'] == False].shape[0] == 0\n",
    "except:\n",
    "    RT8LC = False\n",
    "    RT8LV = False\n",
    "    print('Error al validar el proceso de limpieza')\n",
    "    \n",
    "print('Etapa de descarga:')\n",
    "print('Contratos: ', RT8DC)\n",
    "print('Valor: ',     RT8DV)\n",
    "print('---')\n",
    "print('Etapa de limpieza:')\n",
    "print('Contratos: ', RT8LC)\n",
    "print('Valor: ',     RT8LV)"
   ]
  },
  {
   "cell_type": "markdown",
   "metadata": {},
   "source": [
    "## Test 9"
   ]
  },
  {
   "cell_type": "code",
   "execution_count": 12,
   "metadata": {},
   "outputs": [
    {
     "name": "stdout",
     "output_type": "stream",
     "text": [
      "Etapa de descarga:\n",
      "Contratos:  True\n",
      "Valor:  True\n",
      "---\n",
      "Etapa de limpieza:\n",
      "Contratos:  True\n",
      "Valor:  True\n"
     ]
    }
   ],
   "source": [
    "## TOP 20 - CANTIDAD DE CONTRATOS Y VALOR POR ENTIDAD DE LOS MESES DEL 1 AL 6 DEL AÑO 2023\n",
    "# Datos extraidos desde la bodega\n",
    "test9 = pd.read_sql_query(f\"SELECT DISTINCT TOP 20 VALOR.[Nombre Entidad] AS 'ENTIDAD', COUNT(DISTINCT VALOR.ContractReference)\tAS 'CONTRATOS',\tSUM(VALOR.VALOR) AS 'VALOR' FROM (SELECT DISTINCT V.ContractReference, V.[Nombre Entidad], MAX(V.ContractValue) AS VALOR FROM [CCE_Reports].SECOPII.V_HistoricoContratos_Depurado V WHERE YEAR(V.AprovalDate) = {year} AND MONTH(V.AprovalDate) IN ({months}) AND V.ContractState NOT IN ('Borrador','Cancelado','En aprobación','enviado Proveedor')  AND [Código Entidad] = '702271321' GROUP BY ContractReference, V.[Nombre Entidad]) VALOR GROUP BY VALOR.[Nombre Entidad] ORDER BY SUM(VALOR.VALOR) DESC\", cnxn_reports)\n",
    "\n",
    "# Traducción de la consulta (Base bronce)\n",
    "max_value_b = filtered_b.groupby(['ID_Contrato', 'Nombre_Entidad'])['Valor_contrato'].max().reset_index()\n",
    "result_b = max_value_b.groupby('Nombre_Entidad').agg(CONTRATOS=('ID_Contrato', 'count'), VALOR=('Valor_contrato', 'sum')).reset_index()\n",
    "result_b = result_b.sort_values(by='VALOR', ascending=False)\n",
    "result_b = result_b.head(20)\n",
    "result_b = result_b.rename(columns={'Nombre_Entidad': 'ENTIDAD', 'CONTRATOS': 'CONTRATOS', 'VALOR': 'VALOR'})\n",
    "\n",
    "# Traducción de la consulta (Base silver)\n",
    "max_value_s = filtered_s.groupby(['ID_Contrato', 'Nombre_Entidad'])['Valor_contrato'].max().reset_index()\n",
    "result_s = max_value_s.groupby('Nombre_Entidad').agg(CONTRATOS=('ID_Contrato', 'count'), VALOR=('Valor_contrato', 'sum')).reset_index()\n",
    "result_s = result_s.sort_values(by='VALOR', ascending=False)\n",
    "result_s = result_s.head(20)\n",
    "result_s = result_s.rename(columns={'Nombre_Entidad': 'ENTIDAD', 'CONTRATOS': 'CONTRATOS', 'VALOR': 'VALOR'})\n",
    "\n",
    "test9[['ENTIDAD(B)', 'CONTRATOS(B)', 'VALOR(B)']] = result_b\n",
    "test9[['ENTIDAD(S)', 'CONTRATOS(S)', 'VALOR(S)']] = result_s\n",
    "\n",
    "try:\n",
    "    RT9DC = int(test9['CONTRATOS'])    == int(test9['CONTRATOS(B)'])\n",
    "    RT9DV = int(test9['VALOR'])        == int(test9['VALOR(B)'])\n",
    "except:\n",
    "    RT9DC = False\n",
    "    RT9DV = False\n",
    "    print('Error al validar el proceso de descarga')\n",
    "\n",
    "try:\n",
    "    RT9LC = int(test9['CONTRATOS(B)']) == int(test9['CONTRATOS(S)'])\n",
    "    RT9LV = int(test9['VALOR(B)'])     == int(test9['VALOR(S)'])\n",
    "except:\n",
    "    RT9LC = False\n",
    "    RT9LV = False\n",
    "    print('Error al validar el proceso de limpieza')\n",
    "    \n",
    "print('Etapa de descarga:')\n",
    "print('Contratos: ', RT9DC)\n",
    "print('Valor: ',     RT9DV)\n",
    "print('---')\n",
    "print('Etapa de limpieza:')\n",
    "print('Contratos: ', RT9LC)\n",
    "print('Valor: ',     RT9LV)"
   ]
  },
  {
   "cell_type": "markdown",
   "metadata": {},
   "source": [
    "## Resultados"
   ]
  },
  {
   "cell_type": "code",
   "execution_count": 13,
   "metadata": {},
   "outputs": [
    {
     "name": "stdout",
     "output_type": "stream",
     "text": [
      "Test 1:  Descarga: True Limpieza: True\n",
      "Test 2:  Descarga: True Limpieza: True\n",
      "Test 3:  Descarga: True Limpieza: False\n",
      "Test 4:  Descarga: False Limpieza: True\n",
      "Test 5:  Descarga: True Limpieza: True\n",
      "Test 6:  Descarga: True Limpieza: True\n",
      "Test 7:  Descarga: False Limpieza: True\n",
      "Test 8:  Descarga: True Limpieza: True\n",
      "Test 9:  Descarga: True Limpieza: True\n"
     ]
    }
   ],
   "source": [
    "print('Test 1: ','Descarga:', RT1DC == True and RT1DV == True, 'Limpieza:', RT1LC == True and RT1LV == True)\n",
    "print('Test 2: ','Descarga:', RT2DC == True and RT2DV == True, 'Limpieza:', RT2LC == True and RT2LV == True)\n",
    "print('Test 3: ','Descarga:', RT3DC == True and RT3DV == True, 'Limpieza:', RT3LC == True and RT3LV == True)\n",
    "print('Test 4: ','Descarga:', RT4DC == True and RT4DV == True, 'Limpieza:', RT4LC == True and RT4LV == True)\n",
    "print('Test 5: ','Descarga:', RT5DC == True and RT5DV == True, 'Limpieza:', RT5LC == True and RT5LV == True)\n",
    "print('Test 6: ','Descarga:', RT6DC == True and RT6DV == True, 'Limpieza:', RT6LC == True and RT6LV == True)\n",
    "print('Test 7: ','Descarga:', RT7DC == True and RT7DV == True, 'Limpieza:', RT7LC == True and RT7LV == True)\n",
    "print('Test 8: ','Descarga:', RT8DC == True and RT8DV == True, 'Limpieza:', RT8LC == True and RT8LV == True)\n",
    "print('Test 9: ','Descarga:', RT9DC == True and RT9DV == True, 'Limpieza:', RT9LC == True and RT9LV == True)"
   ]
  },
  {
   "cell_type": "code",
   "execution_count": 14,
   "metadata": {},
   "outputs": [
    {
     "data": {
      "text/html": [
       "<div>\n",
       "<style scoped>\n",
       "    .dataframe tbody tr th:only-of-type {\n",
       "        vertical-align: middle;\n",
       "    }\n",
       "\n",
       "    .dataframe tbody tr th {\n",
       "        vertical-align: top;\n",
       "    }\n",
       "\n",
       "    .dataframe thead th {\n",
       "        text-align: right;\n",
       "    }\n",
       "</style>\n",
       "<table border=\"1\" class=\"dataframe\">\n",
       "  <thead>\n",
       "    <tr style=\"text-align: right;\">\n",
       "      <th></th>\n",
       "      <th>MODALIDAD</th>\n",
       "      <th>CONTRATOS</th>\n",
       "      <th>VALOR</th>\n",
       "      <th>MODALIDAD(B)</th>\n",
       "      <th>CONTRATOS(B)</th>\n",
       "      <th>VALOR(B)</th>\n",
       "      <th>MODALIDAD(S)</th>\n",
       "      <th>CONTRATOS(S)</th>\n",
       "      <th>VALOR(S)</th>\n",
       "      <th>RT4DC</th>\n",
       "      <th>RT4DV</th>\n",
       "      <th>RT4LC</th>\n",
       "      <th>RT4LV</th>\n",
       "    </tr>\n",
       "  </thead>\n",
       "  <tbody>\n",
       "    <tr>\n",
       "      <th>4</th>\n",
       "      <td>Compraventa</td>\n",
       "      <td>84</td>\n",
       "      <td>21221676939</td>\n",
       "      <td>Compraventa</td>\n",
       "      <td>84</td>\n",
       "      <td>21221676939</td>\n",
       "      <td>Compraventa</td>\n",
       "      <td>84</td>\n",
       "      <td>21221676939</td>\n",
       "      <td>True</td>\n",
       "      <td>False</td>\n",
       "      <td>True</td>\n",
       "      <td>True</td>\n",
       "    </tr>\n",
       "    <tr>\n",
       "      <th>6</th>\n",
       "      <td>DecreeLaw092/2017</td>\n",
       "      <td>4478</td>\n",
       "      <td>364411113427</td>\n",
       "      <td>DecreeLaw092/2017</td>\n",
       "      <td>4478</td>\n",
       "      <td>364411113427</td>\n",
       "      <td>DecreeLaw092/2017</td>\n",
       "      <td>4478</td>\n",
       "      <td>364411113427</td>\n",
       "      <td>True</td>\n",
       "      <td>False</td>\n",
       "      <td>True</td>\n",
       "      <td>True</td>\n",
       "    </tr>\n",
       "  </tbody>\n",
       "</table>\n",
       "</div>"
      ],
      "text/plain": [
       "           MODALIDAD  CONTRATOS        VALOR       MODALIDAD(B)  CONTRATOS(B)  \\\n",
       "4        Compraventa         84  21221676939        Compraventa            84   \n",
       "6  DecreeLaw092/2017       4478 364411113427  DecreeLaw092/2017          4478   \n",
       "\n",
       "      VALOR(B)       MODALIDAD(S)  CONTRATOS(S)     VALOR(S)  RT4DC  RT4DV  \\\n",
       "4  21221676939        Compraventa            84  21221676939   True  False   \n",
       "6 364411113427  DecreeLaw092/2017          4478 364411113427   True  False   \n",
       "\n",
       "   RT4LC  RT4LV  \n",
       "4   True   True  \n",
       "6   True   True  "
      ]
     },
     "execution_count": 14,
     "metadata": {},
     "output_type": "execute_result"
    }
   ],
   "source": [
    "test4[test4['RT4DV'] == False]"
   ]
  },
  {
   "cell_type": "code",
   "execution_count": 15,
   "metadata": {},
   "outputs": [
    {
     "data": {
      "text/html": [
       "<div>\n",
       "<style scoped>\n",
       "    .dataframe tbody tr th:only-of-type {\n",
       "        vertical-align: middle;\n",
       "    }\n",
       "\n",
       "    .dataframe tbody tr th {\n",
       "        vertical-align: top;\n",
       "    }\n",
       "\n",
       "    .dataframe thead th {\n",
       "        text-align: right;\n",
       "    }\n",
       "</style>\n",
       "<table border=\"1\" class=\"dataframe\">\n",
       "  <thead>\n",
       "    <tr style=\"text-align: right;\">\n",
       "      <th></th>\n",
       "      <th>MODALIDAD</th>\n",
       "      <th>CONTRATOS</th>\n",
       "      <th>VALOR</th>\n",
       "      <th>MODALIDAD(B)</th>\n",
       "      <th>CONTRATOS(B)</th>\n",
       "      <th>VALOR(B)</th>\n",
       "      <th>MODALIDAD(S)</th>\n",
       "      <th>CONTRATOS(S)</th>\n",
       "      <th>VALOR(S)</th>\n",
       "      <th>RT7DC</th>\n",
       "      <th>RT7DV</th>\n",
       "      <th>RT7LC</th>\n",
       "      <th>RT7LV</th>\n",
       "    </tr>\n",
       "  </thead>\n",
       "  <tbody>\n",
       "    <tr>\n",
       "      <th>0</th>\n",
       "      <td>None</td>\n",
       "      <td>1</td>\n",
       "      <td>46998900</td>\n",
       "      <td>Contratación directa</td>\n",
       "      <td>1256</td>\n",
       "      <td>52248681191</td>\n",
       "      <td>contratacion directa</td>\n",
       "      <td>1256</td>\n",
       "      <td>52248681191</td>\n",
       "      <td>False</td>\n",
       "      <td>False</td>\n",
       "      <td>True</td>\n",
       "      <td>True</td>\n",
       "    </tr>\n",
       "    <tr>\n",
       "      <th>1</th>\n",
       "      <td>Contratación directa</td>\n",
       "      <td>1256</td>\n",
       "      <td>52248681191</td>\n",
       "      <td>Contratación régimen especial</td>\n",
       "      <td>1</td>\n",
       "      <td>200749195</td>\n",
       "      <td>contratacion regimen especial</td>\n",
       "      <td>1</td>\n",
       "      <td>200749195</td>\n",
       "      <td>False</td>\n",
       "      <td>False</td>\n",
       "      <td>True</td>\n",
       "      <td>True</td>\n",
       "    </tr>\n",
       "    <tr>\n",
       "      <th>2</th>\n",
       "      <td>Contratación régimen especial</td>\n",
       "      <td>1</td>\n",
       "      <td>200749195</td>\n",
       "      <td>NaN</td>\n",
       "      <td>NaN</td>\n",
       "      <td>NaN</td>\n",
       "      <td>NaN</td>\n",
       "      <td>NaN</td>\n",
       "      <td>NaN</td>\n",
       "      <td>False</td>\n",
       "      <td>False</td>\n",
       "      <td>False</td>\n",
       "      <td>False</td>\n",
       "    </tr>\n",
       "  </tbody>\n",
       "</table>\n",
       "</div>"
      ],
      "text/plain": [
       "                       MODALIDAD  CONTRATOS       VALOR  \\\n",
       "0                           None          1    46998900   \n",
       "1           Contratación directa       1256 52248681191   \n",
       "2  Contratación régimen especial          1   200749195   \n",
       "\n",
       "                    MODALIDAD(B)  CONTRATOS(B)    VALOR(B)  \\\n",
       "0           Contratación directa          1256 52248681191   \n",
       "1  Contratación régimen especial             1   200749195   \n",
       "2                            NaN           NaN         NaN   \n",
       "\n",
       "                    MODALIDAD(S)  CONTRATOS(S)    VALOR(S)  RT7DC  RT7DV  \\\n",
       "0           contratacion directa          1256 52248681191  False  False   \n",
       "1  contratacion regimen especial             1   200749195  False  False   \n",
       "2                            NaN           NaN         NaN  False  False   \n",
       "\n",
       "   RT7LC  RT7LV  \n",
       "0   True   True  \n",
       "1   True   True  \n",
       "2  False  False  "
      ]
     },
     "execution_count": 15,
     "metadata": {},
     "output_type": "execute_result"
    }
   ],
   "source": [
    "test7"
   ]
  },
  {
   "cell_type": "code",
   "execution_count": 16,
   "metadata": {},
   "outputs": [
    {
     "data": {
      "text/plain": [
       "6   0\n",
       "dtype: float64"
      ]
     },
     "execution_count": 16,
     "metadata": {},
     "output_type": "execute_result"
    }
   ],
   "source": [
    "test4[test4['MODALIDAD'] == 'DecreeLaw092/2017']['VALOR'] - test4[test4['MODALIDAD'] == 'DecreeLaw092/2017']['VALOR(B)']"
   ]
  },
  {
   "cell_type": "code",
   "execution_count": null,
   "metadata": {},
   "outputs": [],
   "source": []
  }
 ],
 "metadata": {
  "kernelspec": {
   "display_name": "base",
   "language": "python",
   "name": "python3"
  },
  "language_info": {
   "codemirror_mode": {
    "name": "ipython",
    "version": 3
   },
   "file_extension": ".py",
   "mimetype": "text/x-python",
   "name": "python",
   "nbconvert_exporter": "python",
   "pygments_lexer": "ipython3",
   "version": "3.11.2"
  },
  "orig_nbformat": 4
 },
 "nbformat": 4,
 "nbformat_minor": 2
}
