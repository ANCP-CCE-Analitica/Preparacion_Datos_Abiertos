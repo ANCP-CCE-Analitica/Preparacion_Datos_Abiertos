{
 "cells": [
  {
   "cell_type": "markdown",
   "metadata": {},
   "source": [
    "<div style=\"\n",
    "  padding: 30px;\n",
    "  text-align: center;\" class='row'>\n",
    "<div style=\"float:left;width: 15%;\" class='column'><a href=\"https://www.colombiacompra.gov.co\"><img alt=\"Logo Colombia Compra Eficiente\" id=\"logocce\" src=\"https://www.colombiacompra.gov.co/sites/cce_public/files/files_2020/cce-color.png\" style=\"height: 45px;\"></a></div>\n",
    "    <div style=\"float:left;width: 70%;\" class='column'>\n",
    "        <h1> Pipeline de Datos de Contratación Pública\n",
    "        </h1> \n",
    "    </div>\n",
    "<div style=\"float:left;width: 15%;\" class='column'><a href=\"https://www.dnp.gov.co/\" target=\"_blank\"><img class=\"float-right\" id=\"logodnp\" src=\"https://www.dnp.gov.co/img/logoNuevo.jpg\" style=\"width: 200px;\"></a></div>\n",
    "</div>"
   ]
  },
  {
   "cell_type": "markdown",
   "metadata": {},
   "source": [
    "## 1. IDENTIFICACIÓN DEL INSUMO\n",
    "\n",
    "|||\n",
    "|:--|:--|\n",
    "|**Fecha**|Septiembre 2023|\n",
    "|**Ciudad**|Bogotá D.C.|\n",
    "|**Esquema de presentación del insumo**|Cuaderno Jupyter|\n",
    "|**Título del insumo**| **Pipeline de Datos de Contratación Pública**|\n",
    "|**Descripción y alcance**|Notebook para la limpieza y validación de los datos de la base unificada.|\n",
    "|**Periodicidad del insumo**|único|\n",
    "|**Solicitante**|No aplica|\n",
    "|**Versión del insumo**|Final|"
   ]
  },
  {
   "cell_type": "markdown",
   "metadata": {},
   "source": [
    "## 2. DESTINO Y AUTORES DEL INFORME / INSUMO\n",
    "\n",
    "|||\n",
    "|:--|:--|\n",
    "|**Destinatario**|<table align='left'><tr><td>*Nombre:*</td> <td>Equipo analítica EMAE</td></tr> <tr><td>*Cargo:*</td> <td>NA</td></tr>  <tr><td>*Área:*</td> <td>Subdirección de estudios de Mercado y Abastecimiento Estratégico – EMAE</td></tr></table>|\n",
    "|**Autores**|<table><tr><td>*Nombre:*</td> <td>Equipo de Datos - GAEC</td></tr><tr><td>*Área:*</td> <td>Subdirección de estudios de Mercado y Abastecimiento Estratégico – EMAE.</td></tr></table>|\n",
    "|**Aprobación**|<table><tr><td>*Nombre:*</td> <td>Maria del Pilar Suarez Sebastian</td></tr> <tr><td>*Cargo:*</td> <td>Subdirectora Estudios de Mercado y Abastecimiento Estratégico</td></tr>  <tr><td>*Área:*</td> <td>Subdirección de estudios de Mercado y Abastecimiento Estratégico – EMAE.</td></tr></table>|"
   ]
  },
  {
   "cell_type": "markdown",
   "metadata": {},
   "source": [
    "# Introducción\n",
    "\n",
    "En este notebook, nos centraremos en la limpieza y preprocesamiento de los datos obtenidos de la base de contratos del Sistema Electrónico para la Contratación Pública (SECOP) I y II de Colombia. Los conjuntos de datos con los que estamos trabajando contienen una variedad de información sobre contratos públicos, desde sus detalles operativos hasta sus atributos financieros.\n",
    "\n",
    "El objetivo principal de este ejercicio es preparar estos conjuntos de datos para análisis posteriores. Esta preparación incluye una serie de pasos que asegurarán que los datos estén en el formato correcto y sean consistentes, comprensibles y confiables.\n",
    "\n",
    "Cargamos la base previamente descargada y con las variables unificadas entre los conjuntos de datos de cada fuente para asegurar que la misma información se represente de manera coherente en los mismos. Esto puede incluir el mapeo de categorías equivalentes entre los conjuntos de datos y la armonización entre variables y sus nombres.\n",
    "\n",
    "A continuación, estandarizaremos los datos para garantizar que todas las variables se presenten en un formato uniforme. Este proceso puede involucrar la normalización de texto, la conversión de datos categóricos en formatos numéricos y la manipulación de fechas y tiempos para que se presenten de manera consistente.\n",
    "\n",
    "Una parte crucial de este trabajo implica limpiar los datos de elementos no deseados. Esto implica quitar espacios extra, eliminar caracteres especiales y, en general, asegurarnos de que los datos sean lo más limpios y precisos posible.\n",
    "\n",
    "Además, verificaremos los tipos de variables en nuestros conjuntos de datos para asegurarnos de que sean apropiados para el tipo de datos que contienen. Esto podría implicar la conversión de datos numéricos almacenados como texto en números reales, o viceversa.\n",
    "\n",
    "Comprobaremos si hay registros duplicados en nuestros conjuntos de datos. Si existen, los almacenaremos para realizar la validación y evitar cualquier sesgo o inexactitud en los análisis posteriores.\n",
    "\n",
    "Finalmente, validaremos la cantidad de valores nulos y los valores negativos en la variable de cantidad de contrato. En el caso de los valores nulos, decidiremos si tienen coherencia, dependiendo del contexto. Los valores negativos, si no tienen sentido en el contexto de nuestro análisis, serán almacenados y validados desde la descarga de los datos.\n",
    "\n",
    "Al final de este proceso, tendremos un conjunto de datos limpio y de alta calidad que estará listo para ser utilizado en futuros análisis y modelado de datos."
   ]
  },
  {
   "cell_type": "markdown",
   "metadata": {},
   "source": [
    "## Cargue del archivo parquet\n",
    "\n",
    "### Cargue de librerías\n",
    "\n",
    "En esta sección se cargan las librerías necesarias para el desarrollo del script y se establecen los parámetros de trabajo."
   ]
  },
  {
   "cell_type": "code",
   "execution_count": 1,
   "metadata": {
    "scrolled": true
   },
   "outputs": [],
   "source": [
    "### Paquetes usados para la exploración de datos\n",
    "\n",
    "import re\n",
    "import pandas as pd\n",
    "import numpy as np\n",
    "# import matplotlib.pyplot as pltk\n",
    "import datetime as dt\n",
    "# import unidecode\n",
    "# from dataprep.clean import clean_duplication\n",
    "import warnings\n",
    "warnings.filterwarnings('ignore')\n",
    "\n",
    "# Librerías creadas para la construcción del maestro\n",
    "from libreria import data_management as dm\n",
    "from libreria import entity_management as em"
   ]
  },
  {
   "cell_type": "code",
   "execution_count": 3,
   "metadata": {},
   "outputs": [],
   "source": [
    "# years = ['2020', '2021', '2022', '2023']\n",
    "years = ['2023']\n",
    "SECOP = {}\n",
    "\n",
    "for year in years:\n",
    "    SECOP[year] = pd.read_csv(f'../../../muestras de datos/procesados/bronce/SECOP_{year}.csv', sep=';')\n",
    "# for year in years:\n",
    "#     SECOP[year] = pd.read_csv(f'../../../muestras de datos/procesados/silver/SECOP_{year}_pre.csv', sep=';')"
   ]
  },
  {
   "cell_type": "code",
   "execution_count": 4,
   "metadata": {},
   "outputs": [
    {
     "data": {
      "text/plain": [
       "(1307189, 27)"
      ]
     },
     "execution_count": 4,
     "metadata": {},
     "output_type": "execute_result"
    }
   ],
   "source": [
    "SECOP[year].shape"
   ]
  },
  {
   "cell_type": "markdown",
   "metadata": {},
   "source": [
    "## Actualización del maestro de entidades "
   ]
  },
  {
   "cell_type": "code",
   "execution_count": 5,
   "metadata": {},
   "outputs": [],
   "source": [
    "# Se carga el maestro de entidades\n",
    "entity_master = pd.read_excel(f'../../../muestras de datos/procesados/silver/maestro_entidades.xlsx')\n",
    "\n",
    "for year in years:\n",
    "    SECOP[year] = SECOP[year].rename(columns={'ID_Entidad': 'ID_SECOP', 'Nombre_Entidad': 'ENTIDAD', 'NIT_Entidad': 'NIT', 'Orden_Entidad': 'ORDEN', \n",
    "                                              'Departamento_Entidad': 'DEPARTAMENTO', 'Municipio_Entidad': 'MUNICIPIO'})\n",
    "    \n",
    "    # Se separan las entidades que no tienen nombre de las que sí para evitar registros nulos sobre el maestro de entidades\n",
    "    con_entidad = SECOP[year][~(SECOP[year]['ENTIDAD'].isna())]\n",
    "    sin_entidad = SECOP[year][SECOP[year]['ENTIDAD'].isna()]\n",
    "\n",
    "    con_entidad['ENTIDAD'] = con_entidad['ENTIDAD'].astype(str)\n",
    "    con_entidad['ENTIDAD'] = con_entidad['ENTIDAD'].apply(dm.remove_extra_punct)\n",
    "    # Se quitan los digitos de verificacion que se pueden identificar por el guion\n",
    "    con_entidad['NIT'] = con_entidad['NIT'].str.extract(r'(\\d+)-?\\d*')\n",
    "    # Se relacionan las entidades de los contratos y se actualiza simultaneamente el maestro de entidades\n",
    "    con_entidad = em.update_entity_master(con_entidad, entity_master)\n",
    "    # Se eliminan las columnas innecesarias sobre el maestro de contratos ya que los registros se podrán relacionar con el maestro de entidades por el campo ID_ENTIDAD\n",
    "    con_entidad = con_entidad.drop(columns=['ID_SECOP', 'ENTIDAD', 'NIT', 'ORDEN', 'DEPARTAMENTO', 'MUNICIPIO'])\n",
    "    sin_entidad = sin_entidad.drop(columns=['ID_SECOP', 'ENTIDAD', 'NIT', 'ORDEN', 'DEPARTAMENTO', 'MUNICIPIO'])\n",
    "\n",
    "    con_entidad = con_entidad.rename(columns={'ID': 'ID_ENTIDAD'})\n",
    "    sin_entidad['ID_ENTIDAD'] = -1 # Se marcan con -1 los ID_ENTIDAD de los contratos que no tienen entidad registrada\n",
    "\n",
    "    # Se guardan los registros en el maestro de contratos\n",
    "    SECOP[year] = pd.concat([con_entidad, sin_entidad])"
   ]
  },
  {
   "cell_type": "code",
   "execution_count": 6,
   "metadata": {},
   "outputs": [],
   "source": [
    "for year in years:\n",
    "    SECOP[year].to_csv(f'../../../muestras de datos/procesados/silver/SECOP_{year}_pre.csv', sep=';')"
   ]
  },
  {
   "cell_type": "markdown",
   "metadata": {},
   "source": [
    "Validación tipos de variables"
   ]
  },
  {
   "cell_type": "code",
   "execution_count": 7,
   "metadata": {},
   "outputs": [],
   "source": [
    "def clean_dates(date):\n",
    "    if pd.isna(date):\n",
    "        return None  # Si la fecha es nula, devuelve nulo\n",
    "    try:\n",
    "        return pd.to_datetime(date, errors='ignore').strftime('%d-%m-%Y')\n",
    "    except (ValueError, TypeError):\n",
    "        return None"
   ]
  },
  {
   "cell_type": "code",
   "execution_count": 8,
   "metadata": {},
   "outputs": [],
   "source": [
    "for year in years:\n",
    "    SECOP[year]['ID_Contrato'] = SECOP[year]['ID_Contrato'].astype(str)\n",
    "    SECOP[year]['ID_Proceso'] = SECOP[year]['ID_Proceso'].astype(str)\n",
    "    SECOP[year]['Modalidad'] = SECOP[year]['Modalidad'].astype(str)\n",
    "    SECOP[year]['Estado'] = SECOP[year]['Estado'].astype(str)\n",
    "    SECOP[year]['Descripcion_proceso'] = SECOP[year]['Descripcion_proceso'].astype(str)\n",
    "    SECOP[year]['Objeto_Contrato'] = SECOP[year]['Objeto_Contrato'].astype(str)\n",
    "    SECOP[year]['UNSPSC'] = SECOP[year]['UNSPSC'].astype(str)\n",
    "    SECOP[year]['Nombre_Proveedor'] = SECOP[year]['Nombre_Proveedor'].astype(str)\n",
    "    SECOP[year]['Documento_Proveedor'] = SECOP[year]['Documento_Proveedor'].astype(str)\n",
    "    SECOP[year]['Tipo_proveedor'] = SECOP[year]['Tipo_proveedor'].astype(str)\n",
    "    SECOP[year]['Departamento_Proveedor'] = SECOP[year]['Departamento_Proveedor'].astype(str)\n",
    "    SECOP[year]['Municipio_Proveedor'] = SECOP[year]['Municipio_Proveedor'].astype(str)\n",
    "    SECOP[year]['Link'] = SECOP[year]['Link'].astype(str)\n",
    "\n",
    "    SECOP[year]['Valor_contrato'] = SECOP[year]['Valor_contrato'].astype(float)\n",
    "\n",
    "    SECOP[year]['Fecha_firma'] = pd.to_datetime(SECOP[year]['Fecha_firma'], format='mixed')\n",
    "    # SECOP[year]['Fecha_inicio_contrato'] = SECOP[year]['Fecha_inicio_contrato'].apply(clean_dates)\n",
    "    # SECOP[year]['Fecha_fin_contrato'] = SECOP[year]['Fecha_fin_contrato'].apply(clean_dates)"
   ]
  },
  {
   "cell_type": "code",
   "execution_count": 9,
   "metadata": {},
   "outputs": [],
   "source": [
    "def replace_nan(value):\n",
    "    if value == 'nan':\n",
    "        return ''\n",
    "    return value"
   ]
  },
  {
   "cell_type": "code",
   "execution_count": 10,
   "metadata": {},
   "outputs": [],
   "source": [
    "for year in years:\n",
    "    SECOP[year]['ID_Contrato'] = SECOP[year]['ID_Contrato'].apply(replace_nan)\n",
    "    SECOP[year]['ID_Proceso'] = SECOP[year]['ID_Proceso'].apply(replace_nan)\n",
    "    SECOP[year]['Modalidad'] = SECOP[year]['Modalidad'].apply(replace_nan)\n",
    "    SECOP[year]['Estado'] = SECOP[year]['Estado'].apply(replace_nan)\n",
    "    SECOP[year]['Descripcion_proceso'] = SECOP[year]['Descripcion_proceso'].apply(replace_nan)\n",
    "    SECOP[year]['Objeto_Contrato'] = SECOP[year]['Objeto_Contrato'].apply(replace_nan)\n",
    "    SECOP[year]['UNSPSC'] = SECOP[year]['UNSPSC'].apply(replace_nan)\n",
    "    SECOP[year]['Nombre_Proveedor'] = SECOP[year]['Nombre_Proveedor'].apply(replace_nan)\n",
    "    SECOP[year]['Documento_Proveedor'] = SECOP[year]['Documento_Proveedor'].apply(replace_nan)\n",
    "    SECOP[year]['Tipo_proveedor'] = SECOP[year]['Tipo_proveedor'].apply(replace_nan)\n",
    "    SECOP[year]['Departamento_Proveedor'] = SECOP[year]['Departamento_Proveedor'].apply(replace_nan)\n",
    "    SECOP[year]['Municipio_Proveedor'] = SECOP[year]['Municipio_Proveedor'].apply(replace_nan)\n",
    "    SECOP[year]['Link'] = SECOP[year]['Link'].apply(replace_nan)"
   ]
  },
  {
   "cell_type": "markdown",
   "metadata": {},
   "source": [
    "Tratamiento de espacios y caracteres especiales"
   ]
  },
  {
   "cell_type": "code",
   "execution_count": 11,
   "metadata": {},
   "outputs": [],
   "source": [
    "for year in years:\n",
    "    SECOP[year]['Modalidad'] = SECOP[year]['Modalidad'].apply(dm.remove_extra_punct)\n",
    "    SECOP[year]['Estado'] = SECOP[year]['Estado'].apply(dm.remove_extra_punct)\n",
    "    SECOP[year]['Descripcion_proceso'] = SECOP[year]['Descripcion_proceso'].apply(dm.remove_extra_punct)\n",
    "    SECOP[year]['Objeto_Contrato'] = SECOP[year]['Objeto_Contrato'].apply(dm.remove_extra_punct)\n",
    "    SECOP[year]['Nombre_Proveedor'] = SECOP[year]['Nombre_Proveedor'].apply(dm.remove_extra_punct) \n",
    "    SECOP[year]['Departamento_Proveedor'] = SECOP[year]['Departamento_Proveedor'].apply(dm.remove_extra_punct)\n",
    "    SECOP[year]['Municipio_Proveedor'] = SECOP[year]['Municipio_Proveedor'].apply(dm.remove_extra_punct)"
   ]
  },
  {
   "cell_type": "markdown",
   "metadata": {},
   "source": [
    "Tratamiento de espacios con strip"
   ]
  },
  {
   "cell_type": "code",
   "execution_count": 12,
   "metadata": {},
   "outputs": [],
   "source": [
    "for year in years:\n",
    "    SECOP[year]['ID_Contrato'] = SECOP[year]['ID_Contrato'].str.strip()\n",
    "    SECOP[year]['ID_Proceso'] = SECOP[year]['ID_Proceso'].str.strip()\n",
    "    SECOP[year]['Modalidad'] = SECOP[year]['Modalidad'].str.strip()\n",
    "    SECOP[year]['Estado'] = SECOP[year]['Estado'].str.strip()\n",
    "    SECOP[year]['Descripcion_proceso'] = SECOP[year]['Descripcion_proceso'].str.strip()\n",
    "    SECOP[year]['Objeto_Contrato'] = SECOP[year]['Objeto_Contrato'].str.strip()\n",
    "    SECOP[year]['Nombre_Proveedor'] = SECOP[year]['Nombre_Proveedor'].str.strip()\n",
    "    SECOP[year]['Departamento_Proveedor'] = SECOP[year]['Departamento_Proveedor'].str.strip()\n",
    "    SECOP[year]['Municipio_Proveedor'] = SECOP[year]['Municipio_Proveedor'].str.strip()"
   ]
  },
  {
   "cell_type": "markdown",
   "metadata": {},
   "source": [
    "Estandarización de las modalidades"
   ]
  },
  {
   "cell_type": "code",
   "execution_count": 13,
   "metadata": {},
   "outputs": [],
   "source": [
    "for year in years:\n",
    "    SECOP[year][\"Modalidad Estandar\"] = SECOP[year]['Modalidad'].apply(dm.Tipo_Proceso)\n",
    "    SECOP[year][\"Grupo Modalidad\"] = SECOP[year][\"Modalidad Estandar\"].apply(dm.Grupo_Modalidad)"
   ]
  },
  {
   "cell_type": "markdown",
   "metadata": {},
   "source": [
    "Arreglo sobre estado"
   ]
  },
  {
   "cell_type": "code",
   "execution_count": 14,
   "metadata": {},
   "outputs": [],
   "source": [
    "estado_contractual = {\n",
    "    'modificado': 'Modificado',\n",
    "    'celebrado': 'Celebrado',\n",
    "    'terminado': 'Terminado',\n",
    "    'liquidado': 'Liquidado',\n",
    "    'cerrado': 'Cerrado',\n",
    "    'activo': 'Activo',\n",
    "    'cedido': 'Cedido',\n",
    "    'suspendido': 'Suspendido',\n",
    "    'convocado': 'Convocado',\n",
    "    'terminado liquidar': 'Terminado liquidar',\n",
    "    'terminado anormalmente despues convocado': 'Terminado anormalmente despues convocado',\n",
    "    'terminado': 'Terminado',\n",
    "    'ejecución': 'En ejecución',\n",
    "    'cancelado': 'Cancelado',\n",
    "    'enviado proveedor': 'Enviado proveedor'\n",
    "}\n",
    "\n",
    "for year in years:\n",
    "    SECOP[year]['Estado'] = SECOP[year]['Estado'].replace(estado_contractual)"
   ]
  },
  {
   "cell_type": "code",
   "execution_count": 15,
   "metadata": {},
   "outputs": [
    {
     "data": {
      "text/plain": [
       "Estado\n",
       "Celebrado             393023\n",
       "Liquidado              99097\n",
       "Terminado liquidar     13877\n",
       "                        9604\n",
       "ejecucion               9190\n",
       "Modificado              8575\n",
       "Activo                  2038\n",
       "Terminado               1334\n",
       "Convocado                654\n",
       "Cerrado                  347\n",
       "adjudicado               209\n",
       "Cedido                   132\n",
       "Suspendido                49\n",
       "Cancelado                  2\n",
       "Name: count, dtype: int64"
      ]
     },
     "execution_count": 15,
     "metadata": {},
     "output_type": "execute_result"
    }
   ],
   "source": [
    "SECOP[year]['Estado'].value_counts()"
   ]
  },
  {
   "cell_type": "markdown",
   "metadata": {},
   "source": [
    "Arreglo sobre UNSPSC:\n",
    "\n",
    "1. Separación por segmento, familia, clase y producto"
   ]
  },
  {
   "cell_type": "code",
   "execution_count": 16,
   "metadata": {},
   "outputs": [],
   "source": [
    "for year in years:\n",
    "    SECOP[year]['UNSPSC'] = SECOP[year]['UNSPSC'].str.replace('V1', '')\n",
    "    SECOP[year]['UNSPSC'] = SECOP[year]['UNSPSC'].str.replace('.0', '')\n",
    "    SECOP[year]['UNSPSC'] = SECOP[year]['UNSPSC'].str.replace('UNSPECIFIED', '')\n",
    "    SECOP[year]['UNSPSC'] = SECOP[year]['UNSPSC'].str.replace('.', '')\n",
    "    if SECOP[year]['UNSPSC'].str != '':\n",
    "        SECOP[year]['SEGMENTO_UNSPSC'] = SECOP[year]['UNSPSC'].str[:2]\n",
    "        SECOP[year]['FAMILIA_UNSPSC'] = SECOP[year]['UNSPSC'].str[2:4]\n",
    "        SECOP[year]['CLASE_UNSPSC'] = SECOP[year]['UNSPSC'].str[4:6]\n",
    "        SECOP[year]['PRODUCTO_UNSPSC'] = SECOP[year]['UNSPSC'].str[6:]"
   ]
  },
  {
   "cell_type": "markdown",
   "metadata": {},
   "source": [
    "Arreglo sobre Departamento_Entidad y Departamento_Proveedor"
   ]
  },
  {
   "cell_type": "code",
   "execution_count": 17,
   "metadata": {},
   "outputs": [],
   "source": [
    "for year in years:\n",
    "    SECOP[year]['Departamento_Proveedor'] = SECOP[year]['Departamento_Proveedor'].str.replace('bogota d.c .', 'bogota d.c.')\n",
    "    SECOP[year]['Departamento_Proveedor'] = SECOP[year]['Departamento_Proveedor'].str.replace('distrito capital bogota', 'bogota d.c.')"
   ]
  },
  {
   "cell_type": "code",
   "execution_count": 18,
   "metadata": {},
   "outputs": [],
   "source": [
    "for year in years:\n",
    "    SECOP[year].to_csv(f'../../../muestras de datos/procesados/silver/SECOP_{year}.csv', index=False, sep=';')"
   ]
  },
  {
   "cell_type": "code",
   "execution_count": 19,
   "metadata": {},
   "outputs": [
    {
     "data": {
      "text/plain": [
       "(538131, 28)"
      ]
     },
     "execution_count": 19,
     "metadata": {},
     "output_type": "execute_result"
    }
   ],
   "source": [
    "SECOP[year].shape"
   ]
  },
  {
   "cell_type": "markdown",
   "metadata": {},
   "source": [
    "# Cruce con RUES"
   ]
  },
  {
   "cell_type": "code",
   "execution_count": 19,
   "metadata": {},
   "outputs": [
    {
     "data": {
      "text/plain": [
       "(3598233, 70)"
      ]
     },
     "execution_count": 19,
     "metadata": {},
     "output_type": "execute_result"
    }
   ],
   "source": [
    "df_pnp = pd.read_csv('../../../muestras de datos/sin procesar/ReporteRUES.txt',sep=\"|\", encoding=\"utf-8\", dtype={'CIIU Principal': str})\n",
    "df_pnp.shape"
   ]
  },
  {
   "cell_type": "code",
   "execution_count": 20,
   "metadata": {},
   "outputs": [
    {
     "data": {
      "text/plain": [
       "(3596567, 70)"
      ]
     },
     "execution_count": 20,
     "metadata": {},
     "output_type": "execute_result"
    }
   ],
   "source": [
    "df_pnp_1=df_pnp[df_pnp[\"Cod Estado Matricula\"]==1]\n",
    "df_pnp_1.shape"
   ]
  },
  {
   "cell_type": "markdown",
   "metadata": {},
   "source": [
    "***Observación***: Quedamos con un total de 3'596.567 de registros en la base, de 3'598.233 inicialmente. Lo que nos dice que hemos quitado 1.666 registros. \n",
    "\n",
    "Posteriormente vamos a verificar los `códigos de tamaño` ya que es la información que deseamos tener en la base de contratos del `SECOP` y aparecen algunos con ese campo ***nulo.***"
   ]
  },
  {
   "cell_type": "code",
   "execution_count": 21,
   "metadata": {},
   "outputs": [
    {
     "data": {
      "text/plain": [
       "(3534150, 70)"
      ]
     },
     "execution_count": 21,
     "metadata": {},
     "output_type": "execute_result"
    }
   ],
   "source": [
    "df_pnp_2 = df_pnp_1[~df_pnp_1['CODIGO_TAMANO_EMPRESA'].isnull()]\n",
    "df_pnp_2.shape"
   ]
  },
  {
   "cell_type": "markdown",
   "metadata": {},
   "source": [
    "***Observación:*** Obtenemos un total de 3'534.150 registros, realizando esta depuración. Se quitan 62.417 registros.\n",
    "\n",
    "Procedemos a realizar el procesamiento grueso, en sentido de la limpieza de los `NITS`, este proceso nos arrojará la base final de **RUES** a utilizar para los cruces posteriores."
   ]
  },
  {
   "cell_type": "code",
   "execution_count": 22,
   "metadata": {},
   "outputs": [
    {
     "data": {
      "text/plain": [
       "(3504158, 71)"
      ]
     },
     "execution_count": 22,
     "metadata": {},
     "output_type": "execute_result"
    }
   ],
   "source": [
    "df_pnp_2['Numero de Identificación'] = df_pnp_2['Numero de Identificación'].astype(str)\n",
    "df_pnp_2['NIT']=df_pnp_2['Numero de Identificación'].apply(lambda x: re.sub('[^0-9]','',x))\n",
    "df_pnp_2=df_pnp_2[~df_pnp_2['NIT'].str.contains('00000000|99999999|111111111|222222222|444444444|33333333|55555555|66666666|77777777|88888888')]\n",
    "\n",
    "df_pnp_2.shape"
   ]
  },
  {
   "cell_type": "markdown",
   "metadata": {},
   "source": [
    "***Observación:*** Cerca de 30 mil registros se quitan realizando esta limpieza, dejando una base de 3'504.158. Se va ahora a eliminar los registros según las longitudes de los mismos."
   ]
  },
  {
   "cell_type": "code",
   "execution_count": 23,
   "metadata": {},
   "outputs": [
    {
     "data": {
      "text/plain": [
       "(3402130, 71)"
      ]
     },
     "execution_count": 23,
     "metadata": {},
     "output_type": "execute_result"
    }
   ],
   "source": [
    "df_pnp_2 = df_pnp_2[(df_pnp_2['NIT'].apply(len)<=13) & (df_pnp_2['NIT'].apply(len)>=5)]\n",
    "df_pnp_2.shape"
   ]
  },
  {
   "cell_type": "markdown",
   "metadata": {},
   "source": [
    "***Observación:*** Más de 100 mil NITS se eliminan en este paso, dejando una base de 3'402.130. \n",
    "\n",
    "***Observaciones***: Revisando los `NITS` que se repiten, se evidencia que son empresas distintas pero para el efecto del cruce a lo cual se le quita el código de verificación se trae la información del tamaño y revisando en la mayoría el __tamaño__ sale con el valor de 0, es decir _No definido_. Se procede a eliminar duplicados y dejar la base de **RUES** a este nivel de depuración."
   ]
  },
  {
   "cell_type": "code",
   "execution_count": 24,
   "metadata": {},
   "outputs": [
    {
     "data": {
      "text/plain": [
       "(3396437, 71)"
      ]
     },
     "execution_count": 24,
     "metadata": {},
     "output_type": "execute_result"
    }
   ],
   "source": [
    "df_pnp_2.drop_duplicates(subset=['NIT'],keep='last',inplace=True)\n",
    "df_pnp_2.shape"
   ]
  },
  {
   "cell_type": "code",
   "execution_count": 25,
   "metadata": {},
   "outputs": [],
   "source": [
    "df_pnp_2 = df_pnp_2[['NIT','CIIU Principal','CIIU Secundario', 'CIIU 3', 'CIIU 4', 'ciiu_mayores_ingresos','Cód Cámara', 'Nombre de la Cámara de Comercio',\n",
    "                     'Código Organización Jurídica', 'Descripción de la Organización Jurídica', 'Código del tipo de sociedad', \n",
    "                     'Descripción del Tipo de Sociedad', 'Código Categoría', 'Descripción de la Categoría', 'Cod Estado Matricula', 'Municipio Comercial', \n",
    "                     'Departamento Comercial','CODIGO_TAMANO_EMPRESA', 'Correo Electronico Comercial', 'Correo Electronico Fiscal','Número de Empleados', \n",
    "                     'Genero', 'Cantidad de Mujeres Empleadas', 'Cod Clase Identificación','Razón Social']]"
   ]
  },
  {
   "cell_type": "markdown",
   "metadata": {},
   "source": [
    "***Observaciones:*** Eliminando los `NITS` duplicados para evitar múltiples cruces, nos da una base de __RUES__ depurada con 3'396.437 registros."
   ]
  },
  {
   "cell_type": "markdown",
   "metadata": {},
   "source": [
    "División de datos del SECOP para cruces con RUES"
   ]
  },
  {
   "cell_type": "code",
   "execution_count": 26,
   "metadata": {},
   "outputs": [],
   "source": [
    "for year in years:\n",
    "    SECOP[year]['NEW_NIT'] = SECOP[year]['Documento_Proveedor'].apply(lambda x: re.sub('[^0-9]', '', str(x)))\n",
    "    SECOP[year]['Tamaño_nit']=SECOP[year]['NEW_NIT'].apply(len)"
   ]
  },
  {
   "cell_type": "code",
   "execution_count": 27,
   "metadata": {},
   "outputs": [
    {
     "data": {
      "text/plain": [
       "Estado\n",
       "                      9603\n",
       "Celebrado             3641\n",
       "ejecucion              758\n",
       "Liquidado              652\n",
       "Modificado             216\n",
       "Activo                 210\n",
       "Terminado liquidar     109\n",
       "Terminado               44\n",
       "Cerrado                 43\n",
       "Cedido                   9\n",
       "Convocado                8\n",
       "Suspendido               3\n",
       "Name: count, dtype: int64"
      ]
     },
     "execution_count": 27,
     "metadata": {},
     "output_type": "execute_result"
    }
   ],
   "source": [
    "SECOP[year]['Estado'].value_counts()"
   ]
  },
  {
   "cell_type": "code",
   "execution_count": 28,
   "metadata": {},
   "outputs": [],
   "source": [
    "SECOP_RUES = {}\n",
    "SECOP_NO_RUES = {}\n",
    "\n",
    "condiciones_para_cruce_rues = ( \n",
    "    (SECOP[year]['Documento_Proveedor'] != 'NO DEFINIDO') &\n",
    "    (SECOP[year]['Estado'] != 'Enviado proveedor') &\n",
    "    (SECOP[year]['Valor_contrato'] <= 20000000000000) &\n",
    "    (SECOP[year]['Tamaño_nit'] >= 5) &\n",
    "    (SECOP[year]['Tamaño_nit'] <= 13)\n",
    ")\n",
    "\n",
    "for year in years:\n",
    "    SECOP_RUES[year] = SECOP[year][condiciones_para_cruce_rues]\n",
    "    SECOP_NO_RUES[year] = SECOP[year][~condiciones_para_cruce_rues]"
   ]
  },
  {
   "cell_type": "code",
   "execution_count": 29,
   "metadata": {},
   "outputs": [],
   "source": [
    "CRUCE_RUES = {}\n",
    "\n",
    "for year in years:\n",
    "    CRUCE_RUES[year] = pd.merge(SECOP_RUES[year], df_pnp_2, how='left', left_on='NEW_NIT', right_on='NIT', indicator=True)\n",
    "    no_cruzaron = CRUCE_RUES[year][CRUCE_RUES[year]['_merge'] == 'left_only']\n",
    "    CRUCE_RUES[year] = CRUCE_RUES[year][CRUCE_RUES[year]['_merge'] == 'both']\n",
    "    no_cruzaron = no_cruzaron.drop(columns=['NIT','CIIU Principal','CIIU Secundario', 'CIIU 3', 'CIIU 4', 'ciiu_mayores_ingresos','Cód Cámara', \n",
    "                                            'Nombre de la Cámara de Comercio', 'Código Organización Jurídica', 'Descripción de la Organización Jurídica', \n",
    "                                            'Código del tipo de sociedad', 'Descripción del Tipo de Sociedad', 'Código Categoría', 'Descripción de la Categoría', \n",
    "                                            'Cod Estado Matricula', 'Municipio Comercial', 'Departamento Comercial','CODIGO_TAMANO_EMPRESA', \n",
    "                                            'Correo Electronico Comercial', 'Correo Electronico Fiscal','Número de Empleados', 'Genero', \n",
    "                                            'Cantidad de Mujeres Empleadas', 'Cod Clase Identificación','Razón Social', '_merge'])\n",
    "    CRUCE_RUES[year] = CRUCE_RUES[year].drop(columns='_merge')\n",
    "    no_cruzaron['NIT2'] = no_cruzaron['NEW_NIT'].apply(lambda x: x[:-1])\n",
    "    cruce2 = pd.merge(no_cruzaron, df_pnp_2, how='left',left_on='NIT2',right_on='NIT')\n",
    "    CRUCE_RUES[year] = pd.concat([CRUCE_RUES[year], cruce2])\n"
   ]
  },
  {
   "cell_type": "code",
   "execution_count": 30,
   "metadata": {},
   "outputs": [],
   "source": [
    "for year in years:\n",
    "    SECOP[year] = pd.concat([CRUCE_RUES[year], SECOP_NO_RUES[year]])"
   ]
  },
  {
   "cell_type": "markdown",
   "metadata": {},
   "source": [
    "### Próximos requerimientos\n",
    "\n",
    "- Cruce con la versión anterior del maestro de entidades (campos ```ID_Entidad, Nombre_Entidad, NIT_Entidad```)\n",
    "- Actualización del maestro de entidades\n",
    "- Limpieza del campo NIT_Entidad (digito de verificación)\n",
    "- Arreglo sobre Documento_Proveedor\n",
    "- Cruce de departamentos y municipios con el código divipola"
   ]
  },
  {
   "cell_type": "markdown",
   "metadata": {},
   "source": [
    "### Validaciones sobre la versión actual\n",
    "\n",
    "* Verificar duplicados en contratos"
   ]
  },
  {
   "cell_type": "code",
   "execution_count": 31,
   "metadata": {},
   "outputs": [
    {
     "data": {
      "text/html": [
       "<div>\n",
       "<style scoped>\n",
       "    .dataframe tbody tr th:only-of-type {\n",
       "        vertical-align: middle;\n",
       "    }\n",
       "\n",
       "    .dataframe tbody tr th {\n",
       "        vertical-align: top;\n",
       "    }\n",
       "\n",
       "    .dataframe thead th {\n",
       "        text-align: right;\n",
       "    }\n",
       "</style>\n",
       "<table border=\"1\" class=\"dataframe\">\n",
       "  <thead>\n",
       "    <tr style=\"text-align: right;\">\n",
       "      <th></th>\n",
       "      <th>ID_Contrato</th>\n",
       "      <th>count</th>\n",
       "    </tr>\n",
       "  </thead>\n",
       "  <tbody>\n",
       "    <tr>\n",
       "      <th>0</th>\n",
       "      <td></td>\n",
       "      <td>9603</td>\n",
       "    </tr>\n",
       "    <tr>\n",
       "      <th>1</th>\n",
       "      <td>12694007</td>\n",
       "      <td>11</td>\n",
       "    </tr>\n",
       "    <tr>\n",
       "      <th>2</th>\n",
       "      <td>12537403</td>\n",
       "      <td>8</td>\n",
       "    </tr>\n",
       "    <tr>\n",
       "      <th>3</th>\n",
       "      <td>12537267</td>\n",
       "      <td>7</td>\n",
       "    </tr>\n",
       "    <tr>\n",
       "      <th>4</th>\n",
       "      <td>12548585</td>\n",
       "      <td>6</td>\n",
       "    </tr>\n",
       "    <tr>\n",
       "      <th>5</th>\n",
       "      <td>12803479</td>\n",
       "      <td>6</td>\n",
       "    </tr>\n",
       "    <tr>\n",
       "      <th>6</th>\n",
       "      <td>12548081</td>\n",
       "      <td>6</td>\n",
       "    </tr>\n",
       "    <tr>\n",
       "      <th>7</th>\n",
       "      <td>12544510</td>\n",
       "      <td>5</td>\n",
       "    </tr>\n",
       "    <tr>\n",
       "      <th>8</th>\n",
       "      <td>12658111</td>\n",
       "      <td>4</td>\n",
       "    </tr>\n",
       "    <tr>\n",
       "      <th>9</th>\n",
       "      <td>12693057</td>\n",
       "      <td>4</td>\n",
       "    </tr>\n",
       "  </tbody>\n",
       "</table>\n",
       "</div>"
      ],
      "text/plain": [
       "  ID_Contrato  count\n",
       "0               9603\n",
       "1    12694007     11\n",
       "2    12537403      8\n",
       "3    12537267      7\n",
       "4    12548585      6\n",
       "5    12803479      6\n",
       "6    12548081      6\n",
       "7    12544510      5\n",
       "8    12658111      4\n",
       "9    12693057      4"
      ]
     },
     "execution_count": 31,
     "metadata": {},
     "output_type": "execute_result"
    }
   ],
   "source": [
    "SECOP[year]['ID_Contrato'].value_counts().reset_index().head(10)"
   ]
  },
  {
   "cell_type": "code",
   "execution_count": 32,
   "metadata": {},
   "outputs": [],
   "source": [
    "duplicados_2023 = SECOP['2023']['ID_Contrato'].value_counts().reset_index()"
   ]
  },
  {
   "cell_type": "code",
   "execution_count": 33,
   "metadata": {},
   "outputs": [
    {
     "name": "stdout",
     "output_type": "stream",
     "text": [
      "Cantidad de contratos duplicados:\n"
     ]
    },
    {
     "ename": "TypeError",
     "evalue": "'>' not supported between instances of 'str' and 'int'",
     "output_type": "error",
     "traceback": [
      "\u001b[1;31m---------------------------------------------------------------------------\u001b[0m",
      "\u001b[1;31mTypeError\u001b[0m                                 Traceback (most recent call last)",
      "\u001b[1;32md:\\Espacios de trabajo\\OneDrive - Colombia Compra Eficiente\\Preparacion_Datos_Abiertos\\codigo\\adquisicion y entendimiento de datos\\cuadernillos\\limpieza_base_maestra.ipynb Cell 53\u001b[0m line \u001b[0;36m2\n\u001b[0;32m      <a href='vscode-notebook-cell:/d%3A/Espacios%20de%20trabajo/OneDrive%20-%20Colombia%20Compra%20Eficiente/Preparacion_Datos_Abiertos/codigo/adquisicion%20y%20entendimiento%20de%20datos/cuadernillos/limpieza_base_maestra.ipynb#Y105sZmlsZQ%3D%3D?line=0'>1</a>\u001b[0m \u001b[39mprint\u001b[39m(\u001b[39m'\u001b[39m\u001b[39mCantidad de contratos duplicados:\u001b[39m\u001b[39m'\u001b[39m)\n\u001b[1;32m----> <a href='vscode-notebook-cell:/d%3A/Espacios%20de%20trabajo/OneDrive%20-%20Colombia%20Compra%20Eficiente/Preparacion_Datos_Abiertos/codigo/adquisicion%20y%20entendimiento%20de%20datos/cuadernillos/limpieza_base_maestra.ipynb#Y105sZmlsZQ%3D%3D?line=1'>2</a>\u001b[0m \u001b[39mprint\u001b[39m(\u001b[39mlen\u001b[39m(duplicados_2023[(duplicados_2023[\u001b[39m'\u001b[39;49m\u001b[39mID_Contrato\u001b[39;49m\u001b[39m'\u001b[39;49m]\u001b[39m>\u001b[39;49m\u001b[39m1\u001b[39;49m)]))\n\u001b[0;32m      <a href='vscode-notebook-cell:/d%3A/Espacios%20de%20trabajo/OneDrive%20-%20Colombia%20Compra%20Eficiente/Preparacion_Datos_Abiertos/codigo/adquisicion%20y%20entendimiento%20de%20datos/cuadernillos/limpieza_base_maestra.ipynb#Y105sZmlsZQ%3D%3D?line=2'>3</a>\u001b[0m duplicados_2023[(duplicados_2023[\u001b[39m'\u001b[39m\u001b[39mID_Contrato\u001b[39m\u001b[39m'\u001b[39m]\u001b[39m>\u001b[39m\u001b[39m1\u001b[39m)]\u001b[39m.\u001b[39mhead(\u001b[39m10\u001b[39m)\n",
      "File \u001b[1;32mc:\\Users\\Asus\\AppData\\Local\\Programs\\Python\\Python311\\Lib\\site-packages\\pandas\\core\\ops\\common.py:76\u001b[0m, in \u001b[0;36m_unpack_zerodim_and_defer.<locals>.new_method\u001b[1;34m(self, other)\u001b[0m\n\u001b[0;32m     72\u001b[0m             \u001b[39mreturn\u001b[39;00m \u001b[39mNotImplemented\u001b[39m\n\u001b[0;32m     74\u001b[0m other \u001b[39m=\u001b[39m item_from_zerodim(other)\n\u001b[1;32m---> 76\u001b[0m \u001b[39mreturn\u001b[39;00m method(\u001b[39mself\u001b[39;49m, other)\n",
      "File \u001b[1;32mc:\\Users\\Asus\\AppData\\Local\\Programs\\Python\\Python311\\Lib\\site-packages\\pandas\\core\\arraylike.py:56\u001b[0m, in \u001b[0;36mOpsMixin.__gt__\u001b[1;34m(self, other)\u001b[0m\n\u001b[0;32m     54\u001b[0m \u001b[39m@unpack_zerodim_and_defer\u001b[39m(\u001b[39m\"\u001b[39m\u001b[39m__gt__\u001b[39m\u001b[39m\"\u001b[39m)\n\u001b[0;32m     55\u001b[0m \u001b[39mdef\u001b[39;00m \u001b[39m__gt__\u001b[39m(\u001b[39mself\u001b[39m, other):\n\u001b[1;32m---> 56\u001b[0m     \u001b[39mreturn\u001b[39;00m \u001b[39mself\u001b[39;49m\u001b[39m.\u001b[39;49m_cmp_method(other, operator\u001b[39m.\u001b[39;49mgt)\n",
      "File \u001b[1;32mc:\\Users\\Asus\\AppData\\Local\\Programs\\Python\\Python311\\Lib\\site-packages\\pandas\\core\\series.py:5799\u001b[0m, in \u001b[0;36mSeries._cmp_method\u001b[1;34m(self, other, op)\u001b[0m\n\u001b[0;32m   5796\u001b[0m lvalues \u001b[39m=\u001b[39m \u001b[39mself\u001b[39m\u001b[39m.\u001b[39m_values\n\u001b[0;32m   5797\u001b[0m rvalues \u001b[39m=\u001b[39m extract_array(other, extract_numpy\u001b[39m=\u001b[39m\u001b[39mTrue\u001b[39;00m, extract_range\u001b[39m=\u001b[39m\u001b[39mTrue\u001b[39;00m)\n\u001b[1;32m-> 5799\u001b[0m res_values \u001b[39m=\u001b[39m ops\u001b[39m.\u001b[39;49mcomparison_op(lvalues, rvalues, op)\n\u001b[0;32m   5801\u001b[0m \u001b[39mreturn\u001b[39;00m \u001b[39mself\u001b[39m\u001b[39m.\u001b[39m_construct_result(res_values, name\u001b[39m=\u001b[39mres_name)\n",
      "File \u001b[1;32mc:\\Users\\Asus\\AppData\\Local\\Programs\\Python\\Python311\\Lib\\site-packages\\pandas\\core\\ops\\array_ops.py:346\u001b[0m, in \u001b[0;36mcomparison_op\u001b[1;34m(left, right, op)\u001b[0m\n\u001b[0;32m    343\u001b[0m     \u001b[39mreturn\u001b[39;00m invalid_comparison(lvalues, rvalues, op)\n\u001b[0;32m    345\u001b[0m \u001b[39melif\u001b[39;00m lvalues\u001b[39m.\u001b[39mdtype \u001b[39m==\u001b[39m \u001b[39mobject\u001b[39m \u001b[39mor\u001b[39;00m \u001b[39misinstance\u001b[39m(rvalues, \u001b[39mstr\u001b[39m):\n\u001b[1;32m--> 346\u001b[0m     res_values \u001b[39m=\u001b[39m comp_method_OBJECT_ARRAY(op, lvalues, rvalues)\n\u001b[0;32m    348\u001b[0m \u001b[39melse\u001b[39;00m:\n\u001b[0;32m    349\u001b[0m     res_values \u001b[39m=\u001b[39m _na_arithmetic_op(lvalues, rvalues, op, is_cmp\u001b[39m=\u001b[39m\u001b[39mTrue\u001b[39;00m)\n",
      "File \u001b[1;32mc:\\Users\\Asus\\AppData\\Local\\Programs\\Python\\Python311\\Lib\\site-packages\\pandas\\core\\ops\\array_ops.py:131\u001b[0m, in \u001b[0;36mcomp_method_OBJECT_ARRAY\u001b[1;34m(op, x, y)\u001b[0m\n\u001b[0;32m    129\u001b[0m     result \u001b[39m=\u001b[39m libops\u001b[39m.\u001b[39mvec_compare(x\u001b[39m.\u001b[39mravel(), y\u001b[39m.\u001b[39mravel(), op)\n\u001b[0;32m    130\u001b[0m \u001b[39melse\u001b[39;00m:\n\u001b[1;32m--> 131\u001b[0m     result \u001b[39m=\u001b[39m libops\u001b[39m.\u001b[39;49mscalar_compare(x\u001b[39m.\u001b[39;49mravel(), y, op)\n\u001b[0;32m    132\u001b[0m \u001b[39mreturn\u001b[39;00m result\u001b[39m.\u001b[39mreshape(x\u001b[39m.\u001b[39mshape)\n",
      "File \u001b[1;32mops.pyx:107\u001b[0m, in \u001b[0;36mpandas._libs.ops.scalar_compare\u001b[1;34m()\u001b[0m\n",
      "\u001b[1;31mTypeError\u001b[0m: '>' not supported between instances of 'str' and 'int'"
     ]
    }
   ],
   "source": [
    "print('Cantidad de contratos duplicados:')\n",
    "print(len(duplicados_2023[(duplicados_2023['ID_Contrato']>1)]))\n",
    "duplicados_2023[(duplicados_2023['ID_Contrato']>1)].head(10)"
   ]
  },
  {
   "cell_type": "markdown",
   "metadata": {},
   "source": [
    "Detectar negativos en valor del contrato"
   ]
  },
  {
   "cell_type": "code",
   "execution_count": null,
   "metadata": {},
   "outputs": [],
   "source": [
    "for year in years:\n",
    "    print('Cantidad de contratos con valor negativo 2023:', len(SECOP['2023'][(SECOP['2023']['Valor_contrato']<0)]))\n",
    "    print('ID de los contratos 2023:', SECOP['2023'][(SECOP['2023']['Valor_contrato']<0)]['ID_Contrato'].unique())"
   ]
  },
  {
   "cell_type": "markdown",
   "metadata": {},
   "source": [
    "Se unifican las varibles departamento_entidad, municipio_entidad, departamento_proveedor y municipio_proveedor"
   ]
  },
  {
   "cell_type": "code",
   "execution_count": null,
   "metadata": {},
   "outputs": [],
   "source": [
    "columnas_geograficas = ['Departamento_Entidad','Departamento_Proveedor', 'Municipio_Entidad', 'Municipio_Proveedor']\n",
    "\n",
    "for column in columnas_geograficas:\n",
    "    for year in years:\n",
    "        SECOP[year][column] = SECOP[year][column].str.upper()\n",
    "        # Se llenan los campos vacíos con \"No Definido\"\n",
    "        SECOP[year][column] = SECOP[year][column].fillna(\"No Definido\")"
   ]
  },
  {
   "cell_type": "markdown",
   "metadata": {},
   "source": [
    "Se ven los primeros registros del dataframe"
   ]
  },
  {
   "cell_type": "code",
   "execution_count": null,
   "metadata": {},
   "outputs": [],
   "source": [
    "SECOP['2023'].head(5)"
   ]
  },
  {
   "cell_type": "markdown",
   "metadata": {},
   "source": [
    "# Cruce con el maestro de entidades"
   ]
  },
  {
   "cell_type": "code",
   "execution_count": null,
   "metadata": {},
   "outputs": [],
   "source": [
    "import pandas as pd"
   ]
  },
  {
   "cell_type": "code",
   "execution_count": null,
   "metadata": {},
   "outputs": [],
   "source": [
    "years = ['2020', '2021', '2022', '2023']\n",
    "SECOP = {}\n",
    "\n",
    "for year in years:\n",
    "    SECOP[year] = pd.read_csv(f'../../../muestras de datos/procesados/silver/SECOP_{year}.csv', sep=';')"
   ]
  },
  {
   "cell_type": "code",
   "execution_count": null,
   "metadata": {},
   "outputs": [],
   "source": [
    "mdm_entidades = pd.read_excel('../../../muestras de datos/auxiliar/20220714_MDM_Entidades_v6.xlsx')\n",
    "mdm_entidades = mdm_entidades.drop(columns=['codigo_entidad', 'codigo_sigep', 'codigo_sigep.1', 'Fuente', 'Municipio', 'NOMBRE_DPT',\n",
    "                                            'orden_Entidad', 'rama_Entidad', 'sector_Entidad', 'llave', 'Id_Ciudad', 'Obligada SECOP II', 'Entidad Ciudad Capital',\n",
    "                                            'TVEC', 'validacion_nombre', 'Año_Obligatoriedad', 'Mes_Ingreso', 'Trimestre_Ingreso'])"
   ]
  },
  {
   "cell_type": "code",
   "execution_count": null,
   "metadata": {},
   "outputs": [],
   "source": [
    "mdm_entidades.columns"
   ]
  },
  {
   "cell_type": "code",
   "execution_count": null,
   "metadata": {},
   "outputs": [],
   "source": [
    "SECOP['2023'].columns"
   ]
  },
  {
   "cell_type": "code",
   "execution_count": null,
   "metadata": {},
   "outputs": [],
   "source": [
    "mdm_entidades['NIT_Secop'] = mdm_entidades['NIT_Secop'].astype(str)\n",
    "mdm_entidades['N_Entidad_Plataforma'] = mdm_entidades['N_Entidad_Plataforma'].astype(str)\n",
    "mdm_entidades['N_Entidad_Final'] = mdm_entidades['N_Entidad_Final'].astype(str)\n",
    "mdm_entidades['Nombre Estandar'] = mdm_entidades['Nombre Estandar'].astype(str)\n",
    "mdm_entidades['N_Entidad_FP'] = mdm_entidades['N_Entidad_FP'].astype(str)\n",
    "\n",
    "mdm_entidades['N_Entidad_Plataforma'] = mdm_entidades['N_Entidad_Plataforma'].apply(dm.remove_extra_punct)\n",
    "mdm_entidades['N_Entidad_Final'] = mdm_entidades['N_Entidad_Final'].apply(dm.remove_extra_punct)\n",
    "mdm_entidades['Nombre Estandar'] = mdm_entidades['Nombre Estandar'].apply(dm.remove_extra_punct)\n",
    "mdm_entidades['N_Entidad_FP'] = mdm_entidades['N_Entidad_FP'].apply(dm.remove_extra_punct)"
   ]
  },
  {
   "cell_type": "code",
   "execution_count": null,
   "metadata": {},
   "outputs": [],
   "source": [
    "for year in years:\n",
    "    mdm_entidades_unique = mdm_entidades.drop_duplicates(subset='N_Entidad_Final')\n",
    "    cruce_nom_entidad1 = pd.merge(SECOP[year], mdm_entidades_unique, left_on='Nombre_Entidad', right_on='N_Entidad_Final', how='left')\n",
    "    cruce_nom_entidad1 = cruce_nom_entidad1[cruce_nom_entidad1['NIT_Secop'].notnull()]\n",
    "    mipymes_sin_cruce = SECOP[year][~SECOP[year]['Nombre_Entidad'].isin(mdm_entidades_unique['N_Entidad_Final'])]\n",
    "\n",
    "    mdm_entidades_unique = mdm_entidades.drop_duplicates(subset='N_Entidad_Plataforma')\n",
    "    cruce_nom_entidad2 = pd.merge(mipymes_sin_cruce, mdm_entidades_unique, left_on='Nombre_Entidad', right_on='N_Entidad_Plataforma', how='left')\n",
    "    cruce_nom_entidad2 = cruce_nom_entidad2[cruce_nom_entidad2['NIT_Secop'].notnull()]\n",
    "    mipymes_sin_cruce = mipymes_sin_cruce[~mipymes_sin_cruce['Nombre_Entidad'].isin(mdm_entidades_unique['N_Entidad_Plataforma'])]\n",
    "\n",
    "    mdm_entidades_unique = mdm_entidades.drop_duplicates(subset='Nombre Estandar')\n",
    "    cruce_nom_entidad3 = pd.merge(mipymes_sin_cruce, mdm_entidades_unique, left_on='Nombre_Entidad', right_on='Nombre Estandar', how='left')\n",
    "    cruce_nom_entidad3 = cruce_nom_entidad3[cruce_nom_entidad3['NIT_Secop'].notnull()]\n",
    "    mipymes_sin_cruce = mipymes_sin_cruce[~mipymes_sin_cruce['Nombre_Entidad'].isin(mdm_entidades_unique['Nombre Estandar'])]\n",
    "\n",
    "    mdm_entidades_unique = mdm_entidades.drop_duplicates(subset='N_Entidad_FP')\n",
    "    cruce_nom_entidad4 = pd.merge(mipymes_sin_cruce, mdm_entidades_unique, left_on='Nombre_Entidad', right_on='N_Entidad_FP', how='left')\n",
    "    cruce_nom_entidad4 = cruce_nom_entidad4[cruce_nom_entidad4['NIT_Secop'].notnull()]\n",
    "    mipymes_sin_cruce = mipymes_sin_cruce[~mipymes_sin_cruce['Nombre_Entidad'].isin(mdm_entidades_unique['N_Entidad_FP'])]\n",
    "\n",
    "    mdm_entidades_unique = mdm_entidades.drop_duplicates(subset='NIT_Secop')\n",
    "    cruce_nit_entidad = pd.merge(mipymes_sin_cruce, mdm_entidades_unique, left_on='NIT_Entidad', right_on='NIT_Secop', how='left')\n",
    "    cruce_nit_entidad = cruce_nit_entidad.dropna(subset=['NIT_Secop'])\n",
    "    mipymes_sin_cruce = mipymes_sin_cruce[~mipymes_sin_cruce['NIT_Entidad'].isin(mdm_entidades_unique['NIT_Secop'])]\n",
    "\n",
    "    SECOP[year] = pd.concat([cruce_nit_entidad, cruce_nom_entidad1, cruce_nom_entidad2, cruce_nom_entidad3, cruce_nom_entidad4, mipymes_sin_cruce])"
   ]
  },
  {
   "cell_type": "code",
   "execution_count": null,
   "metadata": {},
   "outputs": [],
   "source": [
    "SECOP['2023'].columns"
   ]
  },
  {
   "cell_type": "code",
   "execution_count": null,
   "metadata": {},
   "outputs": [],
   "source": [
    "SECOP = pd.concat([SECOP['2020'], SECOP['2021'], SECOP['2022'], SECOP['2023']])\n",
    "SECOP.shape"
   ]
  },
  {
   "cell_type": "code",
   "execution_count": null,
   "metadata": {},
   "outputs": [],
   "source": [
    "len(SECOP[SECOP['Nombre Estandar'].isna()]['Nombre_Entidad'].unique())"
   ]
  },
  {
   "cell_type": "code",
   "execution_count": null,
   "metadata": {},
   "outputs": [],
   "source": [
    "len(SECOP[~SECOP['Nombre Estandar'].isna()]['Nombre_Entidad'].unique()) + len(SECOP[SECOP['Nombre Estandar'].isna()]['Nombre_Entidad'].unique())"
   ]
  },
  {
   "cell_type": "code",
   "execution_count": null,
   "metadata": {},
   "outputs": [],
   "source": [
    "1-(2073/13376)"
   ]
  },
  {
   "cell_type": "code",
   "execution_count": null,
   "metadata": {},
   "outputs": [],
   "source": [
    "maestro_entidades = SECOP[~SECOP['Nombre Estandar'].isna()][['NIT_Entidad', 'Nombre_Entidad', 'Departamento_Entidad',\n",
    "       'Municipio_Entidad', 'NIT_Secop', 'N_Entidad_Final', 'N_Entidad_Plataforma', 'Nombre Estandar']]\n",
    "\n",
    "maestro_entidades.head(2)"
   ]
  },
  {
   "cell_type": "markdown",
   "metadata": {},
   "source": [
    "Almacenamiento del archivo como CSV y como parquet"
   ]
  },
  {
   "cell_type": "code",
   "execution_count": 34,
   "metadata": {},
   "outputs": [],
   "source": [
    "for year in years:\n",
    "    SECOP[year].to_csv(f'../../../muestras de datos/procesados/silver/SECOP_{year}.csv', index=False, sep=';')"
   ]
  },
  {
   "cell_type": "code",
   "execution_count": null,
   "metadata": {},
   "outputs": [],
   "source": [
    "# Se revisa cantidad de nulos de cada variable\n",
    "\n",
    "# SECOP['2023'].isnull().sum()"
   ]
  },
  {
   "cell_type": "markdown",
   "metadata": {},
   "source": [
    "# Conclusiones\n",
    "\n",
    "Se realiza la limpieza de la base maestra, logrando el objetivo de tener un conjunto de datos limpio y de alta calidad que estará listo para ser utilizado en futuros análisis.\n",
    "\n",
    "Se debe tener presente la alerta de valores duplicados en ID_Contrato, valores negativos en valor del contrato y valores nulos en variables donde se debe contar con la información (si los hay) para realizar las validaciones correspondientes.\n",
    "\n",
    "El proceso se realiza con archivos descargados por año para agilizar la ejecución del notebook.\n",
    "\n",
    "Finalmente, es importante recordar que la limpieza y el preprocesamiento de datos es un paso fundamental en cualquier proyecto de análisis de datos. La atención al detalle en esta etapa puede tener un impacto significativo en la calidad y la precisión de cualquier insight o modelo que se desarrolle en las etapas posteriores."
   ]
  },
  {
   "cell_type": "code",
   "execution_count": null,
   "metadata": {},
   "outputs": [],
   "source": []
  }
 ],
 "metadata": {
  "kernelspec": {
   "display_name": "Python 3 (ipykernel)",
   "language": "python",
   "name": "python3"
  },
  "language_info": {
   "codemirror_mode": {
    "name": "ipython",
    "version": 3
   },
   "file_extension": ".py",
   "mimetype": "text/x-python",
   "name": "python",
   "nbconvert_exporter": "python",
   "pygments_lexer": "ipython3",
   "version": "3.11.6"
  }
 },
 "nbformat": 4,
 "nbformat_minor": 2
}
