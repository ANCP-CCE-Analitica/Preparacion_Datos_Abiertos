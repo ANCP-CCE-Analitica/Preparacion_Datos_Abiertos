{
 "cells": [
  {
   "cell_type": "markdown",
   "metadata": {},
   "source": [
    "<div style=\"\n",
    "  padding: 30px;\n",
    "  text-align: center;\" class='row'>\n",
    "<div style=\"float:left;width: 15%;\" class='column'><a href=\"https://www.colombiacompra.gov.co\"><img alt=\"Logo Colombia Compra Eficiente\" id=\"logocce\" src=\"https://www.colombiacompra.gov.co/sites/cce_public/files/Images/logocce.png\" style=\"height: 45px;\"></a></div>\n",
    "    <div style=\"float:left;width: 70%;\" class='column'>\n",
    "        <h1> Exploración DataVAULT\n",
    "        </h1> \n",
    "    </div>\n",
    "<div style=\"float:left;width: 15%;\" class='column'><a href=\"https://www.dnp.gov.co/\" target=\"_blank\"><img class=\"float-right\" id=\"logodnp\" src=\"https://www.dnp.gov.co/img/logoNuevo.jpg\" style=\"width: 200px;\"></a></div>\n",
    "</div>\n"
   ]
  },
  {
   "cell_type": "markdown",
   "metadata": {},
   "source": [
    "## 1. IDENTIFICACIÓN DEL INSUMO\n",
    "\n",
    "|||\n",
    "|:--|:--|\n",
    "|**Fecha**|Abril 2023|\n",
    "|**Ciudad**|Bogotá D.C.|\n",
    "|**Esquema de presentación del insumo**|Cuaderno Jupyter|\n",
    "|**Título del insumo**| **Consideraciones para la consulta en datos abiertos**|\n",
    "|**Descripción y alcance**|Script para la consulta de bases y exploración de bases en el DATAVAULT.|\n",
    "|**Periodicidad del insumo**|único|\n",
    "|**Solicitante**|No aplica|\n",
    "|**Versión del insumo**|Final|"
   ]
  },
  {
   "cell_type": "markdown",
   "metadata": {},
   "source": [
    "## 2. DESTINO Y AUTORES DEL INFORME / INSUMO\n",
    "\n",
    "|||\n",
    "|:--|:--|\n",
    "|**Destinatario**|<table align='left'><tr><td>*Nombre:*</td> <td>Equipo analítica EMAE</td></tr> <tr><td>*Cargo:*</td> <td>NA</td></tr>  <tr><td>*Área:*</td> <td>Subdirección de estudios de Mercado y Abastecimiento Estratégico – EMAE</td></tr></table>|\n",
    "|**Autores**|<table><tr><td>*Nombre:*</td> <td>Equipo de Datos -GAEC<td>*Área:*</td> <td>Subdirección de estudios de Mercado y Abastecimiento Estratégico – EMAE.</td></tr></table>|\n",
    "|**Aprobación**|<table><tr><td>*Nombre:*</td> <td>Ricardo Suarez</td></tr> <tr><td>*Cargo:*</td> <td>Subdirector Estudios de Mercado y Abastecimiento Estratégico</td></tr>  <tr><td>*Área:*</td> <td>Subdirección de estudios de Mercado y Abastecimiento Estratégico – EMAE.</td></tr></table>|"
   ]
  },
  {
   "attachments": {},
   "cell_type": "markdown",
   "metadata": {},
   "source": [
    "![image.png](../../../documentos/analisis%20y%20descubrimientos/generacion_entidades_.png)"
   ]
  },
  {
   "cell_type": "markdown",
   "metadata": {},
   "source": [
    "## Instalaciones previas\n",
    " \n",
    "Para poder utilizar SQL en Python es necesario instalar lo siguiente, escoja el driver de acuerdo al sistema operativo de su equipo: \n",
    " \n",
    " \n",
    "**Driver Microsoft ODBC para SQL SERVER en windows**\n",
    " \n",
    "Descargar e instalar el driver de la página [Microsoft ODBC](https://docs.microsoft.com/en-us/sql/connect/odbc/windows/system-requirements-installation-and-driver-files?view=sql-server-ver15#installing-microsoft-odbc-driver-for-sql-server) versión \n",
    " 17.\n",
    " \n",
    "**Driver Microsoft ODBC para SQL SERVER en Linux o MacOs**\n",
    " \n",
    "Descargar e instalar el driver de la página [Microsoft ODBC](https://docs.microsoft.com/en-us/sql/connect/odbc/linux-mac/system-requirements?view=sql-server-ver15) versión 17 deacuerdo a la versión de su sistema operativo.\n",
    "Recuerde estar conectado a la VPN para poder accerder. \n",
    "\n",
    "**Paquete pyobdc**\n",
    "\n",
    "Quite el comentario e inicie la instalación simple."
   ]
  },
  {
   "cell_type": "code",
   "execution_count": 1,
   "metadata": {},
   "outputs": [],
   "source": [
    "import pyodbc \n",
    "from dotenv import load_dotenv\n",
    "import os\n",
    "load_dotenv()\n",
    "\n",
    "server=os.getenv(\"server\")\n",
    "username=os.getenv(\"username\")\n",
    "password=os.getenv(\"password\")\n",
    "\n",
    "cnxn = pyodbc.connect('DRIVER={ODBC Driver 17 for SQL Server};SERVER='+server+';UID='+username+';PWD='+ password)\n",
    "cursor = cnxn.cursor()"
   ]
  },
  {
   "cell_type": "code",
   "execution_count": 2,
   "metadata": {},
   "outputs": [
    {
     "name": "stderr",
     "output_type": "stream",
     "text": [
      "<frozen importlib._bootstrap>:241: RuntimeWarning: scipy._lib.messagestream.MessageStream size changed, may indicate binary incompatibility. Expected 56 from C header, got 64 from PyObject\n"
     ]
    }
   ],
   "source": [
    "### Paquetes usados para la exploración de datos\n",
    "\n",
    "import pandas as pd\n",
    "import numpy as np\n",
    "import matplotlib.pyplot as plt\n",
    "import seaborn as sns\n",
    "import datetime as dt\n",
    "import warnings\n",
    "from scripts import data_management as dm # Funciones definidas\n",
    "warnings.filterwarnings('ignore')"
   ]
  },
  {
   "cell_type": "markdown",
   "metadata": {},
   "source": [
    "## 3. DESCRIPCIÓN DEL INFORME / INSUMO\n",
    "\n",
    "### 3.1. Objetivo\n",
    "\n",
    "El objetivo de este cuaderno es mostrar la información de Entidades dispuesta en la Bodega de Datos de Colombia Compra Eficiente, para que los usuarios puedan consultarla y explorarla."
   ]
  },
  {
   "cell_type": "markdown",
   "metadata": {},
   "source": [
    "## 4. ADQUISICIÓN DE LOS DATOS\n",
    "\n",
    "### 4.1. Datos de procesos SECOP II\n",
    "\n",
    "Para consultar los datos de procesos SECOP II, se debe ejecutar la siguiente consulta:\n",
    "\n",
    "```sql\n",
    "SELECT * FROM [CCE_Sandbox].[datavault].[SAT_Example_Table]\n",
    "```\n"
   ]
  },
  {
   "cell_type": "markdown",
   "metadata": {},
   "source": [
    "Se crea una ruta:"
   ]
  },
  {
   "cell_type": "code",
   "execution_count": 3,
   "metadata": {},
   "outputs": [],
   "source": [
    "ruta_DATA='../../../Data/Raw'"
   ]
  },
  {
   "cell_type": "code",
   "execution_count": 4,
   "metadata": {},
   "outputs": [],
   "source": [
    "# Se lee la consulta de entidades\n",
    "\n",
    "DF_ENTIDADES = pd.read_sql_query(\"SELECT * FROM [CCE_Sandbox].[datavault].[Sat_Company]\", cnxn)"
   ]
  },
  {
   "cell_type": "code",
   "execution_count": 5,
   "metadata": {},
   "outputs": [
    {
     "data": {
      "text/plain": [
       "Index(['LoadDate', 'CreateDate', 'EndDateContractOrder',\n",
       "       'StartDateContractOrder', 'VersionDate', 'VortalTrustEndDate',\n",
       "       'VortalTrustStartDate'],\n",
       "      dtype='object')"
      ]
     },
     "execution_count": 5,
     "metadata": {},
     "output_type": "execute_result"
    }
   ],
   "source": [
    "DF_ENTIDADES.columns[DF_ENTIDADES.columns.str.contains('Date')]"
   ]
  },
  {
   "cell_type": "code",
   "execution_count": 6,
   "metadata": {},
   "outputs": [],
   "source": [
    "DF_ENTIDADES=DF_ENTIDADES.sort_values(by=['CreateDate'], ascending=False)"
   ]
  },
  {
   "cell_type": "code",
   "execution_count": 7,
   "metadata": {},
   "outputs": [],
   "source": [
    "# Se extraen las variables necesarias\n",
    "df_entidades=DF_ENTIDADES[['Code','LegalName','VAT','IsBuyer','CreateDate']]\n",
    "\n",
    "# Se pasa a mayúscula el nombre legal y VAT\n",
    "df_entidades['LegalName']=dm.mayuscula(df_entidades,'LegalName')\n",
    "df_entidades['VAT']=dm.mayuscula(df_entidades,'VAT')\n",
    "\n",
    "# Se agrupa por Code\n",
    "df_entidades_first=df_entidades.groupby('Code').agg({'LegalName':'first','VAT':'first','IsBuyer':'first','CreateDate':'first'})\n",
    "df_entidades_count=df_entidades.groupby('Code').agg({'LegalName':'nunique','VAT':'nunique','IsBuyer':'nunique'})\n",
    "\n",
    "## Integramos\n",
    "df_entidades=pd.merge(df_entidades_first,df_entidades_count,how='left',on='Code')\n",
    "df_entidades=df_entidades.rename(columns={'LegalName_x':'LegalName','VAT_x':'VAT','IsBuyer_x':'IsBuyer','LegalName_y':'LegalName_count','VAT_y':'VAT_count','IsBuyer_y':'IsBuyer_count'})\n",
    "df_entidades=df_entidades.reset_index()\n",
    "\n",
    "# Se filtra que Code no contenga '\\d'\n",
    "df_entidades_err=df_entidades[~df_entidades['Code'].str.contains('\\d',regex=True)]\n",
    "\n",
    "# Se exporta a un parquet\n",
    "df_entidades_err.to_parquet(ruta_DATA+'/Entidades_erroneas.parquet',index=False)\n",
    "\n",
    "# Se filtra que Code no contenga '_'\n",
    "df_entidades=df_entidades[~df_entidades['Code'].str.contains('_')]"
   ]
  },
  {
   "cell_type": "markdown",
   "metadata": {},
   "source": [
    "Guardamos los datos problematicos en la carpeta *Problemas_Sat_Company* para revisarlos después, separamos las entidades, los proveedores y las entidades. Así mismo, hay algunos que no tienen esta identificación por la variable IsBuyer, por lo que se separan en la carpeta Otros."
   ]
  },
  {
   "cell_type": "code",
   "execution_count": 8,
   "metadata": {},
   "outputs": [
    {
     "data": {
      "text/plain": [
       "(492, 8)"
      ]
     },
     "execution_count": 8,
     "metadata": {},
     "output_type": "execute_result"
    }
   ],
   "source": [
    "# Se filtra donde el conteo de nombre legal sea mayor a 2\n",
    "\n",
    "Problematicos=df_entidades[df_entidades['LegalName_count']>2]\n",
    "Problematicos.shape"
   ]
  },
  {
   "cell_type": "code",
   "execution_count": 9,
   "metadata": {},
   "outputs": [
    {
     "data": {
      "text/html": [
       "<div>\n",
       "<style scoped>\n",
       "    .dataframe tbody tr th:only-of-type {\n",
       "        vertical-align: middle;\n",
       "    }\n",
       "\n",
       "    .dataframe tbody tr th {\n",
       "        vertical-align: top;\n",
       "    }\n",
       "\n",
       "    .dataframe thead th {\n",
       "        text-align: right;\n",
       "    }\n",
       "</style>\n",
       "<table border=\"1\" class=\"dataframe\">\n",
       "  <thead>\n",
       "    <tr style=\"text-align: right;\">\n",
       "      <th></th>\n",
       "      <th>HubCompanyHashKey</th>\n",
       "      <th>LoadDate</th>\n",
       "      <th>RecordSource</th>\n",
       "      <th>SatCompanyHashDiff</th>\n",
       "      <th>AccountBankCode</th>\n",
       "      <th>AccountBankName</th>\n",
       "      <th>AccountIBAN</th>\n",
       "      <th>AccountName</th>\n",
       "      <th>AccountNumber</th>\n",
       "      <th>AccountNumberPrefix</th>\n",
       "      <th>...</th>\n",
       "      <th>VortalTrust</th>\n",
       "      <th>VortalTrustDocument</th>\n",
       "      <th>VortalTrustEndDate</th>\n",
       "      <th>VortalTrustStartDate</th>\n",
       "      <th>WantToDO</th>\n",
       "      <th>WebAddress</th>\n",
       "      <th>YouTubeUrl</th>\n",
       "      <th>Deleted</th>\n",
       "      <th>RepresentativeCertificate</th>\n",
       "      <th>CompanySize</th>\n",
       "    </tr>\n",
       "  </thead>\n",
       "  <tbody>\n",
       "    <tr>\n",
       "      <th>1188364</th>\n",
       "      <td>5822BC169CED142DCE275600F5D4CABE</td>\n",
       "      <td>2022-11-04 11:33:59.407000</td>\n",
       "      <td>Community.dbo.Company</td>\n",
       "      <td>AAEA33B510C987409A6FCD8F73777AFA</td>\n",
       "      <td>None</td>\n",
       "      <td>BANCO DE BOGOTA</td>\n",
       "      <td>None</td>\n",
       "      <td>None</td>\n",
       "      <td>079283685</td>\n",
       "      <td>None</td>\n",
       "      <td>...</td>\n",
       "      <td>False</td>\n",
       "      <td>None</td>\n",
       "      <td>None</td>\n",
       "      <td>None</td>\n",
       "      <td>1.0</td>\n",
       "      <td>None</td>\n",
       "      <td>None</td>\n",
       "      <td>None</td>\n",
       "      <td>None</td>\n",
       "      <td>0.0</td>\n",
       "    </tr>\n",
       "    <tr>\n",
       "      <th>1129786</th>\n",
       "      <td>5822BC169CED142DCE275600F5D4CABE</td>\n",
       "      <td>2022-11-10 13:40:48.860000</td>\n",
       "      <td>Community.dbo.Company</td>\n",
       "      <td>7ECD5F75C3B2473DBA350DA902BC557E</td>\n",
       "      <td>None</td>\n",
       "      <td>BANCO DE BOGOTA</td>\n",
       "      <td>None</td>\n",
       "      <td>None</td>\n",
       "      <td>079283685</td>\n",
       "      <td>None</td>\n",
       "      <td>...</td>\n",
       "      <td>False</td>\n",
       "      <td>None</td>\n",
       "      <td>None</td>\n",
       "      <td>None</td>\n",
       "      <td>1.0</td>\n",
       "      <td>None</td>\n",
       "      <td>None</td>\n",
       "      <td>None</td>\n",
       "      <td>None</td>\n",
       "      <td>0.0</td>\n",
       "    </tr>\n",
       "    <tr>\n",
       "      <th>504013</th>\n",
       "      <td>5822BC169CED142DCE275600F5D4CABE</td>\n",
       "      <td>2022-03-11 19:59:21.261859</td>\n",
       "      <td>Community.dbo.Company</td>\n",
       "      <td>F49030C597C978820C52C0CFD9289E00</td>\n",
       "      <td>None</td>\n",
       "      <td>BANCO DE BOGOTA</td>\n",
       "      <td>None</td>\n",
       "      <td>None</td>\n",
       "      <td>981132624</td>\n",
       "      <td>None</td>\n",
       "      <td>...</td>\n",
       "      <td>False</td>\n",
       "      <td>None</td>\n",
       "      <td>None</td>\n",
       "      <td>None</td>\n",
       "      <td>1.0</td>\n",
       "      <td>https://alnaturalser.com/</td>\n",
       "      <td>None</td>\n",
       "      <td>None</td>\n",
       "      <td>None</td>\n",
       "      <td>NaN</td>\n",
       "    </tr>\n",
       "  </tbody>\n",
       "</table>\n",
       "<p>3 rows × 138 columns</p>\n",
       "</div>"
      ],
      "text/plain": [
       "                        HubCompanyHashKey                   LoadDate   \n",
       "1188364  5822BC169CED142DCE275600F5D4CABE 2022-11-04 11:33:59.407000  \\\n",
       "1129786  5822BC169CED142DCE275600F5D4CABE 2022-11-10 13:40:48.860000   \n",
       "504013   5822BC169CED142DCE275600F5D4CABE 2022-03-11 19:59:21.261859   \n",
       "\n",
       "                  RecordSource                SatCompanyHashDiff   \n",
       "1188364  Community.dbo.Company  AAEA33B510C987409A6FCD8F73777AFA  \\\n",
       "1129786  Community.dbo.Company  7ECD5F75C3B2473DBA350DA902BC557E   \n",
       "504013   Community.dbo.Company  F49030C597C978820C52C0CFD9289E00   \n",
       "\n",
       "        AccountBankCode  AccountBankName AccountIBAN AccountName   \n",
       "1188364            None  BANCO DE BOGOTA        None        None  \\\n",
       "1129786            None  BANCO DE BOGOTA        None        None   \n",
       "504013             None  BANCO DE BOGOTA        None        None   \n",
       "\n",
       "        AccountNumber AccountNumberPrefix  ... VortalTrust   \n",
       "1188364     079283685                None  ...       False  \\\n",
       "1129786     079283685                None  ...       False   \n",
       "504013      981132624                None  ...       False   \n",
       "\n",
       "         VortalTrustDocument  VortalTrustEndDate  VortalTrustStartDate   \n",
       "1188364                 None                None                  None  \\\n",
       "1129786                 None                None                  None   \n",
       "504013                  None                None                  None   \n",
       "\n",
       "        WantToDO                 WebAddress  YouTubeUrl Deleted   \n",
       "1188364      1.0                       None        None    None  \\\n",
       "1129786      1.0                       None        None    None   \n",
       "504013       1.0  https://alnaturalser.com/        None    None   \n",
       "\n",
       "        RepresentativeCertificate CompanySize  \n",
       "1188364                      None         0.0  \n",
       "1129786                      None         0.0  \n",
       "504013                       None         NaN  \n",
       "\n",
       "[3 rows x 138 columns]"
      ]
     },
     "execution_count": 9,
     "metadata": {},
     "output_type": "execute_result"
    }
   ],
   "source": [
    "# Filtro de Code\n",
    "\n",
    "DF_ENTIDADES[DF_ENTIDADES['Code']=='700058068']"
   ]
  },
  {
   "cell_type": "markdown",
   "metadata": {},
   "source": [
    "Guardamos los problematicos en la ruta: `../../../Data/Processed/Problemas_Sat_Company`\n",
    "\n",
    "En el código montamos una línea que verifica si existe la carpeta y si no la crea."
   ]
  },
  {
   "cell_type": "code",
   "execution_count": 10,
   "metadata": {},
   "outputs": [],
   "source": [
    "import os\n",
    "import re\n",
    "ruta = '../../../Data/Processed/Problemas_Sat_Company'\n",
    "if not os.path.exists(ruta):\n",
    "    os.makedirs(ruta)\n",
    "    os.makedirs(ruta+'/Entidades')\n",
    "    os.makedirs(ruta+'/Provedores')\n",
    "    os.makedirs(ruta+'/Otros')"
   ]
  },
  {
   "cell_type": "code",
   "execution_count": 11,
   "metadata": {},
   "outputs": [],
   "source": [
    "## Creación de ruta para guardar los archivos\n",
    "\n",
    "Lista_Fechas=[]\n",
    "Problematicos.index=Problematicos['Code']\n",
    "for i in Problematicos.index:\n",
    "    if Problematicos['IsBuyer'][i]==True:\n",
    "        name_file=re.sub('[^A-Za-z0-9]','_',Problematicos['LegalName'][i])\n",
    "        DF_ENTIDADES[DF_ENTIDADES['Code']==i].to_excel(ruta+'/Entidades/'+name_file+'.xlsx')\n",
    "    elif Problematicos['IsBuyer'][i]==False:\n",
    "        name_file=re.sub('[^A-Za-z0-9]','_',Problematicos['LegalName'][i])\n",
    "        DF_ENTIDADES[DF_ENTIDADES['Code']==i].to_excel(ruta+'/Provedores/'+name_file+'.xlsx')\n",
    "    else:\n",
    "        name_file=re.sub('[^A-Za-z0-9]','_',Problematicos['LegalName'][i])\n",
    "        DF_ENTIDADES[DF_ENTIDADES['Code']==i].to_excel(ruta+'/Otros/'+name_file+'.xlsx')\n"
   ]
  },
  {
   "cell_type": "markdown",
   "metadata": {},
   "source": [
    "Dejamos guardada descargada la información a nivel local en la ruta:\n",
    "\n",
    "`/dropbox/Dropbox/CCE-projects/Large Data`\n",
    "\n",
    "(Depende del usuario)"
   ]
  },
  {
   "cell_type": "code",
   "execution_count": 12,
   "metadata": {},
   "outputs": [],
   "source": [
    "ruta_LD='/dropbox/Dropbox/CCE-projects/Large Data'"
   ]
  },
  {
   "cell_type": "code",
   "execution_count": 13,
   "metadata": {},
   "outputs": [],
   "source": [
    "### Modificamos formato para la columna LoadDate, cdctimestamp,CreateDate\n",
    "DF_ENTIDADES['LoadDate']=pd.to_datetime(DF_ENTIDADES['LoadDate'])\n",
    "DF_ENTIDADES['LoadDate']=DF_ENTIDADES['LoadDate'].dt.strftime('%Y-%m-%d')\n",
    "DF_ENTIDADES['LoadDate']=DF_ENTIDADES['LoadDate'].astype(str)\n",
    "\n",
    "DF_ENTIDADES['cdctimestamp']=pd.to_datetime(DF_ENTIDADES['cdctimestamp'])\n",
    "DF_ENTIDADES['cdctimestamp']=DF_ENTIDADES['cdctimestamp'].dt.strftime('%Y-%m-%d')\n",
    "DF_ENTIDADES['cdctimestamp']=DF_ENTIDADES['cdctimestamp'].astype(str)\n",
    "\n",
    "DF_ENTIDADES['CreateDate']=pd.to_datetime(DF_ENTIDADES['CreateDate'])\n",
    "DF_ENTIDADES['CreateDate']=DF_ENTIDADES['CreateDate'].dt.strftime('%Y-%m-%d')\n",
    "DF_ENTIDADES['CreateDate']=DF_ENTIDADES['CreateDate'].astype(str)"
   ]
  },
  {
   "cell_type": "code",
   "execution_count": 14,
   "metadata": {},
   "outputs": [
    {
     "data": {
      "text/plain": [
       "Index(['Code', 'LegalName', 'VAT', 'IsBuyer', 'CreateDate', 'LegalName_count',\n",
       "       'VAT_count', 'IsBuyer_count'],\n",
       "      dtype='object')"
      ]
     },
     "execution_count": 14,
     "metadata": {},
     "output_type": "execute_result"
    }
   ],
   "source": [
    "df_entidades.columns"
   ]
  },
  {
   "cell_type": "code",
   "execution_count": 15,
   "metadata": {},
   "outputs": [],
   "source": [
    "## Guardamos los archivos como parquet usando pyarrow\n",
    "df_entidades.columns=['Codigo', 'Nombre Legal', 'NIT', 'Entidad','Creacion_Fecha','Count Nombre Legal', 'Count NIT', 'Count Entidad']\n",
    "df_entidades.to_parquet(ruta_LD+'/Entidades/Sat_Company.parquet',engine='pyarrow')\n",
    "DF_ENTIDADES.to_parquet(ruta_LD+'/Entidades/Sat_Company_full.parquet',engine='pyarrow')"
   ]
  },
  {
   "cell_type": "code",
   "execution_count": 16,
   "metadata": {},
   "outputs": [],
   "source": [
    "# Filtro de entidades y exportación a un parquet\n",
    "\n",
    "DF_ENTIDADES=DF_ENTIDADES[DF_ENTIDADES['IsBuyer']==True]\n",
    "DF_ENTIDADES.to_parquet(ruta_LD+'/Entidades/Entidades_SECOP_II_FULL.parquet',engine='pyarrow')\n",
    "\n",
    "df_entidades=df_entidades[df_entidades['Entidad']==True]\n",
    "df_entidades.to_parquet(ruta_LD+'/Entidades/Entidades_SECOP_II.parquet',engine='pyarrow')"
   ]
  },
  {
   "cell_type": "markdown",
   "metadata": {},
   "source": [
    "## Carga de datos al Datalake\n",
    "\n",
    "Cargamos la base desde la ruta DATA\n",
    "\n",
    "\n"
   ]
  },
  {
   "cell_type": "code",
   "execution_count": 17,
   "metadata": {},
   "outputs": [],
   "source": [
    "import pandas as pd\n",
    "import pyarrow.parquet as pq\n",
    "from azure.storage.blob import BlobServiceClient, BlobClient, ContainerClient\n",
    "\n",
    "# URL del punto final del servicio Blob y token SAS\n",
    "url_blob = \"https://adlindicadoresemae.blob.core.windows.net/\"\n",
    "token_sas = \"?sv=2021-10-04&ss=btqf&srt=sco&st=2023-04-26T10%3A55%3A03Z&se=2023-07-27T10%3A55%3A00Z&sp=rwdxftlacup&sig=9%2FBvXPQRTnl4CUwGzrUpMFXbpu50nNRqix5pREicSiY%3D\"\n",
    "\n",
    "# Conexión a la cuenta de almacenamiento de Azure utilizando el token SAS\n",
    "connect_str = f\"BlobEndpoint={url_blob};SharedAccessSignature={token_sas}\"\n",
    "blob_service_client = BlobServiceClient.from_connection_string(connect_str)"
   ]
  },
  {
   "cell_type": "code",
   "execution_count": 18,
   "metadata": {},
   "outputs": [],
   "source": [
    "# Referencia al contenedor donde se guardará el archivo\n",
    "container_name_ent = \"datosemae/bronze/Entidades\"\n",
    "container_name_paa = \"datosemae/bronze/PAA\"\n",
    "\n",
    "### Guardamos los archivos que dejamos en la carpeta de Large Data\n",
    "ruta_LD='/dropbox/Dropbox/CCE-projects/Large Data'\n",
    "\n",
    "\n",
    "### Cargamos los archivos parquet en el contenedor\n",
    "\n",
    "# Cargamos el archivo de entidades\n",
    "ruta_ent_small=ruta_LD+'/Entidades/Sat_Company.parquet'\n",
    "ruta_ent_full=ruta_LD+'/Entidades/Sat_Company_full.parquet'\n",
    "\n",
    "blob_client_ent_small = blob_service_client.get_blob_client(container=container_name_ent, blob='Sat_Company.parquet')\n",
    "blob_client_ent_full = blob_service_client.get_blob_client(container=container_name_ent, blob='Sat_Company_full.parquet')\n",
    "\n",
    "with open(ruta_ent_small, \"rb\") as data:\n",
    "    blob_client_ent_small.upload_blob(data, overwrite=True)\n",
    "\n",
    "with open(ruta_ent_full, \"rb\") as data:\n",
    "    blob_client_ent_full.upload_blob(data, overwrite=True)"
   ]
  },
  {
   "cell_type": "code",
   "execution_count": 19,
   "metadata": {},
   "outputs": [],
   "source": [
    "# Referencia al contenedor donde se guardará el archivo\n",
    "container_name_ent = \"datosemae/bronze/Entidades\"\n",
    "\n",
    "### Guardamos los archivos que dejamos en la carpeta de Large Data\n",
    "ruta_LD='/dropbox/Dropbox/CCE-projects/Large Data'\n",
    "\n",
    "\n",
    "### Cargamos los archivos parquet en el contenedor\n",
    "\n",
    "# Cargamos el archivo de entidades\n",
    "ruta_ent_small=ruta_LD+'/Entidades/Entidades_SECOP_II.parquet'\n",
    "ruta_ent_full=ruta_LD+'/Entidades/Entidades_SECOP_II_FULL.parquet'\n",
    "\n",
    "blob_client_ent_small = blob_service_client.get_blob_client(container=container_name_ent, blob='Entidades_SECOP_II.parquet')\n",
    "blob_client_ent_full = blob_service_client.get_blob_client(container=container_name_ent, blob='Entidades_SECOP_II_FULL.parquet')\n",
    "\n",
    "with open(ruta_ent_small, \"rb\") as data:\n",
    "    blob_client_ent_small.upload_blob(data, overwrite=True)\n",
    "\n",
    "with open(ruta_ent_full, \"rb\") as data:\n",
    "    blob_client_ent_full.upload_blob(data, overwrite=True)"
   ]
  },
  {
   "cell_type": "markdown",
   "metadata": {},
   "source": [
    "## Lectura de datos desde DataLake\n",
    "\n",
    "Para leer los datos desde el datalake, se debe ejecutar la siguiente consulta:\n"
   ]
  },
  {
   "cell_type": "code",
   "execution_count": 1,
   "metadata": {},
   "outputs": [],
   "source": [
    "import pandas as pd\n",
    "import pyarrow.parquet as pq\n",
    "from azure.storage.blob import BlobServiceClient, BlobClient, ContainerClient\n",
    "import tempfile\n",
    "# URL del punto final del servicio Blob y token SAS\n",
    "url_blob = \"https://adlindicadoresemae.blob.core.windows.net/\"\n",
    "token_sas = \"sp=racwdlmeop&st=2023-06-09T05:36:44Z&se=2023-06-09T13:36:44Z&spr=https&sv=2022-11-02&sr=c&sig=FE5BaP6bfBsXzBrcJGyobQJ92RuRgbwrZCMWeKrsAd8%3D\"\n",
    "\n",
    "\n",
    "### Cargamos los archivos parquet del contenedor\n",
    "# Conexión a la cuenta de almacenamiento de Azure utilizando el token SAS\n",
    "connect_str = f\"BlobEndpoint={url_blob};SharedAccessSignature={token_sas}\"\n",
    "blob_service_client = BlobServiceClient.from_connection_string(connect_str)\n",
    "\n",
    "# Referencia al contenedor donde se encuentran los archivos\n",
    "container_name_ent = \"datosemae/bronze/Entidades\"\n",
    "container_client_ent = blob_service_client.get_container_client(container_name_ent)\n",
    "\n",
    "# Nombre del archivo a leer\n",
    "blob_name_ent_small = \"Entidades_SECOP_II.parquet\"\n",
    "blob_name_ent_full = \"Entidades_SECOP_II_FULL.parquet\""
   ]
  },
  {
   "cell_type": "code",
   "execution_count": 2,
   "metadata": {},
   "outputs": [
    {
     "data": {
      "text/plain": [
       "(20045, 8)"
      ]
     },
     "execution_count": 2,
     "metadata": {},
     "output_type": "execute_result"
    }
   ],
   "source": [
    "# Descarga del archivo Sat_Company.parquet desde Azure Blob Storage\n",
    "blob_client_ent_small = container_client_ent.get_blob_client(blob_name_ent_small)\n",
    "download_stream_ent_small = blob_client_ent_small.download_blob()\n",
    "downloaded_blob_ent_small = download_stream_ent_small.readall()\n",
    "# Escritura del archivo descargado en un archivo temporal\n",
    "with tempfile.TemporaryFile() as tmp_file:\n",
    "    tmp_file.write(downloaded_blob_ent_small)\n",
    "\n",
    "    # Conversión del archivo Parquet a un DataFrame de Pandas\n",
    "    df_entidades = pd.read_parquet(tmp_file)\n",
    "\n",
    "df_entidades.shape"
   ]
  },
  {
   "cell_type": "code",
   "execution_count": 3,
   "metadata": {},
   "outputs": [
    {
     "name": "stdout",
     "output_type": "stream",
     "text": [
      "(27604, 138)\n"
     ]
    }
   ],
   "source": [
    "# Descarga del archivo Sat_Company_full.parquet desde Azure Blob Storage\n",
    "blob_client_ent_full = container_client_ent.get_blob_client(blob_name_ent_full)\n",
    "download_stream_ent_full = blob_client_ent_full.download_blob()\n",
    "downloaded_blob_ent_full = download_stream_ent_full.readall()\n",
    "# Escritura del archivo descargado en un archivo temporal\n",
    "with tempfile.TemporaryFile() as tmp_file:\n",
    "    tmp_file.write(downloaded_blob_ent_full)\n",
    "\n",
    "    # Conversión del archivo Parquet a un DataFrame de Pandas\n",
    "    DF_ENTIDADES = pd.read_parquet(tmp_file,engine='fastparquet')\n",
    "# Visualización del DataFrame Sat_Company_full.parquet\n",
    "print(DF_ENTIDADES.shape)"
   ]
  },
  {
   "cell_type": "code",
   "execution_count": 4,
   "metadata": {},
   "outputs": [
    {
     "data": {
      "text/html": [
       "<div>\n",
       "<style scoped>\n",
       "    .dataframe tbody tr th:only-of-type {\n",
       "        vertical-align: middle;\n",
       "    }\n",
       "\n",
       "    .dataframe tbody tr th {\n",
       "        vertical-align: top;\n",
       "    }\n",
       "\n",
       "    .dataframe thead th {\n",
       "        text-align: right;\n",
       "    }\n",
       "</style>\n",
       "<table border=\"1\" class=\"dataframe\">\n",
       "  <thead>\n",
       "    <tr style=\"text-align: right;\">\n",
       "      <th></th>\n",
       "      <th>Codigo</th>\n",
       "      <th>Nombre Legal</th>\n",
       "      <th>NIT</th>\n",
       "      <th>Entidad</th>\n",
       "      <th>Creacion_Fecha</th>\n",
       "      <th>Count Nombre Legal</th>\n",
       "      <th>Count NIT</th>\n",
       "      <th>Count Entidad</th>\n",
       "    </tr>\n",
       "  </thead>\n",
       "  <tbody>\n",
       "    <tr>\n",
       "      <th>0</th>\n",
       "      <td>700000011</td>\n",
       "      <td>VORTAL COMPRADOR (ENTIDAD DE SISTEMA)</td>\n",
       "      <td>800211401</td>\n",
       "      <td>True</td>\n",
       "      <td>2015-02-14 11:06:02.614891</td>\n",
       "      <td>1</td>\n",
       "      <td>1</td>\n",
       "      <td>1</td>\n",
       "    </tr>\n",
       "    <tr>\n",
       "      <th>8</th>\n",
       "      <td>700003015</td>\n",
       "      <td>VORTAL OPERATIONS</td>\n",
       "      <td>000000001</td>\n",
       "      <td>True</td>\n",
       "      <td>2015-02-16 09:34:20.870667</td>\n",
       "      <td>1</td>\n",
       "      <td>1</td>\n",
       "      <td>1</td>\n",
       "    </tr>\n",
       "    <tr>\n",
       "      <th>42</th>\n",
       "      <td>700007024</td>\n",
       "      <td>FISCALIA SUBDIRECCION NOR OCCIDENTAL</td>\n",
       "      <td>800187568</td>\n",
       "      <td>True</td>\n",
       "      <td>2015-02-18 08:29:29.042615</td>\n",
       "      <td>1</td>\n",
       "      <td>1</td>\n",
       "      <td>1</td>\n",
       "    </tr>\n",
       "    <tr>\n",
       "      <th>184</th>\n",
       "      <td>700028038</td>\n",
       "      <td>ALCALDIA MUNICIPIO DE VILLANUEVA BOLIVAR</td>\n",
       "      <td>890481192</td>\n",
       "      <td>True</td>\n",
       "      <td>2015-03-05 16:27:37.969787</td>\n",
       "      <td>1</td>\n",
       "      <td>1</td>\n",
       "      <td>1</td>\n",
       "    </tr>\n",
       "    <tr>\n",
       "      <th>190</th>\n",
       "      <td>700028095</td>\n",
       "      <td>FUNDACIÓN DE FOMENTO TURÍSTICO DEPORTIVO Y CUL...</td>\n",
       "      <td>9002109871</td>\n",
       "      <td>True</td>\n",
       "      <td>2015-03-05 21:58:40.591303</td>\n",
       "      <td>1</td>\n",
       "      <td>1</td>\n",
       "      <td>1</td>\n",
       "    </tr>\n",
       "    <tr>\n",
       "      <th>...</th>\n",
       "      <td>...</td>\n",
       "      <td>...</td>\n",
       "      <td>...</td>\n",
       "      <td>...</td>\n",
       "      <td>...</td>\n",
       "      <td>...</td>\n",
       "      <td>...</td>\n",
       "      <td>...</td>\n",
       "    </tr>\n",
       "    <tr>\n",
       "      <th>1128324</th>\n",
       "      <td>721867455</td>\n",
       "      <td>EMPRESA DE DESARROLLO URBANO DEL PACIFICO</td>\n",
       "      <td>901653745</td>\n",
       "      <td>True</td>\n",
       "      <td>2023-05-10 20:07:38.732332</td>\n",
       "      <td>1</td>\n",
       "      <td>1</td>\n",
       "      <td>1</td>\n",
       "    </tr>\n",
       "    <tr>\n",
       "      <th>1128340</th>\n",
       "      <td>721867612</td>\n",
       "      <td>INSTITUCION EDUCATIVA DISTRITAL EL PARAISO</td>\n",
       "      <td>802007590</td>\n",
       "      <td>True</td>\n",
       "      <td>2023-05-10 20:29:14.261666</td>\n",
       "      <td>1</td>\n",
       "      <td>1</td>\n",
       "      <td>1</td>\n",
       "    </tr>\n",
       "    <tr>\n",
       "      <th>1128560</th>\n",
       "      <td>721869816</td>\n",
       "      <td>INSTITUCION EDUCASTIVA LAS AREPAS</td>\n",
       "      <td>9002272671</td>\n",
       "      <td>True</td>\n",
       "      <td>2023-05-10 21:46:34.131316</td>\n",
       "      <td>1</td>\n",
       "      <td>1</td>\n",
       "      <td>1</td>\n",
       "    </tr>\n",
       "    <tr>\n",
       "      <th>1128849</th>\n",
       "      <td>721873677</td>\n",
       "      <td>LAURA MARCELA CABRA</td>\n",
       "      <td>1007296094</td>\n",
       "      <td>True</td>\n",
       "      <td>2023-05-11 04:37:47.697546</td>\n",
       "      <td>1</td>\n",
       "      <td>1</td>\n",
       "      <td>1</td>\n",
       "    </tr>\n",
       "    <tr>\n",
       "      <th>1128877</th>\n",
       "      <td>SA</td>\n",
       "      <td>SOPORTE CCE</td>\n",
       "      <td>00000000000000.</td>\n",
       "      <td>True</td>\n",
       "      <td>2015-02-13 09:29:11.847307</td>\n",
       "      <td>1</td>\n",
       "      <td>3</td>\n",
       "      <td>1</td>\n",
       "    </tr>\n",
       "  </tbody>\n",
       "</table>\n",
       "<p>20045 rows × 8 columns</p>\n",
       "</div>"
      ],
      "text/plain": [
       "            Codigo                                       Nombre Legal  \\\n",
       "0        700000011              VORTAL COMPRADOR (ENTIDAD DE SISTEMA)   \n",
       "8        700003015                                  VORTAL OPERATIONS   \n",
       "42       700007024               FISCALIA SUBDIRECCION NOR OCCIDENTAL   \n",
       "184      700028038           ALCALDIA MUNICIPIO DE VILLANUEVA BOLIVAR   \n",
       "190      700028095  FUNDACIÓN DE FOMENTO TURÍSTICO DEPORTIVO Y CUL...   \n",
       "...            ...                                                ...   \n",
       "1128324  721867455          EMPRESA DE DESARROLLO URBANO DEL PACIFICO   \n",
       "1128340  721867612         INSTITUCION EDUCATIVA DISTRITAL EL PARAISO   \n",
       "1128560  721869816                  INSTITUCION EDUCASTIVA LAS AREPAS   \n",
       "1128849  721873677                               LAURA MARCELA CABRA    \n",
       "1128877         SA                                        SOPORTE CCE   \n",
       "\n",
       "                     NIT  Entidad             Creacion_Fecha  \\\n",
       "0              800211401     True 2015-02-14 11:06:02.614891   \n",
       "8              000000001     True 2015-02-16 09:34:20.870667   \n",
       "42             800187568     True 2015-02-18 08:29:29.042615   \n",
       "184            890481192     True 2015-03-05 16:27:37.969787   \n",
       "190           9002109871     True 2015-03-05 21:58:40.591303   \n",
       "...                  ...      ...                        ...   \n",
       "1128324        901653745     True 2023-05-10 20:07:38.732332   \n",
       "1128340        802007590     True 2023-05-10 20:29:14.261666   \n",
       "1128560       9002272671     True 2023-05-10 21:46:34.131316   \n",
       "1128849       1007296094     True 2023-05-11 04:37:47.697546   \n",
       "1128877  00000000000000.     True 2015-02-13 09:29:11.847307   \n",
       "\n",
       "         Count Nombre Legal  Count NIT  Count Entidad  \n",
       "0                         1          1              1  \n",
       "8                         1          1              1  \n",
       "42                        1          1              1  \n",
       "184                       1          1              1  \n",
       "190                       1          1              1  \n",
       "...                     ...        ...            ...  \n",
       "1128324                   1          1              1  \n",
       "1128340                   1          1              1  \n",
       "1128560                   1          1              1  \n",
       "1128849                   1          1              1  \n",
       "1128877                   1          3              1  \n",
       "\n",
       "[20045 rows x 8 columns]"
      ]
     },
     "execution_count": 4,
     "metadata": {},
     "output_type": "execute_result"
    }
   ],
   "source": [
    "df_entidades"
   ]
  },
  {
   "cell_type": "markdown",
   "metadata": {},
   "source": [
    "### Creador de código HASH"
   ]
  },
  {
   "cell_type": "code",
   "execution_count": 25,
   "metadata": {},
   "outputs": [
    {
     "data": {
      "text/plain": [
       "'5FECEB66FFC86F38D952786C6D696C79C2DBC239DD4E91B46729D73A27FB57E9'"
      ]
     },
     "execution_count": 25,
     "metadata": {},
     "output_type": "execute_result"
    }
   ],
   "source": [
    "dm.generate_hash_key('0')"
   ]
  },
  {
   "cell_type": "markdown",
   "metadata": {},
   "source": [
    "## Carga Versión Previa de MDM\n",
    "\n",
    "Cargamos la base desde la ruta `../../../Data/Raw/`"
   ]
  },
  {
   "cell_type": "code",
   "execution_count": 26,
   "metadata": {},
   "outputs": [],
   "source": [
    "MDM_VP=pd.read_excel(ruta_DATA+'/20220714_MDM_Entidades_v6.xlsx',sheet_name='MDM')\n",
    "MDM_VP.columns\n",
    "MDM_VP['HashKey']=[dm.generate_hash_key(str(i+7456788)) for i in range(1,len(MDM_VP)+1)]\n",
    "MDM_VP['NIT_Secop']=MDM_VP['NIT_Secop'].fillna(-1).astype(int).astype(str)"
   ]
  },
  {
   "cell_type": "code",
   "execution_count": 27,
   "metadata": {},
   "outputs": [],
   "source": [
    "# Se cambia el tipo de variables Codigo a str\n",
    "\n",
    "df_entidades['Codigo']=df_entidades['Codigo'].astype(str)\n",
    "MDM_VP['codigo_entidad']=MDM_VP['codigo_entidad'].fillna(-1).astype(int).astype(str)"
   ]
  },
  {
   "cell_type": "code",
   "execution_count": 28,
   "metadata": {},
   "outputs": [
    {
     "data": {
      "text/plain": [
       "(5249, 32)"
      ]
     },
     "execution_count": 28,
     "metadata": {},
     "output_type": "execute_result"
    }
   ],
   "source": [
    "## Integramos a traves de código de entidad a MDM_VP y df_entidades\n",
    "\n",
    "DF_Integrado=pd.merge(df_entidades,MDM_VP,how='inner',left_on='Codigo',right_on='codigo_entidad')\n",
    "DF_Integrado.shape"
   ]
  },
  {
   "cell_type": "code",
   "execution_count": 29,
   "metadata": {},
   "outputs": [],
   "source": [
    "# Fuentes que contengan SECOP I Y SECOP II\n",
    "\n",
    "MDM_SI_SII=MDM_VP[MDM_VP['Fuente'].isin(['SECOP II','SECOP I'])]\n",
    "MDM_SI_SII=MDM_SI_SII[MDM_SI_SII['codigo_sigep']!=0]\n",
    "#MDM_SI_SII"
   ]
  },
  {
   "cell_type": "code",
   "execution_count": 30,
   "metadata": {},
   "outputs": [
    {
     "data": {
      "text/plain": [
       "Llave_NIT\n",
       "890503106-222     1\n",
       "800188421-4747    1\n",
       "0-4745            1\n",
       "891780042-212     1\n",
       "890980998-217     1\n",
       "                 ..\n",
       "890984265-2625    1\n",
       "890984030-2624    1\n",
       "890980964-2623    1\n",
       "800097180-2622    1\n",
       "900160887-2867    1\n",
       "Name: count, Length: 5100, dtype: int64"
      ]
     },
     "execution_count": 30,
     "metadata": {},
     "output_type": "execute_result"
    }
   ],
   "source": [
    "# Se crea la variable Llave_NIT, con Nit SECOP más codigo SIGEP\n",
    "\n",
    "MDM_SI_SII['Llave_NIT']=(MDM_SI_SII['NIT_Secop'].astype(str)+'-'+MDM_SI_SII['codigo_sigep'].astype(str)).astype(str)\n",
    "MDM_SI_SII['Llave_NIT'].value_counts()[MDM_SI_SII['Llave_NIT'].value_counts()<=1]"
   ]
  },
  {
   "cell_type": "code",
   "execution_count": 31,
   "metadata": {},
   "outputs": [],
   "source": [
    "# Se crea la variable Llave_NIT, con Nit SECOP más codigo SIGEP más fuente\n",
    "\n",
    "MDM_SI_SII['Llave_NIT']=(MDM_SI_SII['NIT_Secop'].astype(str)+'-'+MDM_SI_SII['codigo_sigep'].astype(str)+'-'+MDM_SI_SII['Fuente']).astype(str)\n",
    "LLAVES=MDM_SI_SII['Llave_NIT'].value_counts()[MDM_SI_SII['Llave_NIT'].value_counts()<=1].index.tolist()"
   ]
  },
  {
   "cell_type": "code",
   "execution_count": 32,
   "metadata": {},
   "outputs": [
    {
     "data": {
      "text/plain": [
       "7925"
      ]
     },
     "execution_count": 32,
     "metadata": {},
     "output_type": "execute_result"
    }
   ],
   "source": [
    "len(LLAVES)"
   ]
  },
  {
   "cell_type": "code",
   "execution_count": 33,
   "metadata": {},
   "outputs": [
    {
     "data": {
      "text/plain": [
       "Fuente\n",
       "SECOP I     5239\n",
       "SECOP II    3171\n",
       "Name: count, dtype: int64"
      ]
     },
     "execution_count": 33,
     "metadata": {},
     "output_type": "execute_result"
    }
   ],
   "source": [
    "MDM_SI_SII['Fuente'].value_counts()"
   ]
  },
  {
   "cell_type": "code",
   "execution_count": 34,
   "metadata": {},
   "outputs": [
    {
     "data": {
      "text/plain": [
       "7925"
      ]
     },
     "execution_count": 34,
     "metadata": {},
     "output_type": "execute_result"
    }
   ],
   "source": [
    "# Lista de llaves limpias\n",
    "\n",
    "LLAVES_LIMPIAS=[i.replace('-SECOP II','').replace('-SECOP I','') for i in LLAVES]\n",
    "len(LLAVES_LIMPIAS)"
   ]
  },
  {
   "cell_type": "code",
   "execution_count": 35,
   "metadata": {},
   "outputs": [
    {
     "data": {
      "text/plain": [
       "Index(['codigo_entidad', 'codigo_sigep', 'NIT_Secop', 'N_Entidad_Final',\n",
       "       'N_Entidad_Plataforma', 'Nombre Estandar', 'N_Entidad_FP',\n",
       "       'codigo_sigep.1', 'Fuente', 'orden_Entidad', 'rama_Entidad',\n",
       "       'sector_Entidad', 'llave', 'Id_Ciudad', 'Municipio', 'NOMBRE_DPT',\n",
       "       'Obligada SECOP II', 'Entidad Ciudad Capital', 'TVEC',\n",
       "       'validacion_nombre', 'Año_Obligatoriedad', 'Mes_Ingreso',\n",
       "       'Trimestre_Ingreso', 'HashKey', 'Llave_NIT'],\n",
       "      dtype='object')"
      ]
     },
     "execution_count": 35,
     "metadata": {},
     "output_type": "execute_result"
    }
   ],
   "source": [
    "MDM_SI_SII.columns"
   ]
  },
  {
   "cell_type": "code",
   "execution_count": 36,
   "metadata": {},
   "outputs": [
    {
     "data": {
      "text/plain": [
       "(7878, 11)"
      ]
     },
     "execution_count": 36,
     "metadata": {},
     "output_type": "execute_result"
    }
   ],
   "source": [
    "# Limpieza de dataframe MDM_SI_SII\n",
    "\n",
    "MDM_SI_SII['Llave_Limpia']=(MDM_SI_SII['NIT_Secop'].astype(str)+'-'+MDM_SI_SII['codigo_sigep'].astype(str)).astype(str)\n",
    "Entidades=[]\n",
    "for i,llave in enumerate(LLAVES_LIMPIAS):\n",
    "    Info=[]\n",
    "    DF=MDM_SI_SII[MDM_SI_SII['Llave_Limpia']==llave]\n",
    "\n",
    "    if DF.shape[0]<=2:\n",
    "        Info.append(DF['NIT_Secop'].unique().tolist()[0])\n",
    "        Info.append(DF['codigo_sigep'].unique().tolist()[0])\n",
    "        Info.append(DF['N_Entidad_Plataforma'].unique().tolist()[0])\n",
    "        Info.append(DF['orden_Entidad'].unique().tolist()[0])\n",
    "        Info.append(DF['rama_Entidad'].unique().tolist()[0])\n",
    "        Info.append(DF['sector_Entidad'].unique().tolist()[0])\n",
    "        Info.append(DF['Obligada SECOP II'].unique().tolist()[0])\n",
    "        Info.append(DF['Entidad Ciudad Capital'].unique().tolist()[0])\n",
    "        Info.append(DF['Año_Obligatoriedad'].unique().tolist()[0])\n",
    "        if DF[DF['Fuente']=='SECOP II'].shape[0]>0:\n",
    "            Info.append(DF[DF['Fuente']=='SECOP II']['codigo_entidad'].unique().tolist()[0])\n",
    "        else:\n",
    "            Info.append('No registra')\n",
    "        \n",
    "        if DF[DF['Fuente']=='SECOP I'].shape[0]>0:\n",
    "            Info.append(DF[DF['Fuente']=='SECOP I']['codigo_entidad'].unique().tolist()[0])\n",
    "        else:\n",
    "            Info.append('No registra')\n",
    "\n",
    "        Entidades.append(Info)\n",
    "\n",
    "MDM_limpio=pd.DataFrame(Entidades,columns=['NIT_Secop','codigo_sigep','N_Entidad_Plataforma','orden_Entidad','rama_Entidad','sector_Entidad','Obligada SECOP II','Entidad Ciudad Capital','Año_Obligatoriedad','codigo_entidad_SECOP II','codigo_entidad_SECOP I'])\n",
    "MDM_limpio.shape"
   ]
  },
  {
   "cell_type": "code",
   "execution_count": 37,
   "metadata": {},
   "outputs": [],
   "source": [
    "# Se descarta Nit_Secop igual a cero\n",
    "\n",
    "MDM_limpio=MDM_limpio[MDM_limpio['NIT_Secop']!='0']"
   ]
  },
  {
   "cell_type": "code",
   "execution_count": 38,
   "metadata": {},
   "outputs": [
    {
     "data": {
      "text/plain": [
       "(6215, 11)"
      ]
     },
     "execution_count": 38,
     "metadata": {},
     "output_type": "execute_result"
    }
   ],
   "source": [
    "# Se eliminan duplicados\n",
    "\n",
    "MDM_limpio.drop_duplicates(keep='first',inplace=True)\n",
    "MDM_limpio.shape"
   ]
  },
  {
   "cell_type": "code",
   "execution_count": 39,
   "metadata": {},
   "outputs": [
    {
     "data": {
      "text/plain": [
       "(11587, 25)"
      ]
     },
     "execution_count": 39,
     "metadata": {},
     "output_type": "execute_result"
    }
   ],
   "source": [
    "# Se define llave NIT\n",
    "\n",
    "MDM_VP['Llave_NIT']=(MDM_VP['NIT_Secop'].astype(str)+'-'+MDM_VP['codigo_sigep'].astype(str)).astype(str)\n",
    "MDM_limpio['Llave_NIT']=(MDM_limpio['NIT_Secop'].astype(str)+'-'+MDM_limpio['codigo_sigep'].astype(str)).astype(str)\n",
    "MDM_VP_R=MDM_VP[~MDM_VP['Llave_NIT'].isin(MDM_limpio['Llave_NIT'])]\n",
    "MDM_VP_R.shape"
   ]
  },
  {
   "cell_type": "code",
   "execution_count": 40,
   "metadata": {},
   "outputs": [],
   "source": [
    "# Se descarta fuente TVEC\n",
    "\n",
    "MDM_VP_R=MDM_VP_R[MDM_VP_R['Fuente']!='TVEC']"
   ]
  },
  {
   "cell_type": "code",
   "execution_count": 41,
   "metadata": {},
   "outputs": [
    {
     "data": {
      "text/plain": [
       "(1035, 11)"
      ]
     },
     "execution_count": 41,
     "metadata": {},
     "output_type": "execute_result"
    }
   ],
   "source": [
    "# Limpieza de dataframe MDM_VP_R\n",
    "\n",
    "MDM_VP_R['Llave_Nombre']=MDM_VP_R['Llave_NIT']\n",
    "Llave_Nombre=MDM_VP_R['Llave_Nombre'].value_counts()[MDM_VP_R['Llave_Nombre'].value_counts()==2].index.tolist()\n",
    "Entidades=[]\n",
    "for llave in Llave_Nombre:\n",
    "    DF=MDM_VP_R[MDM_VP_R['Llave_Nombre']==llave]\n",
    "    Info=[]\n",
    "    if DF['Fuente'].nunique()==2:\n",
    "        Info.append(DF['NIT_Secop'].unique().tolist()[0])\n",
    "        Info.append(DF['codigo_sigep'].unique().tolist()[0])\n",
    "        Info.append(DF['N_Entidad_Plataforma'].unique().tolist()[0])\n",
    "        Info.append(DF['orden_Entidad'].unique().tolist()[0])\n",
    "        Info.append(DF['rama_Entidad'].unique().tolist()[0])\n",
    "        Info.append(DF['sector_Entidad'].unique().tolist()[0])\n",
    "        Info.append(DF['Obligada SECOP II'].unique().tolist()[0])\n",
    "        Info.append(DF['Entidad Ciudad Capital'].unique().tolist()[0])\n",
    "        Info.append(DF['Año_Obligatoriedad'].unique().tolist()[0])\n",
    "        if DF[DF['Fuente']=='SECOP II'].shape[0]>0:\n",
    "            Info.append(DF[DF['Fuente']=='SECOP II']['codigo_entidad'].unique().tolist()[0])\n",
    "        else:\n",
    "            Info.append('No registra')\n",
    "        \n",
    "        if DF[DF['Fuente']=='SECOP I'].shape[0]>0:\n",
    "            Info.append(DF[DF['Fuente']=='SECOP I']['codigo_entidad'].unique().tolist()[0])\n",
    "        else:\n",
    "            Info.append('No registra')\n",
    "\n",
    "        Entidades.append(Info)\n",
    "\n",
    "MDM_limpio2=pd.DataFrame(Entidades,columns=['NIT_Secop','codigo_sigep','N_Entidad_Plataforma','orden_Entidad','rama_Entidad','sector_Entidad','Obligada SECOP II','Entidad Ciudad Capital','Año_Obligatoriedad','codigo_entidad_SECOP II','codigo_entidad_SECOP I'])\n",
    "MDM_limpio2.shape        "
   ]
  },
  {
   "cell_type": "code",
   "execution_count": 42,
   "metadata": {},
   "outputs": [
    {
     "data": {
      "text/plain": [
       "(1035, 11)"
      ]
     },
     "execution_count": 42,
     "metadata": {},
     "output_type": "execute_result"
    }
   ],
   "source": [
    "# Se descarta Nit_secop igual a cero y se eliminan duplicados\n",
    "\n",
    "MDM_limpio2=MDM_limpio2[MDM_limpio2['NIT_Secop']!='0']\n",
    "MDM_limpio2.drop_duplicates(keep='first',inplace=True)\n",
    "MDM_limpio2.shape"
   ]
  },
  {
   "cell_type": "code",
   "execution_count": 43,
   "metadata": {},
   "outputs": [
    {
     "data": {
      "text/plain": [
       "(7250, 12)"
      ]
     },
     "execution_count": 43,
     "metadata": {},
     "output_type": "execute_result"
    }
   ],
   "source": [
    "# Se concatenan los dos dataframes limpios MDM\n",
    "\n",
    "MDM_limpio_Total=pd.concat([MDM_limpio,MDM_limpio2],axis=0)\n",
    "MDM_limpio_Total.drop_duplicates(keep='first',inplace=True)\n",
    "MDM_limpio_Total.shape"
   ]
  },
  {
   "cell_type": "code",
   "execution_count": 44,
   "metadata": {},
   "outputs": [],
   "source": [
    "# Se crea la variable llave_NIT\n",
    "\n",
    "MDM_limpio_Total['Llave_NIT']=(MDM_limpio_Total['NIT_Secop'].astype(str)+'-'+MDM_limpio_Total['codigo_sigep'].astype(str)).astype(str)"
   ]
  },
  {
   "cell_type": "markdown",
   "metadata": {},
   "source": [
    "Hay cruce con la versión previa del MDM con 5249 entidades"
   ]
  },
  {
   "cell_type": "code",
   "execution_count": 45,
   "metadata": {},
   "outputs": [
    {
     "data": {
      "text/plain": [
       "(7250, 25)"
      ]
     },
     "execution_count": 45,
     "metadata": {},
     "output_type": "execute_result"
    }
   ],
   "source": [
    "MDM_VP_R=MDM_VP[~MDM_VP['Llave_NIT'].isin(MDM_limpio_Total['Llave_NIT'])]\n",
    "MDM_VP_R=MDM_VP_R[MDM_VP_R['Fuente']!='TVEC']\n",
    "MDM_VP_R.shape"
   ]
  },
  {
   "cell_type": "code",
   "execution_count": 46,
   "metadata": {},
   "outputs": [
    {
     "data": {
      "text/plain": [
       "(5009, 11)"
      ]
     },
     "execution_count": 46,
     "metadata": {},
     "output_type": "execute_result"
    }
   ],
   "source": [
    "## Ingresamos las entidades con NIT único\n",
    "\n",
    "LLAVES_NIT_UNICO=MDM_VP_R['NIT_Secop'].value_counts()[MDM_VP_R['NIT_Secop'].value_counts()==1].index.tolist()\n",
    "Entidades=[]\n",
    "for llave in LLAVES_NIT_UNICO:\n",
    "    DF=MDM_VP_R[MDM_VP_R['NIT_Secop']==llave]\n",
    "    Info=[]\n",
    "    if DF['Fuente'].nunique()==1:\n",
    "        Info.append(DF['NIT_Secop'].unique().tolist()[0])\n",
    "        Info.append(DF['codigo_sigep'].unique().tolist()[0])\n",
    "        Info.append(DF['N_Entidad_Plataforma'].unique().tolist()[0])\n",
    "        Info.append(DF['orden_Entidad'].unique().tolist()[0])\n",
    "        Info.append(DF['rama_Entidad'].unique().tolist()[0])\n",
    "        Info.append(DF['sector_Entidad'].unique().tolist()[0])\n",
    "        Info.append(DF['Obligada SECOP II'].unique().tolist()[0])\n",
    "        Info.append(DF['Entidad Ciudad Capital'].unique().tolist()[0])\n",
    "        Info.append(DF['Año_Obligatoriedad'].unique().tolist()[0])\n",
    "        if DF[DF['Fuente']=='SECOP II'].shape[0]>0:\n",
    "            Info.append(DF[DF['Fuente']=='SECOP II']['codigo_entidad'].unique().tolist()[0])\n",
    "        else:\n",
    "            Info.append('No registra')\n",
    "        if DF[DF['Fuente']=='SECOP I'].shape[0]>0:\n",
    "            Info.append(DF[DF['Fuente']=='SECOP I']['codigo_entidad'].unique().tolist()[0])\n",
    "        else:\n",
    "            Info.append('No registra')\n",
    "\n",
    "        Entidades.append(Info)\n",
    "\n",
    "\n",
    "MDM_limpio3=pd.DataFrame(Entidades,columns=['NIT_Secop','codigo_sigep','N_Entidad_Plataforma','orden_Entidad','rama_Entidad','sector_Entidad','Obligada SECOP II','Entidad Ciudad Capital','Año_Obligatoriedad','codigo_entidad_SECOP II','codigo_entidad_SECOP I'])\n",
    "MDM_limpio3.shape    "
   ]
  },
  {
   "cell_type": "code",
   "execution_count": 47,
   "metadata": {},
   "outputs": [
    {
     "data": {
      "text/plain": [
       "Index(['NIT_Secop', 'codigo_sigep', 'N_Entidad_Plataforma', 'orden_Entidad',\n",
       "       'rama_Entidad', 'sector_Entidad', 'Obligada SECOP II',\n",
       "       'Entidad Ciudad Capital', 'Año_Obligatoriedad',\n",
       "       'codigo_entidad_SECOP II', 'codigo_entidad_SECOP I', 'Codigo',\n",
       "       'Nombre Legal', 'NIT', 'Entidad', 'Creacion_Fecha',\n",
       "       'Count Nombre Legal', 'Count NIT', 'Count Entidad'],\n",
       "      dtype='object')"
      ]
     },
     "execution_count": 47,
     "metadata": {},
     "output_type": "execute_result"
    }
   ],
   "source": [
    "# Se realiza el merge con el daframe limpio y con la llev de NIT_secop\n",
    "\n",
    "Merge_Limpio3_df=pd.merge(MDM_limpio3,df_entidades,how='left',left_on='NIT_Secop',right_on='NIT')\n",
    "Merge_Limpio3_df.columns"
   ]
  },
  {
   "cell_type": "code",
   "execution_count": 48,
   "metadata": {},
   "outputs": [
    {
     "data": {
      "text/plain": [
       "(12878, 12)"
      ]
     },
     "execution_count": 48,
     "metadata": {},
     "output_type": "execute_result"
    }
   ],
   "source": [
    "# Se definen variables\n",
    "\n",
    "Merge_Limpio3_df['codigo_entidad_SECOP II']=Merge_Limpio3_df['Codigo']\n",
    "Merge_Limpio3_df['N_Entidad_Plataforma']=Merge_Limpio3_df['Nombre Legal']\n",
    "Merge_Limpio3_df=Merge_Limpio3_df[['NIT_Secop', 'codigo_sigep', 'N_Entidad_Plataforma', 'orden_Entidad',\n",
    "       'rama_Entidad', 'sector_Entidad', 'Obligada SECOP II',\n",
    "       'Entidad Ciudad Capital', 'Año_Obligatoriedad',\n",
    "       'codigo_entidad_SECOP II', 'codigo_entidad_SECOP I']]\n",
    "\n",
    "# Se concatenan dataframes y se eliminan duplicados\n",
    "MDM_limpio_Total=pd.concat([MDM_limpio_Total,Merge_Limpio3_df],axis=0)\n",
    "MDM_limpio_Total.drop_duplicates(keep='first',inplace=True)\n",
    "MDM_limpio_Total.shape"
   ]
  },
  {
   "cell_type": "code",
   "execution_count": 49,
   "metadata": {},
   "outputs": [
    {
     "name": "stdout",
     "output_type": "stream",
     "text": [
      "(3419, 12)\n"
     ]
    }
   ],
   "source": [
    "# Se filtra por codigo entidad Secop II igual a no registra y se eliminan duplicados\n",
    "\n",
    "MDM_INT_df=MDM_limpio_Total[MDM_limpio_Total['codigo_entidad_SECOP II']=='No registra']\n",
    "print(MDM_INT_df.shape)\n",
    "MDM_INT_df_2=pd.merge(MDM_INT_df,df_entidades,how='left',left_on='NIT_Secop',right_on='NIT')\n",
    "MDM_INT_df_2=MDM_INT_df_2[~MDM_INT_df_2['Codigo'].duplicated()]"
   ]
  },
  {
   "cell_type": "code",
   "execution_count": 50,
   "metadata": {},
   "outputs": [
    {
     "data": {
      "text/plain": [
       "Index(['NIT_Secop', 'codigo_sigep', 'N_Entidad_Plataforma', 'orden_Entidad',\n",
       "       'rama_Entidad', 'sector_Entidad', 'Obligada SECOP II',\n",
       "       'Entidad Ciudad Capital', 'Año_Obligatoriedad',\n",
       "       'codigo_entidad_SECOP II', 'codigo_entidad_SECOP I', 'Llave_NIT',\n",
       "       'Codigo', 'Nombre Legal', 'NIT', 'Entidad', 'Creacion_Fecha',\n",
       "       'Count Nombre Legal', 'Count NIT', 'Count Entidad'],\n",
       "      dtype='object')"
      ]
     },
     "execution_count": 50,
     "metadata": {},
     "output_type": "execute_result"
    }
   ],
   "source": [
    "MDM_INT_df_2.columns"
   ]
  },
  {
   "cell_type": "code",
   "execution_count": 51,
   "metadata": {},
   "outputs": [
    {
     "data": {
      "text/plain": [
       "(14626, 12)"
      ]
     },
     "execution_count": 51,
     "metadata": {},
     "output_type": "execute_result"
    }
   ],
   "source": [
    "# Se seleccionan variables de interés, se concantena y se eliminan duplicados\n",
    "\n",
    "MDM_Limpio4=MDM_INT_df_2[['NIT_Secop', 'codigo_sigep', 'N_Entidad_Plataforma', 'orden_Entidad',\n",
    "       'rama_Entidad', 'sector_Entidad', 'Obligada SECOP II',\n",
    "       'Entidad Ciudad Capital', 'Año_Obligatoriedad',\n",
    "       'codigo_entidad_SECOP II', 'codigo_entidad_SECOP I']]\n",
    "\n",
    "MDM_limpio_Total=pd.concat([MDM_limpio_Total,MDM_Limpio4],axis=0)\n",
    "MDM_limpio_Total.drop_duplicates(keep='first',inplace=True)\n",
    "MDM_limpio_Total.shape"
   ]
  },
  {
   "cell_type": "code",
   "execution_count": 52,
   "metadata": {},
   "outputs": [
    {
     "data": {
      "text/plain": [
       "(2241, 25)"
      ]
     },
     "execution_count": 52,
     "metadata": {},
     "output_type": "execute_result"
    }
   ],
   "source": [
    "# Se define variable Llave_NIT\n",
    "\n",
    "MDM_limpio_Total['Llave_NIT']=(MDM_limpio_Total['NIT_Secop'].astype(str)+'-'+MDM_limpio_Total['codigo_sigep'].astype(str)).astype(str)\n",
    "\n",
    "MDM_VP_R=MDM_VP[~MDM_VP['Llave_NIT'].isin(MDM_limpio_Total['Llave_NIT'])]\n",
    "MDM_VP_R=MDM_VP_R[MDM_VP_R['Fuente']!='TVEC']\n",
    "MDM_VP_R.shape"
   ]
  },
  {
   "cell_type": "code",
   "execution_count": 53,
   "metadata": {},
   "outputs": [],
   "source": [
    "MDM_INT_4=pd.merge(MDM_VP_R,df_entidades,how='left',left_on='codigo_entidad',right_on='Codigo')\n",
    "Entidades=[]\n",
    "\n",
    "cod_SI=[]\n",
    "for ind in MDM_INT_4.index:\n",
    "    if MDM_INT_4.loc[ind,'Fuente']=='SECOP II':\n",
    "        MDM_INT_4.loc[ind,'codigo_entidad']='No Registra'\n",
    "\n",
    "MDM_INT_4=MDM_INT_4[['NIT_Secop', 'codigo_sigep', 'N_Entidad_Plataforma', 'orden_Entidad',\n",
    "           'rama_Entidad', 'sector_Entidad', 'Obligada SECOP II',\n",
    "           'Entidad Ciudad Capital', 'Año_Obligatoriedad',\n",
    "           'Codigo', 'codigo_entidad','Llave_NIT']]\n",
    "MDM_INT_4.columns=['NIT_Secop', 'codigo_sigep', 'N_Entidad_Plataforma', 'orden_Entidad',\n",
    "              'rama_Entidad', 'sector_Entidad', 'Obligada SECOP II',\n",
    "                'Entidad Ciudad Capital', 'Año_Obligatoriedad', \n",
    "                'codigo_entidad_SECOP II', 'codigo_entidad_SECOP I','Llave_NIT']"
   ]
  },
  {
   "cell_type": "code",
   "execution_count": 54,
   "metadata": {},
   "outputs": [
    {
     "data": {
      "text/plain": [
       "(15119, 12)"
      ]
     },
     "execution_count": 54,
     "metadata": {},
     "output_type": "execute_result"
    }
   ],
   "source": [
    "MDM_limpio_Total=pd.concat([MDM_limpio_Total,MDM_INT_4],axis=0)\n",
    "MDM_limpio_Total.drop_duplicates(keep='first',inplace=True)\n",
    "MDM_limpio_Total.shape"
   ]
  },
  {
   "cell_type": "code",
   "execution_count": 55,
   "metadata": {},
   "outputs": [
    {
     "data": {
      "text/plain": [
       "2240    703971531\n",
       "2240    717943054\n",
       "2240          NaN\n",
       "Name: codigo_entidad_SECOP II, dtype: object"
      ]
     },
     "execution_count": 55,
     "metadata": {},
     "output_type": "execute_result"
    }
   ],
   "source": [
    "MDM_limpio_Total.loc[ind,'codigo_entidad_SECOP II']"
   ]
  },
  {
   "cell_type": "code",
   "execution_count": 56,
   "metadata": {},
   "outputs": [
    {
     "data": {
      "text/plain": [
       "True"
      ]
     },
     "execution_count": 56,
     "metadata": {},
     "output_type": "execute_result"
    }
   ],
   "source": [
    "## Generamos Código de Entidad\n",
    "\n",
    "MDM_limpio_Total.reset_index(inplace=True,drop=True)\n",
    "MDM_limpio_Total['codigo_entidad_SECOP II'].fillna('No Registra',inplace=True)\n",
    "MDM_limpio_Total['codigo_entidad_SECOP I'].fillna('No Registra',inplace=True)\n",
    "MDM_limpio_Total['N_Entidad_Plataforma'].fillna('No Registra',inplace=True)\n",
    "MDM_limpio_Total['drop_file']=MDM_limpio_Total['codigo_entidad_SECOP II'].astype(str).str.lower()+MDM_limpio_Total['codigo_entidad_SECOP I'].astype(str).str.lower()\n",
    "MDM_limpio_Total=MDM_limpio_Total[MDM_limpio_Total['drop_file']!='no registrano registra']\n",
    "for ind in MDM_limpio_Total.index:\n",
    "    if MDM_limpio_Total.loc[ind,'codigo_entidad_SECOP II']=='No Registra':\n",
    "        cod=str(MDM_limpio_Total.loc[ind,'codigo_entidad_SECOP I'])+'S1'\n",
    "    elif MDM_limpio_Total.loc[ind,'codigo_entidad_SECOP I']=='No Registra':\n",
    "        cod=str(MDM_limpio_Total.loc[ind,'codigo_entidad_SECOP II'])+'S2'\n",
    "    else:\n",
    "        cod=MDM_limpio_Total.loc[ind,'codigo_entidad_SECOP II']+MDM_limpio_Total.loc[ind,'codigo_entidad_SECOP I']+'S12'\n",
    "    cod+='-'+MDM_limpio_Total.loc[ind,'N_Entidad_Plataforma']\n",
    "    MDM_limpio_Total.loc[ind,'codigo_entidad']=dm.generate_hash_key(cod)\n",
    "\n",
    "MDM_limpio_Total['codigo_entidad']=MDM_limpio_Total['codigo_entidad'].astype(str)\n",
    "MDM_limpio_Total = dm.eliminar_duplicados(MDM_limpio_Total,'codigo_entidad')\n",
    "MDM_limpio_Total['codigo_entidad'].is_unique"
   ]
  },
  {
   "cell_type": "code",
   "execution_count": 57,
   "metadata": {},
   "outputs": [
    {
     "data": {
      "text/plain": [
       "(11304, 8)"
      ]
     },
     "execution_count": 57,
     "metadata": {},
     "output_type": "execute_result"
    }
   ],
   "source": [
    "# Se filtra donde Codigo de entidades sea igual a los codigos de entidad de secop II \n",
    "\n",
    "df_entidades_huer=df_entidades[~df_entidades.Codigo.isin(MDM_limpio_Total['codigo_entidad_SECOP II'].unique().tolist())]\n",
    "df_entidades_huer.shape"
   ]
  },
  {
   "cell_type": "code",
   "execution_count": 58,
   "metadata": {},
   "outputs": [],
   "source": [
    "# Diccionarios de orden, rama y sector\n",
    "\n",
    "Diccionario_orden={'Territorial':'Territorial','National':'Nacional','Autonomous': 'Corporación Autónoma'}\n",
    "Diccionario_rama={'Executive':'Ejecutivo','Legislative':'Legislativo','Judicial':'Judicial','Autonomous':'Corporación Autónoma'}\n",
    "Diccionario_sector={'NationalEducation':'Educación Nacional',\n",
    "                    'PublicService':'Servicio Público',\n",
    "                    'HealthSocialProtect':'Salud y Protección Social',\n",
    "                    'Defense':'Defensa',\n",
    "                    'Labour':'Trabajo',\n",
    "                    'JusticeLaw':'Ley de Justicia',\n",
    "                    'Sports':'deportes',\n",
    "                    'Environment':'Ambiente y Desarrollo Sostenible',\n",
    "                    'Culture':'Cultura',\n",
    "                    'Agriculture':'agricultura',\n",
    "                    'Territory':'Vivienda, Ciudad y Territorio',\n",
    "                    'Transport':'Transporte',\n",
    "                    'Planning':'Planeación',\n",
    "                    'Industry':'Industria',\n",
    "                    'FinancePublicCredit':'Hacienda y Crédito Público',\n",
    "                    'MinesEnergy':'Minas y Energía',\n",
    "                    'SocialInclusion':'Inclusión Social y Reconciliación',\n",
    "                    'ScienceTech':'Ciencia y Tecnología',\n",
    "                    'TI':'Tecnologías de la Información y las Comunicaciones',\n",
    "                    'Foreign':'Relaciones Exteriores',\n",
    "                    'Interior':'interior',\n",
    "                    'StatisticalInfo':'Información Estadística',\n",
    "                    'PresidencyRep':'Presidencia de la República',\n",
    "                    'Intelligence':'Inteligencia Estratégica y Contrainteligencia'}"
   ]
  },
  {
   "cell_type": "code",
   "execution_count": 59,
   "metadata": {},
   "outputs": [],
   "source": [
    "# Se eliminan duplicados y se agrupan por código\n",
    "\n",
    "INT_ENT=DF_ENTIDADES[['Code','CompanySectorCode','CompanyBranchCode','ScopeOfInfluenceCode']].drop_duplicates().reset_index(drop=True)\n",
    "INT_ENT=INT_ENT.groupby('Code').agg({'CompanySectorCode':'first','CompanyBranchCode':'first','ScopeOfInfluenceCode':'first'}).reset_index()"
   ]
  },
  {
   "cell_type": "code",
   "execution_count": 60,
   "metadata": {},
   "outputs": [
    {
     "data": {
      "text/plain": [
       "Index(['NIT_Secop', 'codigo_sigep', 'N_Entidad_Plataforma', 'orden_Entidad',\n",
       "       'rama_Entidad', 'sector_Entidad', 'Obligada SECOP II',\n",
       "       'Entidad Ciudad Capital', 'Año_Obligatoriedad',\n",
       "       'codigo_entidad_SECOP II', 'codigo_entidad_SECOP I', 'Llave_NIT',\n",
       "       'drop_file', 'codigo_entidad'],\n",
       "      dtype='object')"
      ]
     },
     "execution_count": 60,
     "metadata": {},
     "output_type": "execute_result"
    }
   ],
   "source": [
    "MDM_limpio_Total.columns"
   ]
  },
  {
   "cell_type": "code",
   "execution_count": 61,
   "metadata": {},
   "outputs": [],
   "source": [
    "# Se definen variables\n",
    "\n",
    "df_entidades_huer['codigo_entidad_SECOP II']=df_entidades_huer['Codigo'].astype(str)\n",
    "df_entidades_huer['codigo_entidad_SECOP I']='No Registra'\n",
    "df_entidades_huer['codigo_sigep']='No Registra'\n",
    "df_entidades_huer['NIT_Secop']=df_entidades_huer['NIT']\n",
    "df_entidades_huer['N_Entidad_Plataforma']=df_entidades_huer['Nombre Legal']"
   ]
  },
  {
   "cell_type": "code",
   "execution_count": 62,
   "metadata": {},
   "outputs": [],
   "source": [
    "# Se realiza el merge por código\n",
    "\n",
    "df_entidades_huer=pd.merge(df_entidades_huer,INT_ENT,how='left',left_on='Codigo',right_on='Code')\n",
    "df_entidades_huer['orden_Entidad']=df_entidades_huer['CompanySectorCode'].map(Diccionario_orden)\n",
    "df_entidades_huer['rama_Entidad']=df_entidades_huer['CompanyBranchCode'].map(Diccionario_rama)\n",
    "df_entidades_huer['sector_Entidad']=df_entidades_huer['ScopeOfInfluenceCode'].map(Diccionario_sector)\n",
    "\n",
    "\n",
    "### Para las tres anteriores llenamos vacios con 'No Definido'\n",
    "\n",
    "df_entidades_huer['orden_Entidad']=df_entidades_huer['orden_Entidad'].fillna('No Definido')\n",
    "df_entidades_huer['rama_Entidad']=df_entidades_huer['rama_Entidad'].fillna('No Definido')\n",
    "df_entidades_huer['sector_Entidad']=df_entidades_huer['sector_Entidad'].fillna('No Definido')\n"
   ]
  },
  {
   "cell_type": "code",
   "execution_count": 63,
   "metadata": {},
   "outputs": [],
   "source": [
    "# Se concatena MDM_limpio_total con dataframe de entidades huer\n",
    "\n",
    "MDM_limpio_Total=pd.concat([MDM_limpio_Total,df_entidades_huer],axis=0)\n",
    "MDM_limpio_Total.reset_index(inplace=True,drop=True)"
   ]
  },
  {
   "cell_type": "code",
   "execution_count": 64,
   "metadata": {},
   "outputs": [
    {
     "data": {
      "text/plain": [
       "True"
      ]
     },
     "execution_count": 64,
     "metadata": {},
     "output_type": "execute_result"
    }
   ],
   "source": [
    "## Generamos Código de Entidad\n",
    "\n",
    "MDM_limpio_Total.reset_index(inplace=True,drop=True)\n",
    "MDM_limpio_Total['codigo_entidad_SECOP II'].fillna('No Registra',inplace=True)\n",
    "MDM_limpio_Total['codigo_entidad_SECOP I'].fillna('No Registra',inplace=True)\n",
    "MDM_limpio_Total['N_Entidad_Plataforma'].fillna('No Registra',inplace=True)\n",
    "MDM_limpio_Total['drop_file']=MDM_limpio_Total['codigo_entidad_SECOP II'].astype(str).str.lower()+MDM_limpio_Total['codigo_entidad_SECOP I'].astype(str).str.lower()\n",
    "MDM_limpio_Total=MDM_limpio_Total[MDM_limpio_Total['drop_file']!='no registrano registra']\n",
    "for ind in MDM_limpio_Total.index:\n",
    "    if MDM_limpio_Total.loc[ind,'codigo_entidad_SECOP II']=='No Registra':\n",
    "        cod=str(MDM_limpio_Total.loc[ind,'codigo_entidad_SECOP I'])+'S1'\n",
    "    elif MDM_limpio_Total.loc[ind,'codigo_entidad_SECOP I']=='No Registra':\n",
    "        cod=str(MDM_limpio_Total.loc[ind,'codigo_entidad_SECOP II'])+'S2'\n",
    "    else:\n",
    "        cod=MDM_limpio_Total.loc[ind,'codigo_entidad_SECOP II']+MDM_limpio_Total.loc[ind,'codigo_entidad_SECOP I']+'S12'\n",
    "    cod+='-'+MDM_limpio_Total.loc[ind,'N_Entidad_Plataforma']\n",
    "    MDM_limpio_Total.loc[ind,'codigo_entidad']=dm.generate_hash_key(cod)\n",
    "\n",
    "MDM_limpio_Total['codigo_entidad']=MDM_limpio_Total['codigo_entidad'].astype(str)\n",
    "MDM_limpio_Total.drop_duplicates(subset=['codigo_entidad'],keep='first',inplace=True)\n",
    "MDM_limpio_Total['codigo_entidad'].is_unique"
   ]
  },
  {
   "cell_type": "code",
   "execution_count": 65,
   "metadata": {},
   "outputs": [],
   "source": [
    "# Se seleccionan variables de interés\n",
    "\n",
    "MDM_limpio_Total=MDM_limpio_Total[['NIT_Secop', 'codigo_sigep', 'N_Entidad_Plataforma', 'orden_Entidad',\n",
    "       'rama_Entidad', 'sector_Entidad', 'codigo_entidad_SECOP II', 'codigo_entidad_SECOP I',\n",
    "       'codigo_entidad']]"
   ]
  },
  {
   "cell_type": "code",
   "execution_count": 66,
   "metadata": {},
   "outputs": [
    {
     "data": {
      "text/html": [
       "<div>\n",
       "<style scoped>\n",
       "    .dataframe tbody tr th:only-of-type {\n",
       "        vertical-align: middle;\n",
       "    }\n",
       "\n",
       "    .dataframe tbody tr th {\n",
       "        vertical-align: top;\n",
       "    }\n",
       "\n",
       "    .dataframe thead th {\n",
       "        text-align: right;\n",
       "    }\n",
       "</style>\n",
       "<table border=\"1\" class=\"dataframe\">\n",
       "  <thead>\n",
       "    <tr style=\"text-align: right;\">\n",
       "      <th></th>\n",
       "      <th>NIT_Secop</th>\n",
       "      <th>codigo_sigep</th>\n",
       "      <th>N_Entidad_Plataforma</th>\n",
       "      <th>orden_Entidad</th>\n",
       "      <th>rama_Entidad</th>\n",
       "      <th>sector_Entidad</th>\n",
       "      <th>codigo_entidad_SECOP II</th>\n",
       "      <th>codigo_entidad_SECOP I</th>\n",
       "      <th>codigo_entidad</th>\n",
       "    </tr>\n",
       "  </thead>\n",
       "  <tbody>\n",
       "    <tr>\n",
       "      <th>0</th>\n",
       "      <td>820000265</td>\n",
       "      <td>4320</td>\n",
       "      <td>BOYACA - FONVICHIQ - FONDO DE VIVIENDA DE INTE...</td>\n",
       "      <td>Territorial</td>\n",
       "      <td>NaN</td>\n",
       "      <td>No aplica</td>\n",
       "      <td>No registra</td>\n",
       "      <td>288968160</td>\n",
       "      <td>61F38D49A7C217EE15D27B33DC9C43E1A49E6F0A7A7DF7...</td>\n",
       "    </tr>\n",
       "    <tr>\n",
       "      <th>1</th>\n",
       "      <td>900128208</td>\n",
       "      <td>4182</td>\n",
       "      <td>ATLANTICO - EDUMAS - EMPRESA DE DESARROLLO URB...</td>\n",
       "      <td>Territorial</td>\n",
       "      <td>NaN</td>\n",
       "      <td>No aplica</td>\n",
       "      <td>705351526</td>\n",
       "      <td>288399170</td>\n",
       "      <td>FCB07C4B42AAE75FFF2440D09DCA0F6F2B434942E96A15...</td>\n",
       "    </tr>\n",
       "    <tr>\n",
       "      <th>2</th>\n",
       "      <td>800165392</td>\n",
       "      <td>4320</td>\n",
       "      <td>FONDO DE VIVIENDA DE INTERES SOCIAL Y REFORMA ...</td>\n",
       "      <td>Territorial</td>\n",
       "      <td>Ejecutivo</td>\n",
       "      <td>Sector de Vivienda, Ciudad y Territorio</td>\n",
       "      <td>704717206</td>\n",
       "      <td>No registra</td>\n",
       "      <td>6AA77ED7E02F1DE3975AC70A0A9C25B0FD782EFF9899FE...</td>\n",
       "    </tr>\n",
       "    <tr>\n",
       "      <th>3</th>\n",
       "      <td>900094866</td>\n",
       "      <td>4320</td>\n",
       "      <td>HUILA - FONDO DE VIVIENDA DE INTERES SOCIAL</td>\n",
       "      <td>Territorial</td>\n",
       "      <td>NaN</td>\n",
       "      <td>No aplica</td>\n",
       "      <td>705008498</td>\n",
       "      <td>24100117</td>\n",
       "      <td>5FD81A94C7593C7FB3FDA6B3A8FBCA8DD9AC87DC291291...</td>\n",
       "    </tr>\n",
       "    <tr>\n",
       "      <th>4</th>\n",
       "      <td>900262356</td>\n",
       "      <td>4205</td>\n",
       "      <td>ANTIOQUIA - EMPRESA DE SERVICIOS PUBLICOS DOMI...</td>\n",
       "      <td>Territorial</td>\n",
       "      <td>NaN</td>\n",
       "      <td>Sector de Justicia y del Derecho</td>\n",
       "      <td>705402667</td>\n",
       "      <td>20562812</td>\n",
       "      <td>3E75C7E19354EFA2FF8D694213AE3BE3D50F88C9754D5B...</td>\n",
       "    </tr>\n",
       "    <tr>\n",
       "      <th>...</th>\n",
       "      <td>...</td>\n",
       "      <td>...</td>\n",
       "      <td>...</td>\n",
       "      <td>...</td>\n",
       "      <td>...</td>\n",
       "      <td>...</td>\n",
       "      <td>...</td>\n",
       "      <td>...</td>\n",
       "      <td>...</td>\n",
       "    </tr>\n",
       "    <tr>\n",
       "      <th>26358</th>\n",
       "      <td>830115297</td>\n",
       "      <td>No Registra</td>\n",
       "      <td>MARCIA CAROLINA PORRAS</td>\n",
       "      <td>No Definido</td>\n",
       "      <td>Ejecutivo</td>\n",
       "      <td>No Definido</td>\n",
       "      <td>721867224</td>\n",
       "      <td>No Registra</td>\n",
       "      <td>97E437C02ACAE4CE3DE6AC1FFF079D650C69A5415B80EA...</td>\n",
       "    </tr>\n",
       "    <tr>\n",
       "      <th>26359</th>\n",
       "      <td>901653745</td>\n",
       "      <td>No Registra</td>\n",
       "      <td>EMPRESA DE DESARROLLO URBANO DEL PACIFICO</td>\n",
       "      <td>No Definido</td>\n",
       "      <td>Ejecutivo</td>\n",
       "      <td>No Definido</td>\n",
       "      <td>721867455</td>\n",
       "      <td>No Registra</td>\n",
       "      <td>06981563AB177A2CEB795CFBF93ABE41C9E49626D42FD6...</td>\n",
       "    </tr>\n",
       "    <tr>\n",
       "      <th>26360</th>\n",
       "      <td>9002272671</td>\n",
       "      <td>No Registra</td>\n",
       "      <td>INSTITUCION EDUCASTIVA LAS AREPAS</td>\n",
       "      <td>No Definido</td>\n",
       "      <td>Legislativo</td>\n",
       "      <td>No Definido</td>\n",
       "      <td>721869816</td>\n",
       "      <td>No Registra</td>\n",
       "      <td>F63D80251239A222A4FB5201C690E946419268867C2B43...</td>\n",
       "    </tr>\n",
       "    <tr>\n",
       "      <th>26361</th>\n",
       "      <td>1007296094</td>\n",
       "      <td>No Registra</td>\n",
       "      <td>LAURA MARCELA CABRA</td>\n",
       "      <td>No Definido</td>\n",
       "      <td>Ejecutivo</td>\n",
       "      <td>No Definido</td>\n",
       "      <td>721873677</td>\n",
       "      <td>No Registra</td>\n",
       "      <td>8060CC65ED06042500C8A92CA7ECEB12F99BBC7951583F...</td>\n",
       "    </tr>\n",
       "    <tr>\n",
       "      <th>26362</th>\n",
       "      <td>00000000000000.</td>\n",
       "      <td>No Registra</td>\n",
       "      <td>SOPORTE CCE</td>\n",
       "      <td>No Definido</td>\n",
       "      <td>No Definido</td>\n",
       "      <td>No Definido</td>\n",
       "      <td>SA</td>\n",
       "      <td>No Registra</td>\n",
       "      <td>82F421F5D365A24CADA78CCDBB0C155B99C22E6427B823...</td>\n",
       "    </tr>\n",
       "  </tbody>\n",
       "</table>\n",
       "<p>26363 rows × 9 columns</p>\n",
       "</div>"
      ],
      "text/plain": [
       "             NIT_Secop codigo_sigep   \n",
       "0            820000265         4320  \\\n",
       "1            900128208         4182   \n",
       "2            800165392         4320   \n",
       "3            900094866         4320   \n",
       "4            900262356         4205   \n",
       "...                ...          ...   \n",
       "26358        830115297  No Registra   \n",
       "26359        901653745  No Registra   \n",
       "26360       9002272671  No Registra   \n",
       "26361       1007296094  No Registra   \n",
       "26362  00000000000000.  No Registra   \n",
       "\n",
       "                                    N_Entidad_Plataforma orden_Entidad   \n",
       "0      BOYACA - FONVICHIQ - FONDO DE VIVIENDA DE INTE...   Territorial  \\\n",
       "1      ATLANTICO - EDUMAS - EMPRESA DE DESARROLLO URB...   Territorial   \n",
       "2      FONDO DE VIVIENDA DE INTERES SOCIAL Y REFORMA ...   Territorial   \n",
       "3            HUILA - FONDO DE VIVIENDA DE INTERES SOCIAL   Territorial   \n",
       "4      ANTIOQUIA - EMPRESA DE SERVICIOS PUBLICOS DOMI...   Territorial   \n",
       "...                                                  ...           ...   \n",
       "26358                             MARCIA CAROLINA PORRAS   No Definido   \n",
       "26359          EMPRESA DE DESARROLLO URBANO DEL PACIFICO   No Definido   \n",
       "26360                  INSTITUCION EDUCASTIVA LAS AREPAS   No Definido   \n",
       "26361                               LAURA MARCELA CABRA    No Definido   \n",
       "26362                                        SOPORTE CCE   No Definido   \n",
       "\n",
       "      rama_Entidad                           sector_Entidad   \n",
       "0              NaN                                No aplica  \\\n",
       "1              NaN                                No aplica   \n",
       "2        Ejecutivo  Sector de Vivienda, Ciudad y Territorio   \n",
       "3              NaN                                No aplica   \n",
       "4              NaN         Sector de Justicia y del Derecho   \n",
       "...            ...                                      ...   \n",
       "26358    Ejecutivo                              No Definido   \n",
       "26359    Ejecutivo                              No Definido   \n",
       "26360  Legislativo                              No Definido   \n",
       "26361    Ejecutivo                              No Definido   \n",
       "26362  No Definido                              No Definido   \n",
       "\n",
       "      codigo_entidad_SECOP II codigo_entidad_SECOP I   \n",
       "0                 No registra              288968160  \\\n",
       "1                   705351526              288399170   \n",
       "2                   704717206            No registra   \n",
       "3                   705008498               24100117   \n",
       "4                   705402667               20562812   \n",
       "...                       ...                    ...   \n",
       "26358               721867224            No Registra   \n",
       "26359               721867455            No Registra   \n",
       "26360               721869816            No Registra   \n",
       "26361               721873677            No Registra   \n",
       "26362                      SA            No Registra   \n",
       "\n",
       "                                          codigo_entidad  \n",
       "0      61F38D49A7C217EE15D27B33DC9C43E1A49E6F0A7A7DF7...  \n",
       "1      FCB07C4B42AAE75FFF2440D09DCA0F6F2B434942E96A15...  \n",
       "2      6AA77ED7E02F1DE3975AC70A0A9C25B0FD782EFF9899FE...  \n",
       "3      5FD81A94C7593C7FB3FDA6B3A8FBCA8DD9AC87DC291291...  \n",
       "4      3E75C7E19354EFA2FF8D694213AE3BE3D50F88C9754D5B...  \n",
       "...                                                  ...  \n",
       "26358  97E437C02ACAE4CE3DE6AC1FFF079D650C69A5415B80EA...  \n",
       "26359  06981563AB177A2CEB795CFBF93ABE41C9E49626D42FD6...  \n",
       "26360  F63D80251239A222A4FB5201C690E946419268867C2B43...  \n",
       "26361  8060CC65ED06042500C8A92CA7ECEB12F99BBC7951583F...  \n",
       "26362  82F421F5D365A24CADA78CCDBB0C155B99C22E6427B823...  \n",
       "\n",
       "[26363 rows x 9 columns]"
      ]
     },
     "execution_count": 66,
     "metadata": {},
     "output_type": "execute_result"
    }
   ],
   "source": [
    "MDM_limpio_Total"
   ]
  },
  {
   "cell_type": "code",
   "execution_count": 67,
   "metadata": {},
   "outputs": [
    {
     "data": {
      "text/plain": [
       "(26337, 9)"
      ]
     },
     "execution_count": 67,
     "metadata": {},
     "output_type": "execute_result"
    }
   ],
   "source": [
    "# Se eliminan duplicados en codigo entidad SECOP I Y II\n",
    "\n",
    "MDM_SII = dm.eliminar_duplicados(MDM_limpio_Total,'codigo_entidad_SECOP II')\n",
    "MDM_SI = dm.eliminar_duplicados(MDM_limpio_Total,'codigo_entidad_SECOP I')\n",
    "\n",
    "# Se concatenan SECOP I y SECOP II, se resetea index y se eliminan duplicados\n",
    "\n",
    "MDM_Total=pd.concat([MDM_SI,MDM_SII],axis=0)\n",
    "MDM_Total.reset_index(inplace=True,drop=True)\n",
    "MDM_Total.drop_duplicates(keep='first',inplace=True)\n",
    "MDM_Total.shape"
   ]
  },
  {
   "cell_type": "code",
   "execution_count": 68,
   "metadata": {},
   "outputs": [],
   "source": [
    "# Se definen nombres de columnas\n",
    "\n",
    "MDM_limpio_Total.columns=['NIT_SECOP', 'Codigo_SIGEP', 'ID_Entidad_Plataforma', 'Orden_Entidad',\n",
    "'Rama_Entidad', 'Sector_Entidad', 'Codigo_Entidad_SECOP_II', 'Codigo_Entidad_SECOP_I',\n",
    "'Codigo_Entidad']\n",
    "MDM_SII.columns=MDM_limpio_Total.columns\n",
    "MDM_SI.columns=MDM_limpio_Total.columns\n",
    "MDM_Total.columns=MDM_limpio_Total.columns"
   ]
  },
  {
   "cell_type": "code",
   "execution_count": 69,
   "metadata": {},
   "outputs": [],
   "source": [
    "### Guardamos el archivo\n",
    "\n",
    "MDM_limpio_Total.to_excel('../../../Data/Processed/MDM_limpio_Total.xlsx',index=False)\n",
    "\n",
    "MDM_SII.to_excel('../../../Data/Processed/MDM_SII.xlsx',index=False)\n",
    "MDM_SI.to_excel('../../../Data/Processed/MDM_SI.xlsx',index=False)\n",
    "MDM_Total.to_excel('../../../Data/Processed/MDM_Total.xlsx',index=False)"
   ]
  }
 ],
 "metadata": {
  "kernelspec": {
   "display_name": "Python 3 (ipykernel)",
   "language": "python",
   "name": "python3"
  },
  "language_info": {
   "codemirror_mode": {
    "name": "ipython",
    "version": 3
   },
   "file_extension": ".py",
   "mimetype": "text/x-python",
   "name": "python",
   "nbconvert_exporter": "python",
   "pygments_lexer": "ipython3",
   "version": "3.10.9"
  }
 },
 "nbformat": 4,
 "nbformat_minor": 2
}
