{
 "cells": [
  {
   "cell_type": "markdown",
   "metadata": {},
   "source": [
    "<div style=\"\n",
    "  padding: 30px;\n",
    "  text-align: center;\" class='row'>\n",
    "<div style=\"float:left;width: 15%;\" class='column'><a href=\"https://www.colombiacompra.gov.co\"><img alt=\"Logo Colombia Compra Eficiente\" id=\"logocce\" src=\"https://www.colombiacompra.gov.co/sites/cce_public/files/Images/logocce.png\" style=\"height: 45px;\"></a></div>\n",
    "    <div style=\"float:left;width: 70%;\" class='column'>\n",
    "        <h1> Pipeline de Datos de Contratación Pública\n",
    "        </h1> \n",
    "    </div>\n",
    "<div style=\"float:left;width: 15%;\" class='column'><a href=\"https://www.dnp.gov.co/\" target=\"_blank\"><img class=\"float-right\" id=\"logodnp\" src=\"https://www.dnp.gov.co/img/logoNuevo.jpg\" style=\"width: 200px;\"></a></div>\n",
    "</div>\n"
   ]
  },
  {
   "cell_type": "markdown",
   "metadata": {},
   "source": [
    "## 1. IDENTIFICACIÓN DEL INSUMO\n",
    "\n",
    "|||\n",
    "|:--|:--|\n",
    "|**Fecha**|Abril 2023|\n",
    "|**Ciudad**|Bogotá D.C.|\n",
    "|**Esquema de presentación del insumo**|Cuaderno Jupyter|\n",
    "|**Título del insumo**| **Pipeline de Datos de Contratación Pública**|\n",
    "|**Descripción y alcance**|Script para la consulta de bases y exploración de bases en el DATAVAULT.|\n",
    "|**Periodicidad del insumo**|único|\n",
    "|**Solicitante**|No aplica|\n",
    "|**Versión del insumo**|Final|"
   ]
  },
  {
   "cell_type": "markdown",
   "metadata": {},
   "source": [
    "## 2. DESTINO Y AUTORES DEL INFORME / INSUMO\n",
    "\n",
    "|||\n",
    "|:--|:--|\n",
    "|**Destinatario**|<table align='left'><tr><td>*Nombre:*</td> <td>Equipo analítica EMAE</td></tr> <tr><td>*Cargo:*</td> <td>NA</td></tr>  <tr><td>*Área:*</td> <td>Subdirección de estudios de Mercado y Abastecimiento Estratégico – EMAE</td></tr></table>|\n",
    "|**Autores**|<table><tr><td>*Nombre:*</td> <td>Equipo de Datos -GAEC</td></tr><tr><td>*Área:*</td> <td>Subdirección de estudios de Mercado y Abastecimiento Estratégico – EMAE.</td></tr></table>|\n",
    "|**Aprobación**|<table><tr><td>*Nombre:*</td> <td>Ricardo Suarez</td></tr> <tr><td>*Cargo:*</td> <td>Subdirector Estudios de Mercado y Abastecimiento Estratégico</td></tr>  <tr><td>*Área:*</td> <td>Subdirección de estudios de Mercado y Abastecimiento Estratégico – EMAE.</td></tr></table>|"
   ]
  },
  {
   "cell_type": "markdown",
   "metadata": {},
   "source": [
    "## Carga de librerías y ambiente de trabajo\n",
    "\n",
    "En esta sección se cargan las librerías necesarias para el desarrollo del script y se establecen los parámetros de trabajo.\n"
   ]
  },
  {
   "cell_type": "code",
   "execution_count": 1,
   "metadata": {},
   "outputs": [
    {
     "data": {
      "text/plain": [
       "True"
      ]
     },
     "execution_count": 1,
     "metadata": {},
     "output_type": "execute_result"
    }
   ],
   "source": [
    "import pyodbc \n",
    "from dotenv import load_dotenv\n",
    "import os\n",
    "load_dotenv()"
   ]
  },
  {
   "cell_type": "code",
   "execution_count": 2,
   "metadata": {},
   "outputs": [
    {
     "name": "stderr",
     "output_type": "stream",
     "text": [
      "<frozen importlib._bootstrap>:241: RuntimeWarning: scipy._lib.messagestream.MessageStream size changed, may indicate binary incompatibility. Expected 56 from C header, got 64 from PyObject\n"
     ]
    }
   ],
   "source": [
    "### Paquetes usados para la exploración de datos\n",
    "\n",
    "import pandas as pd\n",
    "import numpy as np\n",
    "import matplotlib.pyplot as plt\n",
    "import seaborn as sns\n",
    "import datetime as dt\n",
    "import warnings\n",
    "warnings.filterwarnings('ignore')\n"
   ]
  },
  {
   "cell_type": "code",
   "execution_count": 3,
   "metadata": {},
   "outputs": [],
   "source": [
    "ruta_DATA=\"/dropbox/Dropbox/CCE-projects/Data/\""
   ]
  },
  {
   "cell_type": "code",
   "execution_count": 4,
   "metadata": {},
   "outputs": [
    {
     "data": {
      "text/plain": [
       "['SECOP_II_Contratos_Depurado.parquet',\n",
       " 'TVEC_Ordenes_Items.parquet',\n",
       " 'SECOP_II_Contratos.parquet',\n",
       " 'SECOP_I_Contratos_V0',\n",
       " 'TVEC_Proveedores.parquet',\n",
       " 'SECOP_I_Procesos',\n",
       " 'SECOP_I_Contratos_Depurado.parquet',\n",
       " 'SECOP_I_Procesos2023-06-06',\n",
       " 'SECOP_I_Procesos.parquet',\n",
       " 'SECOP_I_Procesos2023-06-05',\n",
       " 'TVEC_Entidades.parquet',\n",
       " 'SECOP_I_Contratos',\n",
       " 'SECOP_I_Procesos_Depurado_V0',\n",
       " 'SECOP_II_Procesos.parquet',\n",
       " 'TVEC_Ordenes.parquet']"
      ]
     },
     "execution_count": 4,
     "metadata": {},
     "output_type": "execute_result"
    }
   ],
   "source": [
    "os.listdir(ruta_DATA)"
   ]
  },
  {
   "attachments": {},
   "cell_type": "markdown",
   "metadata": {},
   "source": [
    "Generación de base integrada de TVEC"
   ]
  },
  {
   "cell_type": "code",
   "execution_count": 5,
   "metadata": {},
   "outputs": [],
   "source": [
    "DF_TVEC_Ordenes=pd.read_parquet(ruta_DATA+\"TVEC_Ordenes.parquet\")\n",
    "DF_TVEC_Ordenes_Items=pd.read_parquet(ruta_DATA+\"TVEC_Ordenes_Items.parquet\")\n",
    "DF_TVEC_Entidades=pd.read_parquet(ruta_DATA+\"TVEC_Entidades.parquet\")\n",
    "DF_TVEC_Proveedores=pd.read_parquet(ruta_DATA+\"TVEC_Proveedores.parquet\")"
   ]
  },
  {
   "cell_type": "code",
   "execution_count": 6,
   "metadata": {},
   "outputs": [],
   "source": [
    "Ordenes_Entidades_SIN_ID=DF_TVEC_Ordenes[DF_TVEC_Ordenes['ID_Entidad'].isna()]\n",
    "Ordenes_Proveedores_SIN_ID=DF_TVEC_Ordenes[DF_TVEC_Ordenes['ID_Proveedor'].isna()]\n",
    "\n",
    "Ordenes_Entidades_SIN_ID.to_excel(\"../../../Sample_Data/Processed/Ordenes_Entidades_TVEC_SIN_ID.xlsx\")\n",
    "Ordenes_Proveedores_SIN_ID.to_excel(\"../../../Sample_Data/Processed/Ordenes_Proveedores_TVEC_SIN_ID.xlsx\")"
   ]
  },
  {
   "attachments": {},
   "cell_type": "markdown",
   "metadata": {},
   "source": [
    "Se excluyen las entidades y los proveedores sin ID, esta "
   ]
  },
  {
   "cell_type": "code",
   "execution_count": 7,
   "metadata": {},
   "outputs": [
    {
     "data": {
      "text/plain": [
       "(93366, 25)"
      ]
     },
     "execution_count": 7,
     "metadata": {},
     "output_type": "execute_result"
    }
   ],
   "source": [
    "DF_TVEC_Ordenes.dropna(subset=['ID_Entidad'],inplace=True)\n",
    "DF_TVEC_Ordenes.dropna(subset=['ID_Proveedor'],inplace=True)\n",
    "DF_TVEC_Ordenes.shape"
   ]
  },
  {
   "cell_type": "code",
   "execution_count": 8,
   "metadata": {},
   "outputs": [],
   "source": [
    "DF_TVEC_Ordenes['ID_Entidad']=DF_TVEC_Ordenes['ID_Entidad'].astype(int).astype(str)\n",
    "DF_TVEC_Ordenes['ID_Proveedor']=DF_TVEC_Ordenes['ID_Proveedor'].astype(int).astype(str)"
   ]
  },
  {
   "cell_type": "code",
   "execution_count": 9,
   "metadata": {},
   "outputs": [],
   "source": [
    "DF_TVEC_Entidades['ID']=DF_TVEC_Entidades['ID'].fillna(0).astype(int).astype(str)\n",
    "DF_TVEC_Proveedores['ID']=DF_TVEC_Proveedores['ID'].fillna(0).astype(int).astype(str)"
   ]
  },
  {
   "cell_type": "code",
   "execution_count": 10,
   "metadata": {},
   "outputs": [
    {
     "data": {
      "text/plain": [
       "(93366, 25)"
      ]
     },
     "execution_count": 10,
     "metadata": {},
     "output_type": "execute_result"
    }
   ],
   "source": [
    "DF_TVEC_Ordenes.shape"
   ]
  },
  {
   "attachments": {},
   "cell_type": "markdown",
   "metadata": {},
   "source": [
    "Integramos las tablas:\n",
    "\n",
    "- DF_TVEC_Ordenes\n",
    "- DF_TVEC_Entidades\n",
    "- DF_TVEC_Proveedores\n",
    "\n",
    "Usamos el diagrama ER Siguiente\n",
    "\n",
    "[![](https://mermaid.ink/img/pako:eNqNkMEKwjAQRH8l7Nn6AQFPtoIHUVA8BUrorhq0iWxTQZr-u2mtQfDicWeGN-x0UDkkkECcG31mXSsrRL4qD8diWW4ZyVIjQsiyEJJcWG9QYzSkUDCF5uv8Y4iFSJEoK_iDuWP3IELHv9RkRe5XbCTDDGriWhuMP3RDjwJ_oZoUDBTUfB3q-5jTrXf7p61Aem5pBu0dtafpa5AnfWuSWqDxjpNI47l5LzUO1r8AZh1p8A?type=png)](https://mermaid.live/edit#pako:eNqNkMEKwjAQRH8l7Nn6AQFPtoIHUVA8BUrorhq0iWxTQZr-u2mtQfDicWeGN-x0UDkkkECcG31mXSsrRL4qD8diWW4ZyVIjQsiyEJJcWG9QYzSkUDCF5uv8Y4iFSJEoK_iDuWP3IELHv9RkRe5XbCTDDGriWhuMP3RDjwJ_oZoUDBTUfB3q-5jTrXf7p61Aem5pBu0dtafpa5AnfWuSWqDxjpNI47l5LzUO1r8AZh1p8A)"
   ]
  },
  {
   "cell_type": "code",
   "execution_count": 11,
   "metadata": {},
   "outputs": [],
   "source": [
    "# Primero, unimos DF_TVEC_Ordenes con DF_TVEC_Entidades\n",
    "df_merge_Ordenes_Entidades = pd.merge(DF_TVEC_Ordenes, DF_TVEC_Entidades, left_on='ID_Entidad', right_on='ID', suffixes=('_Ordenes', '_Entidades'),how='left')\n",
    "\n",
    "# Luego, unimos el DataFrame resultante con DF_TVEC_Proveedores\n",
    "df_final_TVEC = pd.merge(df_merge_Ordenes_Entidades, DF_TVEC_Proveedores, left_on='ID_Proveedor', right_on='ID', suffixes=('', '_Proveedores'),how='left')\n",
    "\n",
    "# Ahora df_final es la integración de las tres bases de datos\n"
   ]
  },
  {
   "cell_type": "code",
   "execution_count": 12,
   "metadata": {},
   "outputs": [
    {
     "data": {
      "text/plain": [
       "Index(['ID_Ordenes', 'ID_Entidad', 'Entidad', 'Solicitante', 'Fecha_Ordenes',\n",
       "       'Fecha_vence', 'ID_Proveedor', 'Proveedor', 'Estado', 'Solicitud',\n",
       "       'Items', 'Total', 'Agregacion', 'Cotizacion', 'Padre', 'Ciudad_Ordenes',\n",
       "       'Categoria', 'RFQ', 'Paz', 'Proceso', 'UNSPSC', 'Contrato', 'email',\n",
       "       'Supervisor', 'Version', 'ID_Entidades', 'Nombre', 'NIT', 'Obligada',\n",
       "       'Orden', 'Rama', 'Sector', 'Departamento', 'Ciudad_Entidades',\n",
       "       'Fecha_Entidades', 'Active', 'Fechatemporal', 'Telefono', 'ID',\n",
       "       'Nombre_Proveedores', 'NombreComercial', 'NIT_Proveedores',\n",
       "       'Estado_Proveedores', 'Contacto', 'email_Proveedores', 'Direccion',\n",
       "       'Ciudad', 'Departamento_Proveedores', 'Agregacion_Proveedores',\n",
       "       'ActividadEconomica', 'RegTributario', 'FechaCreacion'],\n",
       "      dtype='object')"
      ]
     },
     "execution_count": 12,
     "metadata": {},
     "output_type": "execute_result"
    }
   ],
   "source": [
    "df_final_TVEC.columns"
   ]
  },
  {
   "cell_type": "code",
   "execution_count": 13,
   "metadata": {},
   "outputs": [],
   "source": [
    "df_final_TVEC.shape\n",
    "df_final_TVEC['URL']='https://www.colombiacompra.gov.co/content/tienda-virtual'"
   ]
  },
  {
   "cell_type": "code",
   "execution_count": 14,
   "metadata": {},
   "outputs": [],
   "source": [
    "df_final_TVEC['Modalidad']='TVEC'\n",
    "df_final_TVEC['Tipo de contrato']='TVEC'\n",
    "df_final_TVEC['Objeto Contrato']=df_final_TVEC['Agregacion']\n",
    "df_final_TVEC['Tipo de documento proveedor']='NIT'"
   ]
  },
  {
   "cell_type": "code",
   "execution_count": 15,
   "metadata": {},
   "outputs": [
    {
     "data": {
      "text/plain": [
       "['SECOP_II_Contratos_Depurado.parquet',\n",
       " 'TVEC_Ordenes_Items.parquet',\n",
       " 'SECOP_II_Contratos.parquet',\n",
       " 'SECOP_I_Contratos_V0',\n",
       " 'TVEC_Proveedores.parquet',\n",
       " 'SECOP_I_Procesos',\n",
       " 'SECOP_I_Contratos_Depurado.parquet',\n",
       " 'SECOP_I_Procesos2023-06-06',\n",
       " 'SECOP_I_Procesos.parquet',\n",
       " 'SECOP_I_Procesos2023-06-05',\n",
       " 'TVEC_Entidades.parquet',\n",
       " 'SECOP_I_Contratos',\n",
       " 'SECOP_I_Procesos_Depurado_V0',\n",
       " 'SECOP_II_Procesos.parquet',\n",
       " 'TVEC_Ordenes.parquet']"
      ]
     },
     "execution_count": 15,
     "metadata": {},
     "output_type": "execute_result"
    }
   ],
   "source": [
    "os.listdir(ruta_DATA)"
   ]
  },
  {
   "cell_type": "code",
   "execution_count": 16,
   "metadata": {},
   "outputs": [
    {
     "data": {
      "text/plain": [
       "(2634056, 80)"
      ]
     },
     "execution_count": 16,
     "metadata": {},
     "output_type": "execute_result"
    }
   ],
   "source": [
    "# Leer el archivo Parquet y especificar que se ignore el error de tiempo fuera de rango\n",
    "DF_SECOP_II = pd.read_parquet(ruta_DATA+\"SECOP_II_Contratos_Depurado.parquet\", engine='fastparquet')\n",
    "\n",
    "DF_SECOP_II.shape\n"
   ]
  },
  {
   "cell_type": "code",
   "execution_count": 17,
   "metadata": {},
   "outputs": [
    {
     "data": {
      "text/plain": [
       "(10029332, 95)"
      ]
     },
     "execution_count": 17,
     "metadata": {},
     "output_type": "execute_result"
    }
   ],
   "source": [
    "List_DF_SECOP_I_Contratos=[]\n",
    "for file in os.listdir(ruta_DATA+'SECOP_I_Procesos/'):\n",
    "    df_temp=pd.read_parquet(ruta_DATA+'SECOP_I_Procesos/'+file, engine='fastparquet')\n",
    "    List_DF_SECOP_I_Contratos.append(df_temp)\n",
    "\n",
    "DF_SECOP_I_Contratos=pd.concat(List_DF_SECOP_I_Contratos)\n",
    "DF_SECOP_I_Contratos.reset_index(inplace=True)\n",
    "DF_SECOP_I_Contratos.shape"
   ]
  },
  {
   "attachments": {},
   "cell_type": "markdown",
   "metadata": {},
   "source": [
    "Integración de las bases usando Homologa Columnas:\n",
    "\n",
    "| SECOP I                 | TVEC                        | SECOP II                   | Unificado                |\n",
    "|-------------------------|-----------------------------|----------------------------|--------------------------|\n",
    "| Fuente                  | Fuente                      | Fuente                     | Fuente                   |\n",
    "| ID_ADJUDICACION         | ID_Ordenes                  | ContractReference          | ID Contrato              |\n",
    "| UID                     | ID_Ordenes                  | RequestReference           | ID Proceso               |\n",
    "| CODI_ENTIDAD            | ID_Entidad                  | Código Entidad              | ID entidad Plataforma    |\n",
    "| NOMB_ENTIDAD            | Entidad                     | Nombre Entidad              | Entidad                  |\n",
    "| NIT_ENTIDAD             | NIT                         | NIT Entidad                 | NIT Entidad              |\n",
    "| ORDEN_ENTIDAD           | Orden                       | Orden                      | Orden                    |\n",
    "| NOM_TIPO_PROCESO        | Modalidad                   | TypeContract               | Modalidad                |\n",
    "| ESTADO_PROCESO          | Estado                      | ContractState              | Estado                   |\n",
    "| DETALLE_OBJETO_PROCESO  | Agregacion                  | Description                | Descripción proceso      |\n",
    "| OBJETO_CONTRATO         | Objeto Contrato             | Objeto Contrato             | Objeto Contrato          |\n",
    "| TIPO_CONTRATO           | Tipo de contrato            | TypeContract               | Tipo de contrato         |\n",
    "| FECHA_FIRMA_CONTRATO    | FechaCreacion               | ContractStartDate          | Fecha de Firma           |\n",
    "| ID_CLASE                | UNSPSC                      | DimMainCategoryCode        | UNSPSC                   |\n",
    "| RAZON_SOCIAL_CONTRATISTA| Nombre_Proveedores          | Nombre Proveedor            | Nombre Proveedor         |\n",
    "| NUMERO_ID_CONTRATISTA   | NIT_Proveedores             | Documento Proveedor         | Documento Proveedor      |\n",
    "| TIPO_ID_CONTRATISTA     | Tipo de documento proveedor | TipoDocProveedor           | Tipo de documento proveedor |\n",
    "| CUANTIA_CONTRATAR       | Total                       | ContractValue              | Valor del contrato       |\n",
    "| DEPARTAMENTO_ENTIDAD    | Departamento                | Departamento Entidad        | Departamento Entidad     |\n",
    "| MUNICIPIO_ENTIDAD       | Ciudad_Entidades            | Ciudad Entidad              | Ciudad Entidad           |\n",
    "| DPTO_MUNI_CONTRATISTA   | Departamento_Proveedores    | Departamento Proveedor      | Departamento Proveedor   |\n",
    "| DPTO_MUNI_CONTRATISTA   | Ciudad                      | Ciudad Proveedor            | Ciudad Proveedor         |\n",
    "| FECHA_FIRMA_CONTRATO    | Fecha_Ordenes               | ContractStartDate          | Inicio de contrato       |\n",
    "| FECHA_FIN_EJE_CONTRATO  | Fecha_vence                 | ContractEndDate            | Fin de contrato          |\n",
    "| RUTA_SECOPI             | URL                         | URLProceso                 | URL                      |\n",
    "\n"
   ]
  },
  {
   "cell_type": "code",
   "execution_count": 18,
   "metadata": {},
   "outputs": [
    {
     "data": {
      "text/plain": [
       "Index(['Column1', 'SECOP I', 'TVEC', 'SECOP II', 'Unificado', 'SECOP I DA',\n",
       "       'SECOP II DA', 'TVEC DA', 'Observaciones'],\n",
       "      dtype='object')"
      ]
     },
     "execution_count": 18,
     "metadata": {},
     "output_type": "execute_result"
    }
   ],
   "source": [
    "HC=pd.read_excel('../../../Sample_Data/Auxiliar/Homologa_columnas.xlsx')\n",
    "HC.columns"
   ]
  },
  {
   "cell_type": "code",
   "execution_count": 19,
   "metadata": {},
   "outputs": [],
   "source": [
    "DF_SECOP_I_Contratos['Fuente']='SECOP I'\n",
    "DF_SECOP_II['Fuente']='SECOP II'\n",
    "df_final_TVEC['Fuente']='TVEC'"
   ]
  },
  {
   "cell_type": "code",
   "execution_count": 20,
   "metadata": {},
   "outputs": [],
   "source": [
    "DF_SECOP_I_Contratos.dropna(subset=['ID_ADJUDICACION'],inplace=True)\n",
    "DF_SECOP_I_Contratos['ID_ADJUDICACION']=DF_SECOP_I_Contratos['ID_ADJUDICACION'].astype('int64').astype('str')\n"
   ]
  },
  {
   "cell_type": "code",
   "execution_count": 21,
   "metadata": {},
   "outputs": [],
   "source": [
    "new_SECOP_I=pd.DataFrame()\n",
    "new_SECOP_II=pd.DataFrame()\n",
    "new_TVEC=pd.DataFrame()\n",
    "for ind_column in HC.index:\n",
    "    new_SECOP_I[HC['Unificado'][ind_column]]=DF_SECOP_I_Contratos[HC['SECOP I'][ind_column]]\n",
    "    new_SECOP_II[HC['Unificado'][ind_column]]=DF_SECOP_II[HC['SECOP II'][ind_column]]\n",
    "    new_TVEC[HC['Unificado'][ind_column]]=df_final_TVEC[HC['TVEC'][ind_column]]\n",
    "\n",
    "del DF_SECOP_I_Contratos\n",
    "del DF_SECOP_II\n",
    "del df_final_TVEC"
   ]
  },
  {
   "cell_type": "code",
   "execution_count": 22,
   "metadata": {},
   "outputs": [],
   "source": [
    "new_SECOP_I['UNSPSC']=new_SECOP_I['UNSPSC'].astype('str').str.replace('.0','00')\n"
   ]
  },
  {
   "cell_type": "code",
   "execution_count": 23,
   "metadata": {},
   "outputs": [],
   "source": [
    "new_SECOP_II['UNSPSC']=new_SECOP_II['UNSPSC'].astype('str').str.replace('V1.','')"
   ]
  },
  {
   "cell_type": "code",
   "execution_count": 24,
   "metadata": {},
   "outputs": [],
   "source": [
    "new_TVEC['UNSPSC']=new_TVEC['UNSPSC'].fillna('No Definido').str.split(';').str[0]"
   ]
  },
  {
   "cell_type": "code",
   "execution_count": 25,
   "metadata": {},
   "outputs": [],
   "source": [
    "## Concatena los tres DataFrames\n",
    "\n",
    "DF_Consulta=pd.concat([new_SECOP_I,new_SECOP_II,new_TVEC])\n",
    "DF_Consulta.reset_index(inplace=True)"
   ]
  },
  {
   "cell_type": "code",
   "execution_count": 26,
   "metadata": {},
   "outputs": [
    {
     "data": {
      "text/plain": [
       "(11915267, 26)"
      ]
     },
     "execution_count": 26,
     "metadata": {},
     "output_type": "execute_result"
    }
   ],
   "source": [
    "DF_Consulta.shape"
   ]
  },
  {
   "cell_type": "code",
   "execution_count": 27,
   "metadata": {},
   "outputs": [
    {
     "data": {
      "text/plain": [
       "Estado\n",
       "Celebrado                                      5856927\n",
       "Liquidado                                      2991138\n",
       "En ejecución                                   1015068\n",
       "Modificado                                      604149\n",
       "Terminado                                       352822\n",
       "Terminado sin Liquidar                          339116\n",
       "Activo                                          237278\n",
       "Cerrado                                         179651\n",
       "Borrador                                        118053\n",
       "Emitida                                          61915\n",
       "Cancelado                                        59884\n",
       "Cerrada                                          28373\n",
       "enviado Proveedor                                27604\n",
       "Cedido                                           19120\n",
       "En aprobación                                    17141\n",
       "Suspendido                                        3140\n",
       "Cancelada                                         3075\n",
       "Convocado                                          617\n",
       "Prorrogado                                         146\n",
       "Adjudicado                                          36\n",
       "Terminado Anormalmente después de Convocado         11\n",
       "CerradaxError                                        3\n",
       "Name: count, dtype: int64"
      ]
     },
     "execution_count": 27,
     "metadata": {},
     "output_type": "execute_result"
    }
   ],
   "source": [
    "## Estado de los contratos\n",
    "\n",
    "# Diccionario de estandarización de estados contractuales\n",
    "estado_contractual = {\n",
    "    'En ejecución': 'En ejecución',\n",
    "    'Modificado': 'Modificado',\n",
    "    'Celebrado': 'Celebrado',\n",
    "    'terminado': 'Terminado',\n",
    "    'Liquidado': 'Liquidado',\n",
    "    'Cerrado': 'Cerrado',\n",
    "    'Activo': 'Activo',\n",
    "    'Terminado sin Liquidar': 'Terminado sin Liquidar',\n",
    "    'cedido': 'Cedido',\n",
    "    'Suspendido': 'Suspendido',\n",
    "    'Convocado': 'Convocado',\n",
    "    'Adjudicado': 'Adjudicado'\n",
    "}\n",
    "\n",
    "# Corregir los estados contractuales utilizando el diccionario\n",
    "DF_Consulta['Estado'] = DF_Consulta['Estado'].replace(estado_contractual)\n",
    "DF_Consulta['Estado'].value_counts()\n"
   ]
  },
  {
   "cell_type": "code",
   "execution_count": 28,
   "metadata": {},
   "outputs": [],
   "source": [
    "### Ajustemos las entidades\n",
    "\n",
    "# Carga de MDM de entidades\n",
    "\n",
    "MDM_Entidades = pd.read_excel('../../../Sample_Data/Auxiliar/MDM_Total.xlsx')\n",
    "\n",
    "## "
   ]
  },
  {
   "cell_type": "code",
   "execution_count": 29,
   "metadata": {},
   "outputs": [],
   "source": [
    "MDM_SII=MDM_Entidades.drop_duplicates(subset=['Codigo_Entidad_SECOP_II'], keep='first')\n",
    "MDM_SI=MDM_Entidades.drop_duplicates(subset=['Codigo_Entidad_SECOP_I'], keep='first')"
   ]
  },
  {
   "cell_type": "code",
   "execution_count": 30,
   "metadata": {},
   "outputs": [
    {
     "data": {
      "text/plain": [
       "Index(['NIT_SECOP', 'Codigo_SIGEP', 'Nombre_Entidad', 'Orden_Entidad',\n",
       "       'Rama_Entidad', 'Sector_Entidad', 'Codigo_Entidad_SECOP_II',\n",
       "       'Codigo_Entidad_SECOP_I', 'Codigo_Entidad'],\n",
       "      dtype='object')"
      ]
     },
     "execution_count": 30,
     "metadata": {},
     "output_type": "execute_result"
    }
   ],
   "source": [
    "MDM_Entidades.columns"
   ]
  },
  {
   "cell_type": "code",
   "execution_count": 31,
   "metadata": {},
   "outputs": [],
   "source": [
    "### Agregamos el código de entidad y corregimos el nombre de la entidad usando el MDM segun la fuente\n",
    "\n",
    "# Agregamos el código de entidad\n",
    "\n",
    "DF_Consulta['NIT_MDM']=np.nan\n",
    "DF_Consulta['Codigo Entidad']=np.nan\n",
    "for ind in DF_Consulta.index:\n",
    "        lista_error=[]\n",
    "        if DF_Consulta['Fuente'][ind]=='SECOP I':\n",
    "            cod_entidad=MDM_SI[MDM_SI['Codigo_Entidad_SECOP_I']==DF_Consulta['ID entidad Plataforma'][ind]]\n",
    "            if cod_entidad.empty or  len(cod_entidad)>1:\n",
    "                lista_error.append([DF_Consulta['Entidad'][ind],DF_Consulta['ID entidad Plataforma'][ind],'SECOP I'])\n",
    "            else:\n",
    "                DF_Consulta['Codigo Entidad'][ind]=cod_entidad['Codigo_Entidad'].values[0]\n",
    "                DF_Consulta['NIT_MDM'][ind]=cod_entidad['NIT_SECOP'].values[0]\n",
    "            \n",
    "        elif DF_Consulta['Fuente'][ind]=='SECOP II':\n",
    "            cod_entidad=MDM_SII[MDM_SII['Codigo_Entidad_SECOP_II']==DF_Consulta['ID entidad Plataforma'][ind]]\n",
    "            if cod_entidad.empty or  len(cod_entidad)>1:\n",
    "                lista_error.append([DF_Consulta['Entidad'][ind],DF_Consulta['ID entidad Plataforma'][ind],'SECOP II'])\n",
    "            else:\n",
    "                DF_Consulta['Codigo Entidad'][ind]=cod_entidad['Codigo_Entidad'].values[0]\n",
    "                DF_Consulta['NIT_MDM'][ind]=cod_entidad['NIT_SECOP'].values[0]\n",
    "        else:\n",
    "            cod_entidad=MDM_Entidades[MDM_Entidades['Nombre_Entidad']==DF_Consulta['Entidad'][ind]]\n",
    "            if cod_entidad.empty or  len(cod_entidad)>1:\n",
    "                lista_error.append([DF_Consulta['Entidad'][ind],DF_Consulta['ID entidad Plataforma'][ind],'TVEC'])\n",
    "            else:\n",
    "                DF_Consulta['Codigo Entidad'][ind]=cod_entidad['Codigo_Entidad'].values[0]\n",
    "                DF_Consulta['NIT_MDM'][ind]=cod_entidad['NIT_SECOP'].values[0]\n",
    "if len(lista_error)>0:\n",
    "        Error_MDM=pd.DataFrame(lista_error,columns=['Entidad','ID entidad Plataforma','Fuente'])\n",
    "        Error_MDM.to_excel('../../../Sample_Data/Processed/Errores/MDM_Total.xlsx',index=False) \n"
   ]
  },
  {
   "cell_type": "code",
   "execution_count": 32,
   "metadata": {},
   "outputs": [
    {
     "data": {
      "text/plain": [
       "396363"
      ]
     },
     "execution_count": 32,
     "metadata": {},
     "output_type": "execute_result"
    }
   ],
   "source": [
    "DF_Consulta['NIT_MDM'].isna().sum()\n"
   ]
  },
  {
   "cell_type": "code",
   "execution_count": 33,
   "metadata": {},
   "outputs": [],
   "source": [
    "DF_Consulta['Entidad']=DF_Consulta['Entidad'].str.upper()"
   ]
  },
  {
   "cell_type": "code",
   "execution_count": 34,
   "metadata": {},
   "outputs": [
    {
     "name": "stdout",
     "output_type": "stream",
     "text": [
      "El dataset tiene 11915267 filas y 28 columnas\n",
      "index                            int64\n",
      "Fuente                          object\n",
      "ID Contrato                     object\n",
      "ID Proceso                      object\n",
      "ID entidad Plataforma           object\n",
      "Entidad                         object\n",
      "NIT Entidad                     object\n",
      "Orden                           object\n",
      "Modalidad                       object\n",
      "Estado                          object\n",
      "Descripción proceso             object\n",
      "Objeto Contrato                 object\n",
      "Tipo de contrato                object\n",
      "Fecha de Firma                  object\n",
      "UNSPSC                          object\n",
      "Nombre Proveedor                object\n",
      "Documento Proveedor             object\n",
      "Tipo de documento proveedor     object\n",
      "Valor del contrato             float64\n",
      "Departamento Entidad            object\n",
      "Ciudad Entidad                  object\n",
      "Departamento Proveedor          object\n",
      "Ciudad Proveedor                object\n",
      "Inicio de contrato              object\n",
      "Fin de contrato                 object\n",
      "URL                             object\n",
      "NIT_MDM                         object\n",
      "Codigo Entidad                  object\n",
      "dtype: object\n"
     ]
    }
   ],
   "source": [
    "## Exploración de los datos\n",
    "# Vemos el tamaño del dataset\n",
    "print(\"El dataset tiene\", DF_Consulta.shape[0], \"filas y\", DF_Consulta.shape[1], \"columnas\")\n",
    "\n",
    "# Vemos los tipos de datos\n",
    "print(DF_Consulta.dtypes)\n",
    "\n",
    "#Extraemos para este reporte las URL de los contratos\n",
    "\n",
    "#DF_Consulta.drop('URL', axis=1, inplace=True)"
   ]
  },
  {
   "cell_type": "code",
   "execution_count": 35,
   "metadata": {},
   "outputs": [
    {
     "data": {
      "text/plain": [
       "396363"
      ]
     },
     "execution_count": 35,
     "metadata": {},
     "output_type": "execute_result"
    }
   ],
   "source": [
    "DF_Consulta['NIT_MDM'].isna().sum()"
   ]
  },
  {
   "cell_type": "code",
   "execution_count": 36,
   "metadata": {},
   "outputs": [
    {
     "data": {
      "text/plain": [
       "Orden\n",
       "Territorial    9719241\n",
       "Nacional       2175854\n",
       "No definido      20172\n",
       "Name: count, dtype: int64"
      ]
     },
     "execution_count": 36,
     "metadata": {},
     "output_type": "execute_result"
    }
   ],
   "source": [
    "### Arreglamos el orden\n",
    "ordenes = {\n",
    "    'Territorial departamental descentralizado': 'Territorial',\n",
    "    'Territorial distrital municipal nivel 6': 'Territorial',\n",
    "    'Territorial': 'Territorial',\n",
    "    'Nacional': 'Nacional',\n",
    "    'Territorial distrital municipal nivel 2': 'Territorial',\n",
    "    'Territorial departamental centralizado': 'Territorial',\n",
    "    'Nacional descentralizado': 'Nacional',\n",
    "    'Territorial distrital municipal nivel 1': 'Territorial',\n",
    "    'Nacional centralizado': 'Nacional',\n",
    "    'Distrito capital': 'Territorial',\n",
    "    'Territorial distrital municipal nivel 5': 'Territorial',\n",
    "    'Territorial distrital municipal nivel 4': 'Territorial',\n",
    "    'Territorial distrital municipal nivel 3': 'Territorial',\n",
    "    'Corporación autónoma': 'Territorial',\n",
    "    'Area metropolitana': 'Territorial',\n",
    "    '': 'No definido',\n",
    "    'No definido': 'No definido'\n",
    "}\n",
    "DF_Consulta['Orden']=DF_Consulta['Orden'].str.capitalize().replace(ordenes).fillna('No definido')\n",
    "DF_Consulta['Orden'].value_counts(dropna=False)"
   ]
  },
  {
   "cell_type": "code",
   "execution_count": 37,
   "metadata": {},
   "outputs": [
    {
     "data": {
      "text/plain": [
       "Modalidad Corta\n",
       "Modalidad Directa        6900554\n",
       "Modalidad Especial       3347746\n",
       "Modalidad Competitiva    1176989\n",
       "Otro                      396612\n",
       "TVEC                       93366\n",
       "Name: count, dtype: int64"
      ]
     },
     "execution_count": 37,
     "metadata": {},
     "output_type": "execute_result"
    }
   ],
   "source": [
    "diccionario_modalidades = {\n",
    "    'Asociación Público Privada': 'Modalidad Competitiva',\n",
    "    'Régimen Especial': 'Modalidad Especial',\n",
    "    'Iniciativa Privada sin recursos públicos': 'Modalidad Especial',\n",
    "    'Contratación Directa (Ley 1150 de 2007)': 'Modalidad Directa',\n",
    "    'Contratación Directa Menor Cuantía': 'Modalidad Directa',\n",
    "    'Contratos y convenios con más de dos partes': 'Modalidad Directa',\n",
    "    'Otras Formas de Contratación Directa': 'Modalidad Directa',\n",
    "    'Concurso de diseño Arquitectónico': 'Modalidad Competitiva',\n",
    "    'Concurso de Méritos Abierto': 'Modalidad Competitiva',\n",
    "    'Concurso de Méritos con Lista Corta': 'Modalidad Competitiva',\n",
    "    'Concurso de Méritos con Lista Multiusos': 'Modalidad Competitiva',\n",
    "    'Licitación Pública': 'Modalidad Competitiva',\n",
    "    'Licitación obra pública': 'Modalidad Competitiva',\n",
    "    'Licitación Pública Nacional (BM)': 'Modalidad Competitiva',\n",
    "    'Selección Abreviada de Menor Cuantía (Ley 1150 de 2007)': 'Modalidad Competitiva',\n",
    "    'Selección Abreviada del literal h del numeral 2 del artículo 2 de la Ley 1150 de 2007': 'Modalidad Competitiva',\n",
    "    'Selección Abreviada servicios de Salud': 'Modalidad Competitiva',\n",
    "    'Subasta': 'Modalidad Competitiva',\n",
    "    'Contratación Mínima Cuantía': 'Modalidad Competitiva',\n",
    "    'Invitación ofertas cooperativas o asociaciones de entidades territoriales': 'Modalidad Competitiva',\n",
    "    'Lista Multiusos': 'Modalidad Competitiva',\n",
    "    'Llamado a presentar expresiones de interés': 'Modalidad Competitiva',\n",
    "    'Solicitud de información a los Proveedores': 'Modalidad Competitiva',\n",
    "    'Contratación régimen especial': 'Modalidad Especial',\n",
    "    'Contratación régimen especial (con ofertas)': 'Modalidad Especial',\n",
    "    'Enajenación de bienes con sobre cerrado': 'Modalidad Competitiva',\n",
    "    'Enajenación de bienes con subasta': 'Modalidad Competitiva',\n",
    "    'Contratación directa': 'Modalidad Directa',\n",
    "    'Selección Abreviada de Menor Cuantía': 'Modalidad Competitiva',\n",
    "    'Mínima cuantía': 'Modalidad Competitiva',\n",
    "    'Seleccion Abreviada Menor Cuantia Sin Manifestacion Interes': 'Modalidad Competitiva',\n",
    "    'Licitación pública': 'Modalidad Competitiva',\n",
    "    'Selección abreviada subasta inversa': 'Modalidad Competitiva',\n",
    "    'Concurso de méritos abierto': 'Modalidad Competitiva',\n",
    "    'Contratación Directa (con ofertas)': 'Modalidad Directa',\n",
    "    'Licitación Pública Acuerdo Marco de Precios': 'Modalidad Competitiva',\n",
    "    'Licitación pública Obra Publica': 'Modalidad Competitiva',\n",
    "    'CCE-20-Concurso_Meritos_Sin_Lista_Corta_1Sobre': 'Modalidad Competitiva',\n",
    "    'Concurso de méritos con precalificación': 'Modalidad Competitiva',\n",
    "    'CCE-19-Concurso_Meritos_Con_Lista_Corta_1Sobre': 'Modalidad Competitiva',\n",
    "    'Prestación de servicios': 'Modalidad Directa',\n",
    "    'DecreeLaw092/2017': 'Otro',\n",
    "    'Suministros': 'Otro',\n",
    "    'Compraventa': 'Otro',\n",
    "    'Arrendamiento de inmuebles': 'Otro',\n",
    "    'Obra': 'Otro',\n",
    "    'Comodato': 'Otro',\n",
    "    'Interventoría': 'Otro',\n",
    "    'No Especificado': 'Otro',\n",
    "    'Consultoría': 'Otro',\n",
    "    'Seguros': 'Otro',\n",
    "    'Acuerdo Marco de Precios': 'Otro',\n",
    "    'Arrendamiento de muebles': 'Otro',\n",
    "    'Servicios financieros': 'Otro',\n",
    "    'Emprestito': 'Otro',\n",
    "    'Venta muebles': 'Otro',\n",
    "    'Comisión': 'Otro',\n",
    "    'Negocio fiduciario': 'Otro',\n",
    "    'Concesión': 'Otro',\n",
    "    'Venta inmuebles': 'Otro',\n",
    "    'Acuerdo de cooperación': 'Otro'\n",
    "}\n",
    "\n",
    "DF_Consulta['Modalidad Corta']=DF_Consulta['Modalidad'].replace(diccionario_modalidades).fillna('No definido')\n",
    "DF_Consulta['Modalidad Corta'].value_counts(dropna=False)"
   ]
  },
  {
   "cell_type": "code",
   "execution_count": 38,
   "metadata": {},
   "outputs": [],
   "source": [
    "### Variables de texto largo, las pasamos a mayúsculas\n",
    "DF_Consulta['Descripción proceso']=DF_Consulta['Descripción proceso'].str.upper()\n",
    "DF_Consulta['Objeto Contrato']=DF_Consulta['Objeto Contrato'].str.upper()\n"
   ]
  },
  {
   "cell_type": "code",
   "execution_count": 39,
   "metadata": {},
   "outputs": [
    {
     "data": {
      "text/plain": [
       "Tipo de contrato\n",
       "Prestación de Servicios       9035180\n",
       "Suministros                   1179729\n",
       "Otros                          606907\n",
       "Compraventa                    405271\n",
       "Obras                          296540\n",
       "Arrendamiento                  141982\n",
       "Tvec                            93366\n",
       "Servicios                       67411\n",
       "Interventoría                   63429\n",
       "No especificado                  6506\n",
       "Acuerdo Marco de Precios         4682\n",
       "Seguros                          4265\n",
       "Crédito                          3059\n",
       "Concesión                        3040\n",
       "Fiducia                          1346\n",
       "Asociación Público Privada        587\n",
       "Servicios Financieros             519\n",
       "No definido                       422\n",
       "Emprestito                        378\n",
       "Agregación de demanda             274\n",
       "Comisión                          165\n",
       "Negocio fiduciario                133\n",
       "Venta inmuebles                    54\n",
       "Acuerdo de cooperación             22\n",
       "Name: count, dtype: int64"
      ]
     },
     "execution_count": 39,
     "metadata": {},
     "output_type": "execute_result"
    }
   ],
   "source": [
    "### Arreglamos Tipo de Contrato\n",
    "arreglos_tipo_contrato={\n",
    "    'Prestación de servicios': 'Prestación de Servicios',\n",
    "    'Suministro': 'Suministros',\n",
    "    'Suministros': 'Suministros',\n",
    "    'Otro': 'Otros',\n",
    "    'Compraventa': 'Compraventa',\n",
    "    'Decreelaw092/2017': 'Otros',\n",
    "    'Otro tipo de contrato': 'Otros',\n",
    "    'Arrendamiento de inmuebles': 'Arrendamiento',\n",
    "    'Obra': 'Obras',\n",
    "    'Interventoría': 'Interventoría',\n",
    "    'Comodato': 'Arrendamiento',\n",
    "    'Consultoría': 'Servicios',\n",
    "    'Arrendamiento': 'Arrendamiento',\n",
    "    'Acuerdo marco de precios': 'Acuerdo Marco de Precios',\n",
    "    'Concesión': 'Concesión',\n",
    "    'Arrendamiento de muebles': 'Arrendamiento',\n",
    "    'Seguros': 'Seguros',\n",
    "    'Servicios financieros': 'Servicios Financieros',\n",
    "    'Venta muebles': 'Compraventa',\n",
    "    'Comisión': 'Comisión',\n",
    "    'Asociación público privada': 'Asociación Público Privada',\n",
    "    'Acuerdo marco': 'Acuerdo Marco de Precios',\n",
    "    'Emprestito': 'Emprestito',\n",
    "    'Fiducia': 'Fiducia',\n",
    "    'No definido': 'No definido',\n",
    "}\n",
    "\n",
    "\n",
    "DF_Consulta['Tipo de contrato']=DF_Consulta['Tipo de contrato'].str.capitalize().replace(arreglos_tipo_contrato).fillna('No definido')\n",
    "DF_Consulta['Tipo de contrato'].value_counts(dropna=False)"
   ]
  },
  {
   "cell_type": "code",
   "execution_count": 40,
   "metadata": {},
   "outputs": [],
   "source": [
    "DF_Consulta['Fecha de Firma']=pd.to_datetime(DF_Consulta['Fecha de Firma'], format='%d/%m/%Y', errors='coerce')\n",
    "DF_Consulta['Inicio de contrato']=pd.to_datetime(DF_Consulta['Inicio de contrato'], format='%d/%m/%Y', errors='coerce')\n",
    "DF_Consulta['Fin de contrato']=pd.to_datetime(DF_Consulta['Fin de contrato'], format='%d/%m/%Y', errors='coerce')"
   ]
  },
  {
   "cell_type": "code",
   "execution_count": 42,
   "metadata": {},
   "outputs": [],
   "source": [
    "import re"
   ]
  },
  {
   "cell_type": "code",
   "execution_count": 43,
   "metadata": {},
   "outputs": [],
   "source": [
    "DF_Consulta['UNSPSC']=DF_Consulta['UNSPSC'].astype(str)\n",
    "codigos_limpios = []\n",
    "alertas_unspc = []\n",
    "for codigo in DF_Consulta['UNSPSC']:\n",
    "    codigo_limpio = re.sub('[^0-9]', '', codigo)\n",
    "    \n",
    "    if len(codigo_limpio) ==6:\n",
    "        codigos_limpios.append(codigo_limpio+'00')\n",
    "        alertas_unspc.append(False)\n",
    "    elif len(codigo_limpio) ==9:\n",
    "        codigos_limpios.append(codigo_limpio[1:])\n",
    "        alertas_unspc.append(False)\n",
    "    elif len(codigo_limpio) !=8:\n",
    "        codigos_limpios.append(codigo_limpio)\n",
    "        alertas_unspc.append(True)\n",
    "    else:\n",
    "        codigos_limpios.append(codigo_limpio)\n",
    "        alertas_unspc.append(False)\n",
    "\n",
    "DF_Consulta['UNSPSC']=codigos_limpios\n",
    "DF_Consulta['Alerta UNSPSC']=alertas_unspc"
   ]
  },
  {
   "cell_type": "code",
   "execution_count": 44,
   "metadata": {},
   "outputs": [
    {
     "data": {
      "text/plain": [
       "Alerta UNSPSC\n",
       "False    11355616\n",
       "True       559651\n",
       "Name: count, dtype: int64"
      ]
     },
     "execution_count": 44,
     "metadata": {},
     "output_type": "execute_result"
    }
   ],
   "source": [
    "DF_Consulta['Alerta UNSPSC'].value_counts(dropna=False)"
   ]
  },
  {
   "cell_type": "code",
   "execution_count": 45,
   "metadata": {},
   "outputs": [],
   "source": [
    "### Proveedores\n",
    "\n",
    "DF_Consulta['Nombre Proveedor']=DF_Consulta['Nombre Proveedor'].str.upper()\n",
    "DF_Consulta['Documento Proveedor']=DF_Consulta['Documento Proveedor'].str.upper()\n",
    "DF_Consulta['Tipo de documento proveedor']=DF_Consulta['Tipo de documento proveedor'].str.upper()"
   ]
  },
  {
   "cell_type": "code",
   "execution_count": 46,
   "metadata": {},
   "outputs": [
    {
     "data": {
      "text/plain": [
       "(11915267, 30)"
      ]
     },
     "execution_count": 46,
     "metadata": {},
     "output_type": "execute_result"
    }
   ],
   "source": [
    "DF_Consulta.shape"
   ]
  },
  {
   "cell_type": "code",
   "execution_count": 47,
   "metadata": {},
   "outputs": [
    {
     "data": {
      "text/plain": [
       "Fuente\n",
       "SECOP I     9187845\n",
       "SECOP II    2634056\n",
       "TVEC          93366\n",
       "Name: count, dtype: int64"
      ]
     },
     "execution_count": 47,
     "metadata": {},
     "output_type": "execute_result"
    }
   ],
   "source": [
    "DF_Consulta['Fuente'].value_counts(dropna=False)"
   ]
  },
  {
   "cell_type": "code",
   "execution_count": 48,
   "metadata": {},
   "outputs": [],
   "source": [
    "DF_Consulta['Valor del contrato']=DF_Consulta['Valor del contrato'].astype(int)"
   ]
  },
  {
   "cell_type": "code",
   "execution_count": 49,
   "metadata": {},
   "outputs": [
    {
     "data": {
      "text/plain": [
       "count    1.191527e+07\n",
       "mean    -1.303452e+12\n",
       "std      7.942238e+15\n",
       "min     -9.223372e+18\n",
       "25%      4.400000e+06\n",
       "50%      1.100000e+07\n",
       "75%      2.548438e+07\n",
       "max      6.004813e+18\n",
       "Name: Valor del contrato, dtype: float64"
      ]
     },
     "execution_count": 49,
     "metadata": {},
     "output_type": "execute_result"
    }
   ],
   "source": [
    "DF_Consulta['Valor del contrato'].describe()"
   ]
  },
  {
   "cell_type": "code",
   "execution_count": 50,
   "metadata": {},
   "outputs": [
    {
     "data": {
      "text/plain": [
       "Departamento Entidad\n",
       "Bogotá D.C.                                 2156377\n",
       "Antioquia                                   1537668\n",
       "No Definido                                  883046\n",
       "Valle del Cauca                              804024\n",
       "Cundinamarca                                 707835\n",
       "Nariño                                       553931\n",
       "Santander                                    531837\n",
       "Boyacá                                       474433\n",
       "Norte de Santander                           352024\n",
       "Tolima                                       335700\n",
       "Caldas                                       309727\n",
       "Meta                                         307295\n",
       "Huila                                        279060\n",
       "Magdalena                                    255708\n",
       "Bolivar                                      243347\n",
       "Cauca                                        243053\n",
       "Atlántico                                    221870\n",
       "Casanare                                     217664\n",
       "Quindío                                      188019\n",
       "Risaralda                                    180937\n",
       "Córdoba                                      145684\n",
       "Sucre                                        143330\n",
       "Arauca                                       135872\n",
       "Cesar                                        132779\n",
       "La Guajira                                   122722\n",
       "Putumayo                                      90324\n",
       "Caquetá                                       89449\n",
       "Guaviare                                      57381\n",
       "San Andrés, Providencia y Santa Catalina      53653\n",
       "Chocó                                         41283\n",
       "Vichada                                       35743\n",
       "Amazonas                                      31759\n",
       "Vaupés                                        24392\n",
       "Guainía                                       24372\n",
       "NaN                                            2047\n",
       "Colombia                                        512\n",
       "None                                            406\n",
       "                                                  4\n",
       "Name: count, dtype: int64"
      ]
     },
     "execution_count": 50,
     "metadata": {},
     "output_type": "execute_result"
    }
   ],
   "source": [
    "reemplazos_departamento = {\n",
    "    'Bogotá DC': 'Bogotá D.C.',\n",
    "    'Bogotá, D.C.': 'Bogotá D.C.',\n",
    "    'Distrito Capital de Bogotá': 'Bogotá D.C.',\n",
    "    'Bogotá D.C.': 'Bogotá D.C.',\n",
    "    'Bogotá D.C.': 'Bogotá D.C.',\n",
    "    'San Andrés Providencia y Santa Catalina': 'San Andrés, Providencia y Santa Catalina',\n",
    "    'San Andres': 'San Andrés, Providencia y Santa Catalina',\n",
    "    'NORTE DE SANTANDER': 'Norte de Santander',\n",
    "    'Norte De Santander': 'Norte de Santander',\n",
    "    'Bolívar': 'Bolivar',\n",
    "    'caldas': 'Caldas',\n",
    "    'Caldas ': 'Caldas',\n",
    "    'CAUCA': 'Cauca',\n",
    "    'Valle del cauca': 'Valle del Cauca',\n",
    "    'Cordoba': 'Córdoba',\n",
    "    'cundinamarca': 'Cundinamarca',\n",
    "    'LA GUAJIRA': 'La Guajira',\n",
    "    'huila': 'Huila',\n",
    "    'Huila ': 'Huila',\n",
    "    'meta': 'Meta',\n",
    "    'SANTANDER': 'Santander',\n",
    "    'Santander ': 'Santander',\n",
    "    'SUCRE': 'Sucre'\n",
    "}\n",
    "\n",
    "DF_Consulta['Departamento Entidad']=DF_Consulta['Departamento Entidad'].replace(reemplazos_departamento)\n",
    "DF_Consulta['Departamento Entidad'].value_counts(dropna=False)"
   ]
  },
  {
   "cell_type": "code",
   "execution_count": 51,
   "metadata": {},
   "outputs": [
    {
     "data": {
      "text/plain": [
       "Departamento Entidad\n",
       "Bogotá D.C.                                 2156377\n",
       "Antioquia                                   1537668\n",
       "No Definido                                  883046\n",
       "Valle del Cauca                              804024\n",
       "Cundinamarca                                 707835\n",
       "Nariño                                       553931\n",
       "Santander                                    531837\n",
       "Boyacá                                       474433\n",
       "Norte de Santander                           352024\n",
       "Tolima                                       335700\n",
       "Caldas                                       309727\n",
       "Meta                                         307295\n",
       "Huila                                        279060\n",
       "Magdalena                                    255708\n",
       "Bolivar                                      243347\n",
       "Cauca                                        243053\n",
       "Atlántico                                    221870\n",
       "Casanare                                     217664\n",
       "Quindío                                      188019\n",
       "Risaralda                                    180937\n",
       "Córdoba                                      145684\n",
       "Sucre                                        143330\n",
       "Arauca                                       135872\n",
       "Cesar                                        132779\n",
       "La Guajira                                   122722\n",
       "Putumayo                                      90324\n",
       "Caquetá                                       89449\n",
       "Guaviare                                      57381\n",
       "San Andrés, Providencia y Santa Catalina      53653\n",
       "Chocó                                         41283\n",
       "Vichada                                       35743\n",
       "Amazonas                                      31759\n",
       "Vaupés                                        24392\n",
       "Guainía                                       24372\n",
       "NaN                                            2047\n",
       "Colombia                                        512\n",
       "None                                            406\n",
       "                                                  4\n",
       "Name: count, dtype: int64"
      ]
     },
     "execution_count": 51,
     "metadata": {},
     "output_type": "execute_result"
    }
   ],
   "source": [
    "DF_Consulta['Departamento Entidad'].value_counts(dropna=False)"
   ]
  },
  {
   "cell_type": "code",
   "execution_count": 52,
   "metadata": {},
   "outputs": [],
   "source": [
    "DF_Consulta['Ciudad Entidad']=DF_Consulta['Ciudad Entidad'].str.capitalize()"
   ]
  },
  {
   "cell_type": "code",
   "execution_count": 55,
   "metadata": {},
   "outputs": [
    {
     "data": {
      "text/plain": [
       "9187845     https://community.secop.gov.co/Public/Tenderin...\n",
       "9187846     https://community.secop.gov.co/Public/Tenderin...\n",
       "9187847     https://community.secop.gov.co/Public/Tenderin...\n",
       "9187848     https://community.secop.gov.co/Public/Tenderin...\n",
       "9187849     https://community.secop.gov.co/Public/Tenderin...\n",
       "                                  ...                        \n",
       "11821896    https://community.secop.gov.co/Public/Tenderin...\n",
       "11821897    https://community.secop.gov.co/Public/Tenderin...\n",
       "11821898    https://community.secop.gov.co/Public/Tenderin...\n",
       "11821899    https://community.secop.gov.co/Public/Tenderin...\n",
       "11821900    https://community.secop.gov.co/Public/Tenderin...\n",
       "Name: URL, Length: 2634056, dtype: object"
      ]
     },
     "execution_count": 55,
     "metadata": {},
     "output_type": "execute_result"
    }
   ],
   "source": [
    "DF_Consulta[DF_Consulta['Fuente']=='SECOP II']['URL']"
   ]
  },
  {
   "cell_type": "code",
   "execution_count": 56,
   "metadata": {},
   "outputs": [],
   "source": [
    "DF_Consulta.reset_index(drop=True, inplace=True)"
   ]
  },
  {
   "cell_type": "code",
   "execution_count": null,
   "metadata": {},
   "outputs": [],
   "source": [
    "DF_Consulta.to_parquet('../../../Sample_Data/Processed/SECOP_LIMPIO_08_06.parquet', index=False,engine='fastparquet')"
   ]
  },
  {
   "cell_type": "code",
   "execution_count": null,
   "metadata": {},
   "outputs": [],
   "source": []
  },
  {
   "cell_type": "code",
   "execution_count": null,
   "metadata": {},
   "outputs": [],
   "source": [
    "import pandas as pd\n",
    "import os"
   ]
  },
  {
   "cell_type": "code",
   "execution_count": null,
   "metadata": {},
   "outputs": [],
   "source": [
    "DF_Consulta=pd.read_parquet('../../../Sample_Data/Processed/SECOP_LIMPIO_2020_2023.parquet')"
   ]
  },
  {
   "cell_type": "code",
   "execution_count": null,
   "metadata": {},
   "outputs": [],
   "source": [
    "DF_Consulta=pd.read_excel('../../../Sample_Data/Processed/SECOP_LIMPIO_2023.xlsx')"
   ]
  },
  {
   "cell_type": "code",
   "execution_count": null,
   "metadata": {},
   "outputs": [
    {
     "data": {
      "text/html": [
       "<div>\n",
       "<style scoped>\n",
       "    .dataframe tbody tr th:only-of-type {\n",
       "        vertical-align: middle;\n",
       "    }\n",
       "\n",
       "    .dataframe tbody tr th {\n",
       "        vertical-align: top;\n",
       "    }\n",
       "\n",
       "    .dataframe thead th {\n",
       "        text-align: right;\n",
       "    }\n",
       "</style>\n",
       "<table border=\"1\" class=\"dataframe\">\n",
       "  <thead>\n",
       "    <tr style=\"text-align: right;\">\n",
       "      <th></th>\n",
       "      <th>Valor del contrato</th>\n",
       "    </tr>\n",
       "    <tr>\n",
       "      <th>Año-Mes</th>\n",
       "      <th></th>\n",
       "    </tr>\n",
       "  </thead>\n",
       "  <tbody>\n",
       "    <tr>\n",
       "      <th>2023-01</th>\n",
       "      <td>129235903698772</td>\n",
       "    </tr>\n",
       "    <tr>\n",
       "      <th>2023-02</th>\n",
       "      <td>13593175257555</td>\n",
       "    </tr>\n",
       "    <tr>\n",
       "      <th>2023-03</th>\n",
       "      <td>149992538806700</td>\n",
       "    </tr>\n",
       "    <tr>\n",
       "      <th>2023-04</th>\n",
       "      <td>6625804806915</td>\n",
       "    </tr>\n",
       "    <tr>\n",
       "      <th>2023-05</th>\n",
       "      <td>5488785987149</td>\n",
       "    </tr>\n",
       "  </tbody>\n",
       "</table>\n",
       "</div>"
      ],
      "text/plain": [
       "         Valor del contrato\n",
       "Año-Mes                    \n",
       "2023-01     129235903698772\n",
       "2023-02      13593175257555\n",
       "2023-03     149992538806700\n",
       "2023-04       6625804806915\n",
       "2023-05       5488785987149"
      ]
     },
     "execution_count": 11,
     "metadata": {},
     "output_type": "execute_result"
    }
   ],
   "source": [
    "DF_Consulta[DF_Consulta['Fuente']=='SECOP II'].groupby('Año-Mes').agg({'Valor del contrato':'sum'})"
   ]
  },
  {
   "cell_type": "code",
   "execution_count": null,
   "metadata": {},
   "outputs": [],
   "source": [
    "DF_Consulta.to_csv('../../../Sample_Data/Processed/SECOP_LIMPIO_2023.csv', index=False)"
   ]
  },
  {
   "cell_type": "code",
   "execution_count": null,
   "metadata": {},
   "outputs": [],
   "source": [
    "from ydata_profiling import ProfileReport\n",
    "### Reporte con pandas profiling\n",
    "os.makedirs(\"../Reportes\", exist_ok=True)\n",
    "report=ProfileReport(DF_Consulta, title=\"Reporte de Exploración de Datos\", \n",
    "                        minimal=True,dark_mode=True)"
   ]
  },
  {
   "cell_type": "code",
   "execution_count": null,
   "metadata": {},
   "outputs": [
    {
     "data": {
      "application/vnd.jupyter.widget-view+json": {
       "model_id": "7f90e563fb5f4ababbecfaa2151a16db",
       "version_major": 2,
       "version_minor": 0
      },
      "text/plain": [
       "Summarize dataset:   0%|          | 0/5 [00:00<?, ?it/s]"
      ]
     },
     "metadata": {},
     "output_type": "display_data"
    },
    {
     "data": {
      "application/vnd.jupyter.widget-view+json": {
       "model_id": "b4f81accbfdd4b17859a82289a4f7049",
       "version_major": 2,
       "version_minor": 0
      },
      "text/plain": [
       "Generate report structure:   0%|          | 0/1 [00:00<?, ?it/s]"
      ]
     },
     "metadata": {},
     "output_type": "display_data"
    },
    {
     "data": {
      "application/vnd.jupyter.widget-view+json": {
       "model_id": "22fbf51a0a524412af72008175ae2c90",
       "version_major": 2,
       "version_minor": 0
      },
      "text/plain": [
       "Render HTML:   0%|          | 0/1 [00:00<?, ?it/s]"
      ]
     },
     "metadata": {},
     "output_type": "display_data"
    },
    {
     "data": {
      "application/vnd.jupyter.widget-view+json": {
       "model_id": "82c7629abc884457a0bb208f5598498e",
       "version_major": 2,
       "version_minor": 0
      },
      "text/plain": [
       "Export report to file:   0%|          | 0/1 [00:00<?, ?it/s]"
      ]
     },
     "metadata": {},
     "output_type": "display_data"
    }
   ],
   "source": [
    "report.to_file(\"../Reportes/Reporte de Exploración de Datos_2023.html\")"
   ]
  },
  {
   "cell_type": "markdown",
   "metadata": {},
   "source": [
    "## Trabajo en datalake\n",
    "\n",
    "En esta sección se establecen los parámetros de conexión al datalake y se cargan las librerías necesarias para la conexión y consulta de datos."
   ]
  },
  {
   "cell_type": "code",
   "execution_count": null,
   "metadata": {},
   "outputs": [],
   "source": [
    "import pandas as pd\n",
    "import pyarrow.parquet as pq\n",
    "from azure.storage.blob import BlobServiceClient, BlobClient, ContainerClient\n",
    "\n",
    "# URL del punto final del servicio Blob y token SAS\n",
    "url_blob = \"https://adlindicadoresemae.blob.core.windows.net/\"\n",
    "token_sas = \"?sv=2021-10-04&ss=btqf&srt=sco&st=2023-04-26T10%3A55%3A03Z&se=2023-07-27T10%3A55%3A00Z&sp=rwdxftlacup&sig=9%2FBvXPQRTnl4CUwGzrUpMFXbpu50nNRqix5pREicSiY%3D\"\n",
    "\n",
    "# Conexión a la cuenta de almacenamiento de Azure utilizando el token SAS\n",
    "connect_str = f\"BlobEndpoint={url_blob};SharedAccessSignature={token_sas}\"\n",
    "blob_service_client = BlobServiceClient.from_connection_string(connect_str)"
   ]
  },
  {
   "cell_type": "code",
   "execution_count": null,
   "metadata": {},
   "outputs": [],
   "source": []
  },
  {
   "cell_type": "code",
   "execution_count": null,
   "metadata": {},
   "outputs": [],
   "source": [
    "# Referencia al contenedor donde se encuentran los archivos\n",
    "container_name_ent = \"datosemae/bronze/Entidades\"\n",
    "container_client_ent = blob_service_client.get_container_client(container_name_ent)\n",
    "\n",
    "# Nombre del archivo a leer\n",
    "blob_name_ent_small = \"Entidades_SECOP_II.parquet\"\n",
    "blob_name_ent_full = \"Entidades_SECOP_II_FULL.parquet\""
   ]
  },
  {
   "cell_type": "markdown",
   "metadata": {},
   "source": []
  }
 ],
 "metadata": {
  "kernelspec": {
   "display_name": "Python 3 (ipykernel)",
   "language": "python",
   "name": "python3"
  },
  "language_info": {
   "codemirror_mode": {
    "name": "ipython",
    "version": 3
   },
   "file_extension": ".py",
   "mimetype": "text/x-python",
   "name": "python",
   "nbconvert_exporter": "python",
   "pygments_lexer": "ipython3",
   "version": "3.10.6"
  }
 },
 "nbformat": 4,
 "nbformat_minor": 2
}
