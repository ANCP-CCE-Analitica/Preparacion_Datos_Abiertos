{
 "cells": [
  {
   "attachments": {},
   "cell_type": "markdown",
   "metadata": {},
   "source": [
    "<div style=\"\n",
    "  padding: 30px;\n",
    "  text-align: center;\" class='row'>\n",
    "<div style=\"float:left;width: 15%;\" class='column'><a href=\"https://www.colombiacompra.gov.co\"><img alt=\"Logo Colombia Compra Eficiente\" id=\"logocce\" src=\"https://www.colombiacompra.gov.co/sites/cce_public/files/files_2020/cce-color.png\" style=\"height: 45px;\"></a></div>\n",
    "    <div style=\"float:left;width: 70%;\" class='column'>\n",
    "        <h1> Descarga de datos y unificación de fuentes\n",
    "        </h1> \n",
    "    </div>\n",
    "<div style=\"float:left;width: 15%;\" class='column'><a href=\"https://www.dnp.gov.co/\" target=\"_blank\"><img class=\"float-right\" id=\"logodnp\" src=\"https://www.dnp.gov.co/img/logoNuevo.jpg\" style=\"width: 200px;\"></a></div>\n",
    "</div>"
   ]
  },
  {
   "cell_type": "markdown",
   "metadata": {},
   "source": [
    "# Introducción\n",
    "\n",
    "En el presente documento se muestra el proceso de descarga y unificación de las bases de datos del SECOP I y del SECOP II desde las fuentes \"Reports\" y \"Sandbox\" respectivamente. Tiendo como objetivo, proporcionar una guía detallada y clara sobre el proceso llevado a cabo para adquirir y consolidar la información de ambas plataformas, abarcando el período desde el año 2020 hasta el 30 de junio del 2023.\n",
    "\n",
    "El Sistema Electrónico de Contratación Pública, conocido como SECOP, es una herramienta fundamental para el registro y seguimiento de los procesos de contratación en entidades estatales. Consta de dos versiones distintas: SECOP I y SECOP II. Cada versión maneja información relevante para la gestión de contratos públicos, y la unificación de ambas bases de datos permitirá obtener una visión más completa y detallada de los procesos de contratación en el país.\n",
    "\n",
    "Este cuadernillo servirá como una guía paso a paso para comprender el proceso de descarga y unificación de los datos, detallando cada etapa desde la obtención de la información desde las fuentes originales hasta su integración en una base de datos consolidada. Se presentarán los procedimientos técnicos utilizados, así como las herramientas y tecnologías empleadas para garantizar la precisión y la integridad de los datos.\n",
    "\n",
    "Cabe destacar que el período de descarga y unificación abarca desde el 1 de enero del 2020 hasta el 30 de junio del 2023, lo que nos permitirá obtener una perspectiva histórica amplia y actualizada sobre los procesos de contratación durante este periodo.\n",
    "\n",
    "Es importante señalar que el proceso de unificación de las bases de datos busca facilitar el análisis y la toma de decisiones informadas para las entidades estatales, los investigadores, analistas y el público en general, contribuyendo así a una mayor transparencia en el manejo de los recursos públicos y fomentando una gestión más eficiente y responsable.\n",
    "\n",
    "Esperamos que este cuadernillo sea de gran utilidad para todos aquellos involucrados en el análisis de datos del SECOP y que contribuya a un mejor entendimiento de los procesos de contratación pública en nuestro país. Agradecemos su interés y compromiso en este importante proyecto, y estamos seguros de que juntos lograremos un proceso de descarga y unificación exitoso y enriquecedor."
   ]
  },
  {
   "cell_type": "code",
   "execution_count": 2,
   "metadata": {},
   "outputs": [],
   "source": [
    "# Decarga de librarías\n",
    "import pandas as pd # Tratamiento de datos\n",
    "from libreria import login # Lógica para el inicio de sesión a las fuentes de datos\n",
    "\n",
    "# Cargue de las conexiones a las fuentes de datos\n",
    "# cnxn_sandbox, cursor_sandbox = login.login_sql(login.tipo_bodega.SANDBOX)\n",
    "# cnxn_reports, cursor_reports = login.login_sql(login.tipo_bodega.REPORTS)\n",
    "\n",
    "# Cambio de formato\n",
    "pd.options.display.float_format = '{:.0f}'.format"
   ]
  },
  {
   "cell_type": "markdown",
   "metadata": {},
   "source": [
    "# Descarga de Información desde las Fuentes Originales (SECOP I - SECOP II)"
   ]
  },
  {
   "cell_type": "markdown",
   "metadata": {},
   "source": [
    "En esta sección, detallaremos el código utilizado para realizar la descarga directa de la información desde las fuentes originales del SECOP I y SECOP II, específicamente desde las plataformas \"Reports\" y \"Sandbox\", respectivamente. El proceso de obtención de datos es esencial para garantizar la precisión y actualización de la información que se utilizará en la unificación posterior de las bases de datos. A continuación, se presenta el código utilizado para cada plataforma:"
   ]
  },
  {
   "cell_type": "code",
   "execution_count": 8,
   "metadata": {},
   "outputs": [
    {
     "name": "stderr",
     "output_type": "stream",
     "text": [
      "C:\\Users\\Jorge\\AppData\\Local\\Temp\\ipykernel_13456\\2466515883.py:3: UserWarning: pandas only supports SQLAlchemy connectable (engine/connection) or database string URI or sqlite3 DBAPI2 connection. Other DBAPI2 objects are not tested. Please consider using SQLAlchemy.\n",
      "  DF_SECOPI_contratos_2023 = pd.read_sql_query(\"select * from [CCE_Sandbox].[SECOPI].[V_SECOPI] where FECHA_FIRMA_CONTRATO > '2022-12-31' and FECHA_FIRMA_CONTRATO < '2023-01-02'\", cnxn_sandbox)\n",
      "C:\\Users\\Jorge\\AppData\\Local\\Temp\\ipykernel_13456\\2466515883.py:8: UserWarning: pandas only supports SQLAlchemy connectable (engine/connection) or database string URI or sqlite3 DBAPI2 connection. Other DBAPI2 objects are not tested. Please consider using SQLAlchemy.\n",
      "  DF_SECOPII_contratos_2023 = pd.read_sql_query(\"Select * from [CCE_Reports].[SECOPII].[V_HistoricoContratos_Depurado] where AprovalDate > '2022-12-31' and AprovalDate < '2023-01-02'\", cnxn_reports)\n"
     ]
    }
   ],
   "source": [
    "# SECOP I\n",
    "DF_SECOPI_contratos_2023 = pd.read_sql_query(\"select * from [CCE_Sandbox].[SECOPI].[V_SECOPI] where FECHA_FIRMA_CONTRATO > '2019-12-31' and FECHA_FIRMA_CONTRATO < '2023-08-31'\", cnxn_sandbox)\n",
    "DF_SECOPI_contratos_2023.to_csv('../../../muestras de datos/sin procesar/SECOPI_contratos_2022_2023.csv', index=False, sep=';')\n",
    "\n",
    "# SECOP II\n",
    "DF_SECOPII_contratos_2023 = pd.read_sql_query(\"Select * from [CCE_Reports].[SECOPII].[V_HistoricoContratos_Depurado] where AprovalDate > '2019-12-31' and AprovalDate < '2023-08-31'\", cnxn_reports)\n",
    "DF_SECOPII_contratos_2023.to_csv('../../../muestras de datos/sin procesar/SECOPII_contratos_2022_2023.csv', index=False, sep=';')\n",
    "\n",
    "# TVEC\n",
    "DF_TVEC_Ordenes = pd.read_sql_query(\"select * from TVEC.Ordenes where Fecha > '2021-12-31' and Fecha < '2023-08-31'\", cnxn_sandbox)\n",
    "DF_TVEC_Ordenes.to_csv('../../../muestras de datos/sin procesar/TVEC_Ordenes_2022_2023.csv', index=False, sep=';')\n",
    "DF_TVEC_Ordenes_Items.to_csv('../../../muestras de datos/sin procesar/TVEC_Ordenes_Items.csv', index=False, sep=';')\n",
    "DF_TVEC_Entidades.to_csv('../../../muestras de datos/sin procesar/TVEC_Entidades.csv', index=False, sep=';')\n",
    "DF_TVEC_Proveedores.to_csv('../../../muestras de datos/sin procesar/TVEC_Proveedores.csv', index=False, sep=';')"
   ]
  },
  {
   "cell_type": "code",
   "execution_count": 3,
   "metadata": {},
   "outputs": [
    {
     "name": "stderr",
     "output_type": "stream",
     "text": [
      "C:\\Users\\Jorge\\AppData\\Local\\Temp\\ipykernel_17104\\2609911550.py:1: DtypeWarning: Columns (21,45,49,63,64,67,74,79,81,83,84,89) have mixed types. Specify dtype option on import or set low_memory=False.\n",
      "  DF_SECOPI_contratos_2023 = pd.read_csv('../../../muestras de datos/sin procesar/SECOPI_contratos_2022_2023.csv', sep=';')\n",
      "C:\\Users\\Jorge\\AppData\\Local\\Temp\\ipykernel_17104\\2609911550.py:2: DtypeWarning: Columns (26,27,30,31) have mixed types. Specify dtype option on import or set low_memory=False.\n",
      "  DF_SECOPII_contratos_2023 = pd.read_csv('../../../muestras de datos/sin procesar/SECOPII_contratos_2022_2023.csv', sep=';')\n"
     ]
    }
   ],
   "source": [
    "DF_SECOPI_contratos_2023 = pd.read_csv('../../../muestras de datos/sin procesar/SECOPI_contratos_2022_2023.csv', sep=';')\n",
    "DF_SECOPII_contratos_2023 = pd.read_csv('../../../muestras de datos/sin procesar/SECOPII_contratos_2022_2023.csv', sep=';')"
   ]
  },
  {
   "cell_type": "markdown",
   "metadata": {},
   "source": [
    "Se separán los registros que no tengan un ```ID_Entidad``` o un ```ID_Proveedor``` de la base de ordenes de la tienda virtual."
   ]
  },
  {
   "cell_type": "code",
   "execution_count": null,
   "metadata": {},
   "outputs": [],
   "source": [
    "Ordenes_Entidades_SIN_ID=DF_TVEC_Ordenes[DF_TVEC_Ordenes['ID_Entidad'].isna()]\n",
    "Ordenes_Proveedores_SIN_ID=DF_TVEC_Ordenes[DF_TVEC_Ordenes['ID_Proveedor'].isna()]\n",
    "\n",
    "Ordenes_Entidades_SIN_ID.to_excel(\"../../../muestras de datos/procesados/Ordenes_Entidades_TVEC_SIN_ID.xlsx\")\n",
    "Ordenes_Proveedores_SIN_ID.to_excel(\"../../../muestras de datos/procesados/Ordenes_Proveedores_TVEC_SIN_ID.xlsx\")\n",
    "\n",
    "DF_TVEC_Ordenes.dropna(subset=['ID_Entidad'],inplace=True)\n",
    "DF_TVEC_Ordenes.dropna(subset=['ID_Proveedor'],inplace=True)"
   ]
  },
  {
   "cell_type": "markdown",
   "metadata": {},
   "source": [
    "Ejecutamos un cambio de tipo para los campos que contengan id's."
   ]
  },
  {
   "cell_type": "code",
   "execution_count": null,
   "metadata": {},
   "outputs": [],
   "source": [
    "DF_TVEC_Ordenes['ID_Entidad']=DF_TVEC_Ordenes['ID_Entidad'].astype(int).astype(str)\n",
    "DF_TVEC_Ordenes['ID_Proveedor']=DF_TVEC_Ordenes['ID_Proveedor'].astype(int).astype(str)\n",
    "DF_TVEC_Entidades['ID']=DF_TVEC_Entidades['ID'].fillna(0).astype(int).astype(str)\n",
    "DF_TVEC_Proveedores['ID']=DF_TVEC_Proveedores['ID'].fillna(0).astype(int).astype(str)"
   ]
  },
  {
   "cell_type": "markdown",
   "metadata": {},
   "source": [
    "Y por último, en lo que corresponde a la TVEC, se hace un merge para consolidar toda la información en un solo dataframe, de modo que, se pueda ejecutar la unificación con las bases del SECOP I y del SECOP II."
   ]
  },
  {
   "cell_type": "code",
   "execution_count": null,
   "metadata": {},
   "outputs": [
    {
     "data": {
      "text/plain": [
       "Index(['ID_Ordenes', 'ID_Entidad', 'Entidad', 'Solicitante', 'Fecha_Ordenes',\n",
       "       'Fecha_vence', 'ID_Proveedor', 'Proveedor', 'Estado', 'Solicitud',\n",
       "       'Items', 'Total', 'Agregacion', 'Cotizacion', 'Padre', 'Ciudad_Ordenes',\n",
       "       'Categoria', 'RFQ', 'Paz', 'Proceso', 'UNSPSC', 'Contrato', 'email',\n",
       "       'Supervisor', 'Version', 'ID_Entidades', 'Nombre', 'NIT', 'Obligada',\n",
       "       'Orden', 'Rama', 'Sector', 'Departamento', 'Ciudad_Entidades',\n",
       "       'Fecha_Entidades', 'Active', 'Fechatemporal', 'Telefono', 'ID',\n",
       "       'Nombre_Proveedores', 'NombreComercial', 'NIT_Proveedores',\n",
       "       'Estado_Proveedores', 'Contacto', 'email_Proveedores', 'Direccion',\n",
       "       'Ciudad', 'Departamento_Proveedores', 'Agregacion_Proveedores',\n",
       "       'ActividadEconomica', 'RegTributario', 'FechaCreacion', 'URL',\n",
       "       'Modalidad', 'Tipo', 'Tipo Documento Proveedor', 'Objeto Contrato',\n",
       "       'Tipo de documento proveedor'],\n",
       "      dtype='object')"
      ]
     },
     "execution_count": 5,
     "metadata": {},
     "output_type": "execute_result"
    }
   ],
   "source": [
    "# Primero, unimos DF_TVEC_Ordenes con DF_TVEC_Entidades\n",
    "df_merge_Ordenes_Entidades = pd.merge(DF_TVEC_Ordenes, DF_TVEC_Entidades, left_on='ID_Entidad', right_on='ID', suffixes=('_Ordenes', '_Entidades'),how='left')\n",
    "\n",
    "# Luego, unimos el DataFrame resultante con DF_TVEC_Proveedores\n",
    "df_final_TVEC = pd.merge(df_merge_Ordenes_Entidades, DF_TVEC_Proveedores, left_on='ID_Proveedor', right_on='ID', suffixes=('', '_Proveedores'),how='left')\n",
    "\n",
    "df_final_TVEC['URL']='https://www.colombiacompra.gov.co/content/tienda-virtual'\n",
    "df_final_TVEC['Modalidad']='TVEC'\n",
    "df_final_TVEC['Tipo']='TVEC'\n",
    "df_final_TVEC['Tipo Documento Proveedor']='TVEC'\n",
    "df_final_TVEC['Objeto Contrato']=df_final_TVEC['Agregacion']\n",
    "df_final_TVEC['Tipo de documento proveedor']='NIT'\n",
    "\n",
    "df_final_TVEC.columns"
   ]
  },
  {
   "cell_type": "markdown",
   "metadata": {},
   "source": [
    "Se crea la columna ```Fuente``` para identificar la información por plataforma"
   ]
  },
  {
   "cell_type": "code",
   "execution_count": 4,
   "metadata": {},
   "outputs": [],
   "source": [
    "DF_SECOPI_contratos_2023['Fuente'] = 'SECOP I'\n",
    "DF_SECOPII_contratos_2023['Fuente'] = 'SECOP II'\n",
    "# df_final_TVEC['Fuente'] = 'TVEC'"
   ]
  },
  {
   "cell_type": "markdown",
   "metadata": {},
   "source": [
    "A continuación, se eliminarán los registros de la base del SECOP I que no tienen un ```ID_ADJUDICACION```. Adicionalmente, haremos una transformación del tipo de datos a entero."
   ]
  },
  {
   "cell_type": "code",
   "execution_count": 5,
   "metadata": {},
   "outputs": [],
   "source": [
    "DF_SECOPI_contratos_2023.dropna(subset=['ID_ADJUDICACION'],inplace=True)\n",
    "DF_SECOPI_contratos_2023['ID_ADJUDICACION']=DF_SECOPI_contratos_2023['ID_ADJUDICACION'].astype('int64').astype('str')"
   ]
  },
  {
   "cell_type": "markdown",
   "metadata": {},
   "source": [
    "Una vez se han suprimido los contratos con ```ID_ADJUDICACION``` nulo, daremos inicio a la unificación de la información en una única tabla."
   ]
  },
  {
   "cell_type": "markdown",
   "metadata": {},
   "source": [
    "# Proceso de Unificación de Datos"
   ]
  },
  {
   "cell_type": "markdown",
   "metadata": {},
   "source": [
    "Una vez que los datos están preparados, procederemos a unificarlos en una sola tabla consolidada. Dado que las bases de datos del SECOP I y SECOP II pueden tener diferentes esquemas y campos, se realizará una adecuada identificación y mapeo de columnas para garantizar una correspondencia adecuada."
   ]
  },
  {
   "cell_type": "code",
   "execution_count": 6,
   "metadata": {},
   "outputs": [],
   "source": [
    "# Leer el archivo Excel que contiene la homologación de columnas (Mapeo de variables)\n",
    "HC = pd.read_excel('../../../muestras de datos/auxiliar/Homologa_columnas.xlsx')\n",
    "\n",
    "# Crear dos DataFrames vacíos para almacenar los datos unificados\n",
    "new_SECOP_I = pd.DataFrame()\n",
    "new_SECOP_II = pd.DataFrame()\n",
    "new_TVEC = pd.DataFrame()\n",
    "\n",
    "for ind_column in HC.index:\n",
    "    # Asignar los valores de la columna del DataFrame SECOP I original a la nueva columna unificada\n",
    "    new_SECOP_I[HC['Unificado'][ind_column]]=DF_SECOPI_contratos_2023[HC['SECOP I'][ind_column]]\n",
    "    # Asignar los valores de la columna del DataFrame SECOP II original a la nueva columna unificada\n",
    "    new_SECOP_II[HC['Unificado'][ind_column]]=DF_SECOPII_contratos_2023[HC['SECOP II'][ind_column]]\n",
    "    # Asignar los valores de la columna del DataFrame TVEC original a la nueva columna unificada\n",
    "    #new_TVEC[HC['Unificado'][ind_column]]=df_final_TVEC[HC['TVEC'][ind_column]]\n",
    "\n",
    "# Eliminar los DataFrames originales para liberar memoria\n",
    "del DF_SECOPI_contratos_2023\n",
    "del DF_SECOPII_contratos_2023\n",
    "#del df_final_TVEC"
   ]
  },
  {
   "cell_type": "markdown",
   "metadata": {},
   "source": [
    "Finalmente, procedemos a unificar la información en la tabla ```DF_Consulta```"
   ]
  },
  {
   "cell_type": "code",
   "execution_count": 16,
   "metadata": {},
   "outputs": [],
   "source": [
    "DF_Consulta = pd.concat([new_SECOP_I,new_SECOP_II])\n",
    "#DF_Consulta = pd.concat([new_SECOP_I,new_SECOP_II,new_TVEC])\n",
    "DF_Consulta.reset_index(inplace=True)"
   ]
  },
  {
   "cell_type": "code",
   "execution_count": 20,
   "metadata": {},
   "outputs": [
    {
     "data": {
      "text/html": [
       "<div>\n",
       "<style scoped>\n",
       "    .dataframe tbody tr th:only-of-type {\n",
       "        vertical-align: middle;\n",
       "    }\n",
       "\n",
       "    .dataframe tbody tr th {\n",
       "        vertical-align: top;\n",
       "    }\n",
       "\n",
       "    .dataframe thead th {\n",
       "        text-align: right;\n",
       "    }\n",
       "</style>\n",
       "<table border=\"1\" class=\"dataframe\">\n",
       "  <thead>\n",
       "    <tr style=\"text-align: right;\">\n",
       "      <th></th>\n",
       "      <th>index</th>\n",
       "      <th>ID_Contrato</th>\n",
       "      <th>ID_Proceso</th>\n",
       "      <th>ID_Entidad</th>\n",
       "      <th>Nombre_Entidad</th>\n",
       "      <th>NIT_Entidad</th>\n",
       "      <th>Orden_Entidad</th>\n",
       "      <th>Modalidad</th>\n",
       "      <th>Estado</th>\n",
       "      <th>Descripcion_proceso</th>\n",
       "      <th>...</th>\n",
       "      <th>Valor_contrato</th>\n",
       "      <th>Departamento_Entidad</th>\n",
       "      <th>Municipio_Entidad</th>\n",
       "      <th>Departamento_Proveedor</th>\n",
       "      <th>Municipio_Proveedor</th>\n",
       "      <th>Fecha_inicio_contrato</th>\n",
       "      <th>Fecha_fin_contrato</th>\n",
       "      <th>Link</th>\n",
       "      <th>Fuente</th>\n",
       "      <th>Año_firma</th>\n",
       "    </tr>\n",
       "  </thead>\n",
       "  <tbody>\n",
       "    <tr>\n",
       "      <th>0</th>\n",
       "      <td>0</td>\n",
       "      <td>9575722</td>\n",
       "      <td>19-1-206746</td>\n",
       "      <td>215001021</td>\n",
       "      <td>BOYACÁ  EMPRESA DEPARTAMENTAL DE SERVICIOS PÚB...</td>\n",
       "      <td>900297725</td>\n",
       "      <td>TERRITORIAL</td>\n",
       "      <td>Licitación Pública</td>\n",
       "      <td>Liquidado</td>\n",
       "      <td>CONSTRUCCIN DEL PLAN MAESTRO DE ALCANTARILLADO...</td>\n",
       "      <td>...</td>\n",
       "      <td>1462354039</td>\n",
       "      <td>Boyacá</td>\n",
       "      <td>Tunja</td>\n",
       "      <td>Boyacá</td>\n",
       "      <td>Boyacá</td>\n",
       "      <td>2020-01-24</td>\n",
       "      <td>2020-10-24</td>\n",
       "      <td>https://www.contratos.gov.co/consultas/detalle...</td>\n",
       "      <td>SECOP I</td>\n",
       "      <td>2020</td>\n",
       "    </tr>\n",
       "    <tr>\n",
       "      <th>1</th>\n",
       "      <td>1</td>\n",
       "      <td>9575722</td>\n",
       "      <td>19-1-206746</td>\n",
       "      <td>215001021</td>\n",
       "      <td>BOYACÁ  EMPRESA DEPARTAMENTAL DE SERVICIOS PÚB...</td>\n",
       "      <td>900297725</td>\n",
       "      <td>TERRITORIAL</td>\n",
       "      <td>Licitación Pública</td>\n",
       "      <td>Liquidado</td>\n",
       "      <td>CONSTRUCCIN DEL PLAN MAESTRO DE ALCANTARILLADO...</td>\n",
       "      <td>...</td>\n",
       "      <td>1462354039</td>\n",
       "      <td>Boyacá</td>\n",
       "      <td>Tunja</td>\n",
       "      <td>Boyacá</td>\n",
       "      <td>Boyacá</td>\n",
       "      <td>2020-01-24</td>\n",
       "      <td>2020-10-24</td>\n",
       "      <td>https://www.contratos.gov.co/consultas/detalle...</td>\n",
       "      <td>SECOP I</td>\n",
       "      <td>2020</td>\n",
       "    </tr>\n",
       "  </tbody>\n",
       "</table>\n",
       "<p>2 rows × 27 columns</p>\n",
       "</div>"
      ],
      "text/plain": [
       "   index ID_Contrato   ID_Proceso  ID_Entidad  \\\n",
       "0      0     9575722  19-1-206746   215001021   \n",
       "1      1     9575722  19-1-206746   215001021   \n",
       "\n",
       "                                      Nombre_Entidad NIT_Entidad  \\\n",
       "0  BOYACÁ  EMPRESA DEPARTAMENTAL DE SERVICIOS PÚB...   900297725   \n",
       "1  BOYACÁ  EMPRESA DEPARTAMENTAL DE SERVICIOS PÚB...   900297725   \n",
       "\n",
       "  Orden_Entidad           Modalidad     Estado  \\\n",
       "0   TERRITORIAL  Licitación Pública  Liquidado   \n",
       "1   TERRITORIAL  Licitación Pública  Liquidado   \n",
       "\n",
       "                                 Descripcion_proceso  ... Valor_contrato  \\\n",
       "0  CONSTRUCCIN DEL PLAN MAESTRO DE ALCANTARILLADO...  ...     1462354039   \n",
       "1  CONSTRUCCIN DEL PLAN MAESTRO DE ALCANTARILLADO...  ...     1462354039   \n",
       "\n",
       "  Departamento_Entidad Municipio_Entidad Departamento_Proveedor  \\\n",
       "0               Boyacá             Tunja                 Boyacá   \n",
       "1               Boyacá             Tunja                 Boyacá   \n",
       "\n",
       "  Municipio_Proveedor Fecha_inicio_contrato Fecha_fin_contrato  \\\n",
       "0              Boyacá            2020-01-24         2020-10-24   \n",
       "1              Boyacá            2020-01-24         2020-10-24   \n",
       "\n",
       "                                                Link   Fuente Año_firma  \n",
       "0  https://www.contratos.gov.co/consultas/detalle...  SECOP I      2020  \n",
       "1  https://www.contratos.gov.co/consultas/detalle...  SECOP I      2020  \n",
       "\n",
       "[2 rows x 27 columns]"
      ]
     },
     "execution_count": 20,
     "metadata": {},
     "output_type": "execute_result"
    }
   ],
   "source": [
    "DF_Consulta['Fecha_firma'] = pd.to_datetime(DF_Consulta['Fecha_firma'])\n",
    "DF_Consulta['Año_firma'] = DF_Consulta['Fecha_firma'].dt.year\n",
    "DF_Consulta.head(2)"
   ]
  },
  {
   "cell_type": "code",
   "execution_count": 24,
   "metadata": {},
   "outputs": [],
   "source": [
    "DF_Consulta[DF_Consulta['Año_firma'] == 2020].to_csv('../../../muestras de datos/procesados/bronce/SECOP_2020.csv', index=False, sep=';')\n",
    "DF_Consulta[DF_Consulta['Año_firma'] == 2021].to_csv('../../../muestras de datos/procesados/bronce/SECOP_2021.csv', index=False, sep=';')\n",
    "DF_Consulta[DF_Consulta['Año_firma'] == 2022].to_csv('../../../muestras de datos/procesados/bronce/SECOP_2022.csv', index=False, sep=';')\n",
    "DF_Consulta[DF_Consulta['Año_firma'] == 2023].to_csv('../../../muestras de datos/procesados/bronce/SECOP_2023.csv', index=False, sep=';')"
   ]
  },
  {
   "cell_type": "markdown",
   "metadata": {},
   "source": [
    "# Metricas de la base previas al proceso de limpieza"
   ]
  },
  {
   "cell_type": "markdown",
   "metadata": {},
   "source": [
    "Con la siguiente línea, se proporcionará un resumen conciso y útil sobre la estructura y contenido del DataFrame, incluyendo:\n",
    "\n",
    "* El número total de filas en el DataFrame.\n",
    "* El número de columnas en el DataFrame.\n",
    "* El nombre de cada columna y su tipo de datos.\n",
    "* La cantidad de valores no nulos en cada columna.\n",
    "* La cantidad de memoria utilizada por el DataFrame.\n",
    "\n",
    "Esta información será útil para verificar la integridad y la consistencia de la base consolidada y para identificar posibles problemas, como valores faltantes o tipos de datos incorrectos. También proporciona una visión general rápida de la cantidad de datos presentes en el DataFrame y ayudará a tomar decisiones informadas sobre el manejo de los datos y el análisis posterior."
   ]
  },
  {
   "cell_type": "code",
   "execution_count": null,
   "metadata": {},
   "outputs": [
    {
     "name": "stdout",
     "output_type": "stream",
     "text": [
      "<class 'pandas.core.frame.DataFrame'>\n",
      "RangeIndex: 6172969 entries, 0 to 6172968\n",
      "Data columns (total 26 columns):\n",
      " #   Column                  Dtype  \n",
      "---  ------                  -----  \n",
      " 0   index                   int64  \n",
      " 1   ID_Contrato             object \n",
      " 2   ID_Proceso              object \n",
      " 3   ID_Entidad              object \n",
      " 4   Nombre_Entidad          object \n",
      " 5   NIT_Entidad             object \n",
      " 6   Orden_Entidad           object \n",
      " 7   Modalidad               object \n",
      " 8   Estado                  object \n",
      " 9   Descripcion_proceso     object \n",
      " 10  Objeto_Contrato         object \n",
      " 11  Tipo_de_contrato        object \n",
      " 12  Fecha_firma             object \n",
      " 13  UNSPSC                  object \n",
      " 14  Nombre_Proveedor        object \n",
      " 15  Documento_Proveedor     object \n",
      " 16  Tipo_proveedor          object \n",
      " 17  Valor_contrato          float64\n",
      " 18  Departamento_Entidad    object \n",
      " 19  Municipio_Entidad       object \n",
      " 20  Departamento_Proveedor  object \n",
      " 21  Municipio_Proveedor     object \n",
      " 22  Fecha_inicio_contrato   object \n",
      " 23  Fecha_fin_contrato      object \n",
      " 24  Link                    object \n",
      " 25  Fuente                  object \n",
      "dtypes: float64(1), int64(1), object(24)\n",
      "memory usage: 1.2+ GB\n"
     ]
    }
   ],
   "source": [
    "DF_Consulta.info()"
   ]
  },
  {
   "cell_type": "markdown",
   "metadata": {},
   "source": [
    "Y, por último, usaremos la función ```describe()``` de pandas para proporcionar información clave sobre las variables numéricas del DataFrame, incluyendo el número de observaciones (count), la media (mean), la desviación estándar (std), el valor mínimo (min), los percentiles (25%, 50% y 75%), y el valor máximo (max) de cada columna numérica.\n",
    "\n",
    "El resumen estadístico generado por la siguiente línea de código será útil para obtener una visión general rápida de la distribución y las tendencias centrales de los datos numéricos en el DataFrame. "
   ]
  },
  {
   "cell_type": "code",
   "execution_count": null,
   "metadata": {},
   "outputs": [
    {
     "data": {
      "text/html": [
       "<div>\n",
       "<style scoped>\n",
       "    .dataframe tbody tr th:only-of-type {\n",
       "        vertical-align: middle;\n",
       "    }\n",
       "\n",
       "    .dataframe tbody tr th {\n",
       "        vertical-align: top;\n",
       "    }\n",
       "\n",
       "    .dataframe thead th {\n",
       "        text-align: right;\n",
       "    }\n",
       "</style>\n",
       "<table border=\"1\" class=\"dataframe\">\n",
       "  <thead>\n",
       "    <tr style=\"text-align: right;\">\n",
       "      <th></th>\n",
       "      <th>index</th>\n",
       "      <th>Valor_contrato</th>\n",
       "    </tr>\n",
       "  </thead>\n",
       "  <tbody>\n",
       "    <tr>\n",
       "      <th>count</th>\n",
       "      <td>6.172969e+06</td>\n",
       "      <td>6.172969e+06</td>\n",
       "    </tr>\n",
       "    <tr>\n",
       "      <th>mean</th>\n",
       "      <td>1.647730e+06</td>\n",
       "      <td>2.555750e+08</td>\n",
       "    </tr>\n",
       "    <tr>\n",
       "      <th>std</th>\n",
       "      <td>1.051403e+06</td>\n",
       "      <td>8.803351e+10</td>\n",
       "    </tr>\n",
       "    <tr>\n",
       "      <th>min</th>\n",
       "      <td>0.000000e+00</td>\n",
       "      <td>0.000000e+00</td>\n",
       "    </tr>\n",
       "    <tr>\n",
       "      <th>25%</th>\n",
       "      <td>7.716210e+05</td>\n",
       "      <td>5.987664e+06</td>\n",
       "    </tr>\n",
       "    <tr>\n",
       "      <th>50%</th>\n",
       "      <td>1.543242e+06</td>\n",
       "      <td>1.290000e+07</td>\n",
       "    </tr>\n",
       "    <tr>\n",
       "      <th>75%</th>\n",
       "      <td>2.346361e+06</td>\n",
       "      <td>2.791667e+07</td>\n",
       "    </tr>\n",
       "    <tr>\n",
       "      <th>max</th>\n",
       "      <td>3.889603e+06</td>\n",
       "      <td>1.420769e+14</td>\n",
       "    </tr>\n",
       "  </tbody>\n",
       "</table>\n",
       "</div>"
      ],
      "text/plain": [
       "              index  Valor_contrato\n",
       "count  6.172969e+06    6.172969e+06\n",
       "mean   1.647730e+06    2.555750e+08\n",
       "std    1.051403e+06    8.803351e+10\n",
       "min    0.000000e+00    0.000000e+00\n",
       "25%    7.716210e+05    5.987664e+06\n",
       "50%    1.543242e+06    1.290000e+07\n",
       "75%    2.346361e+06    2.791667e+07\n",
       "max    3.889603e+06    1.420769e+14"
      ]
     },
     "execution_count": 12,
     "metadata": {},
     "output_type": "execute_result"
    }
   ],
   "source": [
    "DF_Consulta.describe()"
   ]
  },
  {
   "cell_type": "code",
   "execution_count": null,
   "metadata": {},
   "outputs": [],
   "source": []
  }
 ],
 "metadata": {
  "kernelspec": {
   "display_name": "Python 3",
   "language": "python",
   "name": "python3"
  },
  "language_info": {
   "codemirror_mode": {
    "name": "ipython",
    "version": 3
   },
   "file_extension": ".py",
   "mimetype": "text/x-python",
   "name": "python",
   "nbconvert_exporter": "python",
   "pygments_lexer": "ipython3",
   "version": "3.11.2"
  },
  "orig_nbformat": 4
 },
 "nbformat": 4,
 "nbformat_minor": 2
}
