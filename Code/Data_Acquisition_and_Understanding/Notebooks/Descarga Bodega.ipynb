{
 "cells": [
  {
   "attachments": {},
   "cell_type": "markdown",
   "metadata": {},
   "source": [
    "<div style=\"\n",
    "  padding: 30px;\n",
    "  text-align: center;\" class='row'>\n",
    "<div style=\"float:left;width: 15%;\" class='column'><a href=\"https://www.colombiacompra.gov.co\"><img alt=\"Logo Colombia Compra Eficiente\" id=\"logocce\" src=\"https://www.colombiacompra.gov.co/sites/cce_public/files/Images/logocce.png\" style=\"height: 45px;\"></a></div>\n",
    "    <div style=\"float:left;width: 70%;\" class='column'>\n",
    "        <h1> Exploración DataVAULT\n",
    "        </h1> \n",
    "    </div>\n",
    "<div style=\"float:left;width: 15%;\" class='column'><a href=\"https://www.dnp.gov.co/\" target=\"_blank\"><img class=\"float-right\" id=\"logodnp\" src=\"https://www.dnp.gov.co/img/logoNuevo.jpg\" style=\"width: 200px;\"></a></div>\n",
    "</div>\n"
   ]
  },
  {
   "attachments": {},
   "cell_type": "markdown",
   "metadata": {},
   "source": [
    "## 1. IDENTIFICACIÓN DEL INSUMO\n",
    "\n",
    "|||\n",
    "|:--|:--|\n",
    "|**Fecha**|Abril 2023|\n",
    "|**Ciudad**|Bogotá D.C.|\n",
    "|**Esquema de presentación del insumo**|Cuaderno Jupyter|\n",
    "|**Título del insumo**| **Consideraciones para la consulta en datos abiertos**|\n",
    "|**Descripción y alcance**|Script para la consulta de bases y exploración de bases en el DATAVAULT.|\n",
    "|**Periodicidad del insumo**|único|\n",
    "|**Solicitante**|No aplica|\n",
    "|**Versión del insumo**|Final|"
   ]
  },
  {
   "attachments": {},
   "cell_type": "markdown",
   "metadata": {},
   "source": [
    "## 2. DESTINO Y AUTORES DEL INFORME / INSUMO\n",
    "\n",
    "|||\n",
    "|:--|:--|\n",
    "|**Destinatario**|<table align='left'><tr><td>*Nombre:*</td> <td>Equipo analítica EMAE</td></tr> <tr><td>*Cargo:*</td> <td>NA</td></tr>  <tr><td>*Área:*</td> <td>Subdirección de estudios de Mercado y Abastecimiento Estratégico – EMAE</td></tr></table>|\n",
    "|**Autores**|<table><tr><td>*Nombre:*</td> <td>Equipo de Datos -GAEC<td>*Área:*</td> <td>Subdirección de estudios de Mercado y Abastecimiento Estratégico – EMAE.</td></tr></table>|\n",
    "|**Aprobación**|<table><tr><td>*Nombre:*</td> <td>Ricardo Suarez</td></tr> <tr><td>*Cargo:*</td> <td>Subdirector Estudios de Mercado y Abastecimiento Estratégico</td></tr>  <tr><td>*Área:*</td> <td>Subdirección de estudios de Mercado y Abastecimiento Estratégico – EMAE.</td></tr></table>|"
   ]
  },
  {
   "attachments": {},
   "cell_type": "markdown",
   "metadata": {},
   "source": [
    "## Instalaciones previas\n",
    " \n",
    "Para poder utilizar SQL en Python es necesario instalar lo siguiente, escoja el driver de acuerdo al sistema operativo de su equipo: \n",
    " \n",
    " \n",
    "**Driver Microsoft ODBC para SQL SERVER en windows**\n",
    " \n",
    "Descargar e instalar el driver de la página [Microsoft ODBC](https://docs.microsoft.com/en-us/sql/connect/odbc/windows/system-requirements-installation-and-driver-files?view=sql-server-ver15#installing-microsoft-odbc-driver-for-sql-server) versión \n",
    " 17.\n",
    " \n",
    "**Driver Microsoft ODBC para SQL SERVER en Linux o MacOs**\n",
    " \n",
    "Descargar e instalar el driver de la página [Microsoft ODBC](https://docs.microsoft.com/en-us/sql/connect/odbc/linux-mac/system-requirements?view=sql-server-ver15) versión 17 deacuerdo a la versión de su sistema operativo.\n",
    "Recuerde estar conectado a la VPN para poder accerder. \n",
    "\n",
    "**Paquete pyobdc**\n",
    "\n",
    "Quite el comentario e inicie la instalación simple."
   ]
  },
  {
   "cell_type": "code",
   "execution_count": null,
   "metadata": {},
   "outputs": [],
   "source": [
    "import pyodbc \n",
    "from dotenv import load_dotenv\n",
    "import os\n",
    "load_dotenv()\n",
    "\n",
    "server = os.getenv(\"server\")\n",
    "username= os.getenv(\"username\")\n",
    "password= os.getenv(\"password\")\n",
    "\n",
    "cnxn = pyodbc.connect('DRIVER={ODBC Driver 17 for SQL Server};SERVER='+server+';UID='+username+';PWD='+ password)\n",
    "cursor = cnxn.cursor()\n",
    "\n",
    "ruta_DATA=\"../../../../DATA/\"\n",
    "ruta_MUESTRAS=\"../../../Sample_Data/Raw/MUESTRAS/ \""
   ]
  },
  {
   "cell_type": "code",
   "execution_count": null,
   "metadata": {},
   "outputs": [],
   "source": [
    "print(server)"
   ]
  },
  {
   "cell_type": "code",
   "execution_count": null,
   "metadata": {},
   "outputs": [],
   "source": [
    "### Paquetes usados para la exploración de datos\n",
    "\n",
    "import pandas as pd\n",
    "import numpy as np\n",
    "import matplotlib.pyplot as plt\n",
    "import seaborn as sns\n",
    "import datetime as dt\n",
    "import warnings\n",
    "warnings.filterwarnings('ignore')\n",
    "\n"
   ]
  },
  {
   "attachments": {},
   "cell_type": "markdown",
   "metadata": {},
   "source": [
    "## 3. DESCRIPCIÓN DEL INFORME / INSUMO\n",
    "\n",
    "### 3.1. Objetivo\n",
    "\n",
    "El objetivo de este cuaderno es mostrar las bases de datos disponibles en el DATAVAULT, como consultarlas y algunos usos simples de modelos de limpieza.\n",
    "\n",
    "En particular de aqui saldran las siguientes tablas para poner a disposición del público a traves del portal de datos abiertos, www.datos.gov.co:\n",
    "\n",
    "- **Tabla de procesos SECOP II**: Contiene la información de los procesos que se han llevado a cabo en el Sistema Electrónico de Contratación Pública SECOP II.\n",
    "\n",
    "- **Tabla de contratos SECOP II**: Contiene la información de los contratos que se han llevado a cabo en el Sistema Electrónico de Contratación Pública SECOP II.\n",
    "\n",
    "\n",
    "- **Tabla de procesos SECOP I**: Contiene la información de los procesos que se han llevado a cabo en el Sistema Electrónico de Contratación Pública SECOP I.\n",
    "\n",
    "-  **Tabla de plan anual de adquisiciones**: Contiene la información de las adquisiciones prioyectadas por entidad."
   ]
  },
  {
   "attachments": {},
   "cell_type": "markdown",
   "metadata": {},
   "source": [
    "## 4. ADQUISICIÓN DE LOS DATOS\n",
    "\n",
    "### 4.1. Datos de procesos SECOP II\n",
    "\n",
    "Para consultar los datos de procesos SECOP II, se debe ejecutar la siguiente consulta:\n",
    "\n",
    "```sql\n",
    "SELECT * FROM [CCE_Sandbox].[datavault].[SAT_Example_Table]\n",
    "```\n"
   ]
  },
  {
   "cell_type": "code",
   "execution_count": null,
   "metadata": {},
   "outputs": [],
   "source": [
    "SECOP_II_Contratos = pd.read_sql_query(\"SELECT * FROM [CCE_Reports].[SECOPII].[HistoricoContratos]\", cnxn)\n"
   ]
  },
  {
   "cell_type": "code",
   "execution_count": null,
   "metadata": {},
   "outputs": [],
   "source": [
    "ruta_Large=\"/dropbox/Dropbox/CCE-projects/Large Data/\"\n",
    "SECOP_II_Contratos.to_parquet(ruta_Large+\"SECOP_II_Contratos.parquet\", engine='pyarrow')"
   ]
  },
  {
   "cell_type": "code",
   "execution_count": null,
   "metadata": {},
   "outputs": [],
   "source": [
    "SECOP_II_Procesos = pd.read_sql_query(\"SELECT * FROM [CCE_Reports].[SECOPII].[HistoricoProcedimientos_Despliegue]\", cnxn)\n"
   ]
  },
  {
   "cell_type": "code",
   "execution_count": null,
   "metadata": {},
   "outputs": [],
   "source": [
    "SECOP_II_Procesos.to_parquet(ruta_Large+\"SECOP_II_Procesos.parquet\",engine='pyarrow')"
   ]
  },
  {
   "cell_type": "code",
   "execution_count": null,
   "metadata": {},
   "outputs": [],
   "source": [
    "SECOP_II_Contratos_Depurado = pd.read_sql_query(\"SELECT * FROM [CCE_Reports].[SECOPII].[V_HistoricoContratos_Depurado]\", cnxn)\n"
   ]
  },
  {
   "cell_type": "code",
   "execution_count": null,
   "metadata": {},
   "outputs": [],
   "source": [
    "SECOP_II_Contratos_Depurado.to_parquet(ruta_Large+\"SECOP_II_Contratos_Depurado.parquet\",engine='pyarrow')\n"
   ]
  },
  {
   "cell_type": "code",
   "execution_count": null,
   "metadata": {},
   "outputs": [],
   "source": [
    "SECOP_I_Procesos = pd.read_sql_query(\"SELECT * FROM [CCE_Sandbox].[SECOPI].[V_SECOPI]\", cnxn)\n",
    "SECOP_I_Procesos.to_parquet(ruta_Large+\"SECOP_I_Procesos.parquet\",engine='pyarrow')\n",
    "\n",
    "SECOP_I_Contratos = pd.read_sql_query(\"SELECT * FROM [CCE_Sandbox].[SECOPI].[VWAdjudicacionesDepuradas]\", cnxn)\n",
    "SECOP_I_Contratos.to_parquet(ruta_Large+\"SECOP_I_Contratos.parquet\",engine='pyarrow')"
   ]
  },
  {
   "cell_type": "code",
   "execution_count": null,
   "metadata": {},
   "outputs": [],
   "source": [
    "### cerramos la conexión\n",
    "cnxn.close()"
   ]
  },
  {
   "attachments": {},
   "cell_type": "markdown",
   "metadata": {},
   "source": [
    "## Guardado en DataLake\n",
    "\n",
    "Usamos un token SAS (Shared Access Signature) para acceder al DataLake. Este token se genera en el portal de Azure, en la cuenta de almacenamiento, en la sección de \"Shared access signature\". El token se genera con permisos de lectura y escritura, y con una duración de 3 meses.\n",
    "\n",
    "Un token SAS es una cadena de caracteres que incluye una firma criptográfica generada por el servidor y que contiene información sobre los permisos y la duración del acceso autorizado. Al generar un token SAS, puedes especificar qué acciones se permiten (por ejemplo, leer, escribir, eliminar), qué recursos se pueden acceder y durante cuánto tiempo el token será válido.\n",
    "\n",
    "El uso de tokens SAS te permite delegar el acceso a los recursos de Azure Storage sin compartir tus claves de acceso privadas. Esto proporciona un nivel adicional de seguridad y control sobre tus datos almacenados en Azure.\n",
    "\n",
    "Para generar un token SAS, puedes utilizar las bibliotecas de desarrollo de Azure Storage, la interfaz de línea de comandos de Azure (Azure CLI) o el Portal de Azure. Una vez generado el token SAS, puedes compartirlo con terceros para que puedan acceder a los recursos de Azure Storage durante el período y con los permisos especificados.\n",
    "\n",
    "Es importante tener en cuenta que los tokens SAS son válidos solo durante el período de tiempo especificado y tienen las restricciones y permisos definidos al generarse. Por lo tanto, es fundamental configurar adecuadamente los permisos y la duración del token SAS para garantizar la seguridad y el acceso adecuado a tus datos almacenados en Azure Storage."
   ]
  },
  {
   "cell_type": "code",
   "execution_count": null,
   "metadata": {},
   "outputs": [],
   "source": [
    "import pandas as pd\n",
    "import pyarrow.parquet as pq\n",
    "from azure.storage.blob import BlobServiceClient, BlobClient, ContainerClient\n",
    "import os\n",
    "\n",
    "token_sas=os.getenv(\"token_sas\")\n",
    "url_blob=os.getenv(\"url_blob\")\n",
    "\n",
    "### Conectamos con el DataLake\n",
    "# Conexión a la cuenta de almacenamiento de Azure utilizando el token SAS\n",
    "connect_str = f\"BlobEndpoint={url_blob};SharedAccessSignature={token_sas}\"\n",
    "blob_service_client = BlobServiceClient.from_connection_string(connect_str)"
   ]
  },
  {
   "cell_type": "code",
   "execution_count": null,
   "metadata": {},
   "outputs": [],
   "source": [
    "# Referencia al contenedor donde se encuentran los archivos\n",
    "container_name_ent = \"datosemae/bronze/SECOP_ReportsVersion\"\n",
    "container_client_ent = blob_service_client.get_container_client(container_name_ent)\n",
    "\n",
    "# Nombre del archivo a leer\n",
    "blob_name_ent_small = \"Entidades_SECOP_II.parquet\"\n",
    "blob_name_ent_full = \"Entidades_SECOP_II_FULL.parquet\""
   ]
  },
  {
   "attachments": {},
   "cell_type": "markdown",
   "metadata": {},
   "source": [
    "## Carga de datos usando Python desde la ruta DATA\n",
    "\n",
    "Cargamos la base desde la ruta DATA\n",
    "\n",
    "\n"
   ]
  },
  {
   "cell_type": "code",
   "execution_count": null,
   "metadata": {},
   "outputs": [],
   "source": [
    "import pandas as pd\n",
    "ruta_Large=\"/dropbox/Dropbox/CCE-projects/Large Data\"\n"
   ]
  },
  {
   "cell_type": "code",
   "execution_count": null,
   "metadata": {},
   "outputs": [],
   "source": [
    "SECOP_II_Contratos = pd.read_parquet(ruta_Large+\"SECOP_II_Contratos.parquet\",engine=\"pyarrow\")\n",
    "SECOP_II_Procesos = pd.read_parquet(ruta_Large+\"SECOP_II_Procesos.parquet\",engine=\"pyarrow\")\n",
    "SECOP_II_Contratos_Depurado = pd.read_parquet(ruta_Large+\"SECOP_II_Contratos_Depurado.parquet\",engine=\"pyarrow\")\n",
    "SECOP_I_Procesos = pd.read_parquet(ruta_Large+\"sat_procedure_request.parquet\",engine=\"pyarrow\")"
   ]
  }
 ],
 "metadata": {
  "kernelspec": {
   "display_name": "base",
   "language": "python",
   "name": "python3"
  },
  "language_info": {
   "codemirror_mode": {
    "name": "ipython",
    "version": 3
   },
   "file_extension": ".py",
   "mimetype": "text/x-python",
   "name": "python",
   "nbconvert_exporter": "python",
   "pygments_lexer": "ipython3",
   "version": "3.10.6"
  },
  "orig_nbformat": 4
 },
 "nbformat": 4,
 "nbformat_minor": 2
}
