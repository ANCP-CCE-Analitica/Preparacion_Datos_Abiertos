{
 "cells": [
  {
   "attachments": {},
   "cell_type": "markdown",
   "metadata": {},
   "source": [
    "<div style=\"\n",
    "  padding: 30px;\n",
    "  text-align: center;\" class='row'>\n",
    "<div style=\"float:left;width: 15%;\" class='column'><a href=\"https://www.colombiacompra.gov.co\"><img alt=\"Logo Colombia Compra Eficiente\" id=\"logocce\" src=\"https://www.colombiacompra.gov.co/sites/cce_public/files/Images/logocce.png\" style=\"height: 45px;\"></a></div>\n",
    "    <div style=\"float:left;width: 70%;\" class='column'>\n",
    "        <h1> Pipeline de Datos de Contratación Pública\n",
    "        </h1> \n",
    "    </div>\n",
    "<div style=\"float:left;width: 15%;\" class='column'><a href=\"https://www.dnp.gov.co/\" target=\"_blank\"><img class=\"float-right\" id=\"logodnp\" src=\"https://www.dnp.gov.co/img/logoNuevo.jpg\" style=\"width: 200px;\"></a></div>\n",
    "</div>\n"
   ]
  },
  {
   "attachments": {},
   "cell_type": "markdown",
   "metadata": {},
   "source": [
    "## 1. IDENTIFICACIÓN DEL INSUMO\n",
    "\n",
    "|||\n",
    "|:--|:--|\n",
    "|**Fecha**|Abril 2023|\n",
    "|**Ciudad**|Bogotá D.C.|\n",
    "|**Esquema de presentación del insumo**|Cuaderno Jupyter|\n",
    "|**Título del insumo**| **Pipeline de Datos de Contratación Pública**|\n",
    "|**Descripción y alcance**|Script para la consulta de bases y exploración de bases en el DATAVAULT.|\n",
    "|**Periodicidad del insumo**|único|\n",
    "|**Solicitante**|No aplica|\n",
    "|**Versión del insumo**|Final|"
   ]
  },
  {
   "attachments": {},
   "cell_type": "markdown",
   "metadata": {},
   "source": [
    "## 2. DESTINO Y AUTORES DEL INFORME / INSUMO\n",
    "\n",
    "|||\n",
    "|:--|:--|\n",
    "|**Destinatario**|<table align='left'><tr><td>*Nombre:*</td> <td>Equipo analítica EMAE</td></tr> <tr><td>*Cargo:*</td> <td>NA</td></tr>  <tr><td>*Área:*</td> <td>Subdirección de estudios de Mercado y Abastecimiento Estratégico – EMAE</td></tr></table>|\n",
    "|**Autores**|<table><tr><td>*Nombre:*</td> <td>Equipo de Datos -GAEC</td></tr><tr><td>*Área:*</td> <td>Subdirección de estudios de Mercado y Abastecimiento Estratégico – EMAE.</td></tr></table>|\n",
    "|**Aprobación**|<table><tr><td>*Nombre:*</td> <td>Ricardo Suarez</td></tr> <tr><td>*Cargo:*</td> <td>Subdirector Estudios de Mercado y Abastecimiento Estratégico</td></tr>  <tr><td>*Área:*</td> <td>Subdirección de estudios de Mercado y Abastecimiento Estratégico – EMAE.</td></tr></table>|"
   ]
  },
  {
   "attachments": {},
   "cell_type": "markdown",
   "metadata": {},
   "source": [
    "## Carga de librerías y ambiente de trabajo\n",
    "\n",
    "En esta sección se cargan las librerías necesarias para el desarrollo del script y se establecen los parámetros de trabajo.\n"
   ]
  },
  {
   "cell_type": "code",
   "execution_count": 1,
   "metadata": {},
   "outputs": [
    {
     "data": {
      "text/plain": [
       "True"
      ]
     },
     "execution_count": 1,
     "metadata": {},
     "output_type": "execute_result"
    }
   ],
   "source": [
    "import pyodbc \n",
    "from dotenv import load_dotenv\n",
    "import os\n",
    "load_dotenv()"
   ]
  },
  {
   "cell_type": "code",
   "execution_count": 2,
   "metadata": {},
   "outputs": [
    {
     "name": "stderr",
     "output_type": "stream",
     "text": [
      "<frozen importlib._bootstrap>:241: RuntimeWarning: scipy._lib.messagestream.MessageStream size changed, may indicate binary incompatibility. Expected 56 from C header, got 64 from PyObject\n"
     ]
    }
   ],
   "source": [
    "### Paquetes usados para la exploración de datos\n",
    "\n",
    "import pandas as pd\n",
    "import numpy as np\n",
    "import matplotlib.pyplot as plt\n",
    "import seaborn as sns\n",
    "import datetime as dt\n",
    "import warnings\n",
    "warnings.filterwarnings('ignore')\n"
   ]
  },
  {
   "cell_type": "code",
   "execution_count": 3,
   "metadata": {},
   "outputs": [],
   "source": [
    "ruta_DATA=\"/dropbox/Dropbox/CCE-projects/Large Data/SECOP DA/\""
   ]
  },
  {
   "cell_type": "code",
   "execution_count": null,
   "metadata": {},
   "outputs": [],
   "source": [
    "DF_Consulta=pd.read_parquet(ruta_DATA+\"SECOP_I_II.parquet\")"
   ]
  },
  {
   "cell_type": "code",
   "execution_count": 9,
   "metadata": {},
   "outputs": [
    {
     "data": {
      "text/plain": [
       "Estado\n",
       "Celebrado                                      1711196\n",
       "En ejecución                                    993408\n",
       "Liquidado                                       721506\n",
       "Modificado                                      497127\n",
       "Terminado                                       295685\n",
       "Cerrado                                         137549\n",
       "Activo                                          102023\n",
       "Terminado sin Liquidar                           75416\n",
       "Cedido                                           15355\n",
       "Suspendido                                        2763\n",
       "Convocado                                          579\n",
       "Adjudicado                                         107\n",
       "Terminado Anormalmente después de Convocado          5\n",
       "enviado Proveedor                                    2\n",
       "Name: count, dtype: int64"
      ]
     },
     "execution_count": 9,
     "metadata": {},
     "output_type": "execute_result"
    }
   ],
   "source": [
    "## Estado de los contratos\n",
    "\n",
    "# Diccionario de estandarización de estados contractuales\n",
    "estado_contractual = {\n",
    "    'En ejecución': 'En ejecución',\n",
    "    'Modificado': 'Modificado',\n",
    "    'Celebrado': 'Celebrado',\n",
    "    'terminado': 'Terminado',\n",
    "    'Liquidado': 'Liquidado',\n",
    "    'Cerrado': 'Cerrado',\n",
    "    'Activo': 'Activo',\n",
    "    'Terminado sin Liquidar': 'Terminado sin Liquidar',\n",
    "    'cedido': 'Cedido',\n",
    "    'Suspendido': 'Suspendido',\n",
    "    'Convocado': 'Convocado',\n",
    "    'Adjudicado': 'Adjudicado'\n",
    "}\n",
    "\n",
    "# Corregir los estados contractuales utilizando el diccionario\n",
    "DF_Consulta['Estado'] = DF_Consulta['Estado'].replace(estado_contractual)\n",
    "DF_Consulta['Estado'].value_counts()\n"
   ]
  },
  {
   "cell_type": "code",
   "execution_count": 10,
   "metadata": {},
   "outputs": [],
   "source": [
    "### Ajustemos las entidades\n",
    "\n",
    "# Carga de MDM de entidades\n",
    "\n",
    "MDM_Entidades = pd.read_excel('../../../Sample_Data/Auxiliar/MDM_Total.xlsx')\n",
    "\n",
    "## "
   ]
  },
  {
   "cell_type": "code",
   "execution_count": 11,
   "metadata": {},
   "outputs": [],
   "source": [
    "MDM_SII=MDM_Entidades.drop_duplicates(subset=['Codigo_Entidad_SECOP_II'], keep='first')\n",
    "MDM_SI=MDM_Entidades.drop_duplicates(subset=['Codigo_Entidad_SECOP_I'], keep='first')"
   ]
  },
  {
   "cell_type": "code",
   "execution_count": null,
   "metadata": {},
   "outputs": [],
   "source": [
    "### Agregamos el código de entidad y corregimos el nombre de la entidad usando el MDM segun la fuente\n",
    "\n",
    "# Agregamos el código de entidad\n",
    "cod_ent=[]\n",
    "rev_MDM=[]\n",
    "DF_Consulta['NIT_MDM']=np.nan\n",
    "for ind in DF_Consulta.index:\n",
    "    if DF_Consulta['Fuente'][ind]=='SECOP I':\n",
    "        cod_entidad=MDM_SI[MDM_SI['Codigo_Entidad_SECOP_I']==DF_Consulta['ID entidad Plataforma'][ind]]\n",
    "        if cod_entidad.empty or  len(cod_entidad)>1:\n",
    "            rev_MDM.append([DF_Consulta['Entidad'][ind],DF_Consulta['ID entidad Plataforma'][ind],'SECOP I'])    \n",
    "            cod_ent.append(np.nan)\n",
    "        else:\n",
    "            cod_ent.append(cod_entidad['Codigo_Entidad'].values[0])\n",
    "            DF_Consulta['NIT_MDM'][ind]=cod_entidad['NIT_SECOP'].values[0]\n",
    "        \n",
    "    elif DF_Consulta['Fuente'][ind]=='SECOP II':\n",
    "        cod_entidad=MDM_SII[MDM_SII['Codigo_Entidad_SECOP_II']==DF_Consulta['ID entidad Plataforma'][ind]]\n",
    "        if cod_entidad.empty or  len(cod_entidad)>1:\n",
    "            rev_MDM.append([DF_Consulta['Entidad'][ind],DF_Consulta['ID entidad Plataforma'][ind],'SECOP II'])\n",
    "            cod_ent.append(np.nan)\n",
    "        else:\n",
    "            cod_ent.append(cod_entidad['Codigo_Entidad'].values[0])\n",
    "            DF_Consulta['NIT_MDM'][ind]=cod_entidad['NIT_SECOP'].values[0]\n",
    "DF_Consulta['Codigo Entidad']=cod_ent\n",
    "\n",
    "Error_MDM=pd.DataFrame(rev_MDM,columns=['Entidad','ID entidad Plataforma','Fuente'])\n",
    "Error_MDM.drop_duplicates(keep='first',inplace=True)\n"
   ]
  },
  {
   "cell_type": "code",
   "execution_count": 16,
   "metadata": {},
   "outputs": [],
   "source": [
    "Error_MDM.to_excel('../../../Sample_Data/Processed/Errores MDM.xlsx',index=False)"
   ]
  },
  {
   "cell_type": "code",
   "execution_count": 17,
   "metadata": {},
   "outputs": [],
   "source": [
    "DF_Consulta['Entidad']=DF_Consulta['Entidad'].str.upper()"
   ]
  },
  {
   "cell_type": "code",
   "execution_count": 18,
   "metadata": {},
   "outputs": [
    {
     "name": "stdout",
     "output_type": "stream",
     "text": [
      "El dataset tiene 4552721 filas y 29 columnas\n",
      "Unificado\n",
      "Fuente                                 object\n",
      "ID Contrato                            object\n",
      "ID Proceso                             object\n",
      "ID entidad Plataforma                  object\n",
      "Entidad                                object\n",
      "NIT Entidad                            object\n",
      "Orden                                  object\n",
      "Modalidad                              object\n",
      "Estado                                 object\n",
      "Descripción proceso                    object\n",
      "Objeto Contrato                        object\n",
      "Tipo de contrato                       object\n",
      "Fecha de Firma                 datetime64[ns]\n",
      "UNSPSC                                 object\n",
      "Nombre Proveedor                       object\n",
      "Documento Proveedor                    object\n",
      "Tipo de documento proveedor            object\n",
      "Valor del contrato                     object\n",
      "Departamento Entidad                   object\n",
      "Ciudad Entidad                         object\n",
      "Inicio de contrato                     object\n",
      "Fin de contrato                        object\n",
      "URL                                    object\n",
      "Año                                     int32\n",
      "Mes                                    object\n",
      "ID                                      int64\n",
      "Año-Mes                              category\n",
      "NIT_MDM                                object\n",
      "Codigo Entidad                         object\n",
      "dtype: object\n"
     ]
    }
   ],
   "source": [
    "## Exploración de los datos\n",
    "# Vemos el tamaño del dataset\n",
    "print(\"El dataset tiene\", DF_Consulta.shape[0], \"filas y\", DF_Consulta.shape[1], \"columnas\")\n",
    "\n",
    "# Vemos los tipos de datos\n",
    "print(DF_Consulta.dtypes)\n",
    "\n",
    "#Extraemos para este reporte las URL de los contratos\n",
    "\n",
    "#DF_Consulta.drop('URL', axis=1, inplace=True)"
   ]
  },
  {
   "cell_type": "code",
   "execution_count": 19,
   "metadata": {},
   "outputs": [
    {
     "data": {
      "text/plain": [
       "Orden\n",
       "Territorial             3742377\n",
       "Nacional                 775992\n",
       "Corporación autónoma      27926\n",
       "No definido                6426\n",
       "Name: count, dtype: int64"
      ]
     },
     "execution_count": 19,
     "metadata": {},
     "output_type": "execute_result"
    }
   ],
   "source": [
    "### Arreglamos el orden\n",
    "\n",
    "DF_Consulta['Orden']=DF_Consulta['Orden'].str.capitalize()\n",
    "DF_Consulta['Orden'].value_counts()"
   ]
  },
  {
   "cell_type": "code",
   "execution_count": 20,
   "metadata": {},
   "outputs": [
    {
     "data": {
      "text/plain": [
       "Modalidad Corta\n",
       "Modalidad Directa        2788339\n",
       "Modalidad Especial       1363147\n",
       "Modalidad Competitiva     397881\n",
       "No Definido                 3354\n",
       "Name: count, dtype: int64"
      ]
     },
     "execution_count": 20,
     "metadata": {},
     "output_type": "execute_result"
    }
   ],
   "source": [
    "reemplazos_modalidades = {\n",
    "    'Asociación Público Privada': 'Modalidad Competitiva',\n",
    "    'Régimen Especial': 'Modalidad Especial',\n",
    "    'Iniciativa Privada sin recursos públicos': 'Modalidad Especial',\n",
    "    'Contratación Directa (Ley 1150 de 2007)': 'Modalidad Directa',\n",
    "    'Contratación Directa Menor Cuantía': 'Modalidad Directa',\n",
    "    'Contratos y convenios con más de dos partes': 'Modalidad Directa',\n",
    "    'Otras Formas de Contratación Directa': 'Modalidad Directa',\n",
    "    'Concurso de diseño Arquitectónico': 'Modalidad Competitiva',\n",
    "    'Concurso de Méritos Abierto': 'Modalidad Competitiva',\n",
    "    'Concurso de Méritos con Lista Corta': 'Modalidad Competitiva',\n",
    "    'Concurso de Méritos con Lista Multiusos': 'Modalidad Competitiva',\n",
    "    'Licitación Pública': 'Modalidad Competitiva',\n",
    "    'Licitación obra pública': 'Modalidad Competitiva',\n",
    "    'Licitación Pública Nacional (BM)': 'Modalidad Competitiva',\n",
    "    'Selección Abreviada de Menor Cuantía (Ley 1150 de 2007)': 'Modalidad Competitiva',\n",
    "    'Selección Abreviada del literal h del numeral 2 del artículo 2 de la Ley 1150 de 2007': 'Modalidad Competitiva',\n",
    "    'Selección Abreviada servicios de Salud': 'Modalidad Competitiva',\n",
    "    'Subasta': 'Modalidad Competitiva',\n",
    "    'Contratación Mínima Cuantía': 'Modalidad Competitiva',\n",
    "    'Invitación ofertas cooperativas o asociaciones de entidades territoriales': 'Modalidad Competitiva',\n",
    "    'Lista Multiusos': 'Modalidad Competitiva',\n",
    "    'Llamado a presentar expresiones de interés': 'Modalidad Competitiva',\n",
    "    'Solicitud de información a los Proveedores': 'Modalidad Competitiva',\n",
    "    'Contratación régimen especial': 'Modalidad Especial',\n",
    "    'Contratación régimen especial (con ofertas)': 'Modalidad Especial',\n",
    "    'Enajenación de bienes con sobre cerrado': 'Modalidad Competitiva',\n",
    "    'Enajenación de bienes con subasta': 'Modalidad Competitiva',\n",
    "    'Contratación directa': 'Modalidad Directa',\n",
    "    'Selección Abreviada de Menor Cuantía': 'Modalidad Competitiva',\n",
    "    'Mínima cuantía': 'Modalidad Competitiva',\n",
    "    'Seleccion Abreviada Menor Cuantia Sin Manifestacion Interes': 'Modalidad Competitiva',\n",
    "    'Licitación pública': 'Modalidad Competitiva',\n",
    "    'Selección abreviada subasta inversa': 'Modalidad Competitiva',\n",
    "    'Concurso de méritos abierto': 'Modalidad Competitiva',\n",
    "    'Contratación Directa (con ofertas)': 'Modalidad Directa',\n",
    "    'Licitación Pública Acuerdo Marco de Precios': 'Modalidad Competitiva',\n",
    "    'Licitación pública Obra Publica': 'Modalidad Competitiva',\n",
    "    'CCE-20-Concurso_Meritos_Sin_Lista_Corta_1Sobre': 'Modalidad Competitiva',\n",
    "    'Concurso de méritos con precalificación': 'Modalidad Competitiva',\n",
    "    'CCE-19-Concurso_Meritos_Con_Lista_Corta_1Sobre': 'Modalidad Competitiva'\n",
    "}\n",
    "\n",
    "DF_Consulta['Modalidad Corta']=DF_Consulta['Modalidad'].replace(reemplazos_modalidades)\n",
    "DF_Consulta['Modalidad Corta'].value_counts()"
   ]
  },
  {
   "cell_type": "code",
   "execution_count": 21,
   "metadata": {},
   "outputs": [],
   "source": [
    "### Variables de texto largo, las pasamos a mayúsculas\n",
    "DF_Consulta['Descripción proceso']=DF_Consulta['Descripción proceso'].str.upper()\n",
    "DF_Consulta['Objeto Contrato']=DF_Consulta['Objeto Contrato'].str.upper()\n"
   ]
  },
  {
   "cell_type": "code",
   "execution_count": 22,
   "metadata": {},
   "outputs": [
    {
     "data": {
      "text/plain": [
       "Tipo de contrato\n",
       "Prestación de Servicios       3673216\n",
       "Suministros                    372853\n",
       "Otros                          219854\n",
       "Compraventa                    128643\n",
       "Obras                           71398\n",
       "Arrendamiento                   45963\n",
       "Servicios                       17184\n",
       "Interventoría                   12086\n",
       "No especificado                  3994\n",
       "Seguros                          2996\n",
       "Acuerdo Marco de Precios         1780\n",
       "Crédito                           745\n",
       "Concesión                         569\n",
       "Servicios Financieros             378\n",
       "Emprestito                        317\n",
       "Fiducia                           282\n",
       "No definido                       129\n",
       "Asociación Público Privada         98\n",
       "Comisión                           81\n",
       "Negocio fiduciario                 74\n",
       "Agregación de demanda              58\n",
       "Venta inmuebles                    22\n",
       "Acuerdo de cooperación              1\n",
       "Name: count, dtype: int64"
      ]
     },
     "execution_count": 22,
     "metadata": {},
     "output_type": "execute_result"
    }
   ],
   "source": [
    "### Arreglamos Tipo de Contrato\n",
    "arreglos_tipo_contrato={\n",
    "    'Prestación de servicios': 'Prestación de Servicios',\n",
    "    'Suministro': 'Suministros',\n",
    "    'Suministros': 'Suministros',\n",
    "    'Otro': 'Otros',\n",
    "    'Compraventa': 'Compraventa',\n",
    "    'Decreelaw092/2017': 'Otros',\n",
    "    'Otro tipo de contrato': 'Otros',\n",
    "    'Arrendamiento de inmuebles': 'Arrendamiento',\n",
    "    'Obra': 'Obras',\n",
    "    'Interventoría': 'Interventoría',\n",
    "    'Comodato': 'Arrendamiento',\n",
    "    'Consultoría': 'Servicios',\n",
    "    'Arrendamiento': 'Arrendamiento',\n",
    "    'Acuerdo marco de precios': 'Acuerdo Marco de Precios',\n",
    "    'Concesión': 'Concesión',\n",
    "    'Arrendamiento de muebles': 'Arrendamiento',\n",
    "    'Seguros': 'Seguros',\n",
    "    'Servicios financieros': 'Servicios Financieros',\n",
    "    'Venta muebles': 'Compraventa',\n",
    "    'Comisión': 'Comisión',\n",
    "    'Asociación público privada': 'Asociación Público Privada',\n",
    "    'Acuerdo marco': 'Acuerdo Marco de Precios',\n",
    "    'Emprestito': 'Emprestito',\n",
    "    'Fiducia': 'Fiducia',\n",
    "    'No definido': 'No definido',\n",
    "}\n",
    "\n",
    "\n",
    "DF_Consulta['Tipo de contrato']=DF_Consulta['Tipo de contrato'].str.capitalize().replace(arreglos_tipo_contrato)\n",
    "DF_Consulta['Tipo de contrato'].value_counts(dropna=False)"
   ]
  },
  {
   "cell_type": "code",
   "execution_count": 23,
   "metadata": {},
   "outputs": [],
   "source": [
    "DF_Consulta['Fecha de Firma']=pd.to_datetime(DF_Consulta['Fecha de Firma'], format='%d/%m/%Y', errors='coerce')\n",
    "DF_Consulta['Inicio de contrato']=pd.to_datetime(DF_Consulta['Inicio de contrato'], format='%d/%m/%Y', errors='coerce')\n",
    "DF_Consulta['Fin de contrato']=pd.to04['Fecha de Firma'].dt.month"
   ]
  },
  {
   "cell_type": "code",
   "execution_count": 25,
   "metadata": {},
   "outputs": [],
   "source": [
    "import re"
   ]
  },
  {
   "cell_type": "code",
   "execution_count": 26,
   "metadata": {},
   "outputs": [],
   "source": [
    "DF_Consulta['UNSPSC']=DF_Consulta['UNSPSC'].astype(str)\n",
    "codigos_limpios = []\n",
    "alertas_unspc = []\n",
    "for codigo in DF_Consulta['UNSPSC']:\n",
    "    codigo_limpio = re.sub('[^0-9]', '', codigo)\n",
    "    \n",
    "    if len(codigo_limpio) ==6:\n",
    "        codigos_limpios.append(codigo_limpio+'00')\n",
    "        alertas_unspc.append(False)\n",
    "    elif len(codigo_limpio) ==9:\n",
    "        codigos_limpios.append(codigo_limpio[1:])\n",
    "        alertas_unspc.append(False)\n",
    "    elif len(codigo_limpio) !=8:\n",
    "        codigos_limpios.append(codigo_limpio)\n",
    "        alertas_unspc.append(True)\n",
    "    else:\n",
    "        codigos_limpios.append(codigo_limpio)\n",
    "        alertas_unspc.append(False)\n",
    "\n",
    "DF_Consulta['UNSPSC']=codigos_limpios\n",
    "DF_Consulta['Alerta UNSPSC']=alertas_unspc"
   ]
  },
  {
   "cell_type": "code",
   "execution_count": 27,
   "metadata": {},
   "outputs": [
    {
     "data": {
      "text/plain": [
       "Alerta UNSPSC\n",
       "False    4548529\n",
       "True        4192\n",
       "Name: count, dtype: int64"
      ]
     },
     "execution_count": 27,
     "metadata": {},
     "output_type": "execute_result"
    }
   ],
   "source": [
    "DF_Consulta['Alerta UNSPSC'].value_counts(dropna=False)"
   ]
  },
  {
   "cell_type": "code",
   "execution_count": 28,
   "metadata": {},
   "outputs": [],
   "source": [
    "### Proveedores\n",
    "\n",
    "DF_Consulta['Nombre Proveedor']=DF_Consulta['Nombre Proveedor'].str.upper()\n",
    "DF_Consulta['Documento Proveedor']=DF_Consulta['Documento Proveedor'].str.upper()\n",
    "DF_Consulta['Tipo de documento proveedor']=DF_Consulta['Tipo de documento proveedor'].str.upper()"
   ]
  },
  {
   "cell_type": "code",
   "execution_count": 29,
   "metadata": {},
   "outputs": [],
   "source": [
    "DF_Consulta['Valor del contrato']=DF_Consulta['Valor del contrato'].astype(int)"
   ]
  },
  {
   "cell_type": "code",
   "execution_count": 30,
   "metadata": {},
   "outputs": [
    {
     "data": {
      "text/plain": [
       "count    4.552721e+06\n",
       "mean     1.733811e+08\n",
       "std      8.905748e+10\n",
       "min      0.000000e+00\n",
       "25%      5.000000e+06\n",
       "50%      1.165800e+07\n",
       "75%      2.592038e+07\n",
       "max      1.420769e+14\n",
       "Name: Valor del contrato, dtype: float64"
      ]
     },
     "execution_count": 30,
     "metadata": {},
     "output_type": "execute_result"
    }
   ],
   "source": [
    "DF_Consulta['Valor del contrato'].describe()"
   ]
  },
  {
   "cell_type": "code",
   "execution_count": 31,
   "metadata": {},
   "outputs": [
    {
     "data": {
      "text/plain": [
       "Departamento Entidad\n",
       "Bogotá D.C.                                 829057\n",
       "Antioquia                                   589886\n",
       "Valle del Cauca                             376832\n",
       "Cundinamarca                                277331\n",
       "Nariño                                      222222\n",
       "Santander                                   215514\n",
       "Boyacá                                      164301\n",
       "Magdalena                                   151001\n",
       "Tolima                                      147400\n",
       "Norte de Santander                          136889\n",
       "Atlántico                                   133047\n",
       "Huila                                       123321\n",
       "Meta                                        118931\n",
       "Caldas                                      117482\n",
       "Bolivar                                     115658\n",
       "Cauca                                        94710\n",
       "Risaralda                                    89072\n",
       "Quindío                                      81685\n",
       "Cesar                                        72958\n",
       "Sucre                                        72882\n",
       "Casanare                                     70895\n",
       "Córdoba                                      61890\n",
       "Putumayo                                     47662\n",
       "La Guajira                                   46328\n",
       "Arauca                                       38541\n",
       "Caquetá                                      32004\n",
       "San Andrés, Providencia y Santa Catalina     29031\n",
       "Chocó                                        21861\n",
       "Guaviare                                     18905\n",
       "Vichada                                      16974\n",
       "Amazonas                                     14635\n",
       "No Definido                                   8302\n",
       "Vaupés                                        8147\n",
       "Guainía                                       7365\n",
       "Colombia                                         2\n",
       "Name: count, dtype: int64"
      ]
     },
     "execution_count": 31,
     "metadata": {},
     "output_type": "execute_result"
    }
   ],
   "source": [
    "reemplazos_departamento = {\n",
    "    'Bogotá DC': 'Bogotá D.C.',\n",
    "    'Bogotá, D.C.': 'Bogotá D.C.',\n",
    "    'Distrito Capital de Bogotá': 'Bogotá D.C.',\n",
    "    'Bogotá D.C.': 'Bogotá D.C.',\n",
    "    'Bogotá D.C.': 'Bogotá D.C.',\n",
    "    'San Andrés Providencia y Santa Catalina': 'San Andrés, Providencia y Santa Catalina',\n",
    "    'San Andres': 'San Andrés, Providencia y Santa Catalina',\n",
    "    'NORTE DE SANTANDER': 'Norte de Santander',\n",
    "    'Norte De Santander': 'Norte de Santander',\n",
    "    'Bolívar': 'Bolivar',\n",
    "    'caldas': 'Caldas',\n",
    "    'Caldas ': 'Caldas',\n",
    "    'CAUCA': 'Cauca',\n",
    "    'Valle del cauca': 'Valle del Cauca',\n",
    "    'Cordoba': 'Córdoba',\n",
    "    'cundinamarca': 'Cundinamarca',\n",
    "    'LA GUAJIRA': 'La Guajira',\n",
    "    'huila': 'Huila',\n",
    "    'Huila ': 'Huila',\n",
    "    'meta': 'Meta',\n",
    "    'SANTANDER': 'Santander',\n",
    "    'Santander ': 'Santander',\n",
    "    'SUCRE': 'Sucre'\n",
    "}\n",
    "\n",
    "DF_Consulta['Departamento Entidad']=DF_Consulta['Departamento Entidad'].replace(reemplazos_departamento)\n",
    "DF_Consulta['Departamento Entidad'].value_counts(dropna=False)"
   ]
  },
  {
   "cell_type": "code",
   "execution_count": 32,
   "metadata": {},
   "outputs": [
    {
     "data": {
      "text/plain": [
       "Departamento Entidad\n",
       "Bogotá D.C.                                 829057\n",
       "Antioquia                                   589886\n",
       "Valle del Cauca                             376832\n",
       "Cundinamarca                                277331\n",
       "Nariño                                      222222\n",
       "Santander                                   215514\n",
       "Boyacá                                      164301\n",
       "Magdalena                                   151001\n",
       "Tolima                                      147400\n",
       "Norte de Santander                          136889\n",
       "Atlántico                                   133047\n",
       "Huila                                       123321\n",
       "Meta                                        118931\n",
       "Caldas                                      117482\n",
       "Bolivar                                     115658\n",
       "Cauca                                        94710\n",
       "Risaralda                                    89072\n",
       "Quindío                                      81685\n",
       "Cesar                                        72958\n",
       "Sucre                                        72882\n",
       "Casanare                                     70895\n",
       "Córdoba                                      61890\n",
       "Putumayo                                     47662\n",
       "La Guajira                                   46328\n",
       "Arauca                                       38541\n",
       "Caquetá                                      32004\n",
       "San Andrés, Providencia y Santa Catalina     29031\n",
       "Chocó                                        21861\n",
       "Guaviare                                     18905\n",
       "Vichada                                      16974\n",
       "Amazonas                                     14635\n",
       "No Definido                                   8302\n",
       "Vaupés                                        8147\n",
       "Guainía                                       7365\n",
       "Colombia                                         2\n",
       "Name: count, dtype: int64"
      ]
     },
     "execution_count": 32,
     "metadata": {},
     "output_type": "execute_result"
    }
   ],
   "source": [
    "DF_Consulta['Departamento Entidad'].value_counts(dropna=False)"
   ]
  },
  {
   "cell_type": "code",
   "execution_count": 33,
   "metadata": {},
   "outputs": [],
   "source": [
    "DF_Consulta['Ciudad Entidad']=DF_Consulta['Ciudad Entidad'].str.capitalize()"
   ]
  },
  {
   "cell_type": "code",
   "execution_count": 34,
   "metadata": {},
   "outputs": [],
   "source": [
    "List_url=[]\n",
    "for dic_url in DF_Consulta['URL']:\n",
    "    List_url.append(dic_url['url'])\n",
    "DF_Consulta['URL']=List_url"
   ]
  },
  {
   "cell_type": "code",
   "execution_count": 35,
   "metadata": {},
   "outputs": [],
   "source": [
    "DF_Consulta.reset_index(drop=True, inplace=True)"
   ]
  },
  {
   "cell_type": "code",
   "execution_count": 36,
   "metadata": {},
   "outputs": [],
   "source": [
    "DF_Consulta.to_parquet('../../../Sample_Data/Processed/SECOP_LIMPIO_2020_2023.parquet')"
   ]
  },
  {
   "cell_type": "code",
   "execution_count": 2,
   "metadata": {},
   "outputs": [],
   "source": [
    "import pandas as pd\n",
    "import os"
   ]
  },
  {
   "cell_type": "code",
   "execution_count": 3,
   "metadata": {},
   "outputs": [],
   "source": [
    "DF_Consulta=pd.read_parquet('../../../Sample_Data/Processed/SECOP_LIMPIO_2020_2023.parquet')"
   ]
  },
  {
   "cell_type": "code",
   "execution_count": 4,
   "metadata": {},
   "outputs": [],
   "source": [
    "from ydata_profiling import ProfileReport\n",
    "### Reporte con pandas profiling\n",
    "os.makedirs(\"../Reportes\", exist_ok=True)\n",
    "report=ProfileReport(DF_Consulta, title=\"Reporte de Exploración de Datos\", \n",
    "                        minimal=True,dark_mode=True)"
   ]
  },
  {
   "cell_type": "code",
   "execution_count": 5,
   "metadata": {},
   "outputs": [
    {
     "data": {
      "application/vnd.jupyter.widget-view+json": {
       "model_id": "9784cb23346e4075a833aa759b87a37b",
       "version_major": 2,
       "version_minor": 0
      },
      "text/plain": [
       "Summarize dataset:   0%|          | 0/5 [00:00<?, ?it/s]"
      ]
     },
     "metadata": {},
     "output_type": "display_data"
    },
    {
     "name": "stderr",
     "output_type": "stream",
     "text": [
      "/home/izainea/miniconda3/lib/python3.10/site-packages/ydata_profiling/model/pandas/describe_numeric_pandas.py:122: RuntimeWarning: overflow encountered in scalar subtract\n",
      "  stats[\"range\"] = stats[\"max\"] - stats[\"min\"]\n"
     ]
    },
    {
     "data": {
      "application/vnd.jupyter.widget-view+json": {
       "model_id": "8fb3b528eb024b41b28fa2056d9f75fa",
       "version_major": 2,
       "version_minor": 0
      },
      "text/plain": [
       "Generate report structure:   0%|          | 0/1 [00:00<?, ?it/s]"
      ]
     },
     "metadata": {},
     "output_type": "display_data"
    },
    {
     "data": {
      "application/vnd.jupyter.widget-view+json": {
       "model_id": "3b91ee7539b5441f8764ef784f0a4842",
       "version_major": 2,
       "version_minor": 0
      },
      "text/plain": [
       "Render HTML:   0%|          | 0/1 [00:00<?, ?it/s]"
      ]
     },
     "metadata": {},
     "output_type": "display_data"
    },
    {
     "data": {
      "application/vnd.jupyter.widget-view+json": {
       "model_id": "a6eff33a6b9a498c8bc5b71fa2bdf6c6",
       "version_major": 2,
       "version_minor": 0
      },
      "text/plain": [
       "Export report to file:   0%|          | 0/1 [00:00<?, ?it/s]"
      ]
     },
     "metadata": {},
     "output_type": "display_data"
    }
   ],
   "source": [
    "report.to_file(\"../Reportes/Reporte de Exploración de Datos.html\")"
   ]
  },
  {
   "cell_type": "code",
   "execution_count": null,
   "metadata": {},
   "outputs": [],
   "source": []
  },
  {
   "cell_type": "code",
   "execution_count": null,
   "metadata": {},
   "outputs": [],
   "source": []
  },
  {
   "cell_type": "code",
   "execution_count": null,
   "metadata": {},
   "outputs": [],
   "source": []
  },
  {
   "cell_type": "code",
   "execution_count": null,
   "metadata": {},
   "outputs": [],
   "source": []
  },
  {
   "cell_type": "code",
   "execution_count": null,
   "metadata": {},
   "outputs": [],
   "source": []
  },
  {
   "attachments": {},
   "cell_type": "markdown",
   "metadata": {},
   "source": [
    "## Trabajo en datalake\n",
    "\n",
    "En esta sección se establecen los parámetros de conexión al datalake y se cargan las librerías necesarias para la conexión y consulta de datos."
   ]
  },
  {
   "cell_type": "code",
   "execution_count": 4,
   "metadata": {},
   "outputs": [],
   "source": [
    "import pandas as pd\n",
    "import pyarrow.parquet as pq\n",
    "from azure.storage.blob import BlobServiceClient, BlobClient, ContainerClient\n",
    "\n",
    "# URL del punto final del servicio Blob y token SAS\n",
    "url_blob = \"https://adlindicadoresemae.blob.core.windows.net/\"\n",
    "token_sas = \"?sv=2021-10-04&ss=btqf&srt=sco&st=2023-04-26T10%3A55%3A03Z&se=2023-07-27T10%3A55%3A00Z&sp=rwdxftlacup&sig=9%2FBvXPQRTnl4CUwGzrUpMFXbpu50nNRqix5pREicSiY%3D\"\n",
    "\n",
    "# Conexión a la cuenta de almacenamiento de Azure utilizando el token SAS\n",
    "connect_str = f\"BlobEndpoint={url_blob};SharedAccessSignature={token_sas}\"\n",
    "blob_service_client = BlobServiceClient.from_connection_string(connect_str)"
   ]
  },
  {
   "cell_type": "code",
   "execution_count": null,
   "metadata": {},
   "outputs": [],
   "source": []
  },
  {
   "cell_type": "code",
   "execution_count": null,
   "metadata": {},
   "outputs": [],
   "source": [
    "# Referencia al contenedor donde se encuentran los archivos\n",
    "container_name_ent = \"datosemae/bronze/Entidades\"\n",
    "container_client_ent = blob_service_client.get_container_client(container_name_ent)\n",
    "\n",
    "# Nombre del archivo a leer\n",
    "blob_name_ent_small = \"Entidades_SECOP_II.parquet\"\n",
    "blob_name_ent_full = \"Entidades_SECOP_II_FULL.parquet\""
   ]
  },
  {
   "attachments": {},
   "cell_type": "markdown",
   "metadata": {},
   "source": []
  }
 ],
 "metadata": {
  "kernelspec": {
   "display_name": "base",
   "language": "python",
   "name": "python3"
  },
  "language_info": {
   "codemirror_mode": {
    "name": "ipython",
    "version": 3
   },
   "file_extension": ".py",
   "mimetype": "text/x-python",
   "name": "python",
   "nbconvert_exporter": "python",
   "pygments_lexer": "ipython3",
   "version": "3.10.6"
  },
  "orig_nbformat": 4
 },
 "nbformat": 4,
 "nbformat_minor": 2
}
