{
 "cells": [
  {
   "attachments": {},
   "cell_type": "markdown",
   "metadata": {},
   "source": [
    "<div style=\"\n",
    "  padding: 30px;\n",
    "  text-align: center;\" class='row'>\n",
    "<div style=\"float:left;width: 15%;\" class='column'><a href=\"https://www.colombiacompra.gov.co\"><img alt=\"Logo Colombia Compra Eficiente\" id=\"logocce\" src=\"https://www.colombiacompra.gov.co/sites/cce_public/files/Images/logocce.png\" style=\"height: 45px;\"></a></div>\n",
    "    <div style=\"float:left;width: 70%;\" class='column'>\n",
    "        <h1> Exploración DataVAULT\n",
    "        </h1> \n",
    "    </div>\n",
    "<div style=\"float:left;width: 15%;\" class='column'><a href=\"https://www.dnp.gov.co/\" target=\"_blank\"><img class=\"float-right\" id=\"logodnp\" src=\"https://www.dnp.gov.co/img/logoNuevo.jpg\" style=\"width: 200px;\"></a></div>\n",
    "</div>\n"
   ]
  },
  {
   "attachments": {},
   "cell_type": "markdown",
   "metadata": {},
   "source": [
    "## 1. IDENTIFICACIÓN DEL INSUMO\n",
    "\n",
    "|||\n",
    "|:--|:--|\n",
    "|**Fecha**|Abril 2023|\n",
    "|**Ciudad**|Bogotá D.C.|\n",
    "|**Esquema de presentación del insumo**|Cuaderno Jupyter|\n",
    "|**Título del insumo**| **Consideraciones para la consulta en datos abiertos**|\n",
    "|**Descripción y alcance**|Script para la consulta de bases y exploración de bases en el DATAVAULT.|\n",
    "|**Periodicidad del insumo**|único|\n",
    "|**Solicitante**|No aplica|\n",
    "|**Versión del insumo**|Final|"
   ]
  },
  {
   "attachments": {},
   "cell_type": "markdown",
   "metadata": {},
   "source": [
    "## 2. DESTINO Y AUTORES DEL INFORME / INSUMO\n",
    "\n",
    "|||\n",
    "|:--|:--|\n",
    "|**Destinatario**|<table align='left'><tr><td>*Nombre:*</td> <td>Equipo analítica EMAE</td></tr> <tr><td>*Cargo:*</td> <td>NA</td></tr>  <tr><td>*Área:*</td> <td>Subdirección de estudios de Mercado y Abastecimiento Estratégico – EMAE</td></tr></table>|\n",
    "|**Autores**|<table><tr><td>*Nombre:*</td> <td>Equipo de Datos -GAEC<td>*Área:*</td> <td>Subdirección de estudios de Mercado y Abastecimiento Estratégico – EMAE.</td></tr></table>|\n",
    "|**Aprobación**|<table><tr><td>*Nombre:*</td> <td>Ricardo Suarez</td></tr> <tr><td>*Cargo:*</td> <td>Subdirector Estudios de Mercado y Abastecimiento Estratégico</td></tr>  <tr><td>*Área:*</td> <td>Subdirección de estudios de Mercado y Abastecimiento Estratégico – EMAE.</td></tr></table>|"
   ]
  },
  {
   "attachments": {},
   "cell_type": "markdown",
   "metadata": {},
   "source": [
    "## Instalaciones previas\n",
    " \n",
    "Para poder utilizar SQL en Python es necesario instalar lo siguiente, escoja el driver de acuerdo al sistema operativo de su equipo: \n",
    " \n",
    " \n",
    "**Driver Microsoft ODBC para SQL SERVER en windows**\n",
    " \n",
    "Descargar e instalar el driver de la página [Microsoft ODBC](https://docs.microsoft.com/en-us/sql/connect/odbc/windows/system-requirements-installation-and-driver-files?view=sql-server-ver15#installing-microsoft-odbc-driver-for-sql-server) versión \n",
    " 17.\n",
    " \n",
    "**Driver Microsoft ODBC para SQL SERVER en Linux o MacOs**\n",
    " \n",
    "Descargar e instalar el driver de la página [Microsoft ODBC](https://docs.microsoft.com/en-us/sql/connect/odbc/linux-mac/system-requirements?view=sql-server-ver15) versión 17 deacuerdo a la versión de su sistema operativo.\n",
    "Recuerde estar conectado a la VPN para poder accerder. \n",
    "\n",
    "**Paquete pyobdc**\n",
    "\n",
    "Quite el comentario e inicie la instalación simple."
   ]
  },
  {
   "cell_type": "code",
   "execution_count": 1,
   "metadata": {},
   "outputs": [],
   "source": [
    "import pyodbc \n",
    "server = '10.240.5.39' #cambie por el nombre del servidor  \n",
    "username = 'CCE.carlos.zainea' #cambie su_usuario por su usuario\n",
    "password = 'Zainea582**' #cambie Su_contraseña por su contraseña\n",
    "cnxn = pyodbc.connect('DRIVER={ODBC Driver 17 for SQL Server};SERVER='+server+';UID='+username+';PWD='+ password)\n",
    "cursor = cnxn.cursor()"
   ]
  },
  {
   "cell_type": "code",
   "execution_count": 2,
   "metadata": {},
   "outputs": [],
   "source": [
    "### Paquetes usados para la exploración de datos\n",
    "\n",
    "import pandas as pd\n",
    "import numpy as np\n",
    "import matplotlib.pyplot as plt\n",
    "import seaborn as sns\n",
    "import datetime as dt\n",
    "import warnings\n",
    "warnings.filterwarnings('ignore')\n",
    "\n"
   ]
  },
  {
   "attachments": {},
   "cell_type": "markdown",
   "metadata": {},
   "source": [
    "## 3. DESCRIPCIÓN DEL INFORME / INSUMO\n",
    "\n",
    "### 3.1. Objetivo\n",
    "\n",
    "El objetivo de este cuaderno es mostrar las bases de datos disponibles en el DATAVAULT, como consultarlas y algunos usos simples de modelos de limpieza.\n",
    "\n",
    "En particular de aqui saldran las siguientes tablas para poner a disposición del público a traves del portal de datos abiertos, www.datos.gov.co:\n",
    "\n",
    "- **Tabla de procesos SECOP II**: Contiene la información de los procesos que se han llevado a cabo en el Sistema Electrónico de Contratación Pública SECOP II.\n",
    "\n",
    "- **Tabla de contratos SECOP II**: Contiene la información de los contratos que se han llevado a cabo en el Sistema Electrónico de Contratación Pública SECOP II.\n",
    "\n",
    "\n",
    "- **Tabla de procesos SECOP I**: Contiene la información de los procesos que se han llevado a cabo en el Sistema Electrónico de Contratación Pública SECOP I.\n",
    "\n",
    "-  **Tabla de plan anual de adquisiciones**: Contiene la información de las adquisiciones prioyectadas por entidad."
   ]
  },
  {
   "attachments": {},
   "cell_type": "markdown",
   "metadata": {},
   "source": [
    "## 4. ADQUISICIÓN DE LOS DATOS\n",
    "\n",
    "### 4.1. Datos de procesos SECOP II\n",
    "\n",
    "Para consultar los datos de procesos SECOP II, se debe ejecutar la siguiente consulta:\n",
    "\n",
    "```sql\n",
    "SELECT * FROM [CCE_Sandbox].[datavault].[Sat_BuyerDossier]\n",
    "```\n"
   ]
  },
  {
   "cell_type": "code",
   "execution_count": 5,
   "metadata": {},
   "outputs": [
    {
     "name": "stdout",
     "output_type": "stream",
     "text": [
      "(239012, 94)\n"
     ]
    }
   ],
   "source": [
    "## Query para cargar los datos de la tabla Sat_AnnualPurchasingPlan del año 2023\n",
    "query_PROCESOS_2023=\"\"\"SELECT * FROM [CCE_Sandbox].[datavault].[Sat_BuyerDossier]\n",
    "WHERE [VersionDate]>='2023-01-01'\n",
    "\"\"\"\n",
    "\n",
    "### Cargamos datos de la tabla Sat_AnnualPurchasingPlan del año 2023\n",
    "DF_PROCESOS=pd.read_sql(query_PROCESOS_2023, con=cnxn)\n",
    "print(DF_PROCESOS.shape)"
   ]
  },
  {
   "cell_type": "code",
   "execution_count": null,
   "metadata": {},
   "outputs": [],
   "source": []
  }
 ],
 "metadata": {
  "kernelspec": {
   "display_name": "base",
   "language": "python",
   "name": "python3"
  },
  "language_info": {
   "codemirror_mode": {
    "name": "ipython",
    "version": 3
   },
   "file_extension": ".py",
   "mimetype": "text/x-python",
   "name": "python",
   "nbconvert_exporter": "python",
   "pygments_lexer": "ipython3",
   "version": "3.10.6"
  },
  "orig_nbformat": 4
 },
 "nbformat": 4,
 "nbformat_minor": 2
}
