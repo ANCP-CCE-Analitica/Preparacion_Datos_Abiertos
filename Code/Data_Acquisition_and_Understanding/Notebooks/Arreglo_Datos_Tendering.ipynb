{
 "cells": [
  {
   "cell_type": "markdown",
   "metadata": {},
   "source": [
    "<div style=\"\n",
    "  padding: 30px;\n",
    "  text-align: center;\" class='row'>\n",
    "<div style=\"float:left;width: 15%;\" class='column'><a href=\"https://www.colombiacompra.gov.co\"><img alt=\"Logo Colombia Compra Eficiente\" id=\"logocce\" src=\"https://www.colombiacompra.gov.co/sites/cce_public/files/Images/logocce.png\" style=\"height: 45px;\"></a></div>\n",
    "    <div style=\"float:left;width: 70%;\" class='column'>\n",
    "        <h1> Pipeline de Datos de Contratación Pública\n",
    "        </h1> \n",
    "    </div>\n",
    "<div style=\"float:left;width: 15%;\" class='column'><a href=\"https://www.dnp.gov.co/\" target=\"_blank\"><img class=\"float-right\" id=\"logodnp\" src=\"https://www.dnp.gov.co/img/logoNuevo.jpg\" style=\"width: 200px;\"></a></div>\n",
    "</div>\n"
   ]
  },
  {
   "cell_type": "markdown",
   "metadata": {},
   "source": [
    "## 1. IDENTIFICACIÓN DEL INSUMO\n",
    "\n",
    "|||\n",
    "|:--|:--|\n",
    "|**Fecha**|Abril 2023|\n",
    "|**Ciudad**|Bogotá D.C.|\n",
    "|**Esquema de presentación del insumo**|Cuaderno Jupyter|\n",
    "|**Título del insumo**| **Pipeline de Datos de Contratación Pública**|\n",
    "|**Descripción y alcance**|Script para la consulta de bases y exploración de bases en el DATAVAULT.|\n",
    "|**Periodicidad del insumo**|único|\n",
    "|**Solicitante**|No aplica|\n",
    "|**Versión del insumo**|Final|"
   ]
  },
  {
   "cell_type": "markdown",
   "metadata": {},
   "source": [
    "## 2. DESTINO Y AUTORES DEL INFORME / INSUMO\n",
    "\n",
    "|||\n",
    "|:--|:--|\n",
    "|**Destinatario**|<table align='left'><tr><td>*Nombre:*</td> <td>Equipo analítica EMAE</td></tr> <tr><td>*Cargo:*</td> <td>NA</td></tr>  <tr><td>*Área:*</td> <td>Subdirección de estudios de Mercado y Abastecimiento Estratégico – EMAE</td></tr></table>|\n",
    "|**Autores**|<table><tr><td>*Nombre:*</td> <td>Equipo de Datos -GAEC</td></tr><tr><td>*Área:*</td> <td>Subdirección de estudios de Mercado y Abastecimiento Estratégico – EMAE.</td></tr></table>|\n",
    "|**Aprobación**|<table><tr><td>*Nombre:*</td> <td>Ricardo Suarez</td></tr> <tr><td>*Cargo:*</td> <td>Subdirector Estudios de Mercado y Abastecimiento Estratégico</td></tr>  <tr><td>*Área:*</td> <td>Subdirección de estudios de Mercado y Abastecimiento Estratégico – EMAE.</td></tr></table>|"
   ]
  },
  {
   "cell_type": "markdown",
   "metadata": {},
   "source": [
    "## Carga de librerías y ambiente de trabajo\n",
    "\n",
    "En esta sección se cargan las librerías necesarias para el desarrollo del script y se establecen los parámetros de trabajo.\n"
   ]
  },
  {
   "cell_type": "code",
   "execution_count": 1,
   "metadata": {},
   "outputs": [
    {
     "data": {
      "text/plain": [
       "True"
      ]
     },
     "execution_count": 1,
     "metadata": {},
     "output_type": "execute_result"
    }
   ],
   "source": [
    "import pyodbc \n",
    "from dotenv import load_dotenv\n",
    "import re\n",
    "import os\n",
    "load_dotenv()"
   ]
  },
  {
   "cell_type": "code",
   "execution_count": 2,
   "metadata": {},
   "outputs": [
    {
     "name": "stderr",
     "output_type": "stream",
     "text": [
      "<frozen importlib._bootstrap>:241: RuntimeWarning: scipy._lib.messagestream.MessageStream size changed, may indicate binary incompatibility. Expected 56 from C header, got 64 from PyObject\n"
     ]
    }
   ],
   "source": [
    "### Paquetes usados para la exploración de datos\n",
    "\n",
    "import pandas as pd\n",
    "from ydata_profiling import ProfileReport\n",
    "import numpy as np\n",
    "import matplotlib.pyplot as plt\n",
    "import seaborn as sns\n",
    "import datetime as dt\n",
    "import warnings\n",
    "import data_management as dm # Funciones definidas\n",
    "warnings.filterwarnings('ignore')"
   ]
  },
  {
   "attachments": {},
   "cell_type": "markdown",
   "metadata": {},
   "source": [
    "Se usa una ruta local:"
   ]
  },
  {
   "cell_type": "code",
   "execution_count": 3,
   "metadata": {},
   "outputs": [],
   "source": [
    "ruta_DATA=\"/dropbox/Dropbox/CCE-projects/Large Data/\""
   ]
  },
  {
   "cell_type": "code",
   "execution_count": 4,
   "metadata": {},
   "outputs": [],
   "source": [
    "DF_Consulta=pd.read_parquet(ruta_DATA+\"SECOP_I_II_2023.parquet\")"
   ]
  },
  {
   "cell_type": "code",
   "execution_count": 5,
   "metadata": {},
   "outputs": [
    {
     "data": {
      "text/plain": [
       "Estado\n",
       "En ejecución                                   354401\n",
       "Celebrado                                      125206\n",
       "Modificado                                      53363\n",
       "Activo                                          28668\n",
       "Terminado                                        7452\n",
       "Liquidado                                        7377\n",
       "Cedido                                           2682\n",
       "Terminado sin Liquidar                            891\n",
       "Cerrado                                           700\n",
       "Suspendido                                        553\n",
       "Convocado                                          10\n",
       "Terminado Anormalmente después de Convocado         2\n",
       "Name: count, dtype: int64"
      ]
     },
     "execution_count": 5,
     "metadata": {},
     "output_type": "execute_result"
    }
   ],
   "source": [
    "## Estado de los contratos\n",
    "\n",
    "# Diccionario de estandarización de estados contractuales\n",
    "estado_contractual = {\n",
    "    'En ejecución': 'En ejecución',\n",
    "    'Modificado': 'Modificado',\n",
    "    'Celebrado': 'Celebrado',\n",
    "    'terminado': 'Terminado',\n",
    "    'Liquidado': 'Liquidado',\n",
    "    'Cerrado': 'Cerrado',\n",
    "    'Activo': 'Activo',\n",
    "    'Terminado sin Liquidar': 'Terminado sin Liquidar',\n",
    "    'cedido': 'Cedido',\n",
    "    'Suspendido': 'Suspendido',\n",
    "    'Convocado': 'Convocado',\n",
    "    'Adjudicado': 'Adjudicado'\n",
    "}\n",
    "\n",
    "# Corregir los estados contractuales utilizando el diccionario\n",
    "DF_Consulta['Estado'] = DF_Consulta['Estado'].replace(estado_contractual)\n",
    "DF_Consulta['Estado'].value_counts()\n"
   ]
  },
  {
   "cell_type": "code",
   "execution_count": 6,
   "metadata": {},
   "outputs": [],
   "source": [
    "### Ajustemos las entidades\n",
    "\n",
    "# Carga de MDM de entidades\n",
    "\n",
    "MDM_Entidades = pd.read_excel('../../../Sample_Data/Auxiliar/MDM_Total.xlsx')"
   ]
  },
  {
   "cell_type": "code",
   "execution_count": 7,
   "metadata": {},
   "outputs": [],
   "source": [
    "# Se eliminan duplicados de codigo entidad de secop I y II\n",
    "\n",
    "MDM_SII = dm.eliminar_duplicados(MDM_Entidades,'Codigo_Entidad_SECOP_II')\n",
    "MDM_SI = dm.eliminar_duplicados(MDM_Entidades,'Codigo_Entidad_SECOP_I')"
   ]
  },
  {
   "cell_type": "code",
   "execution_count": 8,
   "metadata": {},
   "outputs": [],
   "source": [
    "### Agregamos el código de entidad y corregimos el nombre de la entidad usando el MDM segun la fuente\n",
    "\n",
    "# Agregamos el código de entidad\n",
    "cod_ent=[]\n",
    "rev_MDM=[]\n",
    "DF_Consulta['NIT_MDM']=np.nan\n",
    "for ind in DF_Consulta.index:\n",
    "    if DF_Consulta['Fuente'][ind]=='SECOP I':\n",
    "        cod_entidad=MDM_SI[MDM_SI['Codigo_Entidad_SECOP_I']==DF_Consulta['ID entidad Plataforma'][ind]]\n",
    "        if cod_entidad.empty or  len(cod_entidad)>1:\n",
    "            rev_MDM.append([DF_Consulta['Entidad'][ind],DF_Consulta['ID entidad Plataforma'][ind],'SECOP I'])    \n",
    "            cod_ent.append(np.nan)\n",
    "        else:\n",
    "            cod_ent.append(cod_entidad['Codigo_Entidad'].values[0])\n",
    "            DF_Consulta['NIT_MDM'][ind]=cod_entidad['NIT_SECOP'].values[0]\n",
    "        \n",
    "    elif DF_Consulta['Fuente'][ind]=='SECOP II':\n",
    "        cod_entidad=MDM_SII[MDM_SII['Codigo_Entidad_SECOP_II']==DF_Consulta['ID entidad Plataforma'][ind]]\n",
    "        if cod_entidad.empty or  len(cod_entidad)>1:\n",
    "            rev_MDM.append([DF_Consulta['Entidad'][ind],DF_Consulta['ID entidad Plataforma'][ind],'SECOP II'])\n",
    "            cod_ent.append(np.nan)\n",
    "        else:\n",
    "            cod_ent.append(cod_entidad['Codigo_Entidad'].values[0])\n",
    "            DF_Consulta['NIT_MDM'][ind]=cod_entidad['NIT_SECOP'].values[0]\n",
    "DF_Consulta['Codigo Entidad']=cod_ent\n",
    "\n",
    "Error_MDM=pd.DataFrame(rev_MDM,columns=['Entidad','ID entidad Plataforma','Fuente'])\n",
    "Error_MDM.drop_duplicates(keep='first',inplace=True)\n"
   ]
  },
  {
   "cell_type": "code",
   "execution_count": 9,
   "metadata": {},
   "outputs": [],
   "source": [
    "# Se exporta a un archivo excel\n",
    "\n",
    "Error_MDM.to_excel('../../../Sample_Data/Processed/Errores MDM.xlsx',index=False)"
   ]
  },
  {
   "cell_type": "code",
   "execution_count": 10,
   "metadata": {},
   "outputs": [
    {
     "data": {
      "text/plain": [
       "(325, 3)"
      ]
     },
     "execution_count": 10,
     "metadata": {},
     "output_type": "execute_result"
    }
   ],
   "source": [
    "Error_MDM.shape"
   ]
  },
  {
   "cell_type": "code",
   "execution_count": 11,
   "metadata": {},
   "outputs": [],
   "source": [
    "# Se estandarizan las entidades, todo en mayúscula\n",
    "\n",
    "DF_Consulta['Entidad']=dm.mayuscula(DF_Consulta,'Entidad')"
   ]
  },
  {
   "cell_type": "code",
   "execution_count": 12,
   "metadata": {},
   "outputs": [
    {
     "name": "stdout",
     "output_type": "stream",
     "text": [
      "El dataset tiene 581305 filas y 33 columnas\n",
      "Unificado\n",
      "Fuente                                 object\n",
      "ID Contrato                            object\n",
      "ID Proceso                             object\n",
      "ID entidad Plataforma                  object\n",
      "Entidad                                object\n",
      "NIT Entidad                            object\n",
      "Orden                                  object\n",
      "Modalidad                              object\n",
      "Estado                                 object\n",
      "Descripción proceso                    object\n",
      "Objeto Contrato                        object\n",
      "Tipo de contrato                       object\n",
      "Fecha de Firma                 datetime64[ns]\n",
      "UNSPSC                                 object\n",
      "Nombre Proveedor                       object\n",
      "Documento Proveedor                    object\n",
      "Tipo de documento proveedor            object\n",
      "Valor del contrato                     object\n",
      "Departamento Entidad                   object\n",
      "Ciudad Entidad                         object\n",
      "Inicio de contrato                     object\n",
      "Fin de contrato                        object\n",
      "URL                                    object\n",
      "Año                                     int32\n",
      "Mes                                    object\n",
      "ID                                      int64\n",
      "Descripción del Proceso                object\n",
      "Objeto del Contrato                    object\n",
      "Alimentos_DP                            int64\n",
      "Alimentos_OC                            int64\n",
      "Año-Mes                              category\n",
      "NIT_MDM                                object\n",
      "Codigo Entidad                         object\n",
      "dtype: object\n"
     ]
    }
   ],
   "source": [
    "## Exploración de los datos\n",
    "# Vemos el tamaño del dataset\n",
    "print(\"El dataset tiene\", DF_Consulta.shape[0], \"filas y\", DF_Consulta.shape[1], \"columnas\")\n",
    "\n",
    "# Vemos los tipos de datos\n",
    "print(DF_Consulta.dtypes)\n",
    "\n",
    "#Extraemos para este reporte las URL de los contratos\n",
    "\n",
    "#DF_Consulta.drop('URL', axis=1, inplace=True)"
   ]
  },
  {
   "cell_type": "code",
   "execution_count": 13,
   "metadata": {},
   "outputs": [
    {
     "data": {
      "text/plain": [
       "Orden\n",
       "Territorial             438407\n",
       "Nacional                135088\n",
       "Corporación autónoma      7003\n",
       "No definido                807\n",
       "Name: count, dtype: int64"
      ]
     },
     "execution_count": 13,
     "metadata": {},
     "output_type": "execute_result"
    }
   ],
   "source": [
    "### Arreglamos el orden\n",
    "\n",
    "DF_Consulta['Orden']= dm.formato_oracion(DF_Consulta,'Orden')\n",
    "DF_Consulta['Orden'].value_counts()"
   ]
  },
  {
   "cell_type": "code",
   "execution_count": 14,
   "metadata": {},
   "outputs": [
    {
     "data": {
      "text/plain": [
       "Modalidad Corta\n",
       "Modalidad Directa        469753\n",
       "Modalidad Especial        73546\n",
       "Modalidad Competitiva     35072\n",
       "No Definido                2934\n",
       "Name: count, dtype: int64"
      ]
     },
     "execution_count": 14,
     "metadata": {},
     "output_type": "execute_result"
    }
   ],
   "source": [
    "# Diccionario de reemplazo de modalidades\n",
    "\n",
    "reemplazos_modalidades = {\n",
    "    'Asociación Público Privada': 'Modalidad Competitiva',\n",
    "    'Régimen Especial': 'Modalidad Especial',\n",
    "    'Iniciativa Privada sin recursos públicos': 'Modalidad Especial',\n",
    "    'Contratación Directa (Ley 1150 de 2007)': 'Modalidad Directa',\n",
    "    'Contratación Directa Menor Cuantía': 'Modalidad Directa',\n",
    "    'Contratos y convenios con más de dos partes': 'Modalidad Directa',\n",
    "    'Otras Formas de Contratación Directa': 'Modalidad Directa',\n",
    "    'Concurso de diseño Arquitectónico': 'Modalidad Competitiva',\n",
    "    'Concurso de Méritos Abierto': 'Modalidad Competitiva',\n",
    "    'Concurso de Méritos con Lista Corta': 'Modalidad Competitiva',\n",
    "    'Concurso de Méritos con Lista Multiusos': 'Modalidad Competitiva',\n",
    "    'Licitación Pública': 'Modalidad Competitiva',\n",
    "    'Licitación obra pública': 'Modalidad Competitiva',\n",
    "    'Licitación Pública Nacional (BM)': 'Modalidad Competitiva',\n",
    "    'Selección Abreviada de Menor Cuantía (Ley 1150 de 2007)': 'Modalidad Competitiva',\n",
    "    'Selección Abreviada del literal h del numeral 2 del artículo 2 de la Ley 1150 de 2007': 'Modalidad Competitiva',\n",
    "    'Selección Abreviada servicios de Salud': 'Modalidad Competitiva',\n",
    "    'Subasta': 'Modalidad Competitiva',\n",
    "    'Contratación Mínima Cuantía': 'Modalidad Competitiva',\n",
    "    'Invitación ofertas cooperativas o asociaciones de entidades territoriales': 'Modalidad Competitiva',\n",
    "    'Lista Multiusos': 'Modalidad Competitiva',\n",
    "    'Llamado a presentar expresiones de interés': 'Modalidad Competitiva',\n",
    "    'Solicitud de información a los Proveedores': 'Modalidad Competitiva',\n",
    "    'Contratación régimen especial': 'Modalidad Especial',\n",
    "    'Contratación régimen especial (con ofertas)': 'Modalidad Especial',\n",
    "    'Enajenación de bienes con sobre cerrado': 'Modalidad Competitiva',\n",
    "    'Enajenación de bienes con subasta': 'Modalidad Competitiva',\n",
    "    'Contratación directa': 'Modalidad Directa',\n",
    "    'Selección Abreviada de Menor Cuantía': 'Modalidad Competitiva',\n",
    "    'Mínima cuantía': 'Modalidad Competitiva',\n",
    "    'Seleccion Abreviada Menor Cuantia Sin Manifestacion Interes': 'Modalidad Competitiva',\n",
    "    'Licitación pública': 'Modalidad Competitiva',\n",
    "    'Selección abreviada subasta inversa': 'Modalidad Competitiva',\n",
    "    'Concurso de méritos abierto': 'Modalidad Competitiva',\n",
    "    'Contratación Directa (con ofertas)': 'Modalidad Directa',\n",
    "    'Licitación Pública Acuerdo Marco de Precios': 'Modalidad Competitiva',\n",
    "    'Licitación pública Obra Publica': 'Modalidad Competitiva',\n",
    "    'CCE-20-Concurso_Meritos_Sin_Lista_Corta_1Sobre': 'Modalidad Competitiva',\n",
    "    'Concurso de méritos con precalificación': 'Modalidad Competitiva',\n",
    "    'CCE-19-Concurso_Meritos_Con_Lista_Corta_1Sobre': 'Modalidad Competitiva'\n",
    "}\n",
    "\n",
    "DF_Consulta['Modalidad Corta']=DF_Consulta['Modalidad'].replace(reemplazos_modalidades)\n",
    "DF_Consulta['Modalidad Corta'].value_counts()"
   ]
  },
  {
   "cell_type": "code",
   "execution_count": 15,
   "metadata": {},
   "outputs": [],
   "source": [
    "### Variables de texto largo, las pasamos a mayúsculas\n",
    "DF_Consulta['Descripción proceso']=dm.mayuscula(DF_Consulta,'Descripción proceso')\n",
    "DF_Consulta['Objeto Contrato']=dm.mayuscula(DF_Consulta,'Objeto Contrato')"
   ]
  },
  {
   "cell_type": "code",
   "execution_count": 16,
   "metadata": {},
   "outputs": [
    {
     "data": {
      "text/plain": [
       "Tipo de contrato\n",
       "Prestación de Servicios       516164\n",
       "Otros                          28612\n",
       "Suministros                    16080\n",
       "Arrendamiento                   5336\n",
       "Compraventa                     4676\n",
       "Obras                           4207\n",
       "No especificado                 3260\n",
       "Servicios                       1032\n",
       "Interventoría                    941\n",
       "Seguros                          588\n",
       "Acuerdo Marco de Precios         163\n",
       "Concesión                         64\n",
       "Servicios Financieros             59\n",
       "Emprestito                        45\n",
       "Crédito                           29\n",
       "Asociación Público Privada        14\n",
       "Negocio fiduciario                11\n",
       "Fiducia                            8\n",
       "Comisión                           7\n",
       "Agregación de demanda              4\n",
       "Venta inmuebles                    3\n",
       "No definido                        2\n",
       "Name: count, dtype: int64"
      ]
     },
     "execution_count": 16,
     "metadata": {},
     "output_type": "execute_result"
    }
   ],
   "source": [
    "### Arreglamos Tipo de Contrato\n",
    "arreglos_tipo_contrato={\n",
    "    'Prestación de servicios': 'Prestación de Servicios',\n",
    "    'Suministro': 'Suministros',\n",
    "    'Suministros': 'Suministros',\n",
    "    'Otro': 'Otros',\n",
    "    'Compraventa': 'Compraventa',\n",
    "    'Decreelaw092/2017': 'Otros',\n",
    "    'Otro tipo de contrato': 'Otros',\n",
    "    'Arrendamiento de inmuebles': 'Arrendamiento',\n",
    "    'Obra': 'Obras',\n",
    "    'Interventoría': 'Interventoría',\n",
    "    'Comodato': 'Arrendamiento',\n",
    "    'Consultoría': 'Servicios',\n",
    "    'Arrendamiento': 'Arrendamiento',\n",
    "    'Acuerdo marco de precios': 'Acuerdo Marco de Precios',\n",
    "    'Concesión': 'Concesión',\n",
    "    'Arrendamiento de muebles': 'Arrendamiento',\n",
    "    'Seguros': 'Seguros',\n",
    "    'Servicios financieros': 'Servicios Financieros',\n",
    "    'Venta muebles': 'Compraventa',\n",
    "    'Comisión': 'Comisión',\n",
    "    'Asociación público privada': 'Asociación Público Privada',\n",
    "    'Acuerdo marco': 'Acuerdo Marco de Precios',\n",
    "    'Emprestito': 'Emprestito',\n",
    "    'Fiducia': 'Fiducia',\n",
    "    'No definido': 'No definido',\n",
    "}\n",
    "\n",
    "\n",
    "DF_Consulta['Tipo de contrato']=DF_Consulta['Tipo de contrato'].str.capitalize().replace(arreglos_tipo_contrato)\n",
    "DF_Consulta['Tipo de contrato'].value_counts(dropna=False)"
   ]
  },
  {
   "cell_type": "code",
   "execution_count": 20,
   "metadata": {},
   "outputs": [],
   "source": [
    "# Se convierten las variables a tipo fecha\n",
    "\n",
    "DF_Consulta['Fecha de Firma']=pd.to_datetime(DF_Consulta['Fecha de Firma'], format='%d/%m/%Y', errors='coerce')\n",
    "DF_Consulta['Inicio de contrato']=pd.to_datetime(DF_Consulta['Inicio de contrato'], format='%d/%m/%Y', errors='coerce')\n",
    "DF_Consulta['Fin de contrato']=pd.to_datetime(DF_Consulta['Fin de contrato'], format='%d/%m/%Y', errors='coerce')"
   ]
  },
  {
   "cell_type": "code",
   "execution_count": 22,
   "metadata": {},
   "outputs": [],
   "source": [
    "# Limpieza de códigos UNSPSC \n",
    "\n",
    "DF_Consulta = dm.limpieza_codigos_unspsc(DF_Consulta,'UNSPSC')"
   ]
  },
  {
   "cell_type": "code",
   "execution_count": 23,
   "metadata": {},
   "outputs": [
    {
     "data": {
      "text/plain": [
       "Alerta UNSPSC\n",
       "False    578277\n",
       "True       3028\n",
       "Name: count, dtype: int64"
      ]
     },
     "execution_count": 23,
     "metadata": {},
     "output_type": "execute_result"
    }
   ],
   "source": [
    "DF_Consulta['Alerta UNSPSC'].value_counts(dropna=False)"
   ]
  },
  {
   "cell_type": "code",
   "execution_count": 24,
   "metadata": {},
   "outputs": [],
   "source": [
    "### Proveedores\n",
    "\n",
    "DF_Consulta['Nombre Proveedor']=dm.mayuscula(DF_Consulta,'Nombre Proveedor')\n",
    "DF_Consulta['Documento Proveedor']=dm.mayuscula(DF_Consulta,'Documento Proveedor')\n",
    "DF_Consulta['Tipo de documento proveedor']=dm.mayuscula(DF_Consulta,'Tipo de documento proveedor')"
   ]
  },
  {
   "cell_type": "code",
   "execution_count": 25,
   "metadata": {},
   "outputs": [],
   "source": [
    "# Valor del contrato a tipo entero\n",
    "\n",
    "DF_Consulta['Valor del contrato']=DF_Consulta['Valor del contrato'].astype(int)"
   ]
  },
  {
   "cell_type": "code",
   "execution_count": 26,
   "metadata": {},
   "outputs": [
    {
     "data": {
      "text/plain": [
       "count    5.813050e+05\n",
       "mean     5.396936e+08\n",
       "std      2.442339e+11\n",
       "min      0.000000e+00\n",
       "25%      9.000000e+06\n",
       "50%      1.759296e+07\n",
       "75%      3.248000e+07\n",
       "max      1.420769e+14\n",
       "Name: Valor del contrato, dtype: float64"
      ]
     },
     "execution_count": 26,
     "metadata": {},
     "output_type": "execute_result"
    }
   ],
   "source": [
    "# Descripción del valor del contrato\n",
    "\n",
    "DF_Consulta['Valor del contrato'].describe()"
   ]
  },
  {
   "cell_type": "code",
   "execution_count": 27,
   "metadata": {},
   "outputs": [
    {
     "data": {
      "text/plain": [
       "Departamento Entidad\n",
       "Bogotá D.C.                                 146548\n",
       "Antioquia                                    62000\n",
       "Valle del Cauca                              56666\n",
       "Cundinamarca                                 35298\n",
       "Santander                                    29599\n",
       "Nariño                                       21287\n",
       "Boyacá                                       20445\n",
       "Atlántico                                    18312\n",
       "Tolima                                       17685\n",
       "Norte de Santander                           16300\n",
       "Bolivar                                      16161\n",
       "Meta                                         14783\n",
       "Huila                                        12365\n",
       "Risaralda                                    12007\n",
       "Cauca                                        11516\n",
       "Caldas                                       11222\n",
       "Magdalena                                    10478\n",
       "Quindío                                       9448\n",
       "Casanare                                      8440\n",
       "Cesar                                         7589\n",
       "Sucre                                         7050\n",
       "Córdoba                                       6067\n",
       "Putumayo                                      5108\n",
       "San Andrés, Providencia y Santa Catalina      4002\n",
       "La Guajira                                    3763\n",
       "Caquetá                                       3280\n",
       "Arauca                                        2584\n",
       "Chocó                                         2417\n",
       "Vichada                                       2365\n",
       "Guaviare                                      2278\n",
       "No Definido                                   1792\n",
       "Vaupés                                         981\n",
       "Guainía                                        968\n",
       "Amazonas                                       501\n",
       "Name: count, dtype: int64"
      ]
     },
     "execution_count": 27,
     "metadata": {},
     "output_type": "execute_result"
    }
   ],
   "source": [
    "# Diccionario de reemplazo de departamentos\n",
    "\n",
    "reemplazos_departamento = {\n",
    "    'Bogotá DC': 'Bogotá D.C.',\n",
    "    'Bogotá, D.C.': 'Bogotá D.C.',\n",
    "    'Distrito Capital de Bogotá': 'Bogotá D.C.',\n",
    "    'Bogotá D.C.': 'Bogotá D.C.',\n",
    "    'Bogotá D.C.': 'Bogotá D.C.',\n",
    "    'San Andrés Providencia y Santa Catalina': 'San Andrés, Providencia y Santa Catalina',\n",
    "    'San Andres': 'San Andrés, Providencia y Santa Catalina',\n",
    "    'NORTE DE SANTANDER': 'Norte de Santander',\n",
    "    'Norte De Santander': 'Norte de Santander',\n",
    "    'Bolívar': 'Bolivar',\n",
    "    'caldas': 'Caldas',\n",
    "    'Caldas ': 'Caldas',\n",
    "    'CAUCA': 'Cauca',\n",
    "    'Valle del cauca': 'Valle del Cauca',\n",
    "    'Cordoba': 'Córdoba',\n",
    "    'cundinamarca': 'Cundinamarca',\n",
    "    'LA GUAJIRA': 'La Guajira',\n",
    "    'huila': 'Huila',\n",
    "    'Huila ': 'Huila',\n",
    "    'meta': 'Meta',\n",
    "    'SANTANDER': 'Santander',\n",
    "    'Santander ': 'Santander',\n",
    "    'SUCRE': 'Sucre'\n",
    "}\n",
    "\n",
    "DF_Consulta['Departamento Entidad']=DF_Consulta['Departamento Entidad'].replace(reemplazos_departamento)\n",
    "DF_Consulta['Departamento Entidad'].value_counts(dropna=False)"
   ]
  },
  {
   "cell_type": "code",
   "execution_count": 28,
   "metadata": {},
   "outputs": [
    {
     "data": {
      "text/plain": [
       "Departamento Entidad\n",
       "Bogotá D.C.                                 146548\n",
       "Antioquia                                    62000\n",
       "Valle del Cauca                              56666\n",
       "Cundinamarca                                 35298\n",
       "Santander                                    29599\n",
       "Nariño                                       21287\n",
       "Boyacá                                       20445\n",
       "Atlántico                                    18312\n",
       "Tolima                                       17685\n",
       "Norte de Santander                           16300\n",
       "Bolivar                                      16161\n",
       "Meta                                         14783\n",
       "Huila                                        12365\n",
       "Risaralda                                    12007\n",
       "Cauca                                        11516\n",
       "Caldas                                       11222\n",
       "Magdalena                                    10478\n",
       "Quindío                                       9448\n",
       "Casanare                                      8440\n",
       "Cesar                                         7589\n",
       "Sucre                                         7050\n",
       "Córdoba                                       6067\n",
       "Putumayo                                      5108\n",
       "San Andrés, Providencia y Santa Catalina      4002\n",
       "La Guajira                                    3763\n",
       "Caquetá                                       3280\n",
       "Arauca                                        2584\n",
       "Chocó                                         2417\n",
       "Vichada                                       2365\n",
       "Guaviare                                      2278\n",
       "No Definido                                   1792\n",
       "Vaupés                                         981\n",
       "Guainía                                        968\n",
       "Amazonas                                       501\n",
       "Name: count, dtype: int64"
      ]
     },
     "execution_count": 28,
     "metadata": {},
     "output_type": "execute_result"
    }
   ],
   "source": [
    "# Cantidad de variables de Departamento entidad\n",
    "\n",
    "DF_Consulta['Departamento Entidad'].value_counts(dropna=False)"
   ]
  },
  {
   "cell_type": "code",
   "execution_count": 29,
   "metadata": {},
   "outputs": [],
   "source": [
    "# Se arregla la variable Ciudad entidad con capitalize()\n",
    "\n",
    "DF_Consulta['Ciudad Entidad']=dm.formato_oracion(DF_Consulta,'Ciudad Entidad')"
   ]
  },
  {
   "cell_type": "code",
   "execution_count": 30,
   "metadata": {},
   "outputs": [],
   "source": [
    "# Lista de URL\n",
    "\n",
    "List_url=[]\n",
    "for dic_url in DF_Consulta['URL']:\n",
    "    List_url.append(dic_url['url'])\n",
    "DF_Consulta['URL']=List_url"
   ]
  },
  {
   "cell_type": "code",
   "execution_count": 31,
   "metadata": {},
   "outputs": [],
   "source": [
    "# Se resetea el index\n",
    "\n",
    "DF_Consulta.reset_index(drop=True, inplace=True)"
   ]
  },
  {
   "cell_type": "code",
   "execution_count": 33,
   "metadata": {},
   "outputs": [],
   "source": [
    "# Se exporta la consulta a un parquet\n",
    "\n",
    "DF_Consulta.to_excel('../../../Sample_Data/Processed/SECOP_LIMPIO_2023.xlsx', index=False)"
   ]
  },
  {
   "cell_type": "code",
   "execution_count": 3,
   "metadata": {},
   "outputs": [],
   "source": [
    "# Se lee el parquet de SECOP LIMPIO de 2020 a 2023\n",
    "\n",
    "DF_Consulta=pd.read_parquet('../../../Sample_Data/Processed/SECOP_LIMPIO_2020_2023.parquet')"
   ]
  },
  {
   "cell_type": "code",
   "execution_count": 6,
   "metadata": {},
   "outputs": [],
   "source": [
    "# Se lee el parquet de SECOP LIMPIO de 2023\n",
    "\n",
    "DF_Consulta=pd.read_excel('../../../Sample_Data/Processed/SECOP_LIMPIO_2023.xlsx')"
   ]
  },
  {
   "cell_type": "code",
   "execution_count": 11,
   "metadata": {},
   "outputs": [
    {
     "data": {
      "text/html": [
       "<div>\n",
       "<style scoped>\n",
       "    .dataframe tbody tr th:only-of-type {\n",
       "        vertical-align: middle;\n",
       "    }\n",
       "\n",
       "    .dataframe tbody tr th {\n",
       "        vertical-align: top;\n",
       "    }\n",
       "\n",
       "    .dataframe thead th {\n",
       "        text-align: right;\n",
       "    }\n",
       "</style>\n",
       "<table border=\"1\" class=\"dataframe\">\n",
       "  <thead>\n",
       "    <tr style=\"text-align: right;\">\n",
       "      <th></th>\n",
       "      <th>Valor del contrato</th>\n",
       "    </tr>\n",
       "    <tr>\n",
       "      <th>Año-Mes</th>\n",
       "      <th></th>\n",
       "    </tr>\n",
       "  </thead>\n",
       "  <tbody>\n",
       "    <tr>\n",
       "      <th>2023-01</th>\n",
       "      <td>129235903698772</td>\n",
       "    </tr>\n",
       "    <tr>\n",
       "      <th>2023-02</th>\n",
       "      <td>13593175257555</td>\n",
       "    </tr>\n",
       "    <tr>\n",
       "      <th>2023-03</th>\n",
       "      <td>149992538806700</td>\n",
       "    </tr>\n",
       "    <tr>\n",
       "      <th>2023-04</th>\n",
       "      <td>6625804806915</td>\n",
       "    </tr>\n",
       "    <tr>\n",
       "      <th>2023-05</th>\n",
       "      <td>5488785987149</td>\n",
       "    </tr>\n",
       "  </tbody>\n",
       "</table>\n",
       "</div>"
      ],
      "text/plain": [
       "         Valor del contrato\n",
       "Año-Mes                    \n",
       "2023-01     129235903698772\n",
       "2023-02      13593175257555\n",
       "2023-03     149992538806700\n",
       "2023-04       6625804806915\n",
       "2023-05       5488785987149"
      ]
     },
     "execution_count": 11,
     "metadata": {},
     "output_type": "execute_result"
    }
   ],
   "source": [
    "# Se filtra por fuente SECOP II y se agrupa por año-mes sumando el valor del contrato\n",
    "\n",
    "DF_Consulta[DF_Consulta['Fuente']=='SECOP II'].groupby('Año-Mes').agg({'Valor del contrato':'sum'})"
   ]
  },
  {
   "cell_type": "code",
   "execution_count": 9,
   "metadata": {},
   "outputs": [],
   "source": [
    "# Se exporta a un CSV\n",
    "\n",
    "DF_Consulta.to_csv('../../../Sample_Data/Processed/SECOP_LIMPIO_2023.csv', index=False)"
   ]
  },
  {
   "cell_type": "code",
   "execution_count": 36,
   "metadata": {},
   "outputs": [],
   "source": [
    "### Reporte con pandas profiling\n",
    "\n",
    "os.makedirs(\"../Reportes\", exist_ok=True)\n",
    "report=ProfileReport(DF_Consulta, title=\"Reporte de Exploración de Datos\", \n",
    "                        minimal=True,dark_mode=True)"
   ]
  },
  {
   "cell_type": "code",
   "execution_count": 37,
   "metadata": {},
   "outputs": [
    {
     "data": {
      "application/vnd.jupyter.widget-view+json": {
       "model_id": "7f90e563fb5f4ababbecfaa2151a16db",
       "version_major": 2,
       "version_minor": 0
      },
      "text/plain": [
       "Summarize dataset:   0%|          | 0/5 [00:00<?, ?it/s]"
      ]
     },
     "metadata": {},
     "output_type": "display_data"
    },
    {
     "data": {
      "application/vnd.jupyter.widget-view+json": {
       "model_id": "b4f81accbfdd4b17859a82289a4f7049",
       "version_major": 2,
       "version_minor": 0
      },
      "text/plain": [
       "Generate report structure:   0%|          | 0/1 [00:00<?, ?it/s]"
      ]
     },
     "metadata": {},
     "output_type": "display_data"
    },
    {
     "data": {
      "application/vnd.jupyter.widget-view+json": {
       "model_id": "22fbf51a0a524412af72008175ae2c90",
       "version_major": 2,
       "version_minor": 0
      },
      "text/plain": [
       "Render HTML:   0%|          | 0/1 [00:00<?, ?it/s]"
      ]
     },
     "metadata": {},
     "output_type": "display_data"
    },
    {
     "data": {
      "application/vnd.jupyter.widget-view+json": {
       "model_id": "82c7629abc884457a0bb208f5598498e",
       "version_major": 2,
       "version_minor": 0
      },
      "text/plain": [
       "Export report to file:   0%|          | 0/1 [00:00<?, ?it/s]"
      ]
     },
     "metadata": {},
     "output_type": "display_data"
    }
   ],
   "source": [
    "# Se exporta el reporte\n",
    "\n",
    "report.to_file(\"../Reportes/Reporte de Exploración de Datos_2023.html\")"
   ]
  },
  {
   "cell_type": "markdown",
   "metadata": {},
   "source": [
    "## Trabajo en datalake\n",
    "\n",
    "En esta sección se establecen los parámetros de conexión al datalake y se cargan las librerías necesarias para la conexión y consulta de datos."
   ]
  },
  {
   "cell_type": "code",
   "execution_count": 4,
   "metadata": {},
   "outputs": [],
   "source": [
    "import pandas as pd\n",
    "import pyarrow.parquet as pq\n",
    "from azure.storage.blob import BlobServiceClient, BlobClient, ContainerClient\n",
    "\n",
    "# URL del punto final del servicio Blob y token SAS\n",
    "url_blob = \"https://adlindicadoresemae.blob.core.windows.net/\"\n",
    "token_sas = \"?sv=2021-10-04&ss=btqf&srt=sco&st=2023-04-26T10%3A55%3A03Z&se=2023-07-27T10%3A55%3A00Z&sp=rwdxftlacup&sig=9%2FBvXPQRTnl4CUwGzrUpMFXbpu50nNRqix5pREicSiY%3D\"\n",
    "\n",
    "# Conexión a la cuenta de almacenamiento de Azure utilizando el token SAS\n",
    "connect_str = f\"BlobEndpoint={url_blob};SharedAccessSignature={token_sas}\"\n",
    "blob_service_client = BlobServiceClient.from_connection_string(connect_str)"
   ]
  },
  {
   "cell_type": "code",
   "execution_count": null,
   "metadata": {},
   "outputs": [],
   "source": [
    "# Referencia al contenedor donde se encuentran los archivos\n",
    "container_name_ent = \"datosemae/bronze/Entidades\"\n",
    "container_client_ent = blob_service_client.get_container_client(container_name_ent)\n",
    "\n",
    "# Nombre del archivo a leer\n",
    "blob_name_ent_small = \"Entidades_SECOP_II.parquet\"\n",
    "blob_name_ent_full = \"Entidades_SECOP_II_FULL.parquet\""
   ]
  },
  {
   "cell_type": "code",
   "execution_count": null,
   "metadata": {},
   "outputs": [],
   "source": []
  }
 ],
 "metadata": {
  "kernelspec": {
   "display_name": "Python 3 (ipykernel)",
   "language": "python",
   "name": "python3"
  },
  "language_info": {
   "codemirror_mode": {
    "name": "ipython",
    "version": 3
   },
   "file_extension": ".py",
   "mimetype": "text/x-python",
   "name": "python",
   "nbconvert_exporter": "python",
   "pygments_lexer": "ipython3",
   "version": "3.10.6"
  }
 },
 "nbformat": 4,
 "nbformat_minor": 2
}
